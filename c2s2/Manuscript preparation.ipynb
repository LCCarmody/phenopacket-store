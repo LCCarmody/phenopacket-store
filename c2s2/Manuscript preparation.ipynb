{
 "cells": [
  {
   "cell_type": "markdown",
   "id": "b4395bb2-cd26-487c-ae95-a42c4f327fbe",
   "metadata": {},
   "source": [
    "**Manuscript preparation**\n",
    "\n",
    "The notebook provides summary statements regarding the data used for testing C2S2 clustering algorithm."
   ]
  },
  {
   "cell_type": "markdown",
   "id": "cb115eb7-2dd0-455a-9450-386778d2e439",
   "metadata": {},
   "source": [
    "# Read the datasets"
   ]
  },
  {
   "cell_type": "code",
   "execution_count": 1,
   "id": "5527f7f4-866b-4372-8ab2-5fc4965702af",
   "metadata": {},
   "outputs": [],
   "source": [
    "import os\n",
    "import typing\n",
    "\n",
    "import hpotk as ht\n",
    "import matplotlib as mpl\n",
    "import matplotlib.pyplot as plt\n",
    "import numpy as np\n",
    "import pandas as pd\n",
    "import seaborn as sns\n",
    "\n",
    "import ddconst.plotting.colors as c\n",
    "\n",
    "figargs = {'figsize': (6, 4), 'dpi': 120}"
   ]
  },
  {
   "cell_type": "markdown",
   "id": "2f39e36e-3f51-488b-98da-1f90dc833d7e",
   "metadata": {},
   "source": [
    "## Gather paths to phenopackets per gene\n",
    "\n",
    "Get paths to phenopackets per gene. `base_dir` must be a folder with folders named with HGVS gene symbols."
   ]
  },
  {
   "cell_type": "code",
   "execution_count": 2,
   "id": "43781572-8082-431e-8757-77d6335685e1",
   "metadata": {},
   "outputs": [
    {
     "name": "stdout",
     "output_type": "stream",
     "text": [
      "Reading files in /home/ielis/ielis/phenotypes/c2s2-clin/phenopackets\n",
      "Found 9 genes: ['COL3A1', 'FBN1', 'LMNA', 'OFD1', 'SLC4A1', 'SMARCB1', 'SON', 'WFS1', 'WWOX']\n"
     ]
    }
   ],
   "source": [
    "from collections import defaultdict\n",
    "\n",
    "gene2pp_fpath = defaultdict(list)\n",
    "\n",
    "base_dir = os.path.abspath(os.path.join('..', 'phenopackets'))\n",
    "\n",
    "print(f'Reading files in {base_dir}')\n",
    "\n",
    "for gene_dir in os.listdir(base_dir):\n",
    "    fpath_gene = os.path.join(base_dir, gene_dir)\n",
    "    if os.path.isdir(fpath_gene):\n",
    "        for fname in os.listdir(fpath_gene):\n",
    "            fpath_pp = os.path.join(fpath_gene, fname)\n",
    "            if os.path.isfile(fpath_pp) and fpath_pp.endswith('.json'):\n",
    "                gene2pp_fpath[gene_dir].append(fpath_pp)\n",
    "            else:\n",
    "                print(f'Skipping {fpath_pp}, not a file that ends with `.json`')\n",
    "    else:\n",
    "        print(f'Skipping {fpath_gene}, not a directory')\n",
    "\n",
    "print(f'Found {len(gene2pp_fpath)} genes: {list(sorted(gene2pp_fpath.keys()))}')"
   ]
  },
  {
   "cell_type": "markdown",
   "id": "c3283a55-2ca8-48e5-8f48-bd5480feb686",
   "metadata": {},
   "source": [
    "## Read phenopackets into C2S2 samples"
   ]
  },
  {
   "cell_type": "code",
   "execution_count": 3,
   "id": "9dc6cf08-82a0-43d8-97ba-4753e30cb082",
   "metadata": {},
   "outputs": [],
   "source": [
    "from c2s2.base.model import Sample, PhenotypicFeature\n",
    "from c2s2.standard.bench import read_phenopacket, BenchSample, DiseaseIdentifier\n",
    "\n",
    "gene2sample = defaultdict(list)\n",
    "\n",
    "for gene_symbol, fpaths_pp in gene2pp_fpath.items():\n",
    "    for fpath_pp in fpaths_pp:\n",
    "        sample: BenchSample = read_phenopacket(fpath_pp, include_excluded=True)  # We definitely want to include the excluded features\n",
    "        gene2sample[gene_symbol].append((fpath_pp, sample))"
   ]
  },
  {
   "cell_type": "markdown",
   "id": "23c4d5a3-71a1-466e-b084-67d01999646e",
   "metadata": {},
   "source": [
    "## Load samples into a data frame\n",
    "\n",
    "Let's create a data frame to simplify calculation of summary statistics."
   ]
  },
  {
   "cell_type": "code",
   "execution_count": 4,
   "id": "fac10f38-8752-4bf4-9bef-d227a9e220a7",
   "metadata": {},
   "outputs": [
    {
     "data": {
      "text/html": [
       "<div>\n",
       "<style scoped>\n",
       "    .dataframe tbody tr th:only-of-type {\n",
       "        vertical-align: middle;\n",
       "    }\n",
       "\n",
       "    .dataframe tbody tr th {\n",
       "        vertical-align: top;\n",
       "    }\n",
       "\n",
       "    .dataframe thead th {\n",
       "        text-align: right;\n",
       "    }\n",
       "</style>\n",
       "<table border=\"1\" class=\"dataframe\">\n",
       "  <thead>\n",
       "    <tr style=\"text-align: right;\">\n",
       "      <th></th>\n",
       "      <th></th>\n",
       "      <th></th>\n",
       "      <th>basename</th>\n",
       "      <th>phenotype_id</th>\n",
       "      <th>phenotype_status</th>\n",
       "    </tr>\n",
       "    <tr>\n",
       "      <th>gene_symbol</th>\n",
       "      <th>disease_id</th>\n",
       "      <th>sample_id</th>\n",
       "      <th></th>\n",
       "      <th></th>\n",
       "      <th></th>\n",
       "    </tr>\n",
       "  </thead>\n",
       "  <tbody>\n",
       "    <tr>\n",
       "      <th rowspan=\"2\" valign=\"top\">COL3A1</th>\n",
       "      <th rowspan=\"2\" valign=\"top\">OMIM:130050</th>\n",
       "      <th>1</th>\n",
       "      <td>PMID_15007000_1</td>\n",
       "      <td>HP:0000978</td>\n",
       "      <td>True</td>\n",
       "    </tr>\n",
       "    <tr>\n",
       "      <th>1</th>\n",
       "      <td>PMID_15007000_1</td>\n",
       "      <td>HP:0010648</td>\n",
       "      <td>True</td>\n",
       "    </tr>\n",
       "  </tbody>\n",
       "</table>\n",
       "</div>"
      ],
      "text/plain": [
       "                                          basename phenotype_id  \\\n",
       "gene_symbol disease_id  sample_id                                 \n",
       "COL3A1      OMIM:130050 1          PMID_15007000_1   HP:0000978   \n",
       "                        1          PMID_15007000_1   HP:0010648   \n",
       "\n",
       "                                   phenotype_status  \n",
       "gene_symbol disease_id  sample_id                    \n",
       "COL3A1      OMIM:130050 1                      True  \n",
       "                        1                      True  "
      ]
     },
     "execution_count": 4,
     "metadata": {},
     "output_type": "execute_result"
    }
   ],
   "source": [
    "data = defaultdict(list)\n",
    "\n",
    "for gene_symbol, samples in gene2sample.items():\n",
    "    for fpath_pp, sample in samples:\n",
    "        for pf in sample.phenotypic_features:\n",
    "            basename = os.path.basename(fpath_pp).replace('.json', '')\n",
    "            data['basename'].append(basename)\n",
    "            data['gene_symbol'].append(gene_symbol)\n",
    "            data['disease_id'].append(sample.disease_identifier.identifier.value)\n",
    "            data['sample_id'].append(sample.label)\n",
    "            data['phenotype_id'].append(pf.identifier.value)\n",
    "            data['phenotype_status'].append(pf.is_present)\n",
    "\n",
    "samples = pd.DataFrame(data=data).set_index(['gene_symbol', 'disease_id', 'sample_id']).sort_index()\n",
    "samples.head(2)"
   ]
  },
  {
   "cell_type": "markdown",
   "id": "2b4b433a-cd33-484a-8505-99dd7b498f49",
   "metadata": {},
   "source": [
    "# Manuscript\n",
    "\n",
    "## Results\n",
    "\n",
    "### A dataset of genes associated with multiple disease entities"
   ]
  },
  {
   "cell_type": "code",
   "execution_count": 5,
   "id": "fb42c2e8-c335-419f-bc19-356de0c949ee",
   "metadata": {},
   "outputs": [
    {
     "name": "stdout",
     "output_type": "stream",
     "text": [
      "We created a dataset of case reports for 9 genes associated with multiple Mendelian disease entities.\n"
     ]
    }
   ],
   "source": [
    "n_genes = len(samples.index.levels[0])\n",
    "print(f'We created a dataset of case reports for {n_genes} genes associated with multiple Mendelian disease entities.')"
   ]
  },
  {
   "cell_type": "code",
   "execution_count": 6,
   "id": "41abac0b-59a5-4f13-95ff-b91ad0732733",
   "metadata": {},
   "outputs": [
    {
     "name": "stdout",
     "output_type": "stream",
     "text": [
      "In total, we collected 308 case reports (mean 34.22 ±25.27 per gene).\n"
     ]
    }
   ],
   "source": [
    "cases_per_gene = samples.groupby('gene_symbol')['basename'].nunique()\n",
    "print(f'In total, we collected {cases_per_gene.sum()} case reports (mean {cases_per_gene.mean():.2f} ±{cases_per_gene.std():.2f} per gene).')"
   ]
  },
  {
   "cell_type": "code",
   "execution_count": 7,
   "id": "f92b4115-3e00-4bf2-beb4-b6c31cb07f44",
   "metadata": {},
   "outputs": [
    {
     "name": "stdout",
     "output_type": "stream",
     "text": [
      "The cohorts included 4873 HPO terms (2909 present, 1964 excluded).\n"
     ]
    }
   ],
   "source": [
    "pf_by_status = samples.groupby('phenotype_status').size()\n",
    "print(f'The cohorts included {pf_by_status.sum()} HPO terms ({pf_by_status[True]} present, {pf_by_status[False]} excluded).')"
   ]
  },
  {
   "cell_type": "code",
   "execution_count": 8,
   "id": "c3f4cc6e-912d-422e-ae64-b8d624d995be",
   "metadata": {},
   "outputs": [
    {
     "data": {
      "text/html": [
       "<div>\n",
       "<style scoped>\n",
       "    .dataframe tbody tr th:only-of-type {\n",
       "        vertical-align: middle;\n",
       "    }\n",
       "\n",
       "    .dataframe tbody tr th {\n",
       "        vertical-align: top;\n",
       "    }\n",
       "\n",
       "    .dataframe thead th {\n",
       "        text-align: right;\n",
       "    }\n",
       "</style>\n",
       "<table border=\"1\" class=\"dataframe\">\n",
       "  <thead>\n",
       "    <tr style=\"text-align: right;\">\n",
       "      <th></th>\n",
       "      <th></th>\n",
       "      <th></th>\n",
       "      <th>pf_count</th>\n",
       "    </tr>\n",
       "    <tr>\n",
       "      <th>gene_symbol</th>\n",
       "      <th>basename</th>\n",
       "      <th>phenotype_status</th>\n",
       "      <th></th>\n",
       "    </tr>\n",
       "  </thead>\n",
       "  <tbody>\n",
       "    <tr>\n",
       "      <th rowspan=\"2\" valign=\"top\">COL3A1</th>\n",
       "      <th rowspan=\"2\" valign=\"top\">PMID_15007000_1</th>\n",
       "      <th>False</th>\n",
       "      <td>0</td>\n",
       "    </tr>\n",
       "    <tr>\n",
       "      <th>True</th>\n",
       "      <td>4</td>\n",
       "    </tr>\n",
       "  </tbody>\n",
       "</table>\n",
       "</div>"
      ],
      "text/plain": [
       "                                              pf_count\n",
       "gene_symbol basename        phenotype_status          \n",
       "COL3A1      PMID_15007000_1 False                    0\n",
       "                            True                     4"
      ]
     },
     "execution_count": 8,
     "metadata": {},
     "output_type": "execute_result"
    }
   ],
   "source": [
    "pf_cnts = []\n",
    "for gene_symbol in samples.index.levels[0]:\n",
    "    data = samples.loc[gene_symbol]\n",
    "    sample_names = data['basename'].unique()\n",
    "    idx = pd.MultiIndex.from_product(iterables=[sample_names, (True, False)], \n",
    "                                     names=['basename', 'phenotype_status'])\n",
    "    pf_cnt = data.groupby(['basename', 'phenotype_status']).size().reindex(idx, fill_value=0)\n",
    "    pf_cnt.name = 'pf_count'\n",
    "    pf_cnt = pf_cnt.reset_index()\n",
    "    pf_cnt['gene_symbol'] = gene_symbol\n",
    "    pf_cnts.append(pf_cnt)\n",
    "\n",
    "n_terms_per_sample = pd.concat(pf_cnts).set_index(['gene_symbol', 'basename', 'phenotype_status']).sort_index()\n",
    "n_terms_per_sample.head(2)"
   ]
  },
  {
   "cell_type": "markdown",
   "id": "8cd9b577-1764-4b41-b3fe-3a1f04d4715e",
   "metadata": {},
   "source": [
    "Box plot with counts of observed and excluded phenotypic features per sample."
   ]
  },
  {
   "cell_type": "code",
   "execution_count": 9,
   "id": "4dcb0993-9199-4903-9ca3-9508c71fab32",
   "metadata": {},
   "outputs": [
    {
     "data": {
      "image/png": "[encoded data removed]",
      "text/plain": [
       "<Figure size 720x480 with 1 Axes>"
      ]
     },
     "metadata": {},
     "output_type": "display_data"
    }
   ],
   "source": [
    "data = n_terms_per_sample.reset_index()\n",
    "fig, ax = plt.subplots(**figargs)\n",
    "sns.boxplot(data=data, x='gene_symbol', y='pf_count', hue='phenotype_status', \n",
    "            hue_order=(True, False), linewidth=1., palette=[c.blue_light, c.red], \n",
    "            ax=ax)\n",
    "ax.set(xlabel=None, ylabel='Count')\n",
    "ax.legend_.set(title='Phenotype status')\n",
    "ax.legend_.texts[0].set_text('Observed')\n",
    "ax.legend_.texts[1].set_text('Excluded')\n",
    "ax.grid(axis='y')\n",
    "fig.tight_layout()"
   ]
  },
  {
   "cell_type": "code",
   "execution_count": 10,
   "id": "9f10b7ec-c047-4de7-b604-7853bdb317f4",
   "metadata": {},
   "outputs": [
    {
     "name": "stdout",
     "output_type": "stream",
     "text": [
      "On average, the subjects were annotated with 9±6 observed HPO terms and 6±10 excluded HPO terms.\n"
     ]
    }
   ],
   "source": [
    "# Ensure our counts are correct\n",
    "n_pos_terms_per_sample = n_terms_per_sample.loc[:, :, True]\n",
    "assert pf_by_status[True] == n_pos_terms_per_sample.sum()[0]\n",
    "\n",
    "n_exc_terms_per_sample = n_terms_per_sample.loc[:, :, False]\n",
    "assert pf_by_status[False] == n_exc_terms_per_sample.sum()[0]\n",
    "\n",
    "print(f'On average, the subjects were annotated with {n_pos_terms_per_sample.mean()[0]:.0f}±{n_pos_terms_per_sample.std()[0]:.0f} observed HPO terms '\n",
    "f'and {n_exc_terms_per_sample.mean()[0]:.0f}±{n_exc_terms_per_sample.std()[0]:.0f} excluded HPO terms.')"
   ]
  },
  {
   "cell_type": "code",
   "execution_count": 11,
   "id": "1ca73e9e-619c-468d-9039-e79b72121974",
   "metadata": {},
   "outputs": [
    {
     "data": {
      "text/plain": [
       "'The number of diseases associated with genes ranged between [1, 5]'"
      ]
     },
     "execution_count": 11,
     "metadata": {},
     "output_type": "execute_result"
    }
   ],
   "source": [
    "# This may need to be fixed - to remove the *SON* variant?\n",
    "n_disease_entities = samples.reset_index().groupby(['gene_symbol'])['disease_id'].nunique()\n",
    "f'The number of diseases associated with genes ranged between [{n_disease_entities.min()}, {n_disease_entities.max()}]'"
   ]
  },
  {
   "cell_type": "markdown",
   "id": "82cafb2c-b55f-40c4-a551-4a78f029ecaf",
   "metadata": {},
   "source": [
    "# Talk at ClinGen meeting"
   ]
  },
  {
   "cell_type": "code",
   "execution_count": 12,
   "id": "56efd3af-8a4e-44d8-8963-63a1f008a621",
   "metadata": {},
   "outputs": [
    {
     "data": {
      "text/html": [
       "<div>\n",
       "<style scoped>\n",
       "    .dataframe tbody tr th:only-of-type {\n",
       "        vertical-align: middle;\n",
       "    }\n",
       "\n",
       "    .dataframe tbody tr th {\n",
       "        vertical-align: top;\n",
       "    }\n",
       "\n",
       "    .dataframe thead th {\n",
       "        text-align: right;\n",
       "    }\n",
       "</style>\n",
       "<table border=\"1\" class=\"dataframe\">\n",
       "  <thead>\n",
       "    <tr style=\"text-align: right;\">\n",
       "      <th></th>\n",
       "      <th></th>\n",
       "      <th></th>\n",
       "      <th>basename</th>\n",
       "      <th>phenotype_id</th>\n",
       "      <th>phenotype_status</th>\n",
       "    </tr>\n",
       "    <tr>\n",
       "      <th>gene_symbol</th>\n",
       "      <th>disease_id</th>\n",
       "      <th>sample_id</th>\n",
       "      <th></th>\n",
       "      <th></th>\n",
       "      <th></th>\n",
       "    </tr>\n",
       "  </thead>\n",
       "  <tbody>\n",
       "    <tr>\n",
       "      <th rowspan=\"2\" valign=\"top\">COL3A1</th>\n",
       "      <th rowspan=\"2\" valign=\"top\">OMIM:130050</th>\n",
       "      <th>1</th>\n",
       "      <td>PMID_15007000_1</td>\n",
       "      <td>HP:0000978</td>\n",
       "      <td>True</td>\n",
       "    </tr>\n",
       "    <tr>\n",
       "      <th>1</th>\n",
       "      <td>PMID_15007000_1</td>\n",
       "      <td>HP:0010648</td>\n",
       "      <td>True</td>\n",
       "    </tr>\n",
       "  </tbody>\n",
       "</table>\n",
       "</div>"
      ],
      "text/plain": [
       "                                          basename phenotype_id  \\\n",
       "gene_symbol disease_id  sample_id                                 \n",
       "COL3A1      OMIM:130050 1          PMID_15007000_1   HP:0000978   \n",
       "                        1          PMID_15007000_1   HP:0010648   \n",
       "\n",
       "                                   phenotype_status  \n",
       "gene_symbol disease_id  sample_id                    \n",
       "COL3A1      OMIM:130050 1                      True  \n",
       "                        1                      True  "
      ]
     },
     "execution_count": 12,
     "metadata": {},
     "output_type": "execute_result"
    }
   ],
   "source": [
    "samples.head(2)"
   ]
  },
  {
   "cell_type": "code",
   "execution_count": 44,
   "id": "fafb5144-e84f-440c-90b6-d4465fb5a681",
   "metadata": {
    "scrolled": true
   },
   "outputs": [
    {
     "data": {
      "text/html": [
       "<div>\n",
       "<style scoped>\n",
       "    .dataframe tbody tr th:only-of-type {\n",
       "        vertical-align: middle;\n",
       "    }\n",
       "\n",
       "    .dataframe tbody tr th {\n",
       "        vertical-align: top;\n",
       "    }\n",
       "\n",
       "    .dataframe thead th {\n",
       "        text-align: right;\n",
       "    }\n",
       "</style>\n",
       "<table border=\"1\" class=\"dataframe\">\n",
       "  <thead>\n",
       "    <tr style=\"text-align: right;\">\n",
       "      <th></th>\n",
       "      <th></th>\n",
       "      <th>disease_name</th>\n",
       "    </tr>\n",
       "    <tr>\n",
       "      <th>gene_id</th>\n",
       "      <th>disease_id</th>\n",
       "      <th></th>\n",
       "    </tr>\n",
       "  </thead>\n",
       "  <tbody>\n",
       "    <tr>\n",
       "      <th rowspan=\"2\" valign=\"top\">COL3A1</th>\n",
       "      <th>OMIM:130050</th>\n",
       "      <td>EHLERS-DANLOS SYNDROME, VASCULAR TYPE</td>\n",
       "    </tr>\n",
       "    <tr>\n",
       "      <th>OMIM:618343</th>\n",
       "      <td>Polymicrogyria with or without vascular-type EDS</td>\n",
       "    </tr>\n",
       "  </tbody>\n",
       "</table>\n",
       "</div>"
      ],
      "text/plain": [
       "                                                         disease_name\n",
       "gene_id disease_id                                                   \n",
       "COL3A1  OMIM:130050             EHLERS-DANLOS SYNDROME, VASCULAR TYPE\n",
       "        OMIM:618343  Polymicrogyria with or without vascular-type EDS"
      ]
     },
     "execution_count": 44,
     "metadata": {},
     "output_type": "execute_result"
    }
   ],
   "source": [
    "data = defaultdict(list)\n",
    "for gene, paths in gene2sample.items():\n",
    "    seen = set()\n",
    "    for (fp, s) in paths:\n",
    "        disease_id = s.disease_identifier.identifier.value\n",
    "        if disease_id not in seen:\n",
    "            data['gene_id'].append(gene)\n",
    "            data['disease_id'].append(disease_id)\n",
    "            data['disease_name'].append(s.disease_identifier.name)\n",
    "\n",
    "            seen.add(disease_id)\n",
    "\n",
    "diseases = pd.DataFrame(data).set_index(['gene_id', 'disease_id']).sort_index()\n",
    "diseases.head(2)"
   ]
  },
  {
   "cell_type": "code",
   "execution_count": 37,
   "id": "70f8269d-c551-48b3-aac3-627843906511",
   "metadata": {},
   "outputs": [],
   "source": [
    "# Genes in the talk\n",
    "genes_of_interest = ['FBN1', 'LMNA', 'SLC4A1', 'OFD1', 'COL3A1', 'SMARCB1', 'WFS1', 'WWOX']"
   ]
  },
  {
   "cell_type": "code",
   "execution_count": 45,
   "id": "e5ca26d0-052f-4c25-bf03-9dc4a593ea72",
   "metadata": {},
   "outputs": [
    {
     "data": {
      "text/plain": [
       "gene_symbol  disease_id      \n",
       "FBN1         OMIM:102370         19\n",
       "             OMIM:129600          5\n",
       "             OMIM:154700         49\n",
       "             OMIM:184900          8\n",
       "             OMIM:614185         10\n",
       "LMNA         OMIM:115200          7\n",
       "             OMIM:151660          6\n",
       "             OMIM:176670         10\n",
       "             OMIM:248370          7\n",
       "             OMIM:616516          6\n",
       "SLC4A1       OMIM:179800         12\n",
       "             OMIM:185020         14\n",
       "             OMIM:611590         11\n",
       "             OMIM:612653          4\n",
       "OFD1         OMIM:300209          9\n",
       "             OMIM:300804          9\n",
       "             OMIM:311200          7\n",
       "COL3A1       OMIM:130050         16\n",
       "             OMIM:618343          4\n",
       "SMARCB1      ADHOCOMIM:123000     4\n",
       "             OMIM:609322          3\n",
       "             OMIM:614608         11\n",
       "WFS1         OMIM:222300         10\n",
       "             OMIM:600965          6\n",
       "WWOX         OMIM:614322          4\n",
       "             OMIM:616211          5\n",
       "Name: basename, dtype: int64"
      ]
     },
     "execution_count": 45,
     "metadata": {},
     "output_type": "execute_result"
    }
   ],
   "source": [
    "# Counts of cases per gene and disease.\n",
    "samples.groupby(['gene_symbol', 'disease_id'])['basename'].nunique().loc[genes_of_interest]"
   ]
  },
  {
   "cell_type": "code",
   "execution_count": 46,
   "id": "d01aa9c0-f14d-4eae-a43c-c8b7bfa46d89",
   "metadata": {},
   "outputs": [
    {
     "data": {
      "text/plain": [
       "256"
      ]
     },
     "execution_count": 46,
     "metadata": {},
     "output_type": "execute_result"
    }
   ],
   "source": [
    "# Total number of cases\n",
    "samples.groupby(['gene_symbol', 'disease_id'])['basename'].nunique().loc[genes_of_interest].sum()"
   ]
  },
  {
   "cell_type": "markdown",
   "id": "3433fa45-b7e9-40bc-add8-d7a5a876579e",
   "metadata": {},
   "source": [
    "Number of HPO terms "
   ]
  },
  {
   "cell_type": "code",
   "execution_count": 42,
   "id": "8b910377-421e-47a4-89f3-f3dc5d8d65f4",
   "metadata": {},
   "outputs": [
    {
     "data": {
      "image/png": "[encoded data removed]",
      "text/plain": [
       "<Figure size 720x480 with 1 Axes>"
      ]
     },
     "metadata": {},
     "output_type": "display_data"
    }
   ],
   "source": [
    "data = n_terms_per_sample.reset_index()\n",
    "fig, ax = plt.subplots(**figargs)\n",
    "sns.boxplot(data=data, x='gene_symbol', y='pf_count', hue='phenotype_status', \n",
    "            order=genes_of_interest,\n",
    "            hue_order=(True, False), linewidth=1., palette=[c.blue_light, c.red], \n",
    "            ax=ax)\n",
    "ax.set(xlabel=None, ylabel='HPO term count')\n",
    "ax.legend_.set(title='HPO term')\n",
    "ax.legend_.texts[0].set_text('Observed')\n",
    "ax.legend_.texts[1].set_text('Excluded')\n",
    "ax.grid(axis='y')\n",
    "fig.tight_layout()"
   ]
  },
  {
   "cell_type": "code",
   "execution_count": null,
   "id": "73b701c4-ab52-4801-897e-ad9240c95c10",
   "metadata": {},
   "outputs": [],
   "source": []
  }
 ],
 "metadata": {
  "kernelspec": {
   "display_name": "Exploratory (Python 3.10)",
   "language": "python",
   "name": "exploratory"
  },
  "language_info": {
   "codemirror_mode": {
    "name": "ipython",
    "version": 3
   },
   "file_extension": ".py",
   "mimetype": "text/x-python",
   "name": "python",
   "nbconvert_exporter": "python",
   "pygments_lexer": "ipython3",
   "version": "3.10.12"
  }
 },
 "nbformat": 4,
 "nbformat_minor": 5
}
