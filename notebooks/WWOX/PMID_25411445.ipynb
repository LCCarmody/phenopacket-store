{
 "cells": [
  {
   "cell_type": "markdown",
   "id": "a39f3c65",
   "metadata": {},
   "source": [
    "<h1>Creation of phenopackets from tabular data (individuals in columns)</h1>\n",
    "<p>We will process <a href=\"https://pubmed.ncbi.nlm.nih.gov/25411445/\" target=\"__blank\">Mignot, et al. (2015) WWOX-related encephalopathies: delineation of the phenotypical spectrum and emerging genotype-phenotype correlation</a></p>\n",
    "<p>pyphetools provides a convenient way of extracting HPO terms from typical tables presented in supplemental material. Typical tables can have the individuals in columns or rows. In this case, we extract data from TABLE.</p>\n",
    "<p>This note shows how to work through the table and set up the pyphetools encoder. The table was copied from table 1 in the original publication.</p>\n",
    "<p>Users can work on one column at a time and then generate a collection of <a href=\"https://pubmed.ncbi.nlm.nih.gov/35705716/\" target=\"__blank\">GA4GH phenopackets</a> to represent each patient included in the original supplemental material. These phenopackets can then be used for a variety of downstream applications.</p>"
   ]
  },
  {
   "cell_type": "code",
   "execution_count": 1,
   "id": "f0602c0e",
   "metadata": {},
   "outputs": [
    {
     "name": "stdout",
     "output_type": "stream",
     "text": [
      "pyphetools version 0.6.3\n"
     ]
    }
   ],
   "source": [
    "import phenopackets as php\n",
    "from google.protobuf.json_format import MessageToDict, MessageToJson\n",
    "from google.protobuf.json_format import Parse, ParseDict\n",
    "import pandas as pd\n",
    "pd.set_option('display.max_colwidth', None) # show entire column contents, important!\n",
    "from collections import defaultdict\n",
    "import os\n",
    "import sys\n",
    "import numpy as np\n",
    "import pyphetools\n",
    "from pyphetools.creation import *\n",
    "from pyphetools.visualization import *\n",
    "print(f\"pyphetools version {pyphetools.__version__}\")"
   ]
  },
  {
   "cell_type": "markdown",
   "id": "8606e7eb",
   "metadata": {},
   "source": [
    "<h2>Importing HPO data</h2>\n",
    "<p>pyphetools uses the Human Phenotype Ontology (HPO) to encode phenotypic features. The recommended way of doing this is to ingest the hp.json file using HpoParser, which in turn creates an HpoConceptRecognizer object. </p>\n",
    "<p>The HpoParser can accept a hpo_json_file argument if you want to use a specific file. If the argument is not passed, it will download the latext hp.json file from the HPO GitHub site and store it in a new subdirectory called hpo_data. It will not download the file if the file is already downloaded.</p>"
   ]
  },
  {
   "cell_type": "code",
   "execution_count": 2,
   "id": "5a7789fc",
   "metadata": {},
   "outputs": [],
   "source": [
    "parser = HpoParser()\n",
    "hpo_cr = parser.get_hpo_concept_recognizer()\n",
    "hpo_version = parser.get_version()\n",
    "pmid = \"PMID:25411445\"\n",
    "title = \"WWOX-related encephalopathies: delineation of the phenotypical spectrum and emerging genotype-phenotype correlation\"\n",
    "metadata = MetaData(created_by=\"ORCID:0000-0002-5648-2155\", pmid=pmid, pubmed_title=title)\n",
    "metadata.default_versions_with_hpo(version=hpo_version)"
   ]
  },
  {
   "cell_type": "markdown",
   "id": "5102722a",
   "metadata": {},
   "source": [
    "<h2>Importing the supplemental table</h2>\n",
    "<p>Here, we use the pandas library to import this file (note that the Python package called openpyxl must be installed to read Excel files with pandas, although the library does not need to be imported in this notebook). pyphetools expects a pandas DataFrame as input, and users can choose any input format available for pandas include CSV, TSV, and Excel, or can use any other method to transform their input data into a Pandas DataFrame before using pyphetools.</p>"
   ]
  },
  {
   "cell_type": "code",
   "execution_count": 6,
   "id": "f17c3924",
   "metadata": {},
   "outputs": [],
   "source": [
    "df = pd.read_excel('./input/PMID_25411445.xlsx')"
   ]
  },
  {
   "cell_type": "markdown",
   "id": "e013666d",
   "metadata": {},
   "source": [
    "Some column names might include spaces in front or after, and a couple of columns are subheadings and only contain NaNs, so lets correct that. Furthermore, remove individuals without an age specified or a variant in this gene."
   ]
  },
  {
   "cell_type": "code",
   "execution_count": 7,
   "id": "5d604600",
   "metadata": {},
   "outputs": [
    {
     "data": {
      "text/html": [
       "<div>\n",
       "<style scoped>\n",
       "    .dataframe tbody tr th:only-of-type {\n",
       "        vertical-align: middle;\n",
       "    }\n",
       "\n",
       "    .dataframe tbody tr th {\n",
       "        vertical-align: top;\n",
       "    }\n",
       "\n",
       "    .dataframe thead th {\n",
       "        text-align: right;\n",
       "    }\n",
       "</style>\n",
       "<table border=\"1\" class=\"dataframe\">\n",
       "  <thead>\n",
       "    <tr style=\"text-align: right;\">\n",
       "      <th>Patient</th>\n",
       "      <th>index</th>\n",
       "      <th>Sex</th>\n",
       "      <th>Age</th>\n",
       "      <th>Mutation</th>\n",
       "      <th>DNA level (NM_016373.2)</th>\n",
       "      <th>Second mutation</th>\n",
       "      <th>Protein level (NM_057457)</th>\n",
       "      <th>Microcephaly</th>\n",
       "      <th>Profound global developmental delay</th>\n",
       "      <th>Axial hypotonia</th>\n",
       "      <th>...</th>\n",
       "      <th>Hypokinesia</th>\n",
       "      <th>Rigidity</th>\n",
       "      <th>Thin corpus callosum</th>\n",
       "      <th>Delayed myelination</th>\n",
       "      <th>Cerebral atrophy</th>\n",
       "      <th>Seizure</th>\n",
       "      <th>EEG abnormality</th>\n",
       "      <th>Reduced eye contact</th>\n",
       "      <th>Sudden death</th>\n",
       "      <th>patient_id</th>\n",
       "    </tr>\n",
       "  </thead>\n",
       "  <tbody>\n",
       "    <tr>\n",
       "      <th>0</th>\n",
       "      <td>1</td>\n",
       "      <td>F</td>\n",
       "      <td>0</td>\n",
       "      <td>CH for two deletions of several exons</td>\n",
       "      <td>c.366_516del</td>\n",
       "      <td>c.517-?_1056+ ?del</td>\n",
       "      <td>p.[0];[His173_Met352del]</td>\n",
       "      <td>Yes</td>\n",
       "      <td>Yes</td>\n",
       "      <td>Yes</td>\n",
       "      <td>...</td>\n",
       "      <td>Yes</td>\n",
       "      <td>Yes</td>\n",
       "      <td>Yes</td>\n",
       "      <td>No</td>\n",
       "      <td>No</td>\n",
       "      <td>Yes</td>\n",
       "      <td>Yes</td>\n",
       "      <td>Yes</td>\n",
       "      <td>No</td>\n",
       "      <td>0</td>\n",
       "    </tr>\n",
       "    <tr>\n",
       "      <th>1</th>\n",
       "      <td>2</td>\n",
       "      <td>F</td>\n",
       "      <td>0</td>\n",
       "      <td>CH: deletion of exon 6/ nonsense exon 8</td>\n",
       "      <td>c.1005G&gt;A</td>\n",
       "      <td>c.517-?_605+?del</td>\n",
       "      <td>p.[His173Alafs*67];[Trp335*]</td>\n",
       "      <td>Yes</td>\n",
       "      <td>Yes</td>\n",
       "      <td>Yes</td>\n",
       "      <td>...</td>\n",
       "      <td>Yes</td>\n",
       "      <td>Yes</td>\n",
       "      <td>No</td>\n",
       "      <td>Yes</td>\n",
       "      <td>No</td>\n",
       "      <td>Yes</td>\n",
       "      <td>Yes</td>\n",
       "      <td>Yes</td>\n",
       "      <td>Yes</td>\n",
       "      <td>1</td>\n",
       "    </tr>\n",
       "    <tr>\n",
       "      <th>2</th>\n",
       "      <td>3</td>\n",
       "      <td>M</td>\n",
       "      <td>0</td>\n",
       "      <td>CH: frameshift exon</td>\n",
       "      <td>c.45_48delGGAC</td>\n",
       "      <td>c.140C&gt;G</td>\n",
       "      <td>p.[Asp16Serfs*63];[Pro47Arg]</td>\n",
       "      <td>No</td>\n",
       "      <td>Yes</td>\n",
       "      <td>Yes</td>\n",
       "      <td>...</td>\n",
       "      <td>No</td>\n",
       "      <td>No</td>\n",
       "      <td>No</td>\n",
       "      <td>No</td>\n",
       "      <td>No</td>\n",
       "      <td>Yes</td>\n",
       "      <td>Yes</td>\n",
       "      <td>No</td>\n",
       "      <td>No</td>\n",
       "      <td>2</td>\n",
       "    </tr>\n",
       "    <tr>\n",
       "      <th>3</th>\n",
       "      <td>4</td>\n",
       "      <td>F</td>\n",
       "      <td>0</td>\n",
       "      <td>1/missense exon 2</td>\n",
       "      <td>c.45_48delGGAC</td>\n",
       "      <td>c.140C&gt;G</td>\n",
       "      <td>NaN</td>\n",
       "      <td>No</td>\n",
       "      <td>Yes</td>\n",
       "      <td>Yes</td>\n",
       "      <td>...</td>\n",
       "      <td>No</td>\n",
       "      <td>No</td>\n",
       "      <td>No</td>\n",
       "      <td>No</td>\n",
       "      <td>No</td>\n",
       "      <td>Yes</td>\n",
       "      <td>Yes</td>\n",
       "      <td>No</td>\n",
       "      <td>No</td>\n",
       "      <td>3</td>\n",
       "    </tr>\n",
       "    <tr>\n",
       "      <th>4</th>\n",
       "      <td>5</td>\n",
       "      <td>F</td>\n",
       "      <td>0</td>\n",
       "      <td>CH: complete deletion/ nonsense exon 8</td>\n",
       "      <td>c.889A&gt;T</td>\n",
       "      <td>c.-366-? *871+?del</td>\n",
       "      <td>p.[0];[Lys297*]</td>\n",
       "      <td>No</td>\n",
       "      <td>Yes</td>\n",
       "      <td>Yes</td>\n",
       "      <td>...</td>\n",
       "      <td>Yes</td>\n",
       "      <td>Yes</td>\n",
       "      <td>No</td>\n",
       "      <td>No</td>\n",
       "      <td>Yes</td>\n",
       "      <td>Yes</td>\n",
       "      <td>Yes</td>\n",
       "      <td>Yes</td>\n",
       "      <td>Yes</td>\n",
       "      <td>4</td>\n",
       "    </tr>\n",
       "  </tbody>\n",
       "</table>\n",
       "<p>5 rows × 22 columns</p>\n",
       "</div>"
      ],
      "text/plain": [
       "Patient  index Sex  Age                                 Mutation  \\\n",
       "0            1   F    0    CH for two deletions of several exons   \n",
       "1            2   F    0  CH: deletion of exon 6/ nonsense exon 8   \n",
       "2            3   M    0                      CH: frameshift exon   \n",
       "3            4   F    0                        1/missense exon 2   \n",
       "4            5   F    0   CH: complete deletion/ nonsense exon 8   \n",
       "\n",
       "Patient DNA level (NM_016373.2)     Second mutation  \\\n",
       "0                  c.366_516del  c.517-?_1056+ ?del   \n",
       "1                     c.1005G>A    c.517-?_605+?del   \n",
       "2                c.45_48delGGAC            c.140C>G   \n",
       "3                c.45_48delGGAC            c.140C>G   \n",
       "4                      c.889A>T  c.-366-? *871+?del   \n",
       "\n",
       "Patient     Protein level (NM_057457) Microcephaly  \\\n",
       "0            p.[0];[His173_Met352del]          Yes   \n",
       "1        p.[His173Alafs*67];[Trp335*]          Yes   \n",
       "2        p.[Asp16Serfs*63];[Pro47Arg]           No   \n",
       "3                                 NaN           No   \n",
       "4                     p.[0];[Lys297*]           No   \n",
       "\n",
       "Patient Profound global developmental delay Axial hypotonia  ... Hypokinesia  \\\n",
       "0                                       Yes             Yes  ...         Yes   \n",
       "1                                       Yes             Yes  ...         Yes   \n",
       "2                                       Yes             Yes  ...          No   \n",
       "3                                       Yes             Yes  ...          No   \n",
       "4                                       Yes             Yes  ...         Yes   \n",
       "\n",
       "Patient Rigidity Thin corpus callosum Delayed myelination Cerebral atrophy  \\\n",
       "0            Yes                  Yes                  No               No   \n",
       "1            Yes                   No                 Yes               No   \n",
       "2             No                   No                  No               No   \n",
       "3             No                   No                  No               No   \n",
       "4            Yes                   No                  No              Yes   \n",
       "\n",
       "Patient Seizure EEG abnormality Reduced eye contact Sudden death patient_id  \n",
       "0           Yes             Yes                 Yes           No          0  \n",
       "1           Yes             Yes                 Yes          Yes          1  \n",
       "2           Yes             Yes                  No           No          2  \n",
       "3           Yes             Yes                  No           No          3  \n",
       "4           Yes             Yes                 Yes          Yes          4  \n",
       "\n",
       "[5 rows x 22 columns]"
      ]
     },
     "execution_count": 7,
     "metadata": {},
     "output_type": "execute_result"
    }
   ],
   "source": [
    "df = df.set_index('Patient').T.reset_index()\n",
    "df['Age'] = 0\n",
    "df['patient_id'] = df['index'] - 1\n",
    "df.head()"
   ]
  },
  {
   "cell_type": "markdown",
   "id": "8314d6bd",
   "metadata": {},
   "source": [
    "<h2>Column mappers</h2>\n",
    "<p>Please see the notebook \"Create phenopackets from tabular data with individuals in rows\" for explanations. In the following cell we create a dictionary for the ColumnMappers. Note that the code is identical except that we use the df.loc function to get the corresponding row data</p>"
   ]
  },
  {
   "cell_type": "code",
   "execution_count": 8,
   "id": "59d9e9e8",
   "metadata": {},
   "outputs": [],
   "source": [
    "generator = SimpleColumnMapperGenerator(df=df, observed='+', excluded='-', hpo_cr=hpo_cr)\n",
    "column_mappers_d = generator.try_mapping_columns()\n"
   ]
  },
  {
   "cell_type": "code",
   "execution_count": 9,
   "id": "87dede3b-424a-474b-b6b9-0298f4df4047",
   "metadata": {},
   "outputs": [
    {
     "name": "stdout",
     "output_type": "stream",
     "text": [
      "['Microcephaly', 'Profound global developmental delay', 'Axial hypotonia', 'Cerebellar ataxia', 'Spasticity', 'Hypokinesia', 'Rigidity', 'Thin corpus callosum', 'Delayed myelination', 'Cerebral atrophy', 'Seizure', 'EEG abnormality', 'Reduced eye contact', 'Sudden death']\n"
     ]
    }
   ],
   "source": [
    "print(generator.get_mapped_columns())"
   ]
  },
  {
   "cell_type": "code",
   "execution_count": 10,
   "id": "122946b0",
   "metadata": {},
   "outputs": [
    {
     "name": "stdout",
     "output_type": "stream",
     "text": [
      "['index', 'Sex', 'Age', 'Mutation', 'DNA level (NM_016373.2)', 'Second mutation', 'Protein level (NM_057457)', 'patient_id']\n"
     ]
    }
   ],
   "source": [
    "print(generator.get_unmapped_columns())"
   ]
  },
  {
   "cell_type": "markdown",
   "id": "5e53617d",
   "metadata": {},
   "source": [
    "<h2>Variant Data</h2>\n",
    "<p>The variant data (HGVS< transcript) is listed in the Variant (hg19, NM_015133.4) column.</p>"
   ]
  },
  {
   "cell_type": "code",
   "execution_count": 11,
   "id": "da4d5706",
   "metadata": {},
   "outputs": [
    {
     "ename": "TypeError",
     "evalue": "VariantColumnMapper.__init__() got an unexpected keyword argument 'assembly'",
     "output_type": "error",
     "traceback": [
      "\u001b[0;31m---------------------------------------------------------------------------\u001b[0m",
      "\u001b[0;31mTypeError\u001b[0m                                 Traceback (most recent call last)",
      "Cell \u001b[0;32mIn[11], line 4\u001b[0m\n\u001b[1;32m      2\u001b[0m default_genotype \u001b[38;5;241m=\u001b[39m \u001b[38;5;124m'\u001b[39m\u001b[38;5;124mcompound heterozygous\u001b[39m\u001b[38;5;124m'\u001b[39m\n\u001b[1;32m      3\u001b[0m transcript\u001b[38;5;241m=\u001b[39m\u001b[38;5;124m'\u001b[39m\u001b[38;5;124mNM_016373.2\u001b[39m\u001b[38;5;124m'\u001b[39m\n\u001b[0;32m----> 4\u001b[0m varMapper \u001b[38;5;241m=\u001b[39m \u001b[43mVariantColumnMapper\u001b[49m\u001b[43m(\u001b[49m\u001b[43massembly\u001b[49m\u001b[38;5;241;43m=\u001b[39;49m\u001b[43mgenome\u001b[49m\u001b[43m,\u001b[49m\u001b[43mcolumn_name\u001b[49m\u001b[38;5;241;43m=\u001b[39;49m\u001b[38;5;124;43m'\u001b[39;49m\u001b[38;5;124;43mDNA level (NM_016373.2)\u001b[39;49m\u001b[38;5;124;43m'\u001b[39;49m\u001b[43m,\u001b[49m\u001b[43m \u001b[49m\n\u001b[1;32m      5\u001b[0m \u001b[43m                                \u001b[49m\u001b[43mtranscript\u001b[49m\u001b[38;5;241;43m=\u001b[39;49m\u001b[43mtranscript\u001b[49m\u001b[43m)\u001b[49m\n",
      "\u001b[0;31mTypeError\u001b[0m: VariantColumnMapper.__init__() got an unexpected keyword argument 'assembly'"
     ]
    }
   ],
   "source": [
    "genome = 'hg38'\n",
    "default_genotype = 'compound heterozygous'\n",
    "WWOX_transcript='NM_016373.2'\n",
    "vvalidator = VariantValidator(genome_build=genome, transcript=WWOX_transcript)"
   ]
  },
  {
   "cell_type": "code",
   "execution_count": null,
   "id": "86b790e5-8273-4360-a315-630b7302a84e",
   "metadata": {},
   "outputs": [],
   "source": [
    "varMapper = VariantColumnMapper(assembly=genome,column_name='DNA level (NM_016373.2)', \n",
    "                                transcript=transcript)"
   ]
  },
  {
   "cell_type": "markdown",
   "id": "d1af2052",
   "metadata": {},
   "source": [
    "<h1>Demographic data</h1>\n",
    "<p>pyphetools can be used to capture information about age, sex, and individual identifiers. This information is stored in a map of \"IndividualMapper\" objects. Special treatment may be required for the indifiers, which may be used as the column names or row index.</p>"
   ]
  },
  {
   "cell_type": "code",
   "execution_count": 38,
   "id": "3e64dc08",
   "metadata": {},
   "outputs": [
    {
     "data": {
      "text/html": [
       "<div>\n",
       "<style scoped>\n",
       "    .dataframe tbody tr th:only-of-type {\n",
       "        vertical-align: middle;\n",
       "    }\n",
       "\n",
       "    .dataframe tbody tr th {\n",
       "        vertical-align: top;\n",
       "    }\n",
       "\n",
       "    .dataframe thead th {\n",
       "        text-align: right;\n",
       "    }\n",
       "</style>\n",
       "<table border=\"1\" class=\"dataframe\">\n",
       "  <thead>\n",
       "    <tr style=\"text-align: right;\">\n",
       "      <th></th>\n",
       "      <th>original column contents</th>\n",
       "      <th>age</th>\n",
       "    </tr>\n",
       "  </thead>\n",
       "  <tbody>\n",
       "    <tr>\n",
       "      <th>0</th>\n",
       "      <td>0</td>\n",
       "      <td>P0Y</td>\n",
       "    </tr>\n",
       "  </tbody>\n",
       "</table>\n",
       "</div>"
      ],
      "text/plain": [
       "   original column contents  age\n",
       "0                         0  P0Y"
      ]
     },
     "execution_count": 38,
     "metadata": {},
     "output_type": "execute_result"
    }
   ],
   "source": [
    "ageMapper = AgeColumnMapper.by_year('Age')\n",
    "ageMapper.preview_column(df['Age'])"
   ]
  },
  {
   "cell_type": "code",
   "execution_count": 39,
   "id": "71f664cc",
   "metadata": {},
   "outputs": [
    {
     "data": {
      "text/html": [
       "<div>\n",
       "<style scoped>\n",
       "    .dataframe tbody tr th:only-of-type {\n",
       "        vertical-align: middle;\n",
       "    }\n",
       "\n",
       "    .dataframe tbody tr th {\n",
       "        vertical-align: top;\n",
       "    }\n",
       "\n",
       "    .dataframe thead th {\n",
       "        text-align: right;\n",
       "    }\n",
       "</style>\n",
       "<table border=\"1\" class=\"dataframe\">\n",
       "  <thead>\n",
       "    <tr style=\"text-align: right;\">\n",
       "      <th></th>\n",
       "      <th>original column contents</th>\n",
       "      <th>sex</th>\n",
       "    </tr>\n",
       "  </thead>\n",
       "  <tbody>\n",
       "    <tr>\n",
       "      <th>0</th>\n",
       "      <td>F</td>\n",
       "      <td>FEMALE</td>\n",
       "    </tr>\n",
       "    <tr>\n",
       "      <th>1</th>\n",
       "      <td>F</td>\n",
       "      <td>FEMALE</td>\n",
       "    </tr>\n",
       "    <tr>\n",
       "      <th>2</th>\n",
       "      <td>M</td>\n",
       "      <td>MALE</td>\n",
       "    </tr>\n",
       "    <tr>\n",
       "      <th>3</th>\n",
       "      <td>F</td>\n",
       "      <td>FEMALE</td>\n",
       "    </tr>\n",
       "    <tr>\n",
       "      <th>4</th>\n",
       "      <td>F</td>\n",
       "      <td>FEMALE</td>\n",
       "    </tr>\n",
       "  </tbody>\n",
       "</table>\n",
       "</div>"
      ],
      "text/plain": [
       "  original column contents     sex\n",
       "0                        F  FEMALE\n",
       "1                        F  FEMALE\n",
       "2                        M    MALE\n",
       "3                        F  FEMALE\n",
       "4                        F  FEMALE"
      ]
     },
     "execution_count": 39,
     "metadata": {},
     "output_type": "execute_result"
    }
   ],
   "source": [
    "sexMapper = SexColumnMapper(male_symbol='M', female_symbol='F', column_name='Sex')\n",
    "sexMapper.preview_column(df['Sex'])"
   ]
  },
  {
   "cell_type": "code",
   "execution_count": 40,
   "id": "f6581a8a",
   "metadata": {},
   "outputs": [],
   "source": [
    "\n",
    "encoder = CohortEncoder(df=df, hpo_cr=hpo_cr, column_mapper_d=column_mapper_d, \n",
    "                        individual_column_name=\"index\", agemapper=ageMapper, sexmapper=sexMapper,\n",
    "                       variant_mapper=varMapper, metadata=metadata,\n",
    "                       pmid=pmid)\n",
    "encoder.set_disease(disease_id='616211', label='DEE28')"
   ]
  },
  {
   "cell_type": "code",
   "execution_count": 41,
   "id": "fd367ed6",
   "metadata": {},
   "outputs": [
    {
     "name": "stdout",
     "output_type": "stream",
     "text": [
      "https://rest.variantvalidator.org/VariantValidator/variantvalidator/hg19/NM_016373.2%3Ac.366_516del/NM_016373.2?content-type=application%2Fjson\n",
      "https://rest.variantvalidator.org/VariantValidator/variantvalidator/hg19/NM_016373.2%3Ac.1005G>A/NM_016373.2?content-type=application%2Fjson\n",
      "https://rest.variantvalidator.org/VariantValidator/variantvalidator/hg19/NM_016373.2%3Ac.45_48delGGAC/NM_016373.2?content-type=application%2Fjson\n",
      "https://rest.variantvalidator.org/VariantValidator/variantvalidator/hg19/NM_016373.2%3Ac.45_48delGGAC/NM_016373.2?content-type=application%2Fjson\n",
      "https://rest.variantvalidator.org/VariantValidator/variantvalidator/hg19/NM_016373.2%3Ac.889A>T/NM_016373.2?content-type=application%2Fjson\n"
     ]
    }
   ],
   "source": [
    "individuals = encoder.get_individuals()"
   ]
  },
  {
   "cell_type": "code",
   "execution_count": 42,
   "id": "5d044b78",
   "metadata": {},
   "outputs": [
    {
     "name": "stdout",
     "output_type": "stream",
     "text": [
      "{\n",
      "  \"id\": \"0\",\n",
      "  \"subject\": {\n",
      "    \"id\": \"0\",\n",
      "    \"timeAtLastEncounter\": {\n",
      "      \"age\": {\n",
      "        \"iso8601duration\": \"P0Y\"\n",
      "      }\n",
      "    },\n",
      "    \"sex\": \"FEMALE\"\n",
      "  },\n",
      "  \"interpretations\": [\n",
      "    {\n",
      "      \"id\": \"0\",\n",
      "      \"progressStatus\": \"SOLVED\",\n",
      "      \"diagnosis\": {\n",
      "        \"disease\": {\n",
      "          \"id\": \"616211\",\n",
      "          \"label\": \"DEE28\"\n",
      "        },\n",
      "        \"genomicInterpretations\": [\n",
      "          {\n",
      "            \"subjectOrBiosampleId\": \"0\",\n",
      "            \"interpretationStatus\": \"CAUSATIVE\",\n",
      "            \"variantInterpretation\": {\n",
      "              \"variationDescriptor\": {\n",
      "                \"geneContext\": {\n",
      "                  \"valueId\": \"HGNC:12799\",\n",
      "                  \"symbol\": \"WWOX\"\n",
      "                },\n",
      "                \"expressions\": [\n",
      "                  {\n",
      "                    \"syntax\": \"hgvs.c\",\n",
      "                    \"value\": \"NM_016373.2:c.366_516del\"\n",
      "                  },\n",
      "                  {\n",
      "                    \"syntax\": \"hgvs.g\",\n",
      "                    \"value\": \"NC_000016.9:g.78149008_78198186del\"\n",
      "                  }\n",
      "                ],\n",
      "                \"vcfRecord\": {\n",
      "                  \"genomeAssembly\": \"hg19\",\n",
      "                  \"chrom\": \"chr16\",\n",
      "                  \"pos\": \"78149007\",\n",
      "                  \"ref\": \"TCACTGGCAAAGTGGTTGTGGTCACTGGAGCTAATTCAGGAATAGGTAGGCTCTTCACTTAGTTATTTATCTTTGGGACTGCTATAATGAGATCCACTTAGATCTAGCTATAATGGAATTTTGTTTAGTGGTTCTCTGATTTAAACATGACTTTTATCCTTTTCAGATATCGTTTCATTAACATCACTACCTCTTTTTAAATCCTAATGTTGTCATGGAAGCCTGTGTAGGGGCTGACCTTGAAGTCTCTGAAAGCTGAACACTCAGCAAAAGACTGTGGCTATTTTGGTATTCAGGGATGAGAGACAACAGGCTCCGTCTAAGAGTTTTTGACCTGGTCTGCATGGTGTATGGGCATATTCCAATTACCTGGGTTATTCAAACCAAAATTGATTGGTAATAGAATACGGGGAACAACAAGGTATTATGTCTTTGGAACAAAGGATACTACAGGTTTCGACTGGTCACTGAGCATATCATTTTCTTTTGGGCACAGGATCTTATTTCTCTATAAAATTGGAGAATGAGTTCCTGTCTTCACCTCTTAATTGCCAATGTTTACCCACAGGGACTATCATGGGTAGATGGCTCAAGAGGGTATCCTTGCTTCAATATGATGGGCCATTAAGGAGACAGGAGCAAGGCGGGAGCAAACCATAACTCTTCATAGGATTTTATTCTGATTTTGCTTTGATCTATTTACATAAGTATCTGAATCAGTGAGAACCACCTGCTTTGAGTTTAGATATGCATCTTCAGATTTGTCGACATATGAAACGTTGCATTTGGCTGTCTTCTGTCAAGTTCTCTCTGTCCTTTTGGTCCCCCGCAGCCCTCACACGGCCCCCTTGATGCCCTCCTCTACTCATTTGTTTCTCTTTCCTAATTTTGTTTTTATTTTTATTTTTTGTGGGTATATAAAGGTGTCTATATTTATGGGGTTCATGAGATGTTTTGATACAGGGATGCAATGTGAAATAGTCACATCATGGAGAATGGGGTATCCATCCCCTCAAGAATTTATCCTTTGAGTGATAAACAATTCAGTTATACCCTTTTAGATATTTTACAATGTGCAATTAAGTTATTATTAACTATAATCAACTTGTTGTGCTATCAAATAGTAGGTCTTATTCTTTCTTTCTATCTTTTTTGTACCCATTAACCATCTGCACTTCTTTCTTAATTTTGAACAATTCCTTGAAGCTGCAGAAATATTTTCTAGCATGATTAGGGAGGCACAGGAGGTAAAAATACATTGTTCAAGGGTCAATTATTGTGTTGTACAAGGTGTGAAATCTACCAGGTTGCCATCCGAGTGGAGAATTTTTTTACTGTACTTGCCTATGAAGGTAAAGAAGCAAATGGAAATTTTTTTTTAAGAATTGAAAGGATTTTATTTCAAATCAACTCTCATACCTCATCCTGGGCTCCAAATATGTTCAATCCACTTGTCTGAACTTCTGCATTGGAGTAAATTTTATATAATTGTCATTGAAGTCAAAACTGATGGCGTAATATTTAAAACAATGGCTGGATCCCCAATCTAAGAAGAATACATTTTGTTGATCATATTAAGTACTGTTACAGTGAATGCATGGACCCATACAATTGTGGAATAATTAAGAAAAAAGGACTTAAGGGCTTAAAAATGTCTTTTTAACAATTTAACAAGTTAGCCAGAAACTTTAAAGATCTTATTCTCTTAATCTTCTAGCTAGACTCTTTTTCTGTAATGAGTAAGATATGTGACTACTGATTGTTTTTTGTGTTAAGTGTTCGAACTGCTCCATGTGACATTAGATAGCAGACTCTTGAATAGAGCTAATGCTCTTTCAAAGATTTGCAACAGCAGACCTGCGACATTGTAATCCAGGACTGATAGAGTTGGTTCAGAATATTAAAAGGGTGATATCTAGTTAGATACATAAGTCTTGATGGAGAGGAGGAGATTCTGAAGCATTGAGAATAAATTTGTGGTTGCTGAGAATGGCCCTCACATGTTGGAGTAAAGCCAGAAACTCTTTGTGCCTCTTCACAGCTCCCACTTCCCCCTAAGACTCTTCCTTCCTGATACCTATAATTCATTTTGTGGACACTGCAGGAGGTGTCTGCGGTCCAGTTGGAGGTTGTGGCAAATTGTAACGCTCAGGATGGCACAGATGTCGCACAAGGTCTTAGGGAGACCAGCCTTTCCTATTCAAGTGCCCACAGCTCTTTCCCCAGCTGTCACCTTCCGCAGGAATGGCCTTTAACACTGTCACCTCACCCCATTCCCCTCCACTCTTGGGAAGCATACGTCTAGGTGAGTGGTGAAGATTTTTATTCTGAATTTTTGAAATAATATCGTACTGCAAGTTCCAGGCAATCAAAAACTCACAAATCACTTGCACTCTGCAGCAGTGGTATCAGGTCTGAAGAAAGGAAGAGGCTGCAGATAGGCACATGGCTTTGCTAAGTTAGCTTTTATATCCTGCGTGGCTGCCTTAGAAAGTGTCCTTGCCCAAGTAGGCTGTGGCTTCTAGATAAAGTCCTTCTACTAAGCTATGAAACATGCCAATTTATAAATTGCTATCACTACTTTAGTTCCGCTCATTTAAAATGAAATAGCTGAATGCCGAGTGAGTGAATTGGGCATCTTTACTTCCAAGACTTCTGGGGCATTCAGGAGTCATATTCTATCTAAGCTTTAATGGTGTTGGTGTTCCCTTTCCTTTGGCCACTCAAGGGAGCCTGTTTTCTTTGGATAAACCGTGAAATCTTTAACCCTGTGAATGTCCGTTTTCTCTAAGGCGGGGTGGGCTGAAACATAACATAACAGGATTTATTTTGAAAGTGGTGACTCCACAATAAAAACATAGATATCTAATTTGCCTTACAAAGGCCGATTTGCAAATCTAGTATTTCCAGTGGTTCTTTCTTTCTTTCTTTCTTTCTTTTTTTTTTTTAATGCCCCATATGACGCTGCTTTGTTGGAATTGCCATTGGTGAGGATCTCACTGATAAAGAAGGGGACATCCCTCCCTTGATAGACTTTAGGGTTGCACTAGAGCCATGCCCCCTTTGAAGTGGCCTCTAAGCAAACTCTGTCTTGTCATCATTTTCCTCTCTGCAGCTGTAAGTGATACGGAGCTGTATTTTGAGTTTTTGATACTGATATTACTAAGGCAATTGGAGGGATTCTTAATTCATCTAAAAAAAATCAGGGATTCTGACAGATAAAAGGATTTGGAGGAAATGTCAGAATAAAGCATTGTGGGTTCATGAAGTCCTAGGTTTTATAATTAAGGTTTATAGGCAGGTATTACCGCTGCTGACTGGATTCAACTGTCTGGATTGGAGATGAACAAACTGCCATCTCTGGGCTAACTCTGACCCACTGCCTGATTTTGTAAGTAGAATTTTTTTTGGAACACAGCCATGCCCATTTATTCCCATTCCTATAATGTTGAACTACTGTTTGTGTATATTCAGTTATCCCAAAATAATATGGCCCTTTGCTTGTTACCAGAAGAGTCGCCCAGTTGTGGCAGAGATCATCTAGCTCGCAAAACTGTAAATATTTACTCTTTGGCCTTTCCCAGAAAAAAGTGCCGACTGCTATGTTAGATACTCCAGTTCATTGAAAGTGATATCACCCTAACATTCTCTAAATTAGCCACAGCTTAGATGAAATTTAGGCAAATGGAATGCCCCAGGCCCCAGGAAGACTGTGGCAGCACATTGTATGTAACTGTTGGGGATGTTGCCTGAAACCCCCGCCTTTTTTTTAGGCAGCTGCAAGGATTAGAATGTTGCCTCCTCAGAAACTAACACTCTTCTCTCCTTGACCTTTGTTTAACCAGCTTTCTGAACCTGAAGAACTTTGTAGATTGAAAGCTGTAGCTTGTGGACCTCTCTCTGTGGAGATCAGCATCTCAGTATCCAGGGGGAAGCCATCTCTTCACCCAAAGCTTCCGCTAGGAGATCAAGAGGCCCGGAACCCCGCAGTCCTGAATGCTAACCAGTAGAGACAAGGGAGGAATTCATTTCTGTTTGTGTTCAACATAGACTGAGCAGGAAGGGCCAGGTGTTTTACGACTCTTTGGAGTTAGCAGCTTGTTGGCTCTGATTTGGTAAAAGCAACGGAAATGCCTTCAGCACGGTGAACATTACATGCAAATGTTGGGAAGTGTTAGGAAAGGGAATTTTTTTAGGCGAGGGAATTTCGCATTGAGGAAGGTCCCTGCTTCGTTTTTAGACACAGCCTATCAGTCAGCTAATTTGGCTATGCATATAAATACTTTAGTATAAAATGCTGCCCCCTGCTACCTGCAGGCTGACATGTTGCTCATCAAAGGCAGGATCCTTCTAATGAGGGATTAGTTGGATGCCTAAATGTGGGACCACCTACTCTGTTCATTGTCTTAATTAGCTAGATGTTTGTTGGAGCGCATGCAAATTATTTTCTGTAAGCAGACAGATTTATTATCATATTTACGGAGTGACATCCAGGGTTTGTGAGACATCCATTAAATTTTTTTTTTTTTTTAATGTTTGAGATGGGGTCTCACTGTGTTGCTCAGGTGTTGGTCTCAAACTCCTGGGTTCAAGTGATCCTCCCACCTTAGCCTCCCAAAGTACTGAGATTACTGGTGTGAGCCACTGTGCCCAGATGCTATTAGCAAGTATGAACAAATTAGATATTTTCAGTCTACTCTTCTGTGGTAATGATGATAAAACTTCTTAACTTTCAGTCCTAAACCAGCAGTGGCTAAAACTTGATTTTTAAAATTTTTTTCAGAGTTTGGTCCAGATGAAGTTTCTTTCACCTTGCGAACCTTTAGAACGCTGGGCTGCATCATGTGTGTTGTAACTTTAAAGTTAGAATAGCCTAGCTTCGTTACAGTTTTTGAGCCAAAGGACCCATTAACAGAAACAAAACTTTTTTTCCTGCAAACAAATACAAGCTGGCCACACTGGTAAATACCAGTGAAATATATTTTGGGACTGACACTTGCATTTTCTATTGGTACTTATGTCACAAAATCACCTCTCTAACGTGTATTACATGGACCTATATATATGCATACTTACATATCAAAATGTATATATTTTGAGGTATAAAAAGTACGTGCTCAAGGTATTGGTCACTCCTCAATTTGTTTTCCTTGAAACAAAATGAAGGTATAAATATTTCAGCCGGGCGCGGTGGCTCACGCCTGTAATCCCAGCACTTTGAGAGGCCGAGGCGGGTGGATCATGAGGTCAGGAGATCGAGACCATCCTGGCTAACAAGGTGAAACCCCGTCTCTACTAAAAATACAAAAAATTAGCCAGGCGCAGTGGCGGGCGCCTGTAGTCCCAGCTACTCGGGAGGCTGAGGCAGGAGAATGGCGTGAACCCGGGAAGTGGAGCTTGCAGTGAGCTGAGATTGCGCCACTGCAGTCCGCAGTCCGGCCTGGGCGACAGAGCGAGACTCCGTCTCAAAAAAAAAAAAAAAAAATTTCATGCAGGGAATCCCAAAATGTAATTATAGTGTGATGTTGAAATTGATTGTCTTAGCTTAGAGAGCCTACTTTTTAAAACTTAGGGTCTTGTTTCTAAATCATGTGTTGAAATTACAGTGTGAACTGTAGTTGCCATACTCTTTGATCCTACAAATTGTCACCACGATGAATTCATATCTTGTGCAAATTTTACCAGTTCTACGTGAATAGAAGAAAATTACTTTTTCTTCATGTAGAGAAGGGTATTCATTCCTAAGATTTTAAATCCACACTTCCCAATTATGGACTACGCCAGCTTCCTTTACACCTTTGCTTCTTTGTTTTCTTTTCCATACCTAAATGTTACTAAATTTTGCCTTTGAGCCTAAAGCATGTCATTGATGGTTTTTTTTTTTCTAGTTATTCCAAAAGGTCCCATAAATCTGGGGCCATAGCTAACTTACATTTAGTCATTTTCATGGGTAAAACACACTCATATGAGATCATTGCACTTGGGATCTTGAAATGCCTGATTAGTTTCCTTTCTGATTGTTGACCAGACTTAAACTAGTGGGATCTTGGCATTTATCTTTTTAAAAACCTGGTGCTCATTAAGGAAAGGAAAATATTCTGAAATAATCGAAATAACCTTTTGGGCATTGGAACTCCATTTTAAATTAAAAACATTTGTGCCTACTATTATCTTATGCTAAATTATACCCAGGTATTGTAAGTAAAATTATTTTGAAGTTACTTTGTTCTAAGAAACTATGGAGATTCTTGACAGTGTTAGACAAAGTCCTTAAATGACATTATATAAAAATTGAGAATTAGTACCTTATGACTTAACCATTTTACACTGAGATATTATTGGACATTGAGTGTACATGGAAATCACGTGATCAAAGTATTTGAGAAGTAAATATCTAAAGGAAGAGACCAATTTAAAACATTCTAATGAGCATCATCTCATAATTTGGTAATCTCATGTAAAATGCTTATAATAGGGGTGTGTGTATGTTATATATATTTTTAAAATAAATTTGTAATCATGTATACAGTAGTCCCCCCTTATCCGTGGTGTTTCAGTTTTTTTTTTTTTGAGTCAGAGTATTACTCTGTTGCGCAGGCTGGAGTACAGTGGCGTGATCTCAGCTCACTGCAACCTTTGTCTCCCAGGGCCTGGTGATTCTCATGTCTCAGCCTCCTGAGTAGCTGGGATTACAGGTGCACACCACCACTCCCTACTAATTTTATGTTTTTAGTAGAGACAAGGTTTTGCCATGTTGTCCATACAGGTCTTGAACTCCTGACATTAGGCAATCTGCTTGCCTCAACCTCCCCAAATGCTGGGATTACAGGTGTGAACCGCTGTGCCTGGCCCGTGTTTCACTTTTTGAGGTTTCAGTTACCTGAGGTCAACAGGCATCTGAAAATACTAATTTTGAGAGAGAGAGAGTGTGAGAGACCACATTTACATAACTTTTATACAGTACATTGTTATAGTTCTATTTTATTATTATTGTTGATCTCTTACTGTGCCTAATTTATAAATTAAAATTTATCCTAGGTATGTATGTATAGGTGAAAGCATAGAATACATAGGGTTTGGTACTATCCAGTTTTCAGGCATCACTGTGGGTCTTGGAACGCATCTCCCGAGGATAAGGGGGGGCTACTGTCAGTGTGAACCTGATTAGATCTCAACTGAAACTTTTTTGTCACATGAGGCCATCAGTTGAATTTCATGCCTGCATGTAGGTTTAGATTTTAATTACTTTTTTATGGTGTCAGCATAACAAATGAGAGTCATACAAACTATTGTTTAATGACAAAGTGGGTCAAACCCATAATTAAAAAAATTAATAATAGATTTTTGTTCTACTTGAGGTTTTGTAGCATTACGTAAAGCTTGAAAACTTGGAAATTGTTTTACTTAAAACCCAATTAAAATAATTTGATCTTTTGCTTTTACATCATAGAGTGGCACAATAAAAATTGTAATGGAAGATGTTATTTTACATTTTTTTTCTTTTTTTTTTTTTGAGACGGTGCCTTGCTCTGTCACCCAGGCTGTAGTGCAGTGGCGTGATCTCAGCTCACTGCAACCTCCGCCTCCCGGGTTGAAGTGATTCTCCTGCCTCAGCCTCCTGAATAGCTGGGATTACAGGCGTGAGCCACTATGTCCGGCTAATTTTTGTATTTTTCGTAGAGACAGGGATTCACCATGTTGGCCAAGCTGGTCTTGAACTCCTGAACTCAAGTGATCCGCCCACCTTGGCCTCCCAAAGTGCTAGGATTACAGACACTAGCCACCATGCCCGGGGGTGTTGTACATATTTCCTTTAATCTAAAAGCAGAACCATCTTTATATATTTTTATTTTTTTCCACTAGAGGGCTCTGTTGCCCTTTGATATAATTAAACAAAAGAGGCAGCATTGCAATATAGTTCTGTTCCTCTCAGTCCATCTTGCTTTCATTTTGGTTAAATAATGTCTTTTACTTTTCTAACATATCTTTTAGGTCTTCTAATTCTCTGTGATGAAGTTCAAACTGAAGACTGTTACTAGTGTCGTGTTTGTTTCTTTTTCTCTCTCTTTTGTTTTGTTTGTATAAAATGCCAGGGATGAAGGGATCCACTTAATAAAAAGGCCCATTGTGTTCAGGGAGCAGCCTGTTCTGCCAAATCACACAAGGGCATGTGTTTTCATGACATTATTGCTTTTGAGTGTGCTGGCCTAGCAATAATATGATTTTTTTTTCCTAAGTGGAAATTGTAATATTTAAGTATTAATACCTCTGTTTAAGGTTCATTTTGAACGCCTTGGTGACCCTATGTTTTTTTCTTTGTTTTTTGTTTTGTTTTTTTTTTTTTTGTTTTTTTTTTTTGTTTTTTTGAGATGAAGTCTTCCTCTGTTGCCCAGGCTGGAGTGCAGTGGCGCATTCTTGGCTCACTGCAACCTTCGCCTCCCAGGTTGAAGCAATTCTTCTGCCTCAGCCTCTCGAGTAGCTGGGAGTCCAGGCACCTGCCAACACGTCTGGCTAATTTTTGTATTTTTAGTAGAGATGGGGTTTCACCATCTTGGCCAGGCTGGTCTTGAACTCCTGACCTCATGATCCACCCGTTTCGGCCTCCCAAAATGCTGCGATTACAGGCGTGAGCTACTGCACCCGCAACCCTATGTTTTTTTCTAAGAATATAGTGTCCCTTGCCCCCTGCTACAAGCCTTACCCAGTGTTACATAATTTATTGTAATTAAATTGTTTATTAATGATACATTCTTGCTGTAGAAGAAAACGTGTCCTTTTGGGCTCAGTACAGTATATGTTTCTTAAGTAAGAGGGATCATATTAAACCAGCTACTTAATGTGAAGCAGATAGCCAGTGTTCTCCATGTACAATCTTAGGGAGGGTAATTTTTGTTTTGGCTGTGTAATTATGGTTTGAGGCAGCCCATTAATCGCATATTTCAGCTGTCAAATAGAAATTTGGCCCAGAAAGGAATACACTTTGGCTTTACAAAACTGCTTATTTTCAAATTTTTAAATGGGGACAAAAACGAATATGCTATATTATATACTTTTATTTATATAATTTTTTTTTCAGCAACTTTTTCTCTTTTGAAAATGCAAGAGCCTGAAAAACATTGTGAATATACTTGTAACATTGCAAAGCTATTTCACCAGAGTAAAGATATTTTGGTTGTTCATATACGAGTGTGTTCGTTGTTTATCTAATAAATTGTTAAAACTAGATGGCGATTCTGGGAATTATTATAGACTTCATAATAAATAAGATGCTGACAGTTGAAACCCCCTTGACCGTTGCCTGTTTGGTATGACACAGACCTTCTTGGACTTTTGTAGCCTATACATGAGTAGATATGAATCCTCAGCCTTCTCCAAAATAAGGTTGGGGTCACTAGGAGGCCTTCTTGGAAAGATGTCTTAAATTAAGGCACCAGTAGATGGATCAAAAAGCAGGTTCCAATAGCTCGCTTTTAGTTTCTTGCCTAAATTTGTGATCTCCCTTTGGCTTCATAAATAACGGTACATTTCATGAAGAGCTGGTCTCAGTCTACACAAGCCTAACTGAATGGGGTGCATAGGAAGGGTTGCATTGTGTGACAAGGTTTAAATCTAATTGTTTTAAGTCTTTGAGTTATTTGCTCACCAGGCTGTGCTTGATGGTTTTACTTTTTGTGATTTTTGGAGCCTTCATGTTAGAAGCCATAGTCATATGGTGCTCTCTGAAAGCAAGACAAGGTTTCTTCACTAGACTCTAAGAGGAGATCTGAGACAGAGAGATGGGGGCGGGGAGGAAACCTATTTCAGTGTCTCTACTATTTCTACCTAGGTGGAGGATAACTAGCCAGATGAACGGAGCTAAGCCTTTTGTATGAAGTTTATTTCATATAAAGAGGAACAAAATCAGAATCAAATTTCTTCTGTAGTTGCACAGAAACTGAAGTTAAAGCTAATACAATGTTTTTCATTTTTACCCTTACCTCTACAATGTACTTAATTGTTACAGATTCGTATTTATTGATTATCATGTTGTATTACATTGATAGCCGTTTAAAATTTATGAAGATTCCGTACTTGTCATATTTAATTCTCAGCACCGTGCTTACAGCTGTCTTGTGATAATGTCGAAAGGAAAGAGAAGGGAGGTGAGGTAACGTGCTTGAGATCATACAGGTCTTGGGCGGCGGGTGCCTGCAGGATAGATCAAAGGGTAATTGAGTCTGTGCCTGGGGCCCCTTCCACTGTACATGCCACCATCCTGTTGGGAGGAATAACAGCACACTCCTGAATGAGCTCTTTCTAAGCAGCTCATTCATTTTGTTAATCCTGAGTTTGGAATCAACCAATTTATTTAAACCCGTGAAGCCTCGCTCTGTGCCCGGTCAAGTGCTGGGAGTGGCATCTGCGGGGAGGGCCAAGGCAGATGTCATTTCCAGACTGCATTGGATCCTGGATTCAGAAGCTGAAGCTTAGGAGTGGGCATGGTGGTTCACGCCTGTAAACCCAGCCCTTTGGGAGGCTGAGGCAGGAGGATTGCTTGAGCTCAGGGGTTCGAGAGCAGCCTGGGCAACATAGCAAGACCCCATCTCTACCAAATCAAATTTTTTTTAAAAGCTGAAGCTTTCTTTACCAAAACCACTTTGGTATTATGATTGTAAAACAAACATTAAGGAATAAGTCTGGGGGAATGGGAAGTAGCATTCATCAAGCGCCTGTATATGCCAGGTGTTAGGCTAGATTAGCTTGATGTGCCTTCTCATTTAATATAAGTAATTATTTTAAAGGTTATTGTGATTAACATGTATTCCTTATGGAAAATTTAGAAAGCGAAGAAAAATAAAAATAAGAATAAAAGATTTAAAAAAACCCCAATTCTTACCAGTTAGAAGTATACTATTAATATTTAGCATGTATGATTGTAAGCATGTTTTCCCTTCTTTCGTGATTTTTCTATTTAAATTGTGATTATCTTTCTGTGTTGTTAAATACTCCACATCTTAAATGGCTGCATAGTATTCCATTATGTGGTTCCAGCTCTTCTCCCAGTGTGGTACATTCGGGTGGTTTCCAGCTTTTTAATAGCTGTGGAATGGAGAAGCACATTTTGTAATTAAATGTTTGTACCCATCCGTGACTCTTCTATAGTTTTATTTTGTGGAAGTGGAATTGCTGAATGAAGTGATTTGCTCCCCAACCTTAATATCTTGATTTGTTTTGTCAAACTGCCCTGGAAGATTGTACCAATTTGAATGCTCCTTTGCCCAGCATCCTTGCCAAACTTGAGAATTAGAATTTTTAAAAAATATCACTTAAATTTGCCTATCTCTGATGATTAGCAAGATTGATAGGCTTTTCTTATGTCGGGCCATTTGTTTTTTAACGAATTGCCCTTTCATCTTATATGCATGACTATTGGATATGTATCGATTACTAATTGATTGCTTGCCTCATGTGCTATCATTTAATTTTCAAAATGTCCCTTAGAAGTTAATTTATAAAGTGTCTATTACTTTAAGTACCTGTTCAATCCTGTGATCAAGAGGAAATTCACAGAGAAAGAAATTGGCCTAACTCCTCAGTTTGCTTCACTAAAATCTTTTAAGCACACATCTTGTCTATTATGCCAGCTGCAACTCAAATCAAAGGCACTGTTGCTTTGGTACCCGCATTTAAGGAGGGAATACCCCAAAAAACTTAAACTTGTCTGGCTTTGCAATGGTGGTGGAGTCCCAAGATGACACAGTAGGCAAGATTTGATTACTTTGGTTATGCAAATTTCCCCTAGATCTTCTATTAATGACAGTAACAGCGCTTCAGAGCTTTTCTATGCATTCTCTCATTTGATGAGCCTGCTTTCAGGTGGAGAAATTGTACCATTGCTGAAAATAGCTTCGCTGACAGTTAGGGCAAGCTTCATTGGTAGCAAGTTTCTATCTGGAAAGATGTAGGAGAGGAACACTGACTCTGGAAGCAGACGTGACCTAGTTTTGAAACCTGGGATAACCACTTCCTATCTGTATGACCCGAGCAAGTTACTTTCCTTCTCAGAACTCCTGTTCCACCTCTGTGCAATATGGACAGTACTCCTACTTTGCAAAGTTGTTAAAGATGGGAACTCCAGAGTGCCCAGGGAATTGTCTACTCATCATTGCAGGCGTTTAATAACGTGTAGCCATTTCTGGAATGGGAGGCAAGAGGATCGAGTTACCAGTGAAATTAGTTTGGTATTTTCCTAGCTTCCTGGTTCCCAGATCCTCAAGAGGCTGCCATAATCTCTGTGAATTTGTCCTAAAATGACCTGTATAAATAACTGCTTTAGACACTGGCTTGTCTTTGGTATGAAGGAAAACATTTTAGAATTTTTTTGGCTGGAGGTCAGTAGCTTTCATCCAGAAAAGAATAATCAACGGAAAAAAAAAAAAACCACCGAGACGAGGTTATTTTTGTTACAGTCAAGGAACAAAAAGGGATATATTAAACTTGGGGGAAAAAGAGAAGGAAAACTATTATTCTTTAAAACCGTTATACCATGCATCATGGTAACATCTTTTTTACTGAGAGTTCTGCATTAGCACACTTGTTCACCCAAGTTTGTGATAGTTTATAGGACTGCCTGGTGTATTAAGTAGAAATGCTCAACTTTGCTGTCCTATTTTTTTGATCATATCCAAAAAGTGTCAGTGTTTGAATATAGTTTTATTGCCACTTAAAAAGGTAGGACAGTTTTATTGGCGTCTACTGGACATGGTAGGAAGAGAGCTGTAATTTGACACAGATTGTCCTTAACTTGGGTGACTTAAGGCAAGTCACTTAACCATCTGAGCCTTAATTTCCTCGTTTGTAAATTCAAGAGAATAATAACTTCTCTGTCACATACTGTTTTGTACAGATCAAGTAAAACAATGTGTGAAATGCTGTAATGAAGAAGTCCAATAGTGTATGAATATAAGGTTGCTGGCGTTTGGGGAAAAATCATAGTTATAGAAGAAAGACTCCTAAAGGGAAGATTAGGGTTGGAAGAAGATGGAGGAAGAGAGTAATTTAATTCCTTAATGGAAAGAATAAAATAAGAGCTCTTGACTTTTTTTTTTTGTTGTTGTTAGGATATGGGGAGAGGTTTCTGCAAATATCTTCTTCAGGGTTTACGAAGTGAACCGGATGTCCGGTAACAGGGTTGCATGTCATGCAATTGACTGGGTGGTGATGACTAAAATTTTAATGATGCGATCTCATTTAAAGTTGACAGGCTCTGACTCTAGCCAGATATTCAGGAGCAGAAACTTGATTCAATAAGAAGGGAACCTGCAGAGGCAGAAACTTCTGTGGGTTGCAGTTGTGTTGAGATTACACAGGTGGAAATGTTGCGAGTTCTTGGGTGATGCGATTTCTTCCTGCTTGCCTTAAGTTTCACCTGCCCAGGTCCTTACTTCTGCTCACAGTGCAGCACGAATTTAGATACTGATTGGGGATTCAGACACAAACGGGATGCTCCTTGCTTATATAACATCAACAGAATTGCTGGCCACATCTTGATTATAGAAACTCTTTTTCCTGGTGATCACACAAAGCAAAAGAATGAAAATAATCAATCTCTTTCAAATGGAGAGACTCCGCTGTGTCAGCCACCATTGGCTATAAGGATGAACTCTCAAAACTTTTTGTATCTTGCAATATAATGTCTTCCAACTGCCTTTGATTTTACTGTGTGGCTGTGTGATACAGCAAGGCAGCTGTGGCTTCTAAATTCAGCAGCTAGGTTTGAGAAGCTTCTATCAGCTGAGAGATCATCAGTACATTCCAAATGGCATTAAAAATGCTGTTACAGCTTTATCTATTAGCAAAGGAAGTTTCAATTCTAAGTTCACGTACAGTTACTAGATTGAGTGTTTGACAAGGTAGAGAGCTCTGTAGTAGATCCATATGGGGAACATCTCAGTCAGGGTGTGGAGTCAGATTTTTGGCAAGGGATACCATCCTTTCAGCCTGAAAAGCTGACTTGGGAGCTGTCAGCCTGTGTGCACGAGGACCTTTTTCCTCCCAGGGTTAGCGTCGCCACTTGCCCAGTGTTTCTTTTTTATTTCCTGCTGGCCTGATCCGGGAGGGATTTGGGAAAGCTAGTCTTGTTGGTGTGTCATCATCGCGACGCTGTTAGTGATTGACTTACCCGAGTGTACACATGTTTGCATCTCACTTGTATGTTCCTTACATGTTTACTTAATTATTGGGAAGGTGTATTAATGTCCTGTTGCTACTATAATGGACCACCACAAACTCGGTGCTTCTATGCTGCAAACCTAAGATTATAGGCAGTCATAACACAGTGTTAAGTATTTGTGTATCTAAACATAGAAATGGTTCAGTAAAAATACAGTGTTGTAATCTTATGGGACTGCCGTTGTGTGTGCAGTCCATTGTCATGTGATAGTGATTAAGGGAGGTGGACATTTTTGTGTTTGCTTATTTCCATAAGCTCAAGGGTAAAGCTTCCCAATCAGCCTTTAGGACAGAGGTAAGAACTGGTTGGTGGCCTGGAGCCTGGATCTGGCCTCCAGATGTTTTTTGTATGGACCACACAAAAATGGTCTATAGTGGGATTTTTTTTCTTTTTTTTTTTGTCAGACTACTTGCCAGCATACTAAAATCAGGATATTTTACTTAAATGTAGATTTATGACAGTTTTGAAAAATCAGAATGAGTATTGTAGACTAAATGTTTATGTCTTCCCCAAAAATTCCTATGTTGAAACCCTAATCTTAAGGTCATGGTATTTGGACATGGTTGTGTCCCCACTGAAATCTCATCTTGAACTATAGTTCCCATGATCCCCATGTCTTGTGGGAGGGACCCGGTGGGAGATAATTGAATCATGCTGTTCTCACGATAATGAGTGAGTTCTCATGAGATCTGATGGTTTTATAAGGGGCTTTCTTCCCTTTTGCTTGGCACTTCTCTTACTGCTGTCATGTGAAGAAGGACGTGTTTGCTTCCTCTCCTGCCATGATTGTAAGTTTCCTGAGGTCTCCCCAGCCACGTGGAACTGTGAGTCAATTAAACCTCTTTCCTTTATAAATTTCCCAGTCTTCGATATGTCCTTATAGCAGCATGAAAACAGACTAATACAGGGGCCTCTGGGAGGTGATTAGATCATGAGGGTGGAGCCCTCATAAGTAAGATTTGTGCCCTGATGAGAAGAGGATAGAAAGGTAGCTAACTTTCCTTAAGCTATGTGAATGTGAGAACACAGTGGGAAGGCAGCCATCTGTAACTAGTAGGAGGGCCCTCCCCAAGAACGTGACCATGCTGCCACCTTGACCTTGGACTTTAAGCCTCCAGAACTGTGTTAAAGAAATGTCTGCTATTTAAGCCACTCGGTCCATGATATTTTGTTGCTGCAGCTTCAGCTGACTATGGCTTATGTCTATCAAGGAACATAGTTGCACTGAGGTTGAACAGAGCTGTTCCTATAGGCTGACCCCCTGTAGGCAGGCACAGGCTATTTTCCATGGTCAGTTTACCTGCCTGCTTCCTGTAGAGGCTTGAGCTTGGTTTAGAGTCTGCAATGAAAACTGTGTGATGATATTGGACTCACTGGCTCATAGCCACTGCCACGCCCTTATTCAGTCTTTTGTGCAATTAACAAACATTTATTGACTACTGAGTACCAGGTGCTAAGACTTCAGTGTAGAAACAGGCAGGGTCCCTGCCCTTGTGGAGGATACAAAACACACCAAAATGCAGTCAGCTTCACTGAATGACAGAGATATGATCTGAGAAGTGTGTCAGGCAGTGTCATCGTTGTGCAACCCTCATAGGATGTACTTACAAATCCTACGTGGTATAACCCATTATACACAGAGGCTGTATGGGATAGCCTGTTGCTTCCAGGCTGCAAACTTGTATAGCATGGTACCGAACTGAATACTATAGGCAGTCATAACACAATGGTAAGTATTTGTGTATCTAAACACAGAAGTGGTACAGTAAAAATACAGTGTTGTAATCTTATGGGACCGCCGTTGTATCTGCACTCCATTGTTGACCAATGTGTTGTTATGCAGTGTGTGACTGTACCAGCAGCTTGATCTTTGTGCTTCTAGAGAACATTTAAATTGATTCGCTTTTGTGAGACAGGGTCTTGCTCTGTTACCCAGGCTTCAGTGCATCAGCGTGATCATAGCTCACTGTAGCCTCTCCCTCCTGGGCCAAGTGATCCTCTCACCTCAGCCTCCTGAGTAGCTTGGACTACAGGCATGCACCACCATTCCTGGCTAATTTCTTTTGTATTTTTAATAGAGATGAGGTCTTGCTATGTTGCCCATGCTGGTCTTGAACTCGTGGGCTCAAGCAGTACACTTGCCTCAGCCTCCCAAAGTACTGGGATTACAGGTGTGAGCCACCACATCTGGCGAAACTCTGGGTAGTTTCTAATTATTTCTGTATTTCTATTTGTATTTAAAAGTACAGGATACTAAAATGTTTTTTTTTTCTTTTTTGAGATGGAGTCTCACTCTGTCGCCCAGGATGGAGTGCAATGGCCCGATCTTGGCTCACTGCAACCTCCACGTCCCAGGTTCAAGCGATTCTCCTGCCTCAGCCTCCTGAGTAGCTGGGATTACAGGTGTGTGTGCCACCACGCCCAGCTATTTTTTTTGTATTTTTAGTAGAGATGGGGTTTCACCATGTTGGCCAGGACGGTGTTGAACTCCTGACCTCGTGATCCTCCTACGTCGGCCTCCCAAAGTGCTGGGATTACAGGCGTGAGCCACCGCGCCTGGCAAGGATTTTTTTTTTTTCATACTTGAGGAAACATCTAACAGCAAATATGTTCTTATAAGTTAAAAAGAACTTTTGCTATTTTGAATGACACTCTCATTAAGTCTTACTACTAGTCTCTGATTTTTCTTTTTTCTTTTTCTTTTTCTTTTTTTTTTTTTTTGAGACAGAGTCTCACTCTGTCGCCCAGGCTGGAGTGCAGTGGTGCTATCTTGGCTCACTGCAAGCTCCACCTCCCGGGTTCACGCCATTCTCCTGCCTCAGCCTCCCGAGTAGCTGGGACTACAGGTGCCCGCCACCACGCCCGGCTAATTTTTTTGTATTTTTTAGTAGAGACGGGGTTTCACCGTGTTAGCAAGGATGGTCTTGATCTCCTGACCTCGTGATCTGCCCACCTCAGCCTCCCAAAGTGCTGGGATTACAGGCGTGAGCCACCACGCCCGGCCTTGATTTTTCTTAACCTTTATTTCCAATTATGCATCTTCTGAGTAACTATAAAGAAAAGCAAAATCTACAGTAGGTATGGAGTGAGTGCAGAGTCACCATCAGCTTGAACAAATGTGTGTATCTGTGGTCAAGTTTAATTGCTTCTTCTGTAATTTATATTAATCACGCTTCCATTGCTTGCCTTTTGTTAATACGTATGCGGCCATGTGATGATTTTTTAAAAGGTCATCCAGTATCTTGATGTCCAGTCCATGCTTATAACCTGAGCAGTTTATGTACTCTTGAGATGGTATGTGCTAAAAATGAGTAGCTAGTCTGAGTGGCAGCCTTACCCATTTTATTTTGTGGGCAGATTTCTTTTACAGTTCTGGCTGGGTTTCTTTTAGTTGGCTTCTTTGCTTTGCTCCTGTTACGACTTAGCCCTGTAGCTCTGGGCTCTTCGATTCTCACGTGCTGATGGTGTAGCTGAGCTCTGCTAATGCTGGTTATTAATCTGACAATCTATACCAGGGAGGTTTTATAATTGCCATAATTCTTATTTGCTCCATTCCATTTCCCAGCTTCTCAAATGGGGTGGCAGCTGCAAAGCACAGTATTTGAACATGAAGTAGAGAATCGTCACTTCAGCTTATGATTTTACATTCTGTCAAGGCTGCAGGGAAAGCGGTCATGTTTCTGGATGGTATTTGGATCTACAAATTCCAAGCAAACTTTTTACTTCTTATTATGTAAAATGGAAGGGTTAGCCAAATTAAGATCTCACCATCAACCTTGAGGGAGTGACTTCTACATGCCGTGTATTACTGGTTATAAAGCTAGTCTTGTTTGGATTGAAGAATTTAATCATATTTAACTTTTCAAAGGATGCTTTTTAAAAAACCTTATCCGCGTGTTATGTTTAAACTGAGAAGTACCTGAAAGTGAAAATTTTATTTATTTTTACTTTTTTTGAAAGATGGAGTCTTGCACTGTCACCCAGGCTTGAGTGCAGTGGCTCAATCTCGGCTCAGTGCAAGGTCCACCTCCTGGGTAAAGGAGATTCTCCTGCTTCAGCTTCCCAACTAGCTGGGACAACAGGTGTGTGCCACCACGTCCAGCTAATTTTTGTATTTTTATTAGAGACGGGGTTTCACCATGTTGGCCAGGCTGGTCTTGAACTCCTAACCTCAAGTGATCTGCCCGCCTTGGCCTCCCAAAGTGCTGGGATTACAGGCTCACGCCACCATGCCTAGCTGATTTTTGTATTTTTAGTAGAGATGGGGTTTCACCATGTTGGCCAGGCTGGTCTGGAACTCCTGACCTCAGGTGATCCACCCGCCTCGGCCTCCCAAAGTAGTGGAATCACAGACATGAGCCACCATGCCTGGCCTGAAATAATTTCAAATTAACCCCTGAGGAACAAATGCTCATGACTTTCAATGAATAGAAAAATCAGACTGCTAGAACCTCCAGACTGCATGTCATGCGTAGAAGTAGAATCCTGGGGAAGCTAGCTCACAAAAGCAAGGGAGATACCTGCAAGGCTGAGCTGAGCTTGCAAGGGAAGAAAAATATTAGAGAGTTGTCACATTTAGAAATAAGTGATTCCAAATTTACAGTCAATGGACTGTAGATGCCTTCCATCTTCTTAAGAGATTTTGTGCCTCTTGCACAGGTATTATCCCTAAGATGTGTTTTCTTCAATGTACCTAGACTGTTTCCTTAAAGAATTGCTTTTGTATGGTACGGCTCTATGTGTCTGTGTTTCTCATGTTGGTTAGGAGAACTAACCCTTGTGACGAATAAGAAATGGCAAACATTGTTAATGTTGACTTTACTAGTTGCTCAAATATTAGCATTGGATTTTAGAGTCAACATGCTAGCAGGATGGCTTTATTTTAAAACCATGTGATAGAAAGCTATCTGCTATTATTGATAGCATTTCTGGATGGCTGTCAGAAGTCTTTCTTTAGAAATTTAACCATATTTTTAATGGTGGGCATTGCAGTCAACAATAGTACAGACTTTGCAAAGACTATTTTTTTTTTTGGGTGCAGTGAATACTTCGCAATGCCTGCTGAATTTTACCTATTCTGTAAGTCTTTTTGGGAACCGTTGAGCCCCTCTTCTCTTAGTTGCCTTTAGCCTTTGTTTTTATTATGACAATTGGTATGAAATTTTTCCTTTTCATTACTTCTTTTATTCAGAGCACACCTCTGGCTTATCTCTTCATTCTCTGTTTAGTTTCATATTTTACTTTAATTTCTGTACATCAATATCTGCCATTATAGTATTTAAGCTCTTGGAAACATCAGGCATTTGTTAACTTGTTGAGAAAATAAAGCACTCCACTGTTGTTATGAGCTGCTTATGGCAAGTGAAAAACTCACAATATTTGGCCAAACTTGGGATCATTTAGGTGTTGTTTGCAATTAATGGCAGGAGATATTTTCCTTGTTGTTAAGAGTATAACGTTGGTTTTAGAAAGCTTGATCTATGTTTTTCTCCATGTTAGATGTGAAAAGAACCAGGAGAGTGTGAGGATATTGGTAATATTGTCATATGGTGATCCCACTGTGGATAGATACGCAAGAGAGAAAATCCAGAAGAAAGCATTTCACTGAAGCCTGGGGACATTTCTGGTGACAAATGGTGCTGATGGCACAGTGAGAACGGGAGAGGGCAGAAGCAATGCACAGATAGAAAGGGTGTCACCTGCGCATTGAAAAATCCCAGTGCCATAACAATGCAGTCCCTGCAATACAGACAAACCTGACTCCCACCATTCCTGTAAATGAAGATGGGGCCTTGCTGAGAAATAGAGGATGCAGATTCCACCCTCAGGCTTCCCGTCTTGGGATGCAGAGAAAACTCACCCACGTGCAACAACTCAAGAGTCGTTATTTACCTAGCAAAGTGTTCACATGACAGTGTTTGAAATGTACCACGTGCCTTTTCATGTTTAGTTTAGAGCTTGACACTAGAGCTCTACTGTGGTTTACCAAGTGTGAGGGACTATTTCTTTCTGAGAAGGAGGGGAAGCTTTAGTTTCCTTGAATGTCTAATAGAGTCTGAGTTTCCTTTTAGAAGCATAAAAGACGTACAGTAGGCAGAATCTGGATTTTTAACTATACAGTTGCTGAAGTTATCTTCAATTCAAATCTTCTAAATTCAATTTTGTTAATGTTGTTTAGATATTATTATAGAAGCCAGCTTTACTGACTTCTGCACATTTAATCATAGGAGATTCTTCCATTCTGTGAACTTAGATTTCTTTTTTCTATCCATGACATTTATCTAAATCAGGCTTTCTTTTCTTTCTACTAAATTTTTCAATTACCAATAGGCTATGAGAATAATTAGACTGACAGTATTACTGAAAAAAAAACAAAACAACAACAACAAACAACAAAAAAAACACCTTCCACTAAAACTGACTCAAAAAGATAATAGCAGGGAAAATGACATGTCGATCTGTGATTCCTTTTTTACTTGTCAGTCCTTTTGGGAGTTGAACATATAAGCACATGTACCTCTATGTGACTTTTGAGACGTCTAGAATAGAGAATTCACCTTTGTAGCTGGAATTTATTCAGCATGCAAATGTGGGTGGGTGATTGTTTTATAGATGCCTGGTGTTGAATGATGGGCAGTTGTGATAACTATATATAAAATTATATTAAAGTCCAAGAGGTGCTTTTATGAGGCAGGCTGGAAATGGCATCCGATTTTCTTATGGCTTTTTCATGTCCATTTTGATGAATCTATTTATTACTTCTATAATGAGTAGTACACATGGTTGGTTAGCCAAGTTATTGAACTTTATCAACCTTGGCTGAAATTCACAATGCGTGCCAAACTTGTTGTAACATGTAAGAAATTACATCTGGGCTAAAAGGTTCAATAATGATTACTCTTATAATGGAATCTTCTACAAAGCAAGGGATTTCATGATATCCCTATGCTTTTAAAAAATTATTGTGATACAGTGAAACAAGGAAGAACGTGTAGCTGGAAAAATAGTATTTGCTTGTAATATACATTCAGATTCATAACAGGCTTATTTGATTCCCAGGACAGGGTGAGCAAAGGATGCTGTTTCCTGGGTGTCTGCTTTGGTGTTCATTGAGTCATGTCTCTCTCTTTAGACCTTACTGGATCTAGTCTTCATCATGGGGCCTGTGAGCTCTTTCAAATCTAGAGGACAAAACCTAATAAAGTGCTGTCATATCACATCTGTTTATGAGTTTCAAACTGAAATGAAATGTGTAGCCGTGTTATTCTTAAATTACAGAGACTTGAGGAACGTAGAGCTTTTTACTCTCACTAGAGAAATCTAAGCACAGGTTGGTTCGTTAACCTGTAAAGAGATGTTTGGGTTTTAAGAGGTCTATCAAATAACACAGTTTCCCTTTCCCAAGTTACTACCTAACTGAGCAGTAAGACCACCCATTAGGCAAATGGAAGACCAAAACATCACCTGAGTCATTCATGAAGCTGATACTGGAGAATATGTATAGCTGTGTGAGCTGGTGGGCTTTCTAATCCTGACCACCACAATTAGACAGGGTAATGGGTCAGTGCTAGGTCAGGCCAGACCTTCGCAGAGGGCAGACCCCATTCATGCAGCATGTTCAAGACAGTGCAGGAGAGCAGGGTGTGTGCTCTCTGTAAGAGGAGAGGAGAGGCAGAGCTGCGTGTGCCCGGTTCTCAATCCTGGAATTACCATTCACATACCATTCACAACATAAGTTGGATCAGCTCCCTTGAGCAGGAATAAGTGAGTGGCAGAGGGGGTCAGGGATGTTAACGCAAATGGAGATCCCTTCACCCAGAAAGACACATCTGAAATGGAGAAGATGCCTTTTTCCTCCTGCAACCAATAAGAGAGTGATGAAAATTATGACGCCTTGGGAAATAAGACTGCAACGTAAATGTGTGTCCACCCCCTAGTTTTCTTTTGGATTGTGAATCCTCACCCTCCGATAACTAGACGTGCTGTTTTGACGTCTATGCTTTCCAGCTTGCCAATTCTGGGGCCTGGCACAGTATCTTTCACCCCGGAGTCTCAGTTTCCTCATCTGTAAAATGGGAACCATGACGTCAGCATCACAGAGTTGTGAGAATTCGACAAGGTGGAATGAAAGCAACTAGTGTGGTGTCTGACCGCTTGTGTTAGTCCATGAGGAATTTCCTTACGTATTGTTTTGTGTCTAGGACCAAGTTCTTATTTTCTTCTTATGGATGACTTCATATATATGCCGCCACAGAGGGAATTACCGTTTTTCTTTGTAGGTAAAAAGGAGCTGGGTTAAGATGCACCGTCATATGAAACAGGGAAAAAGGGTTTGCTTGGGTTTTAGATTCCTGAAACAGTCTGCTGAGGGATTCTAAAGTTGTTGTGGTCTCTGTTCCACTTTGGGAGTTTGATAAAAATTGGCCTGTTTTATTTGACAGCTCTTAGGTAGTGTGCAAAATTGTCAACAGATAATAAAAGTTTTTTGCAAAGCTATGGCTCTATGTGCTGTACTTGAGCAGTATCCATACTCTTAATAGAATTGATATATGAAAGCAGGTCTTTTTCCTTATCCGTTTAGACCTAAATCTTATCCATAGTGTGTGGATATCACAAACAGCACAAGAGGAAGTGAAAGGAACAGAGTGGGTGAGCAAACCATTGTTCAAAGGAAACAGAACCTCGCTCAAGGAAAATGAGAATTCTTCTGATCAGCTTCTATAATGGATGCAATGAGGAAAGTTGTCTAGCAGACTGTTCTTGGCCAACTGTCTAAATGGCTCGCTGCATCCTCTTCACGAGAGCTGATGGTAGGACTGTAGAAGAGTCACAAAACATCACATGACAACGCCAGTCCCTCTGATAATCCTGCAAGAGCCAGCCCAGTTTTGCTGACAGCACAGTCTGCTGTTTAATTATTGTGTGTTCAATGACTTACCTCTTTTTAGTTTAATTAAAATTATTTCTCAGATTAAGAGCCATGCTATGATGCTTGCCAACGGATATTTAAAACATGTAACTGATTTGTTTTTTATAATGCTTCAGGAGAACTCAGTTGAGCAGTAAAGATGTGCTCGTGATGTGGTTAGCTCAGAATAAGGATGTGAAAACCAAAAGGGAAAGGAGGACAGGAGTGAATCTGGCACTTATCTTTCAGTGGGGCCTGAGTGCAAATTCTTCCTACCTTCCATATGAGAGAATAGGGAAAATTAAAGAATAAATGTCTCTGGGTTTAATGCAACTTTACTAAGGAATGAAAGTCCGATAAGAATCCATATCTTTTGAAAGAAGATTTTTTAAATTCCTTATTTTTCCTTTCTGCATGGTCATAAAACACACTGGGGACAGCCCACCCTGAGAAGTCACCAGGCATCTGCCTGCCTTCAGTAGCAATCACCCAACTGCTGTAGACCGTAATCAAGCTTTCAAGAACCACGTGCAGCACGCTGCGGGAGAGTCCCAGCGAAGTGCTTAATGCGCCACTCCACGGATGTGAGTGGGGAGCAAGTGCTCAAAATGGGGCTTCTGAATTGCAATCATCATTTGGCATCTCTATTACCTACAGCTGCTCAAAGATGTTCCCCCCATGCAACTGTTTCTTGCAACTCCTAACATTTGCAACGAGGCCTCTGATGCAGACAACCCGTTTATACCTCTGGGTGGTTGAAACCTTCATGGTTTGTTGTAAAGAAAGGTACACAGTCCCACCAATCAGACCGTATCTAGAATATTACGTTCATTTAGGGGTGGCGCATAGACAGGCTAAAGGATGGCAAAGTCATTGGGTCATGTCCTAGGAGCAACCCTTAAAGGAAGAGTGAATGGCTGGTTAGTTGGTAGAAGAAAAGATTTATGTAAATTAGTTCTCTCAGTAGCTATCTAGGAGAGAGATAATCCTAGCTTTCTTCAAGGGACAGAACCAGGACCAATGGACAAAATCTGCAAGGAGGCAGCATTTAACTGATTAGAATTGTCGGGGGTGGGGTTGGCGAGAGGGTGTTGCTTTTCTAATGATTCACATTGTATAAAAAGCAGACAGTAGGTCTGGCACTGTTGGCTCATGCCTGTAATCCCAGTACTTTGGGAGGCCAAGGCAGGTGAATCATGAGGTCAAGGGTTCAAGACCAGCCTGGCCAACATGGTGAAACCCCTTCTCTACTAAAAATACAAAAAATTAGTTGGGCGTACTGGCAGGCGCCTATAATCCCAGCTACTCGGGAGGCTGAGGCAGGAGAATTGCTTGAACCCAGGAGGCGGAGGTTGCAGCGAGCTGAGATTGCGCCACTGCACTCCAGCCCAGGCGATAGAGTGAGACTCTGTCTCTAAATACATAAATAAATAAAAGTAGAGAGTAAGTTTTCTGTATTGAAAATGTTTTAAGAGTTCTTTGTCTTACCTTAGGTTCCTCCAAAAACAGAACCAGAGAAAAAGACATATTTATGCATAATTTGGGATGTGATTACAAAGAGAGGGATGGGGAATTCAGGAAGGAAGGAGAGGCAATATAAAAATGTGTTTTTTAGTTAGTCATTACTAGAGGCAACTAGTGCTCAACTCCAGGCACTTTAGGAAATGCATCTCATAGCTGTCTGCCTGCGGAATAAAGGGCATTTATCCACCGGCTTCTGACCCCGTTGGACAAGGGCGTCCCATAAGTTTTGATGTCCCAGAATTTTGGGTTTGCACATGTGCAAGTGCCAAGCAGGTTCTTGTAGGCATCCCATGCTGCAGAGTCAGAGAATCTCTAGGATGGAAATGGGGGGATCCATATTGTAGCCCCAGGTGAGGCCATCTGGTTGCATTTGTGTCAAGTTGGTTGAAAACTGCATGGTGAGCGTAAAAATGGTTTGAGTAAAATGGAGCTGTGAGAATTTGAAGGGGTGCATGAGAGGTGCCCGATACAGTCCACCCCCTGCACCATGCTCAGGTCTCTTAAGAGTAAGCAGAATCTACCACAGTGTATCCTTAAAGTTAAAAGGCTCTCTGATGGGACTATAAATGAGTCCCAGTTTGATGAATTCTGGGGCTTTAGCCTTTTCTGCTGTGGTATTAGTTTTCTGGGGCTGCTGTAGCAAAGTACCATAAACTGGGTGGCTTGGGACAACAGAAATTTATTGTTTCCAAGTTCTAGAGGCTAGAAGTCTGAAATCAAGGTGTTGGTAGGGCCATACTCCCTTTAAAATGTGTAGGGAAGGACCCTTCCTTGCCTCTTTCAGCTTCTGGTAGCCCTAGATGTTCATTGGCCTGTGGCAGGGTAATTCCAGTCTCTGCCTCCATCTGCACAAGCCATTCTCCCTGTATCTTTTCACATCATCTTCCCTCTATTACTGTTTGTCTCTGTTTTCTGATCTCCTCTTCTTCTAAGGGTGACAGTTTTACTGGGTGAGAGCCCACCTTAATGCCCTCAGTTTAACTCGATGACCTCTGCAAAGGCCCTGTTTCCAAGTAAGGTGACATTCTGAGGTACTGGGCTTAGGACTTCAACATATCTTTTTGGGGGGACACAATTAGACCAATAGCAACTGTGCTATAAAAGAGATGTTGCTTTTTATCATTGATGCTATCCAGATGCATAGCAATCATTCAACAAGTCATTCGAAAGAAATAGGTATTTCCTGAGGGTCTAGTATGTAACTCAGCTCTGCTCTAGGACCTGGTGATTACAGCAGTGAACAAAGTGCTCCTGCCTACGTGCAGCTTACTTTCTTATGGAGCATGATTTTCAGAAGTAATTGTTCTTTTGCCTCGTTATCATCAGACATTAGGAACCAAGGGGGGATTGCCTGCTTTTGGATCACAGAGCAAGCTGCCTTGAGCAAGTGAGTTCGAATTGCAAAGGTGTTTAAGCATAGCTTGGTGGCTGCTTAGTGAGGATGTTGCAGAGGCAATTTAAATGCCGAGCAGGGCTTTGGGTTTGTGATGGTTAAAGTCCATTTCCACTGCGGAGATGGTATGATTGTACAAATGGACAGGTTCTGGGCCTCTGTCTGTTTTGTCAAGTATACAACACTTCTGTTTATCTTTAAAGGGAACAAATAGTGTTTTCACAGGTCTCTGCTTAAATAAAAAGATTCTAGACCACTGGATGTCAACCCCACCATCCCCCTTCTTTTTTTTTTTTTTTTTTTGCATCCTGTACTCCTTTGAGAATATAGTGGAACCTCTGGCCCATTCTACAAGGGAAAAATAAATGTATTCCTAGCCAGGCATTTGTGTACAATTTTGTAGGGGAGGAAAGGATTGTTCATAGACACTGAATTAAGAAATCCCTACACTTTATGGGAATTGTAATCATTAGTAGCAGTTACGTAGACATACTTCCATTAAATACACATACTTGCTTTAGAGAGTGTGTTTATTCATAAAAATTCATTGAATAGGATTAGGAATAAAAATATGCATAGAAATATTTGTTACTTTTTCATTGTAATGGTTTTTTTTGGATAGAAATTTATCAGTGTGTAATTAATAAAGTAGTATTGATTTCAGAATTATACGGTGCTAAACAATGGAAATTTCCTAAATAACTGGCAGGTAATGGAAAAAAAATTCAGTTACTGACAGCCTGTCATAGTTGAATCTAAGAGCTAGGGGCAAAATACATATATTCTATGTAGTTTCCATTTCTAGACCCTGGATTTCTAAATTCTTCCTTATAAAATTTTAAATTTCTTTTTTTTTTTTTTTAAAGATGGTGCTCCCTAACTGATTTCCTTCATTTTATTATCTCATAACAGATTTGATTTTCACAATGAAGGTAATTATTAAAATGCTTCCTTTGGTAGTCAATAAATATAATTAGTTTAAGAAAACTAGAAATATTTGTTATTAGAATTAGGTGAACATCTAAGAGTCTTATTTATGGAAGCAACATGGTCAATATTTATGGAATTGAGTTGAGGCTTTGCAACACTTTCAACAGCTTTTTAAAAAGCAAAATAGTTACTGCCTCTGTGGAAATAGAAATTACCCACCTATTATGTAATGAAAAACTAATGTTGGTTTACTTAAAACAAAACTGTGTAGCAGTGTGTTATAGCCACAGGAACTCCTCAGCCAAATGTTAAGTTAATGCAATGAAAACATTTGTAAAAACATTATCAAGCTGCAAAAGAACTAGAAATGCTAGATACTCCCTAGTAGCTGGGTGTTCAAAAACACTTGTCATTCTCACAGTTATATTTGTGGTATCTTAGTGGTCATTCACCTTGGATGTGATTCCTCAAGTATGCCAGAAAAGCATCGTCTTGTGCAAGTGTTGTATTTAGGAAGAACTTTGTGTGAAATCATGATTGTGGGTGAATAACTTTAAATAAATAAATCGTTTTCCTTGATATACAATATTGTGCTACTTTCCACAGAAAGATGGAATCAATGCTCTTGACTGTAATGGAGGTTTACAGTTTTTCTAATTTCTTATTTAGGCTGATCTGAGCAAAGATGTTCAAATTTCCACTTATTTAAACAAGATAGAGTTTTTGCTATGTTGAAGGAATATTTTTAGCTTAGTAATTTACTTAGAAACTGCCTTATTCAATATTCGATGTTAAATTTGAACTAAAACACATAGCATCATATGACATGGAGTCTTACATTCACATTTTGTTGGACTGGAAACAGAATCAACATATTAGTCATCTTAATTCATTTAAGTTGGCTTTCTCCAGAATTCTAGAATCCAAAAACAACACATTTGTCAGTTTTACACACAAAAGGAGAGGCAGGATGTAGTTTATAGTTAAACATCCAGCTTTGCAATGAAAAGCCAATGTAGCTATAGCACACTGAATGAAATTCTGGGTGAAACAAACTGTGTAATAAGATTTTGATGCATATTGAATACTTAGAAAATTTGTTTTATATTTGTTTTAATGAGATTCTCTTTATATCTGCTTTCATAGAAACTTGTAAATTGTCTAAAATTAAATTTTCTGTGGTTGTCATCCACATGGGTTCTGAACTTGCTGTTATAATTATTCACATTTTCTTGCAGTGAAAATCTACAGATCAAGGTCATCTTCACGTCTTTAGTTCTTGTTTTGCTTCAGGTCAGTTTAGAACCGAATGTTAAAAGGATATTGTCTATTCGAAGGGTCAGATTGTGGCACGTGGACCAAATCCAGCCCCCCGAGGCCCACTTTTGTAAATCAGGTTTTATTGGAACACGGGTGCTCATCGTTTACATATCGCCCATGGCTGCTTTCACATCATAACAGCAGAATTGAGTAGCTGTGAGACCCTATGGCCAGCAAAGCCCAAGATATTTACTGCATTTATTTACTGTATTTATGTTTATTCTCTTGCCCTTTACAGAAAAAGTTTGGCAACCCCTGGTTTATTCTGTTAACATGTTTCCTATATAAGGATTCCTCTAATAAGTTTTCAGAATTATTAAGAAAACAAAGCTCATTCCTCTAAAAGAATTGGTATGTTTTTTTTTTTTTTTTTTTGGTGGTGGTTGTTTAATGAGGAGGACATTATAAAGTATTATATTTCGTTTCCTTACCTTGGTTGCCAGGAAGCTCAGAACTTTAAACATTAAAATGTTTAAGTAACCAGCTCACTTCACGTTTCGGATCAGCTTTCTTTTTCTTAACACGGGGATACATTTTCACTTTAAAAAAAAATCAACTTTTTGAAGCATAATTTACATGTTGTAAAACCCATACATTTAAATCATACACATGAAGGTCTTGACAAGTGTGTACACACACATAAACCACCACCCCAGTCAAGATAATAGAATATTCACATCTGTAAGAAATTTTCCACCTGCCCCTTGGCTCAGGCAATTTGTCAGTCTTACTACTGATTATTGCGTTATTTTAAAACCCTGGGTTGTATGCAATTGTCTATTACAAGCTGTTTTAAATAGTTTTCGGTAGTGGCTGGGGCACTAATGATTAATAGTTGAATAGCACAGCTGGAGAAGTTAAGATTCATTTATTCTATTTAGTCTTCAGTACAAATTTTTAGGTTTCCATGGGAGAATCTGAGATACAGCTCACATGGAGAGCCTTTTAGCTAATGTAGCAATAATTAATAAGCTGGATAGCCTGATAGCCTGATGTTTTATTAGGGTGGTGCAAACGTGGTTTTTGCCATTACTATATATATATATATATACACATATATATATATACACACATATATATATATATATATACACACACACACACATATATATATATATATATATATATTTTTTTTTTTTTTTGGAGATGGAGTTTTACTCTGTCGCCCAGGCTGGAGTACAGTGGCGCGATCTGAGCTCACTGCAACCTCTGCCTCCCAGGTTCAAGCAATTCTCCTGCCTCAGCCTCCCAATAGCTGGGATTACAGGTGCACGCTACCATGCCCGGCTGATTTTTGTATTTTTAGTAGAGGTGGGGTTTTGCTGTATTGGCCAGGCCAGTCTCAAACTCCTGACCTCAAGAAATCCGCCCACCTTGGCCTACCAAAGTGCTGGGATTACAGGCGTGAGCCACCGTGCCTGGCCTGCCGTTACTTTTAATGGCAAAGATAATTCTTTTAATAATTAAAATTTGAAATAATTCTTTTAATAAGAATTTGCTGCTTGCCAAGAGCTCTGCAGTTATTTTATTCAATTTTCCTAACAGCTCTTAAGAGTACATCTTATTATTCCCCTTTCACAGATGAGGAAATTGAGGTTCACAGAAGTTAAGTCTATTAGTTTGCTAGAGCTGCTGTAACAAAGCACCACAAATTGGGTAGCTTAAACAACAAAATTTATTGTCTCATAGTTCTGTAGGCCAGAAGGTTGAAGTCAAGGTGTTGGCAGGGTTGGTTCCTTCTGAGGACTGGGAGGAGATACCTGTTACAGGCCTCTCTCCTTGGCTTGTAGATGAGTGTATTAGGGTTCTCTAGAGGGGCAGAATAGGATAGGTGCATTAATATTTATGAAGGGGAGTTTATTAAGGAGTATTGACTCCCACAATCACAAGCTGAGGGACAAGGAAGCCAGTTTGAGTCCTCAAACCTCAAAAATAGAGAAGCCGATAGTGTAGCCTTCAGGCTGTGGTCAAAGGCCCCAAGAGCCCCTGGCAAACCACTGGTGTAAGTCCAAGAGTCCAAAAGCTGAAGAACTTGGAGTCCGATGTTCCAGGGCAGGAAGGATCCAGCATGGGAGAAAGATAAAGGCCGGAAGACTCAGCAAGTGTGTTGTTCCATCTTCTCCTGCCTGCTTTTCTCTTGGCTCGCTGGCAGCTGATTAGATGGTACCAACCCAAATTGAGGGTGGGTCTGTCTCTCTTCATCCGCTGACTTAAATGTTAACCTCCTTTGGAAACACCCGCACAGACACACCCAGGAACAGCACCTTGCATCCTTCAATCCAATCACATTGACACTCAATATTAACCATCTCAGTAGGCTTCTTCGTGTTCACATAGTCTCCTCACCGTGTGCTGTGTCCAGATTTCCCCTTTTCATAAGGACACCAGTCCTATTGGATTAGGGCTCCCCCATTATGACCTCATTTATCCTTAATTATGACCATAAAGGCCCCATCTCCAGATGCAGTCATGTTGGGGGTTAGGGCTTCAGTGTATGAGTTTGGGATGGCAGGGGAGCAGTTCAGCTCGTGAGAATCGTAAGATTCCTGATCTGTTTCTCTTCCAAGAAATTGTTTGGTTTCATGTTGATTTTATCTCCTTTTCCCTATCTGTCTCAAAGCACTGAAGAAAATCAAGTCCCCCTTGCCCTGATAAGGACTTTAAAATGGTGTTTGCTAAAATGGTGTGTGCTTAGGGGCAGCTTTGAGCCAGATAACAATTCTAGTTGCGCATGCTTCCATAAGCTGTTTACTCTAGGAAGGAGAATCTCTGTTGGGATCTTTTGGGGAGTACTTGCCTCCCAAGTGCTTAGGCTCCCGCTGCTGACAAGACCCTCTGCCTGGCAAGCCGTGCAGGTTGGAATCCTCTGTTAGGGTTCCAAAGCCTTCACCAACTCAGAGCTCTTTCTCTCTCTGTTTCTCTTTTTTGAATTTAAATTGATCCTAGTCACAATGTTCACATTACCTATGTTGGGGATCCTACCAAGACCCTCTTTTTGGCCCAGAAGCAGCAGCGGGGTGAGGGGAATGAAACAAAAATTTATAGCTGTCGAGTCTCCAGAAGTCATGTAAAATCAGCCTCAGCTGGAAGCTCCTCCGTGCATCCCTCACATTCACACAAGCAGGTGCCTGATCACAGCTGATGGTTAGATTACACGTTTCCTGAGAGGTATAGATTTCAAAATTGGTGTATTTCACCCGTCCCTCATCATGGTATCCCCAAACAAAATGTTATCAAATGAAGAACTCCTTCCCAGCTCTCCCTTCTGAGTGTCTGATTTTATTCAAGCTCAGATGGCTTCTCAGATAGCGTAAAAAGTGATGGAGAATTTCTTTTACCAATTGTATGCCCTGTGGGAACCTGGGTGCTGTAATCACTGAATATGTTATAACCAAAAAGGTCAAACTCGCAATGATTCGGTGTGTTTTGTTCCGTGCATCCTGGCATGTGAAAGAAGTGAGGTAAAGAGTATAATTTACTTCCTTGTTTTAAAGCTAGCATTGCCCGTGCCTTCCACGCGGGACTGTTGTGGATATTTGACCACTGCAAGAAAACTCACAGAAGCAGAAACTTAGGGCTTGCTTTAAATGTTATCAGTGTGAATTGAGATGGTGTCAGCATTATTTTTTTAAAGACCAAAACAACAATAGTAACAAACACACACAAGCCACTGTTAGATTTTACAAAACTTTAAAAAGTAATTATCTTAAAGATATCTAAGATAGTGATCTGGTTACATAGATTATCAGAGATACTTTTTTTTTTGATTATCAGAGATACTTTTAAAAAAGCAACTACAAGGTAAGGATTATCCTTTAATTTAGTGTTTTTCTATTAAACTCAATTTGCTTTAAAGTTTTTTACATTTTGCCTCTTTTTTGTATGTTTGAGTACCACTTCCTAACCAATCACAATAAATGTCCGGTTTGGAGTTGGAGGAGTCATTGATTTTAGGCAAGGTGATGGTGAGCCCACAGAGCACAGAGTTAATGGAACTCTGGCCGTTGATGTAGCTTCGAAGCCTGAATTTAAGTCATATTTTTGAAAAGTTGCGTCTTAAAAAGTTACTAGCGATGGAGAATGAAAAGTCAATTTGGACACTTTAAAAGTGAGCCTCAAAAAACTGCTGAATTTTCCCAACATTGTGTTTTGAGCACTTCCACGTGACTTTGGTAGCATAAAGACTTTAGTCTTTTCAAGAGGCAAAGTAATATACCACTTTTCGCTTTTTTAATGGTGAGAGCCAAGGTCAATCTGAATTTTTCTTTTTCTTTCTTCCTTTTTTTTTTTTTTTTTTTTTAAAAAAAAAAAAGGTGCTTGAATTAGAAAGGTAGCACATTGTCCACATGGACAGTGCAGGATGGGGCTGGCTTTTTCATTTCTGAGAGCTGGCAATGGAATGAAGGTCTTTTTTTTTTTTTCTTAATTTTTCTTTTTTAAACAATTCCCTCCTAAGCATTTCTTAATTGACAGGGGTGGAAACTATGTTGCCAAGAGGGATCACAGCCCTTTTGGTCATTAAGAAAGTCAAGGAACGGGGTCTCTTTGGATGAGTGTGTGCGTGTAGAATCCTGGTGGCTGGCCTGCTTGCTCTAAATCATAAAGAACCCTGTCTCGAGCAGACGAGAAAGAGTAACGGAGGCCTCAATGGTGAAAGGAAATCCTGTACCAGCTGTGAAAACAATGAGACACGTTCAGTAATAGAATATAGTGTGCTTACAAATTCAGAGTTGGGTTCCCTTCTTCTCTTGAAGTGGCTATAAATTAATTCATCAAAATAAAAAAGGCCAAACTTCAGGATAAATCTTTCTACTTCTAAACAACCAGAAACACTTTGGTTGTCTTAGTAGATAGGAGTGTGAGTACAGAATTATACGAAGTGAGACCATGGGTGTGTGTGTGCACGTGTGTGCGCATGCCTGTGTGTGTCATTGGTTAGTTAACAAAAGGATTGCCCTCTGAAGAACATGAACTTGGGCCAGACAGCACGTGTAGGGGGTGGAATTATGGAGCAATTGTTACTTTCTTGTATTAAGAAGAAAGGGAGCAAAAGAGCTGTGTCTTCTTGAGAACCTTTAAAAGACACAGAGGTCTCTGCCTCTAAAAAGCTCCATTACATTTTTTTTTTTAACAGGAGGCCTAAATTTTTTATGTTTTATTTTGTGCTGTTTTATTTTTCTTCCTAAGGTTCTCAGACAAGTTTATAAAAGTGCCATGTTGGCTGGGCAGAGTGGCTCACGCCTGTAATCCCAGCACTTTGGGAGACCAGGGTGGGTAGATCACGAGGTCAGGAGATCGAGACCATCCTGGCTAACACGGTGAAACCCCGTCTCTACTAAAAATAACACAAAATTAGCTGGGCATGGTGGCGGGCGCCTGTAGTCCCAGCTACTCGGGAGGCTGAGGCAGGAGAATGGCGTGAACCTGGGAGGCGGAGCTTGCAGTGAGCCGAGATTGCGCCACTGCACTCCAGCCTGGGCGACAGAGCAAGACTCCGTCTCAAAAAAAAAAAAAAAAAAAAAAAAAAAAGTGCCATGTATATTTTGATTACAAAAAATTTCATGCGGTGTTACTTTCTTTTTATTGGTAGAGGGTCTTTATGTTTTATTTTTTTGAGACAGAATCTGCTCCATCACTCAGGCTGGAGGGCAGTGGCAGGATCGTAGCTCACTGTAACCTCGAATTCCTAAGCTCAAGTGATCCTCCTGCCTTGGCCTCCTAAAGTGCTGGGATTATACTTTGAGCCACTGTGCCTGGCTGGCCTTTGTGTTGGACGTTAATACAGTTGGTTCTTTAAAGTTTGACAGTGAAGACTTTTGGAAATTAAAGAAAAAAAATTGAGTATAACTTGTAACGGTCATGGTGTAAAGATCATTTTTTACTGGTTGGAAGTATAGAAGTGGGGTTAAATTAAGTCTATAATTGTAAACTATTGATGTTGGAAGAACATAGAGAGAAACTTATTCCTGTGGACTGGTGATCCCATCTCACAGCCCTTACAGATAAATGTTTGTAAAAGCAAAGGACAGTGTTAATTCTGAGCCCCAAGATGAAATATCAAGTAAAAGAGAAGAACATTTGCCAATGCATCACTGTCTGGGAATGGATTCCATACAGCAGGTAGGTTTATGTAATACAGTAGCTGAAGAGACCTCAATTCTGTGCCTTGATGGGATTACACCGAAGGGAGCACTGGTAGGCTGTTGATGAAACAGGTGGTATTTGGACCACTTCTCCCTCTTTCCGGACAGCTGCTTAGTAGGTTTAGCTTAAATTATACACATGCCAAGCATGTACACATATGAGAAGCCTATATCTCGTAATATCCACAGAGAATAGATGGCAAATCCCATGATTTGTATTTGACTGACAGTCAAGACCCTGTGGGGTGTGAGCCTGGTGGGGGCATTCCAGGCTGGTTTCTCCTGCCTCCAGGAGCTGCTTCTAGTGTGTGCTCTTAACCCTAAAGGAAGGAAACACTGTGTCTTCCTCTTCTCTCATACAGAGCCCTTCCCATGACAAATGTGTGGAGTGTTCCCTCCTTTTACGTAATTCTCCAATTTTCTGGACCCCAGCTTGGTGTCCTACAATTCAGTTTTGACACTAACGACCCAGAGTCAGCACAGACCCCATGGTTGAGGGCTCAGTCCTACAGGATCATCCCCTACTTCAAATGCCAGTAGCAAGTTCAAGATTGTCAAGTGCACTTCTGACTCACTGGCTACAAATTGGGGTTCCCACGACCATCTCCTCAGGCTTGATAATTTGCTATAATGGCTCATAAAACTCAGGGAAATATTTACTTATGTTTACCTGTTTATGATAAAGGATATTACAAAGAGTACAGATGAAGCGGTACATAGGGCCAGGCATGCGGAGGGGATGTGGAGCTTCCATACCCCCTCCCGGCATGCCCCTCTCCAGGCACCACATGCTCAGCAATCTGGAAGCTCTCCAAACCCTATCGTTTAGGTTTTTGTTGTTGTTGTTTTGAGATAGGGTCTCGCTCTGTTGCCCAGGCTGCAGTGCAGTGGTGCAATTATGCAATCATGGCTCATTACAGCCAGGACCTCCCAGGCTAAAGCCATCCTCCTGCCTCAGCTTCCTGAGTAGCTGGGACTACAGTTGCACACCACCATGCCTGGCTAAGTTTTTTTGTTTTGTTTATTAGAGACGAGGTCTCAATATGTCACCCAGGCTGGTCTTGAACTCCTCAGCTCAAGCAATCCTCCTGCCTCGGCCTCCCAAAGTGCTGAGATTACAGGTGTGAGCCACTGTGCCTCTCCATTTAGGATTCTTAGAGAGGTTTTGTTACCCTAGGCATGATTACTTAAATCATTGGCCATTGGTGATTAAGTCAATCTCCAGCCCCTCCTCTTCCCCCAAGGCGGGGAATGTGGGGGTTATCAATTATTCACAACTCTCTAATTGTGAATAATAAAAGACTCTCCCCTCACCCACATTGCTCAGAAAATTTCAAAGGTTTTTGTTTTTTTAGACAGGGTCTCGCTCTGTCACCCACCCAGGCTGGAGTGTAGTGGTGCAGTCATAGCTCACTGCAGCCTCCAACTTCTGGGCTCAAGTGATCCTCCCACCTCAGCCTCTTGAGTAACTGGGACTGCAGGTGCATGGCACTGTGCTCCACAATTTTTTTTTTTTTTTTAGAGATGGGATCTCACTGTGTTGTCCAGGCTGGTCTCAAACCCTTGGGTTTAAGTGATCCTCTTGCCTCAGCTTCCCAATGTGCTAGGATTACAGGCATGAGACCCCATGCCTGGCCAATTTCAAGGATTTTAGGAGCTCTGTGCCAGGAACCTGGATGAAGACCCAGTATGTATTTCTTATTATATCACAATATCACAAATCCACAGTCACATGGTGATTGTGGTAGTGTGGGGGGCCTGATGGTGGGGTACACCTGCTTGAAGTCAGGCTACCATGCCCATTGGGGTCCTCCCCCTTTTTTGCCCTCTGATCTTGTGAGTTCCTTAACATTGGGGATCAGTGGTTTTTCTCTTACATGAAATGACAATGACACTTTATAGGGTTTCTGTAGAGAATACCTTAGAATTAGTTAATGTGTTTCATAAAGCACATGGCGTGGTACCCAGCCAAGAGTAACACTCTGAAGTGCTCCTCCTTACCTGGACATTACAGCATCCTTTGTATAAATCAGGATGCTCAGGAAATACCTTGTTTGGAATAGGAATAGGCTCCTCCCTTTTTTTCTCACTTGCCTTGATTGCTCTGTATTAAAATTCATAAAGGCCCATGAATTATCAATTAGATAGCATTTGGTTTGTTATTTTTAGTTTCTTCCTATAGCAGGCATGTATGCATGTGTTAAAAATGGAAGTAGCGTCGACATTATGAAATGCACAAGAAGTTTTCCTGCCCCCAACCGGTAACTCTCTCCTGCAGTAATCAATGTTGGCACCTGTTTAACCACTTTTGTGTCTTACGTGCACGCTGTTCGGTACTTTGACTTTTTTTCTTAATATTATAACATGGAGGCCAGGCGCGGTGGCTCACGCCTGTAATCCCAGCACTTTGGGAGGCCGAGGCGGGCAGATCACGAGGTCAGGAGATGGAGACCGTCCTGGCTAACACGGTGAAACCCCGTCTCTACTAAAAATACAAAAAATTAGCCGGGTGTGGTGGCGGGCGCCTGTAGTCCCAGCTACTCGGGAGGCTGAGGCAGGAGAGTGGCGTGAACCCGGGAGGCGGAGCTTGAAGTGAGCCGAGATCGCGCCACTGCACTCCAGCCTGGGCGACAGAGCGAGACTCCGTCTCAAGAGAAAAAAAAAAAAAATTATAACATGGAAATGTTTCCTTGCATCTCCGTATCATTTCTCCTCATTCTTTTTAGGTGTAACACAGTATTTTGTCCTATTCATGCAATATAATTTATATAACCTAATTGATAAAACATTTTGGTTGATTGCAGTCTGTCGTAGATAATGCCGTACTGAATATTCCTCCCACATATTTGCAAGTCTATTTGTAGGATAAATTTCTGGTTGTGGCTGGGTCAAAGAGCATGTCCACTTCAAATTTGATAGCTATGTCCCAACTGCCCCCAAATATGTTAAGCCATTTCCTATCCCCCATCCCTCATTAATCTATGAAGTTGCCTGGTTGCCCCACATCTTTACCGACAGGACTGCCGCTCAATGTAGTTACCCTTGTAGAATCTGTCTGCATGTGCCTGTCTAGGACCATGTTAATTGTAATCTTTGGGCATTTTTCTCACTCATTCCTAACCAGGACTGTCACTGGCAGGTTAAATGAGAACTTATTCACCCAGCACAGTGGCAGCACTAGTAGCCAGCCTGGGGTCAGTCTTGCCTCTCGAGAGATCTCATGCAGTCAACTGGGATTTATTGTACAGCTTTACAAAACATTACGGCCTCAGCCTTGTACTGCCCAAAGCATGCAGATGCCGCCTGGTGTATTTTAAAGATATTCCACATGAACTGACCCGTTTCCCACTTCTTGAGTTGGTATGTTTTTTGATTAATATATTTGAGATGTATTTATGTTATTAGGGCTATTTAGGAAGCTCTGTAGGGATTTGTTGCTTGCTGTATATAACACATACTTTTAAAAAGCAGGGCTGGCTATGACTTATTTTTCTCTAGAGAGACCTGTGTAGTTTTGTAAGTTCTTAAGATTTGGCAGCTGTGGATCGTGTTTAGTAAGCACGATCTCTAACTCTTTGGAACTCAGAACTATGTAATTGAAATGGCCTGGGAGGCAAATGTGATCATTCAGGTAATCAAAGTAACTACAGAAACAGAGGTATGGATTAGCTAGTCATTGCAGATGTGGCATTGAGCATATAGGCGTGGTGTACTTCTTAGAACTTCATCTGGAAATGCCTGTGGGGGAGTTGGATTTCAAGATCATCGTCAATGTCATGTCACTGTAATTTCATTTACATTAATCAGATTAGTTTGGAAAGTATGGTCTTCCTACTTTTAGGAGGATATAGGAGAAACTCATCCTTAAAGATAGTAGTCTGTTAATACAAAAACAGTCCCCACATTTGCATTGTCCCCAAATCTAACCCAAGCTGAAAGACATTAGGCCTATCTTCTTGCTTTATGCATAATGGCAGATCTCCAGGGAGGGAGAGGATGTGTGCTGGAAGATTCTACAACTTGTTGATTGGTTCCTAAAGATCGTTTTAGTGCTATGTTTGTGGGGCGGGGCTGGAGGGGGCTGGAAATCACCATCTCTGTGGCCTTTTAATTGTGCCCAGTTACAAGTAACATTTGTCCCCAGTGTTTCACAATTATAAATTAATAATAACCACCCATTAGAAATTACGGGTATTGTAAGCCCCAACTCCTTTGGGCGTCTTAATAAAAATGATAATTAAAACCATAATTTACAGTAAATGGGGACACTGCCCAAGTACATCCACAATATGGAGAAAATTAAAAAACTTAAACCAGAAGGAACCTTCCTGGCATCGGGGAAAGAAGCTGCCTTTTTCTTAGCTCCTACCTCTGTGGGAGCTTTGTCAGTATTTGAGGGGACAGGGTTCCCACCTTCATGTTTTTTGTGCCTGAGGATTCTGTGGGCGACTGTCCCCACCTGTCCAACCTACCAGTGAGTCTCATGGTGTGCGGCTGCCTGCTCCGATGCTCTCCACCACCATGCCCAAGCCATTTCTCCCTTTGTGTTCCCTGTCTGGGTAAACAACTTGCCAAGCTCACCAGTGGCCCACAGGGCACCTTGGACACCTAGACTTAGGCAGTCCCTGGCTTTGTAGATTTTTTTTGCTTCCTACATGATTTTCTAATTTATACCTTGAGCTGCTCGGGATAAGAGGGCACCTCGTCCATTTCTGGCTGGTCACAAGGCCACAGTATCTTGAGCGAGTCCATTGTGACCACTGGAGGTACTGTAAATGGATAAAATAATAATATGAATAATAACTCATAGTGTTTACTCCCTGCCTAAATCCACAGGCTCCCGCTGCCTACAGAGGAGTCCCACAGTTTTCGCTTGCTTCATGGAGCTTCATCTCTGTTGTATTCATGTGATTTATTTACACAGAGTTGCTCCCCAATCCTTGATCTTTTTTTTTTTTTTTTTTTTTTTTTGCCAAGCACCCTGCCTTTTTGCTTGTCTGTTTCGTCTTTATCTCTCCTTCCAGTAAAGTTCTTGGCCCAGAGGTTCTGCTGCCACTCAGTGACATTTGTGAAATGCAAGGGAGCTTGCACCATGGGTTCAAGCTCCTGCAGATCCCTGAGCCTGCTACCCTTGTGCTTCTCTGTCCACGCAAAGCCAAGTGCTACTGCGGGGTTTTCCAAGGCATAGCTAGCATCCTAATAGTCTCACACTTGACATAGTAGGGTTTGACATGGTTTAAATAAAATCTCAACCAGATCAGTGGGAGATGTTCTTTGAGATTCGGTGATTGAGTTGTGAACGTATGGACTGAGGGTGTTTTGTGGTAAGGCTTGAGTCATGTCTGTAGCAAGGATGTTTCCTGAATAATGTGCACTGAGCATCAAGTGCCTGCAGTGGCCTGGCGGGTAATGCCAGCAGCACGGGTGATGATCATGGTCAACATGACCAACTAGAAAGCCCAAACCCCACCTCTAGCTGACAGTGGCTTCTCAGCTAACCTGTCACCACGTGGGATTGGGCCCCCAGTGGTGTAAGCTTTTTCAGAGAAGCTACACATCTAGCTTTTGGACCTGTGATCTCCCCAATGTTTTAATGCTGGCAACTAATTCAAATTAGGAAGGAAGGAAGGAAGAGAGGTTGGAAGGGAGAGAGAGAAAGAAGGAGCAAAGGAGAAAAGAAAGGAGAGAAGGAGGAAGGGAGGGAGGAAGGAAGGAAAGAAAAGGAAGGAAGGGAAAGGGAAGGAAGGAAGGGAAGGGAAGAAAGTATGGGCCACACAAAACAGGTCTGTGGGCTTGACTTGTCCTCTGATCATCAGTTTGTGACCTCTGTTCTAAAGAGTGAAAACTATGTAAGATAGTATAAGATAAGTAGGTATTTAAATTACTTTGCACCTTTTCCATTTCATAGAACTTGAATGTTTGTGTTCAAAGCTTAAAACCCAAGACAGTGAGCTATTAAGCCTCCATGGCCACGTCATTTTTCTGATTGCATCTGATGTAACAAGTGCTAGAAAAACTGATGCTGTTCATTGCTTTAAAACGTCTTTCTTTATTTTCTTGGTATTATTAGGTTTACATATTCTTCCGAACACACTCTTGCCATCTCCATGCAGTTAAGCTAGTTCAATTTAAACATTGTCATAAAGTTAATTTTTTATAAGATGAATCAGGTTATTAAATTTAGTAAACCATTGCCTTCATTATTTTGCACAAACTTTGGCACTGTGCAGAATAGGCTTAGCACTACTACATTTAGCTAATTAAACTGGCCGTCAGCTGCAGTATTACAAGAGTGAGGGATGTTATTCTCTTGGGTTTTATCCAGGACTTTAACAGTAGGTAGCATTATTAAGCTTTTTTTATATAAAACTCCACACTCTAGAGATATGGTTTACTATAAAAGTGTTATTGTCCTTCCTGTTAAACTATCATCTTTTGAAATAGCCACGCTTTGTTTCTGTTCCAAAGGCAATTGTAAAGGGTAAGAAAATGGAGTTGTCTATTGCAGCTTTTAAAAGTAGACTAGCAACGGGTAATGCATTGCTTAGATAAAGGAAGATGTAAGAACCAGAGTGTAATTTCACAAGACACAGAGACAGATGGCTTACCCGTAACTACAGTCAGGAATTCTCTAAAGGAGAGAGGGTGGAAGCTTGAGCCTGTAGCCTGTTGCTGCTGTCTTGTCAGATGTGCCCTTTCTGGTAATAAAAAGTCCTTTGCCGTGGGTTATTTTGTCAAGTGAGATAGCAGGACTTAACAGGTTTGTTTGGGAAAATAAAATTTGATAGAAAAACGGCGTGCTTTTCCCCCACAGATTTCTTGGTAGCATCATTCAAAACTACAGTGAGCAGTATCTTTGCAGGATTTTAATATTTATTCATTATTATAAAGGAAGGAAGAGGGCCATCGTGTTGCAGTTTGAAACAGCCTGGATTGTTTTAAAATAGTCCAGAGCTGCAGCCTATTAGCAGTCTGCAAGAACCATTTGTTTCTTCAGCAGATATTTATTGAATCCTACTGGGTGCTAGTCTGGCGAAATACGGAGATTGGAGGGTGTAAGGCTCAAGGAGCTTACCTGAGAAACTGGATAAATAAAGCTCTGTACTGGGTGTGGTGGCTCACGCCTGTAATCCCAGCACTTTGGGAGGTCGAGGTGGGTGGGTCATTTGAGGTTAGGAGTTCGAGAGCAGCCTGGCCAACATGGTGAAATCCCGTCTCTACTAAAAATACAAAAATTAGCTGGGTGTGGTGGCACGCGCCTGTAATCCCAGTTGCTGGGGAGACTGAGACACGAGAATCGCTTGAATCCCTGCGGTGGAGGTTCTAGTGAGCAGAGGTTGCAGATTGCACCGCTGCACTCCAGCCCGGGTGACAGAGTGAGACTCTGTCTCAGTCAGTCAATCAGTCAATCAATCAAGTTCTGGAACCTGCCTGGCCTTGTGTTATATCGATGCTTTCTCAATCTGTTAAAAACGTAGCTGCTATTGAATGACTAAGAATTGTTTACTCTCATTTCCACTCTCTTACATCTTTTTTTTTTCTTTTAATACCCTGTGATGAAACTGTGAAGAAAGATATTCCTGATCATTGCTTTGACCTGGAAATTTCAAAGGGACCCACAGTCCACCATTCCGTCCAAGATCTTCTGGGTGTGTGAAGTCCCGGGCTCCCAAATGCAGTTGTGTTTGGTCACTGTGTTGCTTGCATATGGCTGTTGGCATCTCATTAGCCTGATTGATGGGGCAGATCAGTCAGCAAGACTTTGTTCGGTGCCTGCCCCCAGCCAGCTGGGCTACAAAACCTGGCATTTTACTTCTCTCATTTTCCCCAAATGATCTAGGTGTCTTTTGCTCACTGGTGATAAGGGGTGACATTGGTATCACAGGTAAAAATGAGTAAATTTGAGATTATTGTCGTCTTGCTTTAAAGGTTGGAGATACAGCTTCAAAAACCTTTTACTACCCACACACCCAAGGGGAGTCAAATGGATTTAGGTGTTAAATACTTCAGGTTTGAAATCCTTTGTGCATTATTTCAGCATCTGATTTAAGTATCAGAGGTCATCTTTAGGTAATAAGTAAGTATTTTGGAATATGGGATTTGGCAAAATCTCAAGAAATAATTTCAGGTTGTCTCAGCAATGAGGTTAAATTGTGCTCCAGAGTCCATATTCAGACAAACGGAATGGTGGAGCCCGAGGTTGATTTCTTTGAATTCTGGTTGGTATTAAAGTCATTCAGCCCTCGGGTTACCATTGGTAGCACATCTAGGAGCAAGTTTTAATTTTTTAGTCATAGTGACTGTGCTGGATTTGGTAGGTCGTACGAATTGGGTAAGAGGCATAGGACACCAAGGATTTTGCAAAAAGCAGGCAACTAACATTTGTTTTCCACCTACTATGATTATGTTAGGCTCTCAATATATGTTTACCACTTATTCCCCATTTTACAGAAACGATAACTGAGTTTCACATGGGTTCAAGGCGTGACCTTAGATCCCACAGCTTGTACGTGCTTAGAACTGGCAGCAACACAAGTGTGTCCAACTTGAGTTTTCCTCTGTGCTATGCTGATTTTCCTTGAGAAGTATTCTGTATAAATAGACTGTTTTCTATGAAGATTAGGCCTGTGGGAGTGATATGAATGAATGAACTTTACTAGGCTCTTTCACATGGTGATGTCAGGAAGATAACGGTATGCTGATTTTGCGTGCATATTAACATTATCTTGTAAACAATAATTTATGGCCATTTGACATGGGTTTGGCTGAATTGCATAGCTGCCTTCTCTAGTAGAATTGACTACTTTGTTATTGTACTGTACTCTATAGGGTCTTCCACCACAGATTACAAAATATGGTATTTTTTAGTTTAGAGCAATGGGTTGGTGTTCAAGCTCTGGATTAGACTGCCTCTTCTTTTTCCTCCCTCCCTCCCCTCCCCTCCTCTCCTTTCCCCTTTTTTGAGATGACTTTAAAATATAGATTCATATTTTTTAAATATACAGAACTTTTTCAGTTTTCCATTTCTTCTTGTGGCAACTTTTTTTGTAGTGTTTTTCTAGGAATTTGTCTTTTTTACCTGTATTGTAAATTCATTGGTATAAAGTTGTTCACCATATCTTAAGATCTTCTTTGGGTTCATAGGATCTGTAGTCCTTTTCTTTATTTTTCATTTTTAAAAACAACTTTATTGAGGTATGATTGATGTACAAAAAGCCTTACGTATTTGATGTATAGAACTTGATAAGTTTGGAGATAAGTATATACCTGTGAAACCATTATATTTTATAAGTACATGATACAATATGAGCACAGTACTATATGGTAGATCTCTAGGGCTTTTCCATCTGGCGTACCTGAAACTTCATACCCTTTGGCTAATACCTCCTTGTTTCTCTCTCCCCTCAGCCCTTTGCCTACACCATTCTATTTTTTGCCTCTATGAGTTTGAGTGTCTTAGATTCCTCATATAAATTGTATCATGTAGTATTTGTCCTTCTGTGTCTGGCTTATTTCACTTAGCATAATGTCCTTCAGGTTCATCCATGTTGTTGCAAATAGCAGAATTTCCTTCATTCCTAAGGCTGAATAATATTCCATTGTGTGTGTTTGTGTGTGTGTGTGTTTGTGTGTGTGTCTTCCACATTTCCTTTATCCATTCATTCATCAGTAGAAATTTAGGCTGCTTCCATGTCTTGGCTAGTATGAATAATGCTGCAGTGAACATGAGAGGGCAGACATATTGTTGTGATCCTGATTTGAGTTCCTTTGGATATGTATCCAGAAGTAGGATTGCTGGATCATAATCCAGCAATTTTTAATTCTTGTTTCGTTTTTTGAGGAACCTCCATACTGTTTTTCATAATGGTTGCACCAATTTACATTCCACTAAGGAATGTAAGTTTCTCACGCATAAGGGGGCTCTTGTTTCCACACCCTGAACCACACTTGTTATCTTTCATTTTATGATGAGAACCACCTTAAGAGGTGTGAGGTGACATCTCACTGTGGTTTCAATTTGCATTTTCCTGAGAATTAGTGACAGTGAGCCCCTTTTCATACACTTGGCTATTTGTATGTTTTCTTTGGAGAATTGTCTATTTGGTTCCTTTGCTTGTTTTTAAAATCTGTGGTTTTTTTTTTTTTTTTTTTTTTTGCTATTGGGTTTTAGGAGTTCCTTATATATTTTGGATATGAACACTATCAGTTATGAGGTTTGCAAGTATTTTTTACTATTTTGTAGCTTGCCCTTTCAGTGTCTTGATTGTTTTCTTTAACGTGCAGAAGCTTTTTAGTTTTACGTAACCTCACTTGTCTAGTTTTGCTTTTGTTGCTTATGCTTTTATGTGGCATAATGTTGTCCTTTTATTCATCCCTGATATTGGTTGTTCAAGCCCTCTCTTTCTGTCTCTGTCTCTCTCTCTGTCATTCTTGCTAGCCCTTTATCAATTTTATTAGTTTTTTCAATTGACAGACTTTTAGCTTCTTTTTTTCTCTGTATTTTATGTTTGTTTTAGATTTATAAGTTTCTCCTTTCTCCTTTTATTTCCATCGTTCTGCTTTCTTTAGGCTTAATTTGCTGGGTTATTTTCCTAATGTAATGGATGCTTAGATCATCTTGGATGCTTAGATCATCATTTTTTCTTTCTTTCTTTTTTTTTGGAGCAAGATCTCACTCTGTCACCCAGGCTGGAGTGAAGTGGCATGATCATCCTCCTGAGTAGCTGGGACCACAGGTGTGCACCACCACGCCCAACTAATTTTTTGTAGAGATGGAATTTTGCCATGTTGCCCAGGCTGGTCTCGAACTCTTGGGCTCAAGCGATCCACCCGCCTCGGCCACCCCGATTCCTGGGATTACAGCCATGAGCCACTGTGCCTGGTCTTCTTTTTAATATATGTAGTTAAGGCTATAGATTTTCTTTTAACCATGGCTTTAGCTATACTCCTTAAGTTTGTATATGTGTTTGTAATTACCGAGTTTAAAATATTTCTAACTTTCATTGTAATTTTTTGAGCCATAATGTCTTATTTATTTATACATATATTTCCAGAAATGAGAATTTTCTGGGATCTTGTTATTGATTTGTAATTTAATTCCATTGCGGTCAAAGAGCATACTTTCTAATTTTAATCTTTTGAAATTCATTGAGACTTGCTTTTGCCCCTGCAAATCATCAGTTTTGGTAAGTATTCTTGAAGTACTTGAGTATATTTTGCTGTTGCTTTCAGTGTTTATCATATTCAATTATTTTCAGTTTATCAATTAAGTTGTTCAAGTCTTCTATATACTTTGTGTTTGTCTGCTTATTTTATCTGTTACTAAGAGGGATATGTTAAAATCTTCCATTATAATTGTGAATTTGTCTATTTATTGTCCTAATTCTGTCAATTTTTGACATATATGAGAGGCTCTATTATTAAGTACATATAAATTTAGAATTGTCATGTATTCTTGGTGGATTGAAATTTACCATTGTGAAATATTCAGCACTTTCTCTTGTAATGCTTCTTGCTTTAGAGTCTTTTTTTTCTGAAATTAGTACAGCTATATCAGATTTCTTTTGGCCCGTGTTATACAGTATACCTTTTCTATTCTTTTACTTTTTTTATGCTTATGTTTAAATAAGGTATAAAACATAATGTACATTCTTTTTTAAGGACAGTATATGTATATTTATGTTTTCTTCAGTCTGACAAACTTTTTCTTTTAATTGCCATCTTTAGGCCATTTATATTTAATGTAATGACAGATATATTTGAGTTTGGGTTTAAATATACCACCTTATTATTGGCTTCCTGTTAAGTTATTCTATATTCCTCTTTCCCTTATTTCTATCCTTTCTTTCTCTTTTTTCTTTTCCTTTTTCCTTTCTCTCTCTCTCTCTCTTTCTTTCTCTTTCCTTTCTTTCTTCCATTTAAATTGAGACAGGGCCTTGCTCTGTCACTCTGGCTGGAGTGCAGTGGCATAATCATAGCTGACTGTGCCCTTGAACTCTTGGACTCAGGCAATCCCTCGACATCAGCCTTCTGAGTAGCTGGGACTACCGGTACCTGCCACCACACCTGGCTATTTCTTTTTTAATTTTAATTTTTGTAGAGACAGAGTTTTGCTATGTTGCCCAAGCTGGTCACAAGTGATCCTCATGCTTTGGCCGCCCACGGTGCTAGAATTACAGGCCACTGTACCTAGTCATCTTCTCTCCTTTCTTGCCTTTTTATCATTCTGCTTTTCTTCTCCATTAGCTTTTTAAATTTGTAGAGATTTACATCTTGCATCTTTGACTTATTAAAATCTAATATAAATCAGTATTATATCACTTCCTGGAGAAGACAAGAACCTTAGGATACTTTGCTTCCATTACTCACCTCCTAGGTTAAGCATTGTTATTATTATTGATATAGTAATTTTTGCTATATATTTTAAAACTCACAGATTTCACTCTTACCATTTGGATCTTAACATGTCGTTACCCTTTATGTTGCTCTTTGTTACTTTCTGCATCTCTGGGTTTATAGCTAAGGTCATTTTCCTCCTGCCTGAAGAGCATCCTTTAGTGTTTCCTCTAGTGTGGGTCTATACGTGACACTAGGTGTAGTGTAGGTGACAAACAAAAAGCAGCTTTCGTTTGCTTAAAATTTTTGTTCTCTGCCTTTATTTTTCAAAAATATTTTCACTAGGTATAGAATTCTAAGATGAAAGTTTTATTTTTTTTCAGCTGTGGCTTCCATCATTTTCCTGAGAGGTATAACTATCAGTCTTGTAGCTACTGGTCTCTAACTACTTCTAAAACTATCTGCAGTTTTTAGCAGTTTTACTCTGATGTGCCTTGCTTTGACATGTATGTGTATATATGTGTATCTACACACACATACACACATACAGATACACACTCACATATATATTTCTGTTTGCGGCTCACACAGACATAAATATATATATATATACAAACGTACATTTCTGCTTGTAGCTTGCACATATATATATACACACACACACATACATGTAGACACACACATTTATACATATACATGTCAACACATACACATACATATTTCTGCTTATGGCTCAGGATACTTCTTTTTTTGGCCGTGTATGCGTCATTGATTTTGTAACATTATCAGCCATTCTGTCTTTAAATATTGCTTTTCTTAGTCTATTTCACTTGTTTTGGAACTCAGATTACATGTATGTGTAAGAGCCTGGGAGAATGTGTTTCATATGTCTCTTTTGTGCTTTGTTTTATTGTGTTATTTTTTTCTTTTTATGCTTCACTTTGGATTTTTTTGTTAACTTATTTTGTAGTTTCCTCAATCTTGTCGTCAGCTGTGTCTTGTATTCTGTTAAACTATATGCTGAATTCTTCTTTACTCTTATTACTCTTATTTTGTTTAAGTTTCAGAATATCTATTTGAATTTTTTTATTGTTTCTAATTCCCTGGCAAAATTCTCCATCTTGCCTTTTTGTTCCTTGAATTTGTCAGTCAGACTTATTTTAATCACTGTTTCTGAATAACTTGATTAGACAGATCTCCTGTGCATTTATTTCCATTTGTTCCCCTCTGGCTTTTGGTGAAGTTTTTTCTTTTTGTATGCTTAGCTATTTTGTTTGAATGTCTGAGAGTTTATATGAGTATTTGAAATAATCATAGTGGTAATTTGAGACTCTAGATAATGGTATCTTCCTCCAGAGAACATTTTCTCTTGCTTCTGGAAATTGGATAGATAGGGACTGATCACTTTAATCAAACTAGGAATTGAAATGGCCTGAAGCTGAGTTTCCACTCTTGTGAAGGCTGGACTGTCTCTTGTTATTACAGCGAGGGTATAACTCTTTAGGATCCCGACCCAAGGTTTGGTGTGTTTACCGTGGCCCTTTCCTGGTGGGTCCTGAGCTCAAATTTATGTCTTTTTCCTTGTTATAAAATTGCCAAAAGCTCAGCCCATCTTCTCAGGCTTCCAACCACTATGTTTGGAAATGAAATATGCCTTGAAGGAAAAAAGCTGCCAAATGCTGGCCTTGCAGTTTTTGCAGATCTTGGCCCCCAAAATTCTTAGTCATAGTGCCCTTCTGATGCCTTCAAACAGATATGGGTGTGTATGCACGTGTGTTATTTTGTCCATCTTTTCTAATTGTTCTCAGTAGGAAATGGGGCTAAGAAACCTAGGTAACACTGGTAGAAGCAGAGGTGCTGGCGACACTTACCATAGAGTAGAGCATAAAGTCCTTATCGTGGGCACAGGATCTGGTCATTATTGATGGTTAAATGGCTGGACATGCCGTGAACTCTTCTATGTCCCAGTCTTCATCTTTGAAATCACTGCATCCCTAGGACAAGTTTTCTCACCATCACAGTGTTGACAGTCCGGGCCAGATGGTTCTATGTTGTCAGGGGCTGCCCTGTTCATGGTAAGATGTTTTGTAATGCCTGGTGTTTACCCACTAGATGCCAGTAGGACTCTACCCCACAACTGTGGCCACTGAAAATGTCTCCAGACATTTGCTTCTGTCCCCTGGGGATCAAAATCACCCCTGGTTGAGAACTTGGGGTAATTTAAGTGGTGCTCCGGTAAAGGCCATTCAACATGACTCACTGTGTTGATGTTATGTTTTCTAACATTGACTTTCCTTTAAACCATAGGGTTCGAAACCGCCAAGTCTTTTGCCCTCCATGGTGCACATGTGATCTTGGCCTGCAGGAACATGGCAAGGGCGAGTGAAGCAGTGTCACGCATTTTAGAAGAATGG\",\n",
      "                  \"alt\": \"T\"\n",
      "                },\n",
      "                \"moleculeContext\": \"genomic\"\n",
      "              }\n",
      "            }\n",
      "          }\n",
      "        ]\n",
      "      }\n",
      "    }\n",
      "  ],\n",
      "  \"metaData\": {\n",
      "    \"created\": \"2023-07-03T14:54:34.284314632Z\",\n",
      "    \"createdBy\": \"ORCID:0000-0002-5648-2155\",\n",
      "    \"resources\": [\n",
      "      {\n",
      "        \"id\": \"geno\",\n",
      "        \"name\": \"Genotype Ontology\",\n",
      "        \"url\": \"http://purl.obolibrary.org/obo/geno.owl\",\n",
      "        \"version\": \"2022-03-05\",\n",
      "        \"namespacePrefix\": \"GENO\",\n",
      "        \"iriPrefix\": \"http://purl.obolibrary.org/obo/GENO_\"\n",
      "      },\n",
      "      {\n",
      "        \"id\": \"hgnc\",\n",
      "        \"name\": \"HUGO Gene Nomenclature Committee\",\n",
      "        \"url\": \"https://www.genenames.org\",\n",
      "        \"version\": \"06/01/23\",\n",
      "        \"namespacePrefix\": \"HGNC\",\n",
      "        \"iriPrefix\": \"https://www.genenames.org/data/gene-symbol-report/#!/hgnc_id/\"\n",
      "      },\n",
      "      {\n",
      "        \"id\": \"omim\",\n",
      "        \"name\": \"An Online Catalog of Human Genes and Genetic Disorders\",\n",
      "        \"url\": \"https://www.omim.org\",\n",
      "        \"version\": \"January 4, 2023\",\n",
      "        \"namespacePrefix\": \"OMIM\",\n",
      "        \"iriPrefix\": \"https://www.omim.org/entry/\"\n",
      "      },\n",
      "      {\n",
      "        \"id\": \"hp\",\n",
      "        \"name\": \"human phenotype ontology\",\n",
      "        \"url\": \"http://purl.obolibrary.org/obo/hp.owl\",\n",
      "        \"version\": \"2023-06-17\",\n",
      "        \"namespacePrefix\": \"HP\",\n",
      "        \"iriPrefix\": \"http://purl.obolibrary.org/obo/HP_\"\n",
      "      }\n",
      "    ],\n",
      "    \"phenopacketSchemaVersion\": \"2.0\"\n",
      "  }\n",
      "}\n"
     ]
    }
   ],
   "source": [
    "i1 = individuals[0]\n",
    "phenopacket1 = i1.to_ga4gh_phenopacket(metadata=metadata.to_ga4gh())\n",
    "json_string = MessageToJson(phenopacket1)\n",
    "print(json_string)"
   ]
  },
  {
   "cell_type": "code",
   "execution_count": 43,
   "id": "23f1094f",
   "metadata": {},
   "outputs": [
    {
     "name": "stdout",
     "output_type": "stream",
     "text": [
      "https://rest.variantvalidator.org/VariantValidator/variantvalidator/hg19/NM_016373.2%3Ac.366_516del/NM_016373.2?content-type=application%2Fjson\n",
      "https://rest.variantvalidator.org/VariantValidator/variantvalidator/hg19/NM_016373.2%3Ac.1005G>A/NM_016373.2?content-type=application%2Fjson\n",
      "https://rest.variantvalidator.org/VariantValidator/variantvalidator/hg19/NM_016373.2%3Ac.45_48delGGAC/NM_016373.2?content-type=application%2Fjson\n",
      "https://rest.variantvalidator.org/VariantValidator/variantvalidator/hg19/NM_016373.2%3Ac.45_48delGGAC/NM_016373.2?content-type=application%2Fjson\n",
      "https://rest.variantvalidator.org/VariantValidator/variantvalidator/hg19/NM_016373.2%3Ac.889A>T/NM_016373.2?content-type=application%2Fjson\n",
      "Wrote 5 phenopackets to ../../phenopackets/WWOX/\n"
     ]
    }
   ],
   "source": [
    "output_directory = \"../../phenopackets/WWOX/\"\n",
    "encoder.output_phenopackets(outdir=output_directory)"
   ]
  }
 ],
 "metadata": {
  "kernelspec": {
   "display_name": "Python 3 (ipykernel)",
   "language": "python",
   "name": "python3"
  },
  "language_info": {
   "codemirror_mode": {
    "name": "ipython",
    "version": 3
   },
   "file_extension": ".py",
   "mimetype": "text/x-python",
   "name": "python",
   "nbconvert_exporter": "python",
   "pygments_lexer": "ipython3",
   "version": "3.11.3"
  }
 },
 "nbformat": 4,
 "nbformat_minor": 5
}
