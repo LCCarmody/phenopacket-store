{
 "cells": [
  {
   "cell_type": "markdown",
   "id": "a39f3c65",
   "metadata": {},
   "source": [
    "<h1>WWOX: Gribaa (2007)</h1>\n",
    "<p>We will process <a href=\"https://pubmed.ncbi.nlm.nih.gov/17470496/\" target=\"__blank\">Gribaa, et al. (2007) A new form of childhood onset, autosomal recessive spinocerebellar ataxia and epilepsy is localized at 16q21-q23</a></p>"
   ]
  },
  {
   "cell_type": "code",
   "execution_count": 1,
   "id": "f0602c0e",
   "metadata": {
    "pycharm": {
     "is_executing": true
    }
   },
   "outputs": [
    {
     "name": "stdout",
     "output_type": "stream",
     "text": [
      "pyphetools version 0.6.5\n"
     ]
    }
   ],
   "source": [
    "import phenopackets as php\n",
    "from google.protobuf.json_format import MessageToDict, MessageToJson\n",
    "from google.protobuf.json_format import Parse, ParseDict\n",
    "import pandas as pd\n",
    "pd.set_option('display.max_colwidth', None) # show entire column contents, important!\n",
    "from collections import defaultdict\n",
    "import os\n",
    "import sys\n",
    "import numpy as np\n",
    "import pyphetools\n",
    "from pyphetools.creation import *\n",
    "from pyphetools.visualization import *\n",
    "print(f\"pyphetools version {pyphetools.__version__}\")"
   ]
  },
  {
   "cell_type": "markdown",
   "id": "8606e7eb",
   "metadata": {},
   "source": [
    "<h2>Importing HPO data</h2>\n",
    "<p>pyphetools uses the Human Phenotype Ontology (HPO) to encode phenotypic features. The recommended way of doing this is to ingest the hp.json file using HpoParser, which in turn creates an HpoConceptRecognizer object. </p>\n",
    "<p>The HpoParser can accept a hpo_json_file argument if you want to use a specific file. If the argument is not passed, it will download the latext hp.json file from the HPO GitHub site and store it in a new subdirectory called hpo_data. It will not download the file if the file is already downloaded.</p>"
   ]
  },
  {
   "cell_type": "code",
   "execution_count": 2,
   "id": "5a7789fc",
   "metadata": {},
   "outputs": [],
   "source": [
    "parser = HpoParser()\n",
    "hpo_cr = parser.get_hpo_concept_recognizer()\n",
    "hpo_version = parser.get_version()\n",
    "PMID = \"PMID:17470496\"\n",
    "title = \"A new form of childhood onset, autosomal recessive spinocerebellar ataxia and epilepsy is localized at 16q21-q23\"\n",
    "metadata = MetaData(created_by=\"ORCID:0000-0002-5648-2155\", pmid=PMID, pubmed_title=title)\n",
    "metadata.default_versions_with_hpo(version=hpo_version)"
   ]
  },
  {
   "cell_type": "markdown",
   "id": "5102722a",
   "metadata": {},
   "source": [
    "<h2>Importing the supplemental table</h2>\n",
    "<p>Here, we use the pandas library to import this file (note that the Python package called openpyxl must be installed to read Excel files with pandas, although the library does not need to be imported in this notebook). pyphetools expects a pandas DataFrame as input, and users can choose any input format available for pandas include CSV, TSV, and Excel, or can use any other method to transform their input data into a Pandas DataFrame before using pyphetools.</p>"
   ]
  },
  {
   "cell_type": "code",
   "execution_count": 3,
   "id": "f17c3924",
   "metadata": {},
   "outputs": [],
   "source": [
    "df = pd.read_excel('input/PMID_17470496.xlsx')"
   ]
  },
  {
   "cell_type": "code",
   "execution_count": 4,
   "id": "06ec7dbd",
   "metadata": {},
   "outputs": [
    {
     "data": {
      "text/html": [
       "<div>\n",
       "<style scoped>\n",
       "    .dataframe tbody tr th:only-of-type {\n",
       "        vertical-align: middle;\n",
       "    }\n",
       "\n",
       "    .dataframe tbody tr th {\n",
       "        vertical-align: top;\n",
       "    }\n",
       "\n",
       "    .dataframe thead th {\n",
       "        text-align: right;\n",
       "    }\n",
       "</style>\n",
       "<table border=\"1\" class=\"dataframe\">\n",
       "  <thead>\n",
       "    <tr style=\"text-align: right;\">\n",
       "      <th></th>\n",
       "      <th>Patient</th>\n",
       "      <th>II</th>\n",
       "      <th>II2</th>\n",
       "      <th>II3</th>\n",
       "      <th>II4</th>\n",
       "    </tr>\n",
       "  </thead>\n",
       "  <tbody>\n",
       "    <tr>\n",
       "      <th>0</th>\n",
       "      <td>Sex</td>\n",
       "      <td>female</td>\n",
       "      <td>female</td>\n",
       "      <td>male</td>\n",
       "      <td>female</td>\n",
       "    </tr>\n",
       "    <tr>\n",
       "      <th>1</th>\n",
       "      <td>Age</td>\n",
       "      <td>19</td>\n",
       "      <td>18</td>\n",
       "      <td>16</td>\n",
       "      <td>10</td>\n",
       "    </tr>\n",
       "    <tr>\n",
       "      <th>2</th>\n",
       "      <td>Seizures</td>\n",
       "      <td>+</td>\n",
       "      <td>+</td>\n",
       "      <td>+</td>\n",
       "      <td>+</td>\n",
       "    </tr>\n",
       "    <tr>\n",
       "      <th>3</th>\n",
       "      <td>Motor delay</td>\n",
       "      <td>+</td>\n",
       "      <td>+</td>\n",
       "      <td>+</td>\n",
       "      <td>+</td>\n",
       "    </tr>\n",
       "    <tr>\n",
       "      <th>4</th>\n",
       "      <td>Developmental delay</td>\n",
       "      <td>+</td>\n",
       "      <td>+</td>\n",
       "      <td>+</td>\n",
       "      <td>+</td>\n",
       "    </tr>\n",
       "    <tr>\n",
       "      <th>5</th>\n",
       "      <td>Ataxia</td>\n",
       "      <td>+</td>\n",
       "      <td>+</td>\n",
       "      <td>+</td>\n",
       "      <td>+</td>\n",
       "    </tr>\n",
       "    <tr>\n",
       "      <th>6</th>\n",
       "      <td>Gait ataxia</td>\n",
       "      <td>+</td>\n",
       "      <td>+</td>\n",
       "      <td>+</td>\n",
       "      <td>+</td>\n",
       "    </tr>\n",
       "    <tr>\n",
       "      <th>7</th>\n",
       "      <td>Dysarthria</td>\n",
       "      <td>+</td>\n",
       "      <td>+</td>\n",
       "      <td>+</td>\n",
       "      <td>+</td>\n",
       "    </tr>\n",
       "    <tr>\n",
       "      <th>8</th>\n",
       "      <td>Hyporeflexia</td>\n",
       "      <td>+</td>\n",
       "      <td>+</td>\n",
       "      <td>+</td>\n",
       "      <td>+</td>\n",
       "    </tr>\n",
       "    <tr>\n",
       "      <th>9</th>\n",
       "      <td>Impaired continence</td>\n",
       "      <td>-</td>\n",
       "      <td>-</td>\n",
       "      <td>-</td>\n",
       "      <td>+</td>\n",
       "    </tr>\n",
       "    <tr>\n",
       "      <th>10</th>\n",
       "      <td>Nystagmus</td>\n",
       "      <td>+</td>\n",
       "      <td>+</td>\n",
       "      <td>+</td>\n",
       "      <td>+</td>\n",
       "    </tr>\n",
       "    <tr>\n",
       "      <th>11</th>\n",
       "      <td>Variant</td>\n",
       "      <td>c.139C&gt;A</td>\n",
       "      <td>c.139C&gt;A</td>\n",
       "      <td>c.139C&gt;A</td>\n",
       "      <td>c.139C&gt;A</td>\n",
       "    </tr>\n",
       "  </tbody>\n",
       "</table>\n",
       "</div>"
      ],
      "text/plain": [
       "                Patient        II       II2       II3       II4\n",
       "0                   Sex    female    female      male    female\n",
       "1                   Age        19        18        16        10\n",
       "2              Seizures         +         +         +         +\n",
       "3           Motor delay         +         +         +         +\n",
       "4   Developmental delay         +         +         +         +\n",
       "5                Ataxia         +         +         +         +\n",
       "6           Gait ataxia         +         +         +         +\n",
       "7            Dysarthria         +         +         +         +\n",
       "8          Hyporeflexia         +         +         +         +\n",
       "9   Impaired continence         -         -         -         +\n",
       "10            Nystagmus         +         +         +         +\n",
       "11              Variant  c.139C>A  c.139C>A  c.139C>A  c.139C>A"
      ]
     },
     "execution_count": 4,
     "metadata": {},
     "output_type": "execute_result"
    }
   ],
   "source": [
    "df"
   ]
  },
  {
   "cell_type": "code",
   "execution_count": 5,
   "id": "31720b14-3730-410c-ad8c-7401066468ff",
   "metadata": {},
   "outputs": [
    {
     "data": {
      "text/html": [
       "<div>\n",
       "<style scoped>\n",
       "    .dataframe tbody tr th:only-of-type {\n",
       "        vertical-align: middle;\n",
       "    }\n",
       "\n",
       "    .dataframe tbody tr th {\n",
       "        vertical-align: top;\n",
       "    }\n",
       "\n",
       "    .dataframe thead th {\n",
       "        text-align: right;\n",
       "    }\n",
       "</style>\n",
       "<table border=\"1\" class=\"dataframe\">\n",
       "  <thead>\n",
       "    <tr style=\"text-align: right;\">\n",
       "      <th>Patient</th>\n",
       "      <th>index</th>\n",
       "      <th>Sex</th>\n",
       "      <th>Age</th>\n",
       "      <th>Seizures</th>\n",
       "      <th>Motor delay</th>\n",
       "      <th>Developmental delay</th>\n",
       "      <th>Ataxia</th>\n",
       "      <th>Gait ataxia</th>\n",
       "      <th>Dysarthria</th>\n",
       "      <th>Hyporeflexia</th>\n",
       "      <th>Impaired continence</th>\n",
       "      <th>Nystagmus</th>\n",
       "      <th>Variant</th>\n",
       "      <th>patient_id</th>\n",
       "    </tr>\n",
       "  </thead>\n",
       "  <tbody>\n",
       "    <tr>\n",
       "      <th>0</th>\n",
       "      <td>II</td>\n",
       "      <td>female</td>\n",
       "      <td>19</td>\n",
       "      <td>+</td>\n",
       "      <td>+</td>\n",
       "      <td>+</td>\n",
       "      <td>+</td>\n",
       "      <td>+</td>\n",
       "      <td>+</td>\n",
       "      <td>+</td>\n",
       "      <td>-</td>\n",
       "      <td>+</td>\n",
       "      <td>c.139C&gt;A</td>\n",
       "      <td>0</td>\n",
       "    </tr>\n",
       "    <tr>\n",
       "      <th>1</th>\n",
       "      <td>II2</td>\n",
       "      <td>female</td>\n",
       "      <td>18</td>\n",
       "      <td>+</td>\n",
       "      <td>+</td>\n",
       "      <td>+</td>\n",
       "      <td>+</td>\n",
       "      <td>+</td>\n",
       "      <td>+</td>\n",
       "      <td>+</td>\n",
       "      <td>-</td>\n",
       "      <td>+</td>\n",
       "      <td>c.139C&gt;A</td>\n",
       "      <td>1</td>\n",
       "    </tr>\n",
       "    <tr>\n",
       "      <th>2</th>\n",
       "      <td>II3</td>\n",
       "      <td>male</td>\n",
       "      <td>16</td>\n",
       "      <td>+</td>\n",
       "      <td>+</td>\n",
       "      <td>+</td>\n",
       "      <td>+</td>\n",
       "      <td>+</td>\n",
       "      <td>+</td>\n",
       "      <td>+</td>\n",
       "      <td>-</td>\n",
       "      <td>+</td>\n",
       "      <td>c.139C&gt;A</td>\n",
       "      <td>2</td>\n",
       "    </tr>\n",
       "    <tr>\n",
       "      <th>3</th>\n",
       "      <td>II4</td>\n",
       "      <td>female</td>\n",
       "      <td>10</td>\n",
       "      <td>+</td>\n",
       "      <td>+</td>\n",
       "      <td>+</td>\n",
       "      <td>+</td>\n",
       "      <td>+</td>\n",
       "      <td>+</td>\n",
       "      <td>+</td>\n",
       "      <td>+</td>\n",
       "      <td>+</td>\n",
       "      <td>c.139C&gt;A</td>\n",
       "      <td>3</td>\n",
       "    </tr>\n",
       "  </tbody>\n",
       "</table>\n",
       "</div>"
      ],
      "text/plain": [
       "Patient index     Sex Age Seizures Motor delay Developmental delay Ataxia  \\\n",
       "0          II  female  19        +           +                   +      +   \n",
       "1         II2  female  18        +           +                   +      +   \n",
       "2         II3    male  16        +           +                   +      +   \n",
       "3         II4  female  10        +           +                   +      +   \n",
       "\n",
       "Patient Gait ataxia Dysarthria Hyporeflexia Impaired continence Nystagmus  \\\n",
       "0                 +          +            +                   -         +   \n",
       "1                 +          +            +                   -         +   \n",
       "2                 +          +            +                   -         +   \n",
       "3                 +          +            +                   +         +   \n",
       "\n",
       "Patient   Variant  patient_id  \n",
       "0        c.139C>A           0  \n",
       "1        c.139C>A           1  \n",
       "2        c.139C>A           2  \n",
       "3        c.139C>A           3  "
      ]
     },
     "execution_count": 5,
     "metadata": {},
     "output_type": "execute_result"
    }
   ],
   "source": [
    "# Transpose table\n",
    "df = df.set_index('Patient').T.reset_index()\n",
    "df['patient_id'] = df.index\n",
    "df.head()"
   ]
  },
  {
   "cell_type": "code",
   "execution_count": 6,
   "id": "59d9e9e8",
   "metadata": {},
   "outputs": [],
   "source": [
    "generator = SimpleColumnMapperGenerator(df=df, observed='+', excluded='-', hpo_cr=hpo_cr)\n",
    "column_mappers_d = generator.try_mapping_columns()"
   ]
  },
  {
   "cell_type": "code",
   "execution_count": 7,
   "id": "122946b0",
   "metadata": {},
   "outputs": [
    {
     "data": {
      "text/html": [
       "<table style=\"border: 2px solid black;\">\n",
       "\n",
       "<tr>\n",
       "            <th>Result</th>\n",
       "            <th>Columns</th>\n",
       "        </tr>\n",
       "      \n",
       "<tr><td>Mapped</td><td>Seizures; Motor delay; Developmental delay; Ataxia; Gait ataxia; Dysarthria; Hyporeflexia; Impaired continence; Nystagmus</td></tr>\n",
       "<tr><td>Unmapped</td><td><q>index</q>; <q>Sex</q>; <q>Age</q>; <q>Variant</q>; <q>patient_id</q></td></tr>\n",
       "</table>\n"
      ],
      "text/plain": [
       "<IPython.core.display.HTML object>"
      ]
     },
     "metadata": {},
     "output_type": "display_data"
    }
   ],
   "source": [
    "from IPython.display import display, HTML\n",
    "display(HTML(generator.to_html()))"
   ]
  },
  {
   "cell_type": "markdown",
   "id": "5e53617d",
   "metadata": {},
   "source": [
    "<h2>Variant Data</h2>\n",
    "<p>The variant data (HGVS< transcript) is listed in the Variant (hg19, NM_015133.4) column.</p>"
   ]
  },
  {
   "cell_type": "code",
   "execution_count": 8,
   "id": "da4d5706",
   "metadata": {},
   "outputs": [
    {
     "name": "stdout",
     "output_type": "stream",
     "text": [
      "https://rest.variantvalidator.org/VariantValidator/variantvalidator/hg38/NM_016373.2%3Ac.139C>A/NM_016373.2?content-type=application%2Fjson\n"
     ]
    }
   ],
   "source": [
    "genome = 'hg38'\n",
    "default_genotype = 'heterozygous'\n",
    "WWOX_transcript='NM_016373.2'\n",
    "vvalidator = VariantValidator(genome_build=genome, transcript=WWOX_transcript)\n",
    "var = vvalidator.encode_hgvs(\"c.139C>A\")\n",
    "var_d = {\"c.139C>A\": var}\n",
    "varMapper = VariantColumnMapper(variant_d=var_d, variant_column_name='Variant', default_genotype=\"homozygous\")"
   ]
  },
  {
   "cell_type": "markdown",
   "id": "d1af2052",
   "metadata": {},
   "source": [
    "<h1>Demographic data</h1>"
   ]
  },
  {
   "cell_type": "code",
   "execution_count": 9,
   "id": "3e64dc08",
   "metadata": {},
   "outputs": [
    {
     "data": {
      "text/html": [
       "<div>\n",
       "<style scoped>\n",
       "    .dataframe tbody tr th:only-of-type {\n",
       "        vertical-align: middle;\n",
       "    }\n",
       "\n",
       "    .dataframe tbody tr th {\n",
       "        vertical-align: top;\n",
       "    }\n",
       "\n",
       "    .dataframe thead th {\n",
       "        text-align: right;\n",
       "    }\n",
       "</style>\n",
       "<table border=\"1\" class=\"dataframe\">\n",
       "  <thead>\n",
       "    <tr style=\"text-align: right;\">\n",
       "      <th></th>\n",
       "      <th>original column contents</th>\n",
       "      <th>age</th>\n",
       "    </tr>\n",
       "  </thead>\n",
       "  <tbody>\n",
       "    <tr>\n",
       "      <th>0</th>\n",
       "      <td>19</td>\n",
       "      <td>P19Y</td>\n",
       "    </tr>\n",
       "    <tr>\n",
       "      <th>1</th>\n",
       "      <td>18</td>\n",
       "      <td>P18Y</td>\n",
       "    </tr>\n",
       "    <tr>\n",
       "      <th>2</th>\n",
       "      <td>16</td>\n",
       "      <td>P16Y</td>\n",
       "    </tr>\n",
       "    <tr>\n",
       "      <th>3</th>\n",
       "      <td>10</td>\n",
       "      <td>P10Y</td>\n",
       "    </tr>\n",
       "  </tbody>\n",
       "</table>\n",
       "</div>"
      ],
      "text/plain": [
       "   original column contents   age\n",
       "0                        19  P19Y\n",
       "1                        18  P18Y\n",
       "2                        16  P16Y\n",
       "3                        10  P10Y"
      ]
     },
     "execution_count": 9,
     "metadata": {},
     "output_type": "execute_result"
    }
   ],
   "source": [
    "ageMapper = AgeColumnMapper.by_year('Age')\n",
    "ageMapper.preview_column(df['Age'])"
   ]
  },
  {
   "cell_type": "code",
   "execution_count": 10,
   "id": "71f664cc",
   "metadata": {},
   "outputs": [
    {
     "data": {
      "text/html": [
       "<div>\n",
       "<style scoped>\n",
       "    .dataframe tbody tr th:only-of-type {\n",
       "        vertical-align: middle;\n",
       "    }\n",
       "\n",
       "    .dataframe tbody tr th {\n",
       "        vertical-align: top;\n",
       "    }\n",
       "\n",
       "    .dataframe thead th {\n",
       "        text-align: right;\n",
       "    }\n",
       "</style>\n",
       "<table border=\"1\" class=\"dataframe\">\n",
       "  <thead>\n",
       "    <tr style=\"text-align: right;\">\n",
       "      <th></th>\n",
       "      <th>original column contents</th>\n",
       "      <th>sex</th>\n",
       "    </tr>\n",
       "  </thead>\n",
       "  <tbody>\n",
       "    <tr>\n",
       "      <th>0</th>\n",
       "      <td>female</td>\n",
       "      <td>FEMALE</td>\n",
       "    </tr>\n",
       "    <tr>\n",
       "      <th>1</th>\n",
       "      <td>female</td>\n",
       "      <td>FEMALE</td>\n",
       "    </tr>\n",
       "    <tr>\n",
       "      <th>2</th>\n",
       "      <td>male</td>\n",
       "      <td>MALE</td>\n",
       "    </tr>\n",
       "    <tr>\n",
       "      <th>3</th>\n",
       "      <td>female</td>\n",
       "      <td>FEMALE</td>\n",
       "    </tr>\n",
       "  </tbody>\n",
       "</table>\n",
       "</div>"
      ],
      "text/plain": [
       "  original column contents     sex\n",
       "0                   female  FEMALE\n",
       "1                   female  FEMALE\n",
       "2                     male    MALE\n",
       "3                   female  FEMALE"
      ]
     },
     "execution_count": 10,
     "metadata": {},
     "output_type": "execute_result"
    }
   ],
   "source": [
    "sexMapper = SexColumnMapper(male_symbol='male', female_symbol='female', column_name='Sex')\n",
    "sexMapper.preview_column(df['Sex'])"
   ]
  },
  {
   "cell_type": "code",
   "execution_count": 11,
   "id": "f6581a8a",
   "metadata": {},
   "outputs": [],
   "source": [
    "encoder = CohortEncoder(df=df, hpo_cr=hpo_cr, \n",
    "                        column_mapper_d=column_mappers_d, \n",
    "                        individual_column_name=\"patient_id\", \n",
    "                        agemapper=ageMapper, \n",
    "                        sexmapper=sexMapper,\n",
    "                        variant_mapper=varMapper, \n",
    "                        metadata=metadata,\n",
    "                        pmid=PMID)\n",
    "encoder.set_disease(disease_id='OMIM:614322', label='Spinocerebellar ataxia, autosomal recessive 12')"
   ]
  },
  {
   "cell_type": "code",
   "execution_count": 12,
   "id": "fd367ed6",
   "metadata": {},
   "outputs": [],
   "source": [
    "individuals = encoder.get_individuals()"
   ]
  },
  {
   "cell_type": "code",
   "execution_count": 13,
   "id": "5d044b78",
   "metadata": {},
   "outputs": [
    {
     "data": {
      "text/html": [
       "<table style=\"border: 2px solid black;\">\n",
       "\n",
       "<caption>4 phenopackets - PMID:17470496 (n=4)</caption>\n",
       "\n",
       "<tr>\n",
       "            <th>Individual</th>\n",
       "            <th>Disease</th>\n",
       "            <th>Genotype</th>\n",
       "            <th>Phenotypic features</th>\n",
       "        </tr>\n",
       "        \n",
       "<tr>\n",
       "<td>0 (FEMALE; P19Y)</ts>\n",
       "<td>Spinocerebellar ataxia, autosomal recessive 12 (OMIM:614322)</ts>\n",
       "<td>NM_016373.2:c.139C>A (homozygous)</td>\n",
       "<td class=\"table-data\">Seizure (HP:0001250); Motor delay (HP:0001270); Global developmental delay (HP:0001263); Ataxia (HP:0001251); Gait ataxia (HP:0002066); Dysarthria (HP:0001260); Hyporeflexia (HP:0001265); Nystagmus (HP:0000639)</td>\n",
       "</tr>\n",
       "<tr>\n",
       "<td>1 (FEMALE; P18Y)</ts>\n",
       "<td>Spinocerebellar ataxia, autosomal recessive 12 (OMIM:614322)</ts>\n",
       "<td>NM_016373.2:c.139C>A (homozygous)</td>\n",
       "<td class=\"table-data\">Seizure (HP:0001250); Motor delay (HP:0001270); Global developmental delay (HP:0001263); Ataxia (HP:0001251); Gait ataxia (HP:0002066); Dysarthria (HP:0001260); Hyporeflexia (HP:0001265); Nystagmus (HP:0000639)</td>\n",
       "</tr>\n",
       "<tr>\n",
       "<td>2 (MALE; P16Y)</ts>\n",
       "<td>Spinocerebellar ataxia, autosomal recessive 12 (OMIM:614322)</ts>\n",
       "<td>NM_016373.2:c.139C>A (homozygous)</td>\n",
       "<td class=\"table-data\">Seizure (HP:0001250); Motor delay (HP:0001270); Global developmental delay (HP:0001263); Ataxia (HP:0001251); Gait ataxia (HP:0002066); Dysarthria (HP:0001260); Hyporeflexia (HP:0001265); Nystagmus (HP:0000639)</td>\n",
       "</tr>\n",
       "<tr>\n",
       "<td>3 (FEMALE; P10Y)</ts>\n",
       "<td>Spinocerebellar ataxia, autosomal recessive 12 (OMIM:614322)</ts>\n",
       "<td>NM_016373.2:c.139C>A (homozygous)</td>\n",
       "<td class=\"table-data\">Seizure (HP:0001250); Motor delay (HP:0001270); Global developmental delay (HP:0001263); Ataxia (HP:0001251); Gait ataxia (HP:0002066); Dysarthria (HP:0001260); Hyporeflexia (HP:0001265); Impaired continence (HP:0031064); Nystagmus (HP:0000639)</td>\n",
       "</tr>\n",
       "</table>\n"
      ],
      "text/plain": [
       "<IPython.core.display.HTML object>"
      ]
     },
     "metadata": {},
     "output_type": "display_data"
    }
   ],
   "source": [
    "from IPython.display import HTML, display\n",
    "\n",
    "phenopackets = [i.to_ga4gh_phenopacket(metadata=metadata.to_ga4gh()) for i in individuals]\n",
    "table = PhenopacketTable(phenopacket_list=phenopackets)\n",
    "display(HTML(table.to_html()))"
   ]
  },
  {
   "cell_type": "code",
   "execution_count": 15,
   "id": "23f1094f",
   "metadata": {},
   "outputs": [
    {
     "name": "stdout",
     "output_type": "stream",
     "text": [
      "We output 4 GA4GH phenopackets to the directory phenopackets\n"
     ]
    }
   ],
   "source": [
    "output_directory = \"phenopackets\"\n",
    "Individual.output_individuals_as_phenopackets(individual_list=individuals,\n",
    "                                              pmid=PMID,\n",
    "                                              metadata=metadata.to_ga4gh(),\n",
    "                                              outdir=output_directory)"
   ]
  },
  {
   "cell_type": "code",
   "execution_count": null,
   "id": "7a59d8ff-ebfd-4378-aa70-9cc711c98a6a",
   "metadata": {},
   "outputs": [],
   "source": []
  }
 ],
 "metadata": {
  "kernelspec": {
   "display_name": "Python 3 (ipykernel)",
   "language": "python",
   "name": "python3"
  },
  "language_info": {
   "codemirror_mode": {
    "name": "ipython",
    "version": 3
   },
   "file_extension": ".py",
   "mimetype": "text/x-python",
   "name": "python",
   "nbconvert_exporter": "python",
   "pygments_lexer": "ipython3",
   "version": "3.10.12"
  }
 },
 "nbformat": 4,
 "nbformat_minor": 5
}
