{
 "cells": [
  {
   "cell_type": "markdown",
   "id": "1be9b5c8",
   "metadata": {},
   "source": [
    "<H1>ANKH Kornak et al, PMID:20358596</H1>\n",
    "<p>This notebook imports data from <a href=\"https://pubmed.ncbi.nlm.nih.gov/20358596/\" target=\"__blank\">Kornak U, et al. Three novel mutations in the ANK membrane protein cause craniometaphyseal dysplasia with variable conductive hearing loss. Am J Med Genet A. 2010;152A(4):870-4</a></p>"
   ]
  },
  {
   "cell_type": "code",
   "execution_count": 1,
   "id": "7a58cb6d",
   "metadata": {},
   "outputs": [
    {
     "name": "stdout",
     "output_type": "stream",
     "text": [
      "Using pyphetools version 0.8.17\n"
     ]
    }
   ],
   "source": [
    "import phenopackets as php\n",
    "from google.protobuf.json_format import MessageToDict, MessageToJson\n",
    "from google.protobuf.json_format import Parse, ParseDict\n",
    "import pandas as pd\n",
    "pd.set_option('display.max_colwidth', None) # show entire column contents, important!\n",
    "from collections import defaultdict\n",
    "from IPython.display import HTML, display\n",
    "from pyphetools.creation import *\n",
    "from pyphetools.validation import *\n",
    "from pyphetools.visualization import *\n",
    "import pyphetools\n",
    "print(f\"Using pyphetools version {pyphetools.__version__}\")"
   ]
  },
  {
   "cell_type": "code",
   "execution_count": 2,
   "id": "e5ec3f1d-7a69-455e-8c87-56e5cced16e7",
   "metadata": {},
   "outputs": [],
   "source": [
    "parser = HpoParser()\n",
    "hpo_cr = parser.get_hpo_concept_recognizer()\n",
    "hpo_version = parser.get_version()\n",
    "hpo_ontology = parser.get_ontology()\n",
    "PMID = \"PMID:20358596\"\n",
    "title = \"Three novel mutations in the ANK membrane protein cause craniometaphyseal dysplasia with variable conductive hearing loss\""
   ]
  },
  {
   "cell_type": "markdown",
   "id": "7288a6c8",
   "metadata": {},
   "source": [
    "<H3>patient A</H3>"
   ]
  },
  {
   "cell_type": "code",
   "execution_count": 3,
   "id": "0128aa30",
   "metadata": {},
   "outputs": [],
   "source": [
    "metadata = MetaData(created_by=\"ORCID:0000-0002-0736-9199\", pmid=PMID, pubmed_title=title)\n",
    "metadata.default_versions_with_hpo(version=hpo_version)\n",
    "cmd_disease = Disease(disease_id=\"OMIM:123000\", disease_label=\"Craniometaphyseal dysplasia\")\n",
    "age = \"P12Y\"\n",
    "sex = \"MALE\"\n",
    "\n",
    "encoderA = CaseEncoder(hpo_cr=hpo_cr, \n",
    "                       pmid=PMID, \n",
    "                       individual_id=\"patient A\",\n",
    "                       metadata=metadata.to_ga4gh(),\n",
    "                       age_at_last_exam=age,\n",
    "                       sex=sex,\n",
    "                       disease=cmd_disease)"
   ]
  },
  {
   "cell_type": "code",
   "execution_count": 4,
   "id": "4ef5e577",
   "metadata": {},
   "outputs": [
    {
     "data": {
      "text/html": [
       "<div>\n",
       "<style scoped>\n",
       "    .dataframe tbody tr th:only-of-type {\n",
       "        vertical-align: middle;\n",
       "    }\n",
       "\n",
       "    .dataframe tbody tr th {\n",
       "        vertical-align: top;\n",
       "    }\n",
       "\n",
       "    .dataframe thead th {\n",
       "        text-align: right;\n",
       "    }\n",
       "</style>\n",
       "<table border=\"1\" class=\"dataframe\">\n",
       "  <thead>\n",
       "    <tr style=\"text-align: right;\">\n",
       "      <th></th>\n",
       "      <th>id</th>\n",
       "      <th>label</th>\n",
       "      <th>observed</th>\n",
       "      <th>measured</th>\n",
       "    </tr>\n",
       "  </thead>\n",
       "  <tbody>\n",
       "    <tr>\n",
       "      <th>0</th>\n",
       "      <td>HP:0000316</td>\n",
       "      <td>Hypertelorism</td>\n",
       "      <td>True</td>\n",
       "      <td>True</td>\n",
       "    </tr>\n",
       "    <tr>\n",
       "      <th>1</th>\n",
       "      <td>HP:0011968</td>\n",
       "      <td>Feeding difficulties</td>\n",
       "      <td>True</td>\n",
       "      <td>True</td>\n",
       "    </tr>\n",
       "    <tr>\n",
       "      <th>2</th>\n",
       "      <td>HP:0001742</td>\n",
       "      <td>Nasal congestion</td>\n",
       "      <td>True</td>\n",
       "      <td>True</td>\n",
       "    </tr>\n",
       "    <tr>\n",
       "      <th>3</th>\n",
       "      <td>HP:0430025</td>\n",
       "      <td>Bilateral facial palsy</td>\n",
       "      <td>True</td>\n",
       "      <td>True</td>\n",
       "    </tr>\n",
       "  </tbody>\n",
       "</table>\n",
       "</div>"
      ],
      "text/plain": [
       "           id                   label  observed  measured\n",
       "0  HP:0000316           Hypertelorism      True      True\n",
       "1  HP:0011968    Feeding difficulties      True      True\n",
       "2  HP:0001742        Nasal congestion      True      True\n",
       "3  HP:0430025  Bilateral facial palsy      True      True"
      ]
     },
     "execution_count": 4,
     "metadata": {},
     "output_type": "execute_result"
    }
   ],
   "source": [
    "caseA_birth=\"\"\"\n",
    "This is a male child of unaffected, unrelated parents.\n",
    "He was born at full term with normal birth parameters of OFC\n",
    "35 cm, weight 2,750 g, and length 48 cm. Apparent hypertelorism\n",
    "was evident at birth, together with a rigid neck, and wide alveolar\n",
    "ridges. Bilateral facial palsy was diagnosed soon after birth and\n",
    "respiratory problems with nasal obstruction and feeding difficulties\n",
    "manifested during the first months of life.\"\"\"\n",
    "d1={'skull hyperostosis': 'Cranial hyperostosis'}\n",
    "results = encoderA.add_vignette(vignette=caseA_birth, custom_d=d1, custom_age=\"P0D\")\n",
    "results"
   ]
  },
  {
   "cell_type": "code",
   "execution_count": 5,
   "id": "89ab43ba",
   "metadata": {},
   "outputs": [
    {
     "data": {
      "text/html": [
       "<div>\n",
       "<style scoped>\n",
       "    .dataframe tbody tr th:only-of-type {\n",
       "        vertical-align: middle;\n",
       "    }\n",
       "\n",
       "    .dataframe tbody tr th {\n",
       "        vertical-align: top;\n",
       "    }\n",
       "\n",
       "    .dataframe thead th {\n",
       "        text-align: right;\n",
       "    }\n",
       "</style>\n",
       "<table border=\"1\" class=\"dataframe\">\n",
       "  <thead>\n",
       "    <tr style=\"text-align: right;\">\n",
       "      <th></th>\n",
       "      <th>id</th>\n",
       "      <th>label</th>\n",
       "      <th>observed</th>\n",
       "      <th>measured</th>\n",
       "    </tr>\n",
       "  </thead>\n",
       "  <tbody>\n",
       "    <tr>\n",
       "      <th>0</th>\n",
       "      <td>HP:0004437</td>\n",
       "      <td>Cranial hyperostosis</td>\n",
       "      <td>True</td>\n",
       "      <td>True</td>\n",
       "    </tr>\n",
       "  </tbody>\n",
       "</table>\n",
       "</div>"
      ],
      "text/plain": [
       "           id                 label  observed  measured\n",
       "0  HP:0004437  Cranial hyperostosis      True      True"
      ]
     },
     "execution_count": 5,
     "metadata": {},
     "output_type": "execute_result"
    }
   ],
   "source": [
    "caseA_onem=\"\"\"Skull hyperostosis and modeling defects of the femora \n",
    "were noted at the age of 1 year\n",
    "(Figs. 1a–c and 2a,b). Cranial MRI showed a structurally normal\n",
    "CNS, but evoked potentials showed impairment of cranial nerves\n",
    "IX, X, XI, and XII (Fig. 2a,b).\"\"\"\n",
    "results = encoderA.add_vignette(vignette=caseA_onem, custom_d=d1, custom_age=\"P1M\")\n",
    "results"
   ]
  },
  {
   "cell_type": "code",
   "execution_count": 6,
   "id": "a736e31c",
   "metadata": {},
   "outputs": [
    {
     "data": {
      "text/html": [
       "<div>\n",
       "<style scoped>\n",
       "    .dataframe tbody tr th:only-of-type {\n",
       "        vertical-align: middle;\n",
       "    }\n",
       "\n",
       "    .dataframe tbody tr th {\n",
       "        vertical-align: top;\n",
       "    }\n",
       "\n",
       "    .dataframe thead th {\n",
       "        text-align: right;\n",
       "    }\n",
       "</style>\n",
       "<table border=\"1\" class=\"dataframe\">\n",
       "  <thead>\n",
       "    <tr style=\"text-align: right;\">\n",
       "      <th></th>\n",
       "      <th>id</th>\n",
       "      <th>label</th>\n",
       "      <th>observed</th>\n",
       "      <th>measured</th>\n",
       "    </tr>\n",
       "  </thead>\n",
       "  <tbody>\n",
       "    <tr>\n",
       "      <th>0</th>\n",
       "      <td>HP:0000405</td>\n",
       "      <td>Conductive hearing impairment</td>\n",
       "      <td>True</td>\n",
       "      <td>True</td>\n",
       "    </tr>\n",
       "  </tbody>\n",
       "</table>\n",
       "</div>"
      ],
      "text/plain": [
       "           id                          label  observed  measured\n",
       "0  HP:0000405  Conductive hearing impairment      True      True"
      ]
     },
     "execution_count": 6,
     "metadata": {},
     "output_type": "execute_result"
    }
   ],
   "source": [
    "caseA_30m=\"\"\"A moderate conductive hearing loss was noted at the age of 30 months. \n",
    "At this age, radiographs of\n",
    "the long bones showed modifications of the metaphyseal shape\n",
    "(Fig. 1c).\"\"\"\n",
    "d2={'skull hyperostosis': 'Cranial hyperostosis',\n",
    "   'conductive hearing loss': \"Conductive hearing impairment\"}\n",
    "results = encoderA.add_vignette(vignette=caseA_30m, custom_d=d2, custom_age=\"P2Y6M\")\n",
    "results"
   ]
  },
  {
   "cell_type": "code",
   "execution_count": 7,
   "id": "ae01d657",
   "metadata": {},
   "outputs": [
    {
     "data": {
      "text/html": [
       "<div>\n",
       "<style scoped>\n",
       "    .dataframe tbody tr th:only-of-type {\n",
       "        vertical-align: middle;\n",
       "    }\n",
       "\n",
       "    .dataframe tbody tr th {\n",
       "        vertical-align: top;\n",
       "    }\n",
       "\n",
       "    .dataframe thead th {\n",
       "        text-align: right;\n",
       "    }\n",
       "</style>\n",
       "<table border=\"1\" class=\"dataframe\">\n",
       "  <thead>\n",
       "    <tr style=\"text-align: right;\">\n",
       "      <th></th>\n",
       "      <th>id</th>\n",
       "      <th>label</th>\n",
       "      <th>observed</th>\n",
       "      <th>measured</th>\n",
       "    </tr>\n",
       "  </thead>\n",
       "  <tbody>\n",
       "    <tr>\n",
       "      <th>0</th>\n",
       "      <td>HP:0000405</td>\n",
       "      <td>Conductive hearing loss</td>\n",
       "      <td>True</td>\n",
       "      <td>True</td>\n",
       "    </tr>\n",
       "    <tr>\n",
       "      <th>1</th>\n",
       "      <td>HP:0000689</td>\n",
       "      <td>Dental malocclusion</td>\n",
       "      <td>True</td>\n",
       "      <td>True</td>\n",
       "    </tr>\n",
       "  </tbody>\n",
       "</table>\n",
       "</div>"
      ],
      "text/plain": [
       "           id                    label  observed  measured\n",
       "0  HP:0000405  Conductive hearing loss      True      True\n",
       "1  HP:0000689      Dental malocclusion      True      True"
      ]
     },
     "execution_count": 7,
     "metadata": {},
     "output_type": "execute_result"
    }
   ],
   "source": [
    "caseA_6y=\"\"\"At the age of 6 years, his height was 115 cm (\u001850th centile)\n",
    "and skull circumference was 54 cm (>97th centile). Although the\n",
    "facial palsy resolved with age, the hearing loss worsened and at\n",
    "the age of 12 years he required a hearing aid. An altered shape of\n",
    "the middle ear cavity and the ossicles was noted on CT scans (images\n",
    "not available). He had malocclusion and crowding of the teeth. The\n",
    "parathyroid hormone (14 pg/ml, reference range 10–65 pg/ml) and\n",
    "vitamin D3 (11 pg/ml, reference range 10–30 pg/ml) levels were\n",
    "normal, while osteocalcin (82 ng/ml, reference range <70 ng/ml)\n",
    "and alkaline phosphatase levels (533 IU/L, reference range 125–\n",
    "410 IU/L) were high suggesting increased bone formation.\n",
    "Although the patient manifested behavioral and language difficul-\n",
    "ties, he met normal developmental milestones\"\"\"\n",
    "false_pos = {\"facial palsy resolved with age\"}\n",
    "options = {\"the hearing loss worsened\" : \"Conductive hearing loss\" } # we know what kind\n",
    "results = encoderA.add_vignette(vignette=caseA_6y, custom_d=options,false_positive=false_pos, custom_age=\"P6Y\")\n",
    "results"
   ]
  },
  {
   "cell_type": "code",
   "execution_count": 8,
   "id": "e3e63d59",
   "metadata": {},
   "outputs": [],
   "source": [
    "r = encoderA.add_term(label=\"Increased circulating osteocalcin level\",custom_age=\"P6Y\" )\n",
    "r = encoderA.add_term(label=\"Elevated circulating alkaline phosphatase concentration\",custom_age=\"P6Y\" )\n",
    "#print(r)"
   ]
  },
  {
   "cell_type": "code",
   "execution_count": 9,
   "id": "c02d02dd",
   "metadata": {},
   "outputs": [
    {
     "name": "stdout",
     "output_type": "stream",
     "text": [
      "https://rest.variantvalidator.org/VariantValidator/variantvalidator/hg38/NM_054027.6%3Ac.1015T>C/NM_054027.6?content-type=application%2Fjson\n"
     ]
    },
    {
     "data": {
      "text/plain": [
       "'chr5:14716832A>G'"
      ]
     },
     "execution_count": 9,
     "metadata": {},
     "output_type": "execute_result"
    }
   ],
   "source": [
    "genome = 'hg38'\n",
    "transcript='NM_054027.6' # not mentioned in article, but should be correct since there are no alt starts\n",
    "varValidator = VariantValidator(genome_build=genome, transcript=transcript)\n",
    "varA = varValidator.encode_hgvs(hgvs=\"c.1015T>C\")\n",
    "varA.set_heterozygous()\n",
    "encoderA.add_variant_or_interpretation(varA)\n",
    "varA.to_string()"
   ]
  },
  {
   "cell_type": "code",
   "execution_count": 10,
   "id": "1bce942c",
   "metadata": {},
   "outputs": [],
   "source": [
    "individualA = encoderA.get_individual()"
   ]
  },
  {
   "cell_type": "markdown",
   "id": "1e6dcc5f",
   "metadata": {},
   "source": [
    "<h3>Patient B</h3>"
   ]
  },
  {
   "cell_type": "code",
   "execution_count": 11,
   "id": "1d34292c",
   "metadata": {},
   "outputs": [],
   "source": [
    "individual_id=\"patient B\"\n",
    "sex=\"MALE\"\n",
    "age=\"P23Y\"\n",
    "\n",
    "encoderB = CaseEncoder(hpo_cr=hpo_cr, \n",
    "                       pmid=PMID, \n",
    "                       individual_id=\"patient B\",\n",
    "                       metadata=metadata.to_ga4gh(),\n",
    "                       age_at_last_exam=age,\n",
    "                       sex=sex,\n",
    "                       disease=cmd_disease)"
   ]
  },
  {
   "cell_type": "code",
   "execution_count": 12,
   "id": "0df35d06",
   "metadata": {},
   "outputs": [
    {
     "data": {
      "text/html": [
       "<div>\n",
       "<style scoped>\n",
       "    .dataframe tbody tr th:only-of-type {\n",
       "        vertical-align: middle;\n",
       "    }\n",
       "\n",
       "    .dataframe tbody tr th {\n",
       "        vertical-align: top;\n",
       "    }\n",
       "\n",
       "    .dataframe thead th {\n",
       "        text-align: right;\n",
       "    }\n",
       "</style>\n",
       "<table border=\"1\" class=\"dataframe\">\n",
       "  <thead>\n",
       "    <tr style=\"text-align: right;\">\n",
       "      <th></th>\n",
       "      <th>id</th>\n",
       "      <th>label</th>\n",
       "      <th>observed</th>\n",
       "      <th>measured</th>\n",
       "    </tr>\n",
       "  </thead>\n",
       "  <tbody>\n",
       "    <tr>\n",
       "      <th>0</th>\n",
       "      <td>HP:0012799</td>\n",
       "      <td>Unilateral facial palsy</td>\n",
       "      <td>True</td>\n",
       "      <td>True</td>\n",
       "    </tr>\n",
       "    <tr>\n",
       "      <th>1</th>\n",
       "      <td>HP:0000678</td>\n",
       "      <td>Dental crowding</td>\n",
       "      <td>True</td>\n",
       "      <td>True</td>\n",
       "    </tr>\n",
       "    <tr>\n",
       "      <th>2</th>\n",
       "      <td>HP:0000256</td>\n",
       "      <td>Macrocephaly</td>\n",
       "      <td>True</td>\n",
       "      <td>True</td>\n",
       "    </tr>\n",
       "  </tbody>\n",
       "</table>\n",
       "</div>"
      ],
      "text/plain": [
       "           id                    label  observed  measured\n",
       "0  HP:0012799  Unilateral facial palsy      True      True\n",
       "1  HP:0000678          Dental crowding      True      True\n",
       "2  HP:0000256             Macrocephaly      True      True"
      ]
     },
     "execution_count": 12,
     "metadata": {},
     "output_type": "execute_result"
    }
   ],
   "source": [
    "patB_2months = \"\"\"This male patient had an unremarkable family\n",
    "history and was diagnosed with CMD at the age of 24 years.\n",
    "Unilateral facial palsy was detected at age 2 months. During\n",
    "childhood, he came to medical attention because of macrocephaly.\n",
    "He had orthodontic braces because of crowding of teeth, with\n",
    "suboptimal effect. \"\"\"\n",
    "d1 = {'crowding of teeth': \"Dental crowding\"}\n",
    "results = encoderB.add_vignette(vignette=patB_2months, custom_d=d1, custom_age=\"P2M\")\n",
    "results"
   ]
  },
  {
   "cell_type": "code",
   "execution_count": 13,
   "id": "8e185fe2",
   "metadata": {},
   "outputs": [
    {
     "data": {
      "text/html": [
       "<div>\n",
       "<style scoped>\n",
       "    .dataframe tbody tr th:only-of-type {\n",
       "        vertical-align: middle;\n",
       "    }\n",
       "\n",
       "    .dataframe tbody tr th {\n",
       "        vertical-align: top;\n",
       "    }\n",
       "\n",
       "    .dataframe thead th {\n",
       "        text-align: right;\n",
       "    }\n",
       "</style>\n",
       "<table border=\"1\" class=\"dataframe\">\n",
       "  <thead>\n",
       "    <tr style=\"text-align: right;\">\n",
       "      <th></th>\n",
       "      <th>id</th>\n",
       "      <th>label</th>\n",
       "      <th>observed</th>\n",
       "      <th>measured</th>\n",
       "    </tr>\n",
       "  </thead>\n",
       "  <tbody>\n",
       "    <tr>\n",
       "      <th>0</th>\n",
       "      <td>HP:0000407</td>\n",
       "      <td>Sensorineural hearing impairment</td>\n",
       "      <td>True</td>\n",
       "      <td>True</td>\n",
       "    </tr>\n",
       "    <tr>\n",
       "      <th>1</th>\n",
       "      <td>HP:0001742</td>\n",
       "      <td>Nasal congestion</td>\n",
       "      <td>False</td>\n",
       "      <td>True</td>\n",
       "    </tr>\n",
       "    <tr>\n",
       "      <th>2</th>\n",
       "      <td>HP:0002694</td>\n",
       "      <td>Sclerosis of skull base</td>\n",
       "      <td>True</td>\n",
       "      <td>True</td>\n",
       "    </tr>\n",
       "    <tr>\n",
       "      <th>3</th>\n",
       "      <td>HP:0100774</td>\n",
       "      <td>Hyperostosis</td>\n",
       "      <td>True</td>\n",
       "      <td>True</td>\n",
       "    </tr>\n",
       "    <tr>\n",
       "      <th>4</th>\n",
       "      <td>HP:0000648</td>\n",
       "      <td>Optic atrophy</td>\n",
       "      <td>True</td>\n",
       "      <td>True</td>\n",
       "    </tr>\n",
       "    <tr>\n",
       "      <th>5</th>\n",
       "      <td>HP:0003016</td>\n",
       "      <td>Metaphyseal widening</td>\n",
       "      <td>True</td>\n",
       "      <td>True</td>\n",
       "    </tr>\n",
       "    <tr>\n",
       "      <th>6</th>\n",
       "      <td>HP:0000303</td>\n",
       "      <td>Mandibular prognathia</td>\n",
       "      <td>True</td>\n",
       "      <td>True</td>\n",
       "    </tr>\n",
       "  </tbody>\n",
       "</table>\n",
       "</div>"
      ],
      "text/plain": [
       "           id                             label  observed  measured\n",
       "0  HP:0000407  Sensorineural hearing impairment      True      True\n",
       "1  HP:0001742                  Nasal congestion     False      True\n",
       "2  HP:0002694           Sclerosis of skull base      True      True\n",
       "3  HP:0100774                      Hyperostosis      True      True\n",
       "4  HP:0000648                     Optic atrophy      True      True\n",
       "5  HP:0003016              Metaphyseal widening      True      True\n",
       "6  HP:0000303             Mandibular prognathia      True      True"
      ]
     },
     "execution_count": 13,
     "metadata": {},
     "output_type": "execute_result"
    }
   ],
   "source": [
    "patB_23y = \"\"\"At the age of 23 years, he presented with a\n",
    "progressive conductive and sensorineural hearing loss, mainly of\n",
    "the high tones and more pronounced on the left side. He had no\n",
    "nasal obstruction and he stated that his smell sensation was intact.\n",
    "Fundoscopy showed no signs of optic nerve atrophy. A CT scan of\n",
    "the os petrosum showed reduced pneumatization of the mastoid\n",
    "and diffuse hyperostosis and sclerosis of the skull base (Fig. 2d). In\n",
    "contrast, plain radiography showed only mild cranial involvement,\n",
    "but did show tubular remodeling and widened metaphyses of\n",
    "the long bones (Fig. 1d–f). Paranasal bossing, apparent hyper-\n",
    "telorism, and prognathism were evident. His height was 185 cm\n",
    "(75th–90th centile) (father: 176 cm (25th–50th centile); mother:\n",
    "172 cm (75th–90th centile)) and skull circumference 62 cm\n",
    "(>97th centile) (father: 60.5 cm (90th–97th centile); mother: 57 cm\n",
    "(75th–90th centile)). Lateral deviation of the distal phalanges of his\n",
    "third fingers and medial deviation of the distal phalanges of his\n",
    "fourth fingers were noted. He graduated from university in mathe-\n",
    "matics and chemistry.\"\"\"\n",
    "excluded = set()\n",
    "excluded.add(\"Nasal congestion\")\n",
    "results = encoderB.add_vignette(vignette=patB_23y, custom_d=d1, custom_age=\"P23Y\", excluded_terms=excluded)\n",
    "results"
   ]
  },
  {
   "cell_type": "code",
   "execution_count": 14,
   "id": "62c93abe",
   "metadata": {},
   "outputs": [
    {
     "name": "stdout",
     "output_type": "stream",
     "text": [
      "https://rest.variantvalidator.org/VariantValidator/variantvalidator/hg38/NM_054027.6%3Ac.1172T>C/NM_054027.6?content-type=application%2Fjson\n"
     ]
    },
    {
     "data": {
      "text/plain": [
       "'chr5:14713637A>G'"
      ]
     },
     "execution_count": 14,
     "metadata": {},
     "output_type": "execute_result"
    }
   ],
   "source": [
    "varB = varValidator.encode_hgvs(hgvs=\"c.1172T>C\")\n",
    "varB.set_heterozygous()\n",
    "encoderB.add_variant_or_interpretation(varB)\n",
    "varB.to_string()"
   ]
  },
  {
   "cell_type": "code",
   "execution_count": 15,
   "id": "3ab55e65",
   "metadata": {},
   "outputs": [],
   "source": [
    "individualB = encoderB.get_individual()"
   ]
  },
  {
   "cell_type": "markdown",
   "id": "3e2c1768",
   "metadata": {},
   "source": [
    "<h3>Patient C</h3>"
   ]
  },
  {
   "cell_type": "code",
   "execution_count": 16,
   "id": "8e457fda",
   "metadata": {},
   "outputs": [],
   "source": [
    "individual_id=\"patient C\"\n",
    "sex=\"MALE\"\n",
    "age=\"P43Y\"\n",
    "encoderC = CaseEncoder(hpo_cr=hpo_cr, \n",
    "                       pmid=PMID, \n",
    "                       individual_id=\"patient C\",\n",
    "                       metadata=metadata.to_ga4gh(),\n",
    "                       age_at_last_exam=age,\n",
    "                       sex=sex,\n",
    "                       disease=cmd_disease)"
   ]
  },
  {
   "cell_type": "code",
   "execution_count": 17,
   "id": "9d18a04c",
   "metadata": {},
   "outputs": [],
   "source": [
    "patient_C_2y = \"\"\"At examination, he was a 43-year-old man born from\n",
    "unrelated parents. Since early childhood, paranasal bossing and\n",
    "apparent hypertelorism were noted. Nasopharyngoscopy showed\n",
    "bilateral narrowing of nasal passages and posterior choanae due to\n",
    "bony overgrowth. \"\"\"\n",
    "d1 = {'narrowing of nasal passages and posterior choanae due to bony overgrowth':'Choanal stenosis'}\n",
    "results = encoderC.add_vignette(vignette=patient_C_2y, custom_d=d1, custom_age=\"P2Y\")\n",
    "#results"
   ]
  },
  {
   "cell_type": "code",
   "execution_count": 18,
   "id": "2a34801c",
   "metadata": {},
   "outputs": [],
   "source": [
    "patient_C_14y = \"\"\"Skull radiographs performed at 14 years of age\n",
    "showed hyperostosis (Fig. 1g,h). He had a delay in primary dentition and malocclusion. \n",
    "\"\"\"\n",
    "d2 = {'delay in primary dentition':'Delayed eruption of primary teeth',\n",
    "     'malocclusion':'Dental malocclusion'}\n",
    "results = encoderC.add_vignette(vignette=patient_C_14y, custom_d=d2, custom_age=\"P14Y\")"
   ]
  },
  {
   "cell_type": "code",
   "execution_count": 19,
   "id": "b39c93b2",
   "metadata": {},
   "outputs": [],
   "source": [
    "patient_C_30y = \"\"\"At age 30 years, he underwent multiple\n",
    "tooth extractions and implantations. The diagnosis of CMD was\n",
    "suggested at the age of 40 years based on clinical history, facial\n",
    "dysmorphism, and radiographic features including widening of the\n",
    "metaphyses with cortical thinning, more evident at the distal femurs\n",
    "(Fig. 1i). The patient underwent regular follow-up including yearly\n",
    "audiogram to monitor mild conductive deafness diagnosed at the\n",
    "age of 30 years by audiometry. \"\"\"\n",
    "d3 = {'widening of the metaphyses':'Metaphyseal widening',\n",
    "     'cortical thinning':'Thin bony cortex',\n",
    "     'conductive deafness':'Conductive hearing impairment'}\n",
    "excluded = set()\n",
    "excluded.add('Abnormal facial shape')\n",
    "false_pos = set()\n",
    "false_pos.add('facial dysmorphism')\n",
    "results = encoderC.add_vignette(vignette=patient_C_30y, custom_d=d3, custom_age=\"P30Y\", false_positive=false_pos)"
   ]
  },
  {
   "cell_type": "code",
   "execution_count": 20,
   "id": "e45ab548",
   "metadata": {},
   "outputs": [],
   "source": [
    "patient_C_43y = \"\"\"At age 43 years, a cranial CT scan\n",
    "showed a thickened calvaria (Fig. 2c–f). At this time, he complained\n",
    "of tinnitus and worsening of hearing loss. High-resolution tempo-\n",
    "ral CT scan showed narrowing of the middle ear cavities with\n",
    "bilateral fixation of the body of the incus to the lateral attic wall\n",
    "(Fig. 2e). His final height was 168 cm (10th–25th centile).\"\"\"\n",
    "results = encoderC.add_vignette(vignette=patient_C_43y, custom_d=d3, custom_age=\"P43Y\", )"
   ]
  },
  {
   "cell_type": "code",
   "execution_count": 21,
   "id": "c01bba72",
   "metadata": {},
   "outputs": [
    {
     "name": "stdout",
     "output_type": "stream",
     "text": [
      "https://rest.variantvalidator.org/VariantValidator/variantvalidator/hg38/NM_054027.6%3Ac.1001T>G/NM_054027.6?content-type=application%2Fjson\n"
     ]
    },
    {
     "data": {
      "text/plain": [
       "'chr5:14741837A>C'"
      ]
     },
     "execution_count": 21,
     "metadata": {},
     "output_type": "execute_result"
    }
   ],
   "source": [
    "varC = varValidator.encode_hgvs(hgvs=\"c.1001T>G\")\n",
    "varC.set_heterozygous()\n",
    "encoderC.add_variant_or_interpretation(varC)\n",
    "varC.to_string()"
   ]
  },
  {
   "cell_type": "code",
   "execution_count": 22,
   "id": "c17a288d",
   "metadata": {},
   "outputs": [],
   "source": [
    "individualC = encoderC.get_individual()"
   ]
  },
  {
   "cell_type": "markdown",
   "id": "1e77e6c4-b1c4-4670-a13e-13e355abb46e",
   "metadata": {},
   "source": [
    "# Validation"
   ]
  },
  {
   "cell_type": "code",
   "execution_count": 23,
   "id": "aaac877d-9cb8-4da0-a276-260c5450b51b",
   "metadata": {},
   "outputs": [
    {
     "data": {
      "text/html": [
       "<h2>Cohort validation</h2>\n",
       "<p>No errors found for the cohort with 3 individuals</p>"
      ],
      "text/plain": [
       "<IPython.core.display.HTML object>"
      ]
     },
     "metadata": {},
     "output_type": "display_data"
    }
   ],
   "source": [
    "cohort = [individualA, individualB, individualC]\n",
    "cvalidator = CohortValidator(cohort=cohort, ontology=hpo_ontology, min_hpo=1, allelic_requirement=AllelicRequirement.MONO_ALLELIC)\n",
    "validated_individuals = cvalidator.get_validated_individual_list()\n",
    "qc = QcVisualizer(ontology=hpo_ontology)\n",
    "display(HTML(qc.to_html(validated_individuals)))"
   ]
  },
  {
   "cell_type": "markdown",
   "id": "4ad1f9b8-7257-45d1-80bd-c59d18e810ce",
   "metadata": {},
   "source": [
    "# Visualization"
   ]
  },
  {
   "cell_type": "code",
   "execution_count": 25,
   "id": "03660121-2c9b-4c36-b957-ad190733fd59",
   "metadata": {},
   "outputs": [
    {
     "data": {
      "text/html": [
       "<table style=\"border: 2px solid black; align: \"left\">\n",
       "<caption>3 phenopackets - PMID:20358596 (n=3)</caption>\n",
       "<tr><th style=\"text-align: left;font-weight: bold;\">Individual</th><th style=\"text-align: left;font-weight: bold;\">Disease</th><th style=\"text-align: left;font-weight: bold;\">Genotype</th><th style=\"text-align: left;font-weight: bold;\">Phenotypic features</th></tr>\n",
       "<tr><td style=\"text-align: left;\">patient A (MALE; P12Y)</td><td style=\"text-align: left;\">Craniometaphyseal dysplasia (OMIM:123000)</td><td style=\"text-align: left;\">NM_054027.6:c.1015T>C (heterozygous)</td><td style=\"text-align: left;\"><b>P0D</b>: Hypertelorism (HP:0000316); Feeding difficulties (HP:0011968); Nasal congestion (HP:0001742); Bilateral facial palsy (HP:0430025)<br/><b>P1M</b>: Cranial hyperostosis (HP:0004437)<br/><b>P2Y6M</b>: Conductive hearing impairment (HP:0000405)<br/><b>P6Y</b>: Conductive hearing loss (HP:0000405); Dental malocclusion (HP:0000689); Increased circulating osteocalcin level (HP:0031428); Elevated circulating alkaline phosphatase concentration (HP:0003155)</td></tr>\n",
       "<tr><td style=\"text-align: left;\">patient B (MALE; P23Y)</td><td style=\"text-align: left;\">Craniometaphyseal dysplasia (OMIM:123000)</td><td style=\"text-align: left;\">NM_054027.6:c.1172T>C (heterozygous)</td><td style=\"text-align: left;\"><b>P2M</b>: Unilateral facial palsy (HP:0012799); Dental crowding (HP:0000678); Macrocephaly (HP:0000256)<br/><b>P23Y</b>: Sensorineural hearing impairment (HP:0000407); excluded: Nasal congestion (HP:0001742); Sclerosis of skull base (HP:0002694); Hyperostosis (HP:0100774); Optic atrophy (HP:0000648); Metaphyseal widening (HP:0003016); Mandibular prognathia (HP:0000303)</td></tr>\n",
       "<tr><td style=\"text-align: left;\">patient C (MALE; P43Y)</td><td style=\"text-align: left;\">Craniometaphyseal dysplasia (OMIM:123000)</td><td style=\"text-align: left;\">NM_054027.6:c.1001T>G (heterozygous)</td><td style=\"text-align: left;\"><b>P2Y</b>: Hypertelorism (HP:0000316); Choanal stenosis (HP:0000452)<br/><b>P14Y</b>: Hyperostosis (HP:0100774); Delayed eruption of primary teeth (HP:0000680); Dental malocclusion (HP:0000689)<br/><b>P30Y</b>: Metaphyseal widening (HP:0003016); Thin bony cortex (HP:0002753); Conductive hearing impairment (HP:0000405)<br/><b>P43Y</b>: Thickened calvaria (HP:0002684); Hearing impairment (HP:0000365); Tinnitus (HP:0000360)</td></tr>\n",
       "</table>"
      ],
      "text/plain": [
       "<IPython.core.display.HTML object>"
      ]
     },
     "metadata": {},
     "output_type": "display_data"
    }
   ],
   "source": [
    "phenopackets = [i.to_ga4gh_phenopacket(metadata=metadata.to_ga4gh()) for i in cohort]\n",
    "table = PhenopacketTable(phenopacket_list=phenopackets)\n",
    "display(HTML(table.to_html()))"
   ]
  },
  {
   "cell_type": "code",
   "execution_count": 26,
   "id": "56c098d8",
   "metadata": {},
   "outputs": [
    {
     "name": "stdout",
     "output_type": "stream",
     "text": [
      "We output 3 GA4GH phenopackets to the directory phenopackets\n"
     ]
    }
   ],
   "source": [
    "output_directory = \"phenopackets\"\n",
    "Individual.output_individuals_as_phenopackets(individual_list=cohort,\n",
    "                                             metadata=metadata,\n",
    "                                             outdir=output_directory)"
   ]
  },
  {
   "cell_type": "code",
   "execution_count": null,
   "id": "ae25b155-2b0b-41ac-9e84-8c8d8b16404c",
   "metadata": {},
   "outputs": [],
   "source": []
  }
 ],
 "metadata": {
  "kernelspec": {
   "display_name": "pstore_env",
   "language": "python",
   "name": "pstore_env"
  },
  "language_info": {
   "codemirror_mode": {
    "name": "ipython",
    "version": 3
   },
   "file_extension": ".py",
   "mimetype": "text/x-python",
   "name": "python",
   "nbconvert_exporter": "python",
   "pygments_lexer": "ipython3",
   "version": "3.11.3"
  }
 },
 "nbformat": 4,
 "nbformat_minor": 5
}
