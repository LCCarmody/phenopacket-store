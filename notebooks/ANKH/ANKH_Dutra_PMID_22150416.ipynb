{
 "cells": [
  {
   "cell_type": "markdown",
   "id": "d36b8f3b",
   "metadata": {},
   "source": [
    "<h1>ANKH: Dutra et al</h1>\n",
    "<p>Create phenopackets from <a href=\"https://pubmed.ncbi.nlm.nih.gov/22150416/\" target=\"__blank\">\n",
    "Dutra EH, et al., Two novel large ANKH deletion mutations in sporadic cases with craniometaphyseal dysplasia. \n",
    "Clin Genet. 2012;81(1):93-5</a></p>"
   ]
  },
  {
   "cell_type": "code",
   "execution_count": 1,
   "id": "6d6d5c1d",
   "metadata": {},
   "outputs": [
    {
     "name": "stdout",
     "output_type": "stream",
     "text": [
      "Using pyphetools version 0.8.12\n"
     ]
    }
   ],
   "source": [
    "import phenopackets as PPKt\n",
    "from google.protobuf.json_format import MessageToDict, MessageToJson, Parse, ParseDict\n",
    "import pandas as pd\n",
    "pd.set_option('display.max_colwidth', None) # show entire column contents, important!\n",
    "from collections import defaultdict\n",
    "from IPython.display import HTML, display\n",
    "from pyphetools.creation import *\n",
    "from pyphetools.validation import *\n",
    "from pyphetools.visualization import *\n",
    "import pyphetools\n",
    "print(f\"Using pyphetools version {pyphetools.__version__}\")"
   ]
  },
  {
   "cell_type": "code",
   "execution_count": 2,
   "id": "f1e6ac22",
   "metadata": {},
   "outputs": [],
   "source": [
    "parser = HpoParser()\n",
    "hpo_cr = parser.get_hpo_concept_recognizer()\n",
    "hpo_version = parser.get_version()\n",
    "hpo_ontology = parser.get_ontology()\n",
    "PMID = \"PMID:22150416\"\n",
    "title = \"Two novel large ANKH deletion mutations in sporadic cases with craniometaphyseal dysplasia\"\n",
    "metadata = MetaData(created_by=\"ORCID:0000-0002-0736-9199\", pmid=PMID, pubmed_title=title)\n",
    "metadata.default_versions_with_hpo(version=hpo_version)"
   ]
  },
  {
   "cell_type": "markdown",
   "id": "c9fbb8b1-b939-4af2-9084-f4804dd51ae0",
   "metadata": {},
   "source": [
    "<h2>Case 1</h2>"
   ]
  },
  {
   "cell_type": "code",
   "execution_count": 3,
   "id": "aba09258-89ed-41fe-9c5f-b3deab7d831d",
   "metadata": {},
   "outputs": [],
   "source": [
    "individual_id = \"patient 1\"\n",
    "age = \"P1Y5M\"\n",
    "cmd = Disease(disease_id=\"OMIM:123000\", disease_label=\"Craniometaphyseal dysplasia\")\n",
    "encoder1 = CaseEncoder(hpo_cr=hpo_cr, \n",
    "                       pmid=PMID, \n",
    "                       individual_id=individual_id,\n",
    "                       metadata=metadata.to_ga4gh(),\n",
    "                       age_at_last_exam=age, \n",
    "                       sex=\"female\",\n",
    "                       disease=cmd)"
   ]
  },
  {
   "cell_type": "code",
   "execution_count": 4,
   "id": "e48111a8",
   "metadata": {},
   "outputs": [],
   "source": [
    "case1_10_weeks=\"\"\"Female patient 1 (Fig. 1a) had acute-onset left facial nerve palsy and subacute upper airway\n",
    "obstruction at 10 weeks of age. \"\"\"\n",
    "results = encoder1.add_vignette(vignette=case1_10_weeks, custom_d={},custom_age=\"P2M10D\")\n",
    "#results"
   ]
  },
  {
   "cell_type": "code",
   "execution_count": 5,
   "id": "f030cd9d",
   "metadata": {},
   "outputs": [],
   "source": [
    "case1_8months = \"\"\"At 8 months, a temporal bone computed tomography (CT)\n",
    "revealed significant sclerosis of the skull base, which led to her diagnosis. \"\"\"\n",
    "d1={'ankle swelling and pain': 'Ankle pain'}\n",
    "results = encoder1.add_vignette(vignette=case1_8months, custom_d={},custom_age=\"P8M\")\n",
    "#results"
   ]
  },
  {
   "cell_type": "code",
   "execution_count": 6,
   "id": "4624cffa",
   "metadata": {},
   "outputs": [],
   "source": [
    "case1_9months=\"\"\"At 9 months, she\n",
    "was diagnosed with hearing loss bilaterally necessitating hearing aids.\"\"\"\n",
    "results = encoder1.add_vignette(vignette=case1_9months, custom_d={},custom_age=\"P9M\")\n",
    "#results"
   ]
  },
  {
   "cell_type": "code",
   "execution_count": 7,
   "id": "3e40f073",
   "metadata": {},
   "outputs": [],
   "source": [
    "case1_10months=\"\"\" Ophthalmologic\n",
    "evaluation at 10 months noted poor visual fixation and tracking in her left eye, left\n",
    "exotropia, and primary optic atrophy\n",
    "\"\"\"\n",
    "d10 = {'poor visual fixation':'Visual fixation instability'}\n",
    "results = encoder1.add_vignette(vignette=case1_10months, custom_d=d10,custom_age=\"P10M\")\n",
    "#results"
   ]
  },
  {
   "cell_type": "code",
   "execution_count": 8,
   "id": "21c25972",
   "metadata": {},
   "outputs": [],
   "source": [
    "case1_12months=\"\"\"She developed nystagmus at 12 months and\n",
    "subsequently had two episodes of orbital cellulitis. Progressive overgrowth of her inferior\n",
    "and middle turbinates prompted surgical resection to relieve obstruction, which was\n",
    "complicated by the marked density of the bone.\n",
    "\"\"\"\n",
    "results = encoder1.add_vignette(vignette=case1_12months, custom_age=\"P12M\")\n",
    "#results"
   ]
  },
  {
   "cell_type": "code",
   "execution_count": 9,
   "id": "df595428",
   "metadata": {},
   "outputs": [],
   "source": [
    "case1_17months=\"\"\"By 17 months, she had the eruption of six\n",
    "normal teeth with hypertrophic appearing gums. With length consistently about the 20th\n",
    "percentile (−1 SD), her head circumference measured 1.62, 2.54, 3.07, and 3.87 SDs above\n",
    "the mean for age at 4, 7, 10, and 17 months without hydrocephalus or narrowing of the\n",
    "foramen magnum. \"\"\"\n",
    "results = []\n",
    "r = encoder1.add_term(label=\"Hydrocephalus\", excluded=True, custom_age=\"P1Y5M\")\n",
    "r = encoder1.add_term(label=\"Macrocephaly\", custom_age=\"P17M\")\n",
    "#print(r)"
   ]
  },
  {
   "cell_type": "code",
   "execution_count": 10,
   "id": "0621be63",
   "metadata": {},
   "outputs": [],
   "source": [
    "labs = \"\"\"Alkaline phosphatase levels were persistently elevated, ranging from 427\n",
    "to 1944 U/l (normal: 150–400). Other evaluations included normal total calcium levels,\n",
    "ionized calcium, which was normal at 1 week but elevated to 5.53 mg/dl (normal: 4.48–\n",
    "5.28) at 8 months, and phosphorus, which was 2.7 mg/dl (normal 4.5–6.7) at 2 months but\n",
    "normal at 8 months.\"\"\"\n",
    "r = encoder1.add_term(label=\"Elevated circulating alkaline phosphatase concentration\", custom_age=\"P2M\")\n",
    "r = encoder1.add_term(label=\"Hypercalcemia\", custom_age=\"P8M\")\n",
    "r = encoder1.add_term(label=\"Hypophosphatemia\", custom_age=\"P2M\")\n",
    "#print(r)"
   ]
  },
  {
   "cell_type": "code",
   "execution_count": 11,
   "id": "6b70ed6f",
   "metadata": {},
   "outputs": [
    {
     "name": "stdout",
     "output_type": "stream",
     "text": [
      "https://rest.variantvalidator.org/VariantValidator/variantvalidator/hg38/NM_054027.6%3Ac.853_870del/NM_054027.6?content-type=application%2Fjson\n"
     ]
    },
    {
     "data": {
      "text/plain": [
       "'chr5:14745913CCGTATGGCATGTGACCCA>C'"
      ]
     },
     "execution_count": 11,
     "metadata": {},
     "output_type": "execute_result"
    }
   ],
   "source": [
    "# #BC014526\n",
    "# only one isoform, NM_054027.6 \n",
    "genome = 'hg38'\n",
    "transcript='NM_054027.6' # not mentioned in article, but should be correct since there are no alt starts\n",
    "varValidator = VariantValidator(genome_build=genome, transcript=transcript)\n",
    "var1 = varValidator.encode_hgvs(hgvs=\"c.853_870del\")\n",
    "var1.set_heterozygous()\n",
    "encoder1.add_variant_or_interpretation(var1.to_ga4gh_variant_interpretation())\n",
    "var1.to_string()"
   ]
  },
  {
   "cell_type": "code",
   "execution_count": 12,
   "id": "e8289b54",
   "metadata": {},
   "outputs": [],
   "source": [
    "individual1 = encoder1.get_individual()"
   ]
  },
  {
   "cell_type": "markdown",
   "id": "8585f3fa",
   "metadata": {},
   "source": [
    "<h3>Patient 2</h3>"
   ]
  },
  {
   "cell_type": "code",
   "execution_count": 13,
   "id": "819c6382",
   "metadata": {},
   "outputs": [],
   "source": [
    "v1=\"\"\"Patient 2 (Fig. 1b) is a 5-year-old female who was evaluated for thickened calvarium and\n",
    "temporal bone with bony sclerosis of the internal auditory canals, cochleas, and semicircular\n",
    "canals, bilateral obliteration of mastoid air cells, and mixed bilateral hearing loss.\n",
    "Progressive hearing loss was diagnosed at 2 years of age. At 5 years, height was 115.3 cm\n",
    "(95th centile) and head circumference was 54.5 cm (3.4 SD above the mean). She has\n",
    "macrocephaly, tall broad forehead, hypertelorism, telecanthus, epiblepharon, paranasal\n",
    "bossing, excess vertical face height, prominent maxillary alveolar ridge, and borderline low-\n",
    "set posteriorly rotated ears. Dental examination showed normal primary dentition with\n",
    "normal occlusion. Neurologic examination showed mild left facial palsy. Alkaline\n",
    "phosphatase was minimally elevated at 324 U/l (normal for age 93–309). Serum calcium\n",
    "was normal, 9.4 mg/dl (normal 8.9–10.4), as was phosphorus, 4.3 mg/dl (normal 3.0–6.0).\"\"\""
   ]
  },
  {
   "cell_type": "code",
   "execution_count": 14,
   "id": "b229c562",
   "metadata": {},
   "outputs": [],
   "source": [
    "age=\"P5Y\"\n",
    "individual_id_2 = \"patient 2\"\n",
    "encoder2 = CaseEncoder(hpo_cr=hpo_cr, \n",
    "                       pmid=PMID, \n",
    "                       individual_id=individual_id_2,\n",
    "                       metadata=metadata.to_ga4gh(),\n",
    "                       age_at_last_exam=age, \n",
    "                       sex=\"female\",\n",
    "                       disease=cmd)"
   ]
  },
  {
   "cell_type": "code",
   "execution_count": 15,
   "id": "6b15589d",
   "metadata": {},
   "outputs": [
    {
     "data": {
      "text/html": [
       "<div>\n",
       "<style scoped>\n",
       "    .dataframe tbody tr th:only-of-type {\n",
       "        vertical-align: middle;\n",
       "    }\n",
       "\n",
       "    .dataframe tbody tr th {\n",
       "        vertical-align: top;\n",
       "    }\n",
       "\n",
       "    .dataframe thead th {\n",
       "        text-align: right;\n",
       "    }\n",
       "</style>\n",
       "<table border=\"1\" class=\"dataframe\">\n",
       "  <thead>\n",
       "    <tr style=\"text-align: right;\">\n",
       "      <th></th>\n",
       "      <th>id</th>\n",
       "      <th>label</th>\n",
       "      <th>observed</th>\n",
       "      <th>measured</th>\n",
       "    </tr>\n",
       "  </thead>\n",
       "  <tbody>\n",
       "    <tr>\n",
       "      <th>0</th>\n",
       "      <td>HP:0003155</td>\n",
       "      <td>Elevated circulating alkaline phosphatase concentration</td>\n",
       "      <td>True</td>\n",
       "      <td>True</td>\n",
       "    </tr>\n",
       "  </tbody>\n",
       "</table>\n",
       "</div>"
      ],
      "text/plain": [
       "           id                                                    label  \\\n",
       "0  HP:0003155  Elevated circulating alkaline phosphatase concentration   \n",
       "\n",
       "   observed  measured  \n",
       "0      True      True  "
      ]
     },
     "execution_count": 15,
     "metadata": {},
     "output_type": "execute_result"
    }
   ],
   "source": [
    "# Elevated circulating alkaline phosphatase concentration HP:0003155\n",
    "encoder2.add_term(label=\"Elevated circulating alkaline phosphatase concentration\", custom_age=\"P5Y\")"
   ]
  },
  {
   "cell_type": "code",
   "execution_count": 16,
   "id": "b184f9b4",
   "metadata": {},
   "outputs": [
    {
     "name": "stdout",
     "output_type": "stream",
     "text": [
      "https://rest.variantvalidator.org/VariantValidator/variantvalidator/hg38/NM_054027.6%3Ac.1178_1189del/NM_054027.6?content-type=application%2Fjson\n"
     ]
    }
   ],
   "source": [
    "\"c1178-1189del\"\n",
    "genome = 'hg38'\n",
    "transcript='NM_054027.6' # not mentioned in article, but should be correct since there are no alt starts\n",
    "var2 = varValidator.encode_hgvs(hgvs=\"c.1178_1189del\")\n",
    "var2.set_heterozygous()"
   ]
  },
  {
   "cell_type": "code",
   "execution_count": 17,
   "id": "d3082323-5412-4378-a339-d5e534356975",
   "metadata": {},
   "outputs": [
    {
     "data": {
      "text/plain": [
       "'chr5:14713618GGTTTTCTTCAGT>G'"
      ]
     },
     "execution_count": 17,
     "metadata": {},
     "output_type": "execute_result"
    }
   ],
   "source": [
    "encoder2.add_variant_or_interpretation(var2)\n",
    "var2.to_string()"
   ]
  },
  {
   "cell_type": "code",
   "execution_count": 18,
   "id": "bcbf7697",
   "metadata": {},
   "outputs": [],
   "source": [
    "individual2 = encoder2.get_individual()"
   ]
  },
  {
   "cell_type": "code",
   "execution_count": 19,
   "id": "28aafc15",
   "metadata": {},
   "outputs": [
    {
     "data": {
      "text/html": [
       "<h2>Cohort validation</h2>\n",
       "<p>No errors found for the cohort with 2 individuals</p>"
      ],
      "text/plain": [
       "<IPython.core.display.HTML object>"
      ]
     },
     "metadata": {},
     "output_type": "display_data"
    }
   ],
   "source": [
    "cohort = [individual1, individual2]\n",
    "cvalidator = CohortValidator(cohort=cohort, ontology=hpo_ontology, min_hpo=1, allelic_requirement=AllelicRequirement.MONO_ALLELIC)\n",
    "validated_individuals = cvalidator.get_validated_individual_list()\n",
    "qc = QcVisualizer(ontology=hpo_ontology)\n",
    "display(HTML(qc.to_html(validated_individuals)))"
   ]
  },
  {
   "cell_type": "markdown",
   "id": "6c9a2e20-5c77-434f-ac63-e43cae77f5bf",
   "metadata": {},
   "source": [
    "# Visualization"
   ]
  },
  {
   "cell_type": "code",
   "execution_count": 20,
   "id": "3f792b54-7fac-401c-8aba-812e7e8f03c3",
   "metadata": {},
   "outputs": [
    {
     "data": {
      "text/html": [
       "<table style=\"border: 2px solid black;\">\n",
       "\n",
       "<caption>2 phenopackets - PMID:22150416 (n=2)</caption>\n",
       "\n",
       "<tr>\n",
       "            <th>Individual</th>\n",
       "            <th>Disease</th>\n",
       "            <th>Genotype</th>\n",
       "            <th>Phenotypic features</th>\n",
       "        </tr>\n",
       "        \n",
       "<tr>\n",
       "<td>patient 1 (FEMALE; P1Y5M)</ts>\n",
       "<td>Craniometaphyseal dysplasia (OMIM:123000)</ts>\n",
       "<td>NM_054027.6:c.854_871del (heterozygous)</td>\n",
       "<td class=\"table-data\">Upper airway obstruction (HP:0002781); Facial palsy (HP:0010628); Sclerosis of skull base (HP:0002694); Hearing impairment (HP:0000365); Visual fixation instability (HP:0025405); Exotropia (HP:0000577); Optic atrophy (HP:0000648); Overgrowth (HP:0001548); Nystagmus (HP:0000639); Cellulitis (HP:0100658); Macrocephaly (HP:0000256); Elevated circulating alkaline phosphatase concentration (HP:0003155); Hypercalcemia (HP:0003072); Hypophosphatemia (HP:0002148)</td>\n",
       "</tr>\n",
       "<tr>\n",
       "<td>patient 2 (FEMALE; P5Y)</ts>\n",
       "<td>Craniometaphyseal dysplasia (OMIM:123000)</ts>\n",
       "<td>NM_054027.6:c.1179_1190del (heterozygous)</td>\n",
       "<td class=\"table-data\">Elevated circulating alkaline phosphatase concentration (HP:0003155)</td>\n",
       "</tr>\n",
       "</table>\n"
      ],
      "text/plain": [
       "<IPython.core.display.HTML object>"
      ]
     },
     "metadata": {},
     "output_type": "display_data"
    }
   ],
   "source": [
    "ppkt_list = [vi.to_ga4gh_phenopacket(metadata=metadata) for vi in cohort]\n",
    "table = PhenopacketTable(phenopacket_list=ppkt_list)\n",
    "display(HTML(table.to_html()))"
   ]
  },
  {
   "cell_type": "code",
   "execution_count": 21,
   "id": "84b6ad9a-bb9a-4e9f-ab3c-dacf73cadbe3",
   "metadata": {},
   "outputs": [
    {
     "name": "stdout",
     "output_type": "stream",
     "text": [
      "We output 2 GA4GH phenopackets to the directory phenopackets\n"
     ]
    }
   ],
   "source": [
    "Individual.output_individuals_as_phenopackets(individual_list=cohort,\n",
    "                                              metadata=metadata,\n",
    "                                              outdir=\"phenopackets\")"
   ]
  },
  {
   "cell_type": "code",
   "execution_count": 22,
   "id": "ffd7c8d9-9e5b-4331-9641-accf2bf41622",
   "metadata": {},
   "outputs": [],
   "source": [
    "# Note pxf validate --hpo=hp.json *.json \n",
    "# showed no errors"
   ]
  },
  {
   "cell_type": "code",
   "execution_count": null,
   "id": "b36c9002-ce69-480a-91c7-d0ba598a2b5f",
   "metadata": {},
   "outputs": [],
   "source": []
  }
 ],
 "metadata": {
  "kernelspec": {
   "display_name": "ppt_venv",
   "language": "python",
   "name": "ppt_venv"
  },
  "language_info": {
   "codemirror_mode": {
    "name": "ipython",
    "version": 3
   },
   "file_extension": ".py",
   "mimetype": "text/x-python",
   "name": "python",
   "nbconvert_exporter": "python",
   "pygments_lexer": "ipython3",
   "version": "3.11.3"
  }
 },
 "nbformat": 4,
 "nbformat_minor": 5
}
