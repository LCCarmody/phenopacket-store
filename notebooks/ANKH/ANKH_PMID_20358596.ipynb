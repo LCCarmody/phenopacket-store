{
 "cells": [
  {
   "cell_type": "markdown",
   "id": "a089ecec",
   "metadata": {},
   "source": [
    "<H1>ANKH Kornal et al, PMID:20358596</H1>\n",
    "<p>This notebook imports data from <a href=\"https://pubmed.ncbi.nlm.nih.gov/20358596/\" target=\"__blank\">Kornak U, et al. Three novel mutations in the ANK membrane protein cause craniometaphyseal dysplasia with variable conductive hearing loss. Am J Med Genet A. 2010;152A(4):870-4</a></p>"
   ]
  },
  {
   "cell_type": "code",
   "execution_count": 1,
   "id": "b2b0228f",
   "metadata": {},
   "outputs": [],
   "source": [
    "import phenopackets as php\n",
    "from google.protobuf.json_format import MessageToDict, MessageToJson\n",
    "from google.protobuf.json_format import Parse, ParseDict\n",
    "import pandas as pd\n",
    "pd.set_option('display.max_colwidth', None) # show entire column contents, important!\n",
    "from collections import defaultdict\n",
    "import os\n",
    "import sys\n",
    "from pyphetools import *"
   ]
  },
  {
   "cell_type": "markdown",
   "id": "d34a4493",
   "metadata": {},
   "source": [
    "<H3>patient A</H3>"
   ]
  },
  {
   "cell_type": "code",
   "execution_count": 2,
   "id": "67c5a142",
   "metadata": {},
   "outputs": [],
   "source": [
    "caseA=\"\"\"\n",
    "This is a male child of unaffected, unrelated parents.\n",
    "He was born at full term with normal birth parameters of OFC\n",
    "35 cm, weight 2,750 g, and length 48 cm. Apparent hypertelorism\n",
    "was evident at birth, together with a rigid neck, and wide alveolar\n",
    "ridges. Bilateral facial palsy was diagnosed soon after birth and\n",
    "respiratory problems with nasal obstruction and feeding difficulties\n",
    "manifested during the first months of life. Skull hyperostosis and modeling defects of the femora \n",
    "were noted at the age of 1 year\n",
    "(Figs. 1a–c and 2a,b). Cranial MRI showed a structurally normal\n",
    "CNS, but evoked potentials showed impairment of cranial nerves\n",
    "IX, X, XI, and XII (Fig. 2a,b).\"\"\""
   ]
  },
  {
   "cell_type": "code",
   "execution_count": 3,
   "id": "fe32f021",
   "metadata": {},
   "outputs": [],
   "source": [
    "parser = HpoParser()\n",
    "hpo_cr = parser.get_hpo_concept_recognizer()\n",
    "pmid = \"PMID:20358596\"\n",
    "disease_id = \"OMIM:123000\"\n",
    "disease_label = \"Craniometaphyseal dysplasia\"\n",
    "age = \"P12Y\"\n",
    "metadata = MetaData(created_by=\"ORCID:0000-0002-0736-9199\")\n",
    "metadata.geno()\n",
    "metadata.hpo(version='v2022-12-15')\n",
    "metadata.hgnc(version='06/01/23')\n",
    "metadata.omim(version='January 4, 2023')\n",
    "encoder = CaseEncoder(concept_recognizer=hpo_cr, pmid=pmid, age_at_last_exam=age)"
   ]
  },
  {
   "cell_type": "code",
   "execution_count": 4,
   "id": "062bfef8",
   "metadata": {},
   "outputs": [
    {
     "ename": "TypeError",
     "evalue": "argument of type 'type' is not iterable",
     "output_type": "error",
     "traceback": [
      "\u001b[0;31m---------------------------------------------------------------------------\u001b[0m",
      "\u001b[0;31mTypeError\u001b[0m                                 Traceback (most recent call last)",
      "Cell \u001b[0;32mIn[4], line 2\u001b[0m\n\u001b[1;32m      1\u001b[0m d1\u001b[38;5;241m=\u001b[39m{\u001b[38;5;124m'\u001b[39m\u001b[38;5;124mskull hyperostosis\u001b[39m\u001b[38;5;124m'\u001b[39m: \u001b[38;5;124m'\u001b[39m\u001b[38;5;124mCranial hyperostosis\u001b[39m\u001b[38;5;124m'\u001b[39m}\n\u001b[0;32m----> 2\u001b[0m results \u001b[38;5;241m=\u001b[39m \u001b[43mencoder\u001b[49m\u001b[38;5;241;43m.\u001b[39;49m\u001b[43madd_vignette\u001b[49m\u001b[43m(\u001b[49m\u001b[43mvignette\u001b[49m\u001b[38;5;241;43m=\u001b[39;49m\u001b[43mcaseA\u001b[49m\u001b[43m,\u001b[49m\u001b[43m \u001b[49m\u001b[43mcustom_d\u001b[49m\u001b[38;5;241;43m=\u001b[39;49m\u001b[43md1\u001b[49m\u001b[43m,\u001b[49m\u001b[43m \u001b[49m\u001b[43mcustom_age\u001b[49m\u001b[38;5;241;43m=\u001b[39;49m\u001b[38;5;124;43m\"\u001b[39;49m\u001b[38;5;124;43mP1Y\u001b[39;49m\u001b[38;5;124;43m\"\u001b[39;49m\u001b[43m)\u001b[49m\n\u001b[1;32m      3\u001b[0m results\n",
      "File \u001b[0;32m~/GIT/c2s2-clin/venv/lib/python3.10/site-packages/pyphetools/case_encoder.py:58\u001b[0m, in \u001b[0;36mCaseEncoder.add_vignette\u001b[0;34m(self, vignette, custom_d, custom_age, false_positive, excluded_terms)\u001b[0m\n\u001b[1;32m     56\u001b[0m     \u001b[38;5;28mself\u001b[39m\u001b[38;5;241m.\u001b[39m_annotations[\u001b[38;5;124m\"\u001b[39m\u001b[38;5;124mN/A\u001b[39m\u001b[38;5;124m\"\u001b[39m]\u001b[38;5;241m.\u001b[39mextend(results)\n\u001b[1;32m     57\u001b[0m \u001b[38;5;28;01mfor\u001b[39;00m r \u001b[38;5;129;01min\u001b[39;00m results:\n\u001b[0;32m---> 58\u001b[0m     \u001b[38;5;28;01mif\u001b[39;00m \u001b[43mr\u001b[49m\u001b[38;5;241;43m.\u001b[39;49m\u001b[43mlabel\u001b[49m\u001b[43m \u001b[49m\u001b[38;5;129;43;01min\u001b[39;49;00m\u001b[43m \u001b[49m\u001b[43mexcluded_terms\u001b[49m:\n\u001b[1;32m     59\u001b[0m         r\u001b[38;5;241m.\u001b[39mexcluded()\n\u001b[1;32m     60\u001b[0m \u001b[38;5;28;01mreturn\u001b[39;00m HpTerm\u001b[38;5;241m.\u001b[39mterm_list_to_dataframe(results)\n",
      "\u001b[0;31mTypeError\u001b[0m: argument of type 'type' is not iterable"
     ]
    }
   ],
   "source": [
    "d1={'skull hyperostosis': 'Cranial hyperostosis'}\n",
    "results = encoder.add_vignette(vignette=caseA, custom_d=d1, custom_age=\"P1Y\")\n",
    "results"
   ]
  },
  {
   "cell_type": "code",
   "execution_count": null,
   "id": "d315c723",
   "metadata": {},
   "outputs": [],
   "source": [
    "caseA_30m=\"\"\"A moderate conductive hearing loss was noted at the age of 30 months. \n",
    "At this age, radiographs of\n",
    "the long bones showed modifications of the metaphyseal shape\n",
    "(Fig. 1c).\"\"\""
   ]
  },
  {
   "cell_type": "code",
   "execution_count": null,
   "id": "2526546b",
   "metadata": {},
   "outputs": [],
   "source": [
    "d2={'skull hyperostosis': 'Cranial hyperostosis',\n",
    "   'conductive hearing loss': \"Conductive hearing impairment\"}\n",
    "results = encoder.add_vignette(vignette=caseA_30m, custom_d=d2, custom_age=\"P2Y6M\")\n",
    "results"
   ]
  },
  {
   "cell_type": "code",
   "execution_count": null,
   "id": "167c0693",
   "metadata": {},
   "outputs": [],
   "source": [
    "caseA_6y=\"\"\"At the age of 6 years, his height was 115 cm (\u001850th centile)\n",
    "and skull circumference was 54 cm (>97th centile). Although the\n",
    "facial palsy resolved with age, the hearing loss worsened and at\n",
    "the age of 12 years he required a hearing aid. An altered shape of\n",
    "the middle ear cavity and the ossicles was noted on CT scans (images\n",
    "not available). He had malocclusion and crowding of the teeth. The\n",
    "parathyroid hormone (14 pg/ml, reference range 10–65 pg/ml) and\n",
    "vitamin D3 (11 pg/ml, reference range 10–30 pg/ml) levels were\n",
    "normal, while osteocalcin (82 ng/ml, reference range <70 ng/ml)\n",
    "and alkaline phosphatase levels (533 IU/L, reference range 125–\n",
    "410 IU/L) were high suggesting increased bone formation.\n",
    "Although the patient manifested behavioral and language difficul-\n",
    "ties, he met normal developmental milestones\"\"\""
   ]
  },
  {
   "cell_type": "code",
   "execution_count": null,
   "id": "625d72c9",
   "metadata": {},
   "outputs": [],
   "source": [
    "results = encoder.add_vignette(vignette=caseA_6y, custom_d=d2, custom_age=\"P6Y\")\n",
    "results"
   ]
  },
  {
   "cell_type": "code",
   "execution_count": null,
   "id": "61408a92",
   "metadata": {},
   "outputs": [],
   "source": [
    "r = encoder.add_term(label=\"Increased circulating osteocalcin level\",custom_age=\"P6Y\" )\n",
    "print(r)\n",
    "r = encoder.add_term(label=\"Elevated circulating alkaline phosphatase concentration\",custom_age=\"P6Y\" )\n",
    "print(r)"
   ]
  },
  {
   "cell_type": "code",
   "execution_count": null,
   "id": "d2a43c2f",
   "metadata": {},
   "outputs": [],
   "source": [
    "genome = 'hg38'\n",
    "default_genotype = 'heterozygous'\n",
    "transcript='NM_054027.6' # not mentioned in article, but should be correct since there are no alt starts\n",
    "varValidator = VariantValidator(genome_build=genome, transcript=transcript)\n",
    "varA = varValidator.encode_hgvs(hgvs=\"c.1015T>C\")\n",
    "varA.to_string()"
   ]
  },
  {
   "cell_type": "code",
   "execution_count": null,
   "id": "7a978bd7",
   "metadata": {},
   "outputs": [],
   "source": [
    "sex = \"MALE\"\n",
    "ppacketA = encoder.get_phenopacket(individual_id=\"patient A\", sex=\"MALE\", age=\"P12Y\", disease_id=disease_id, \n",
    "                                  disease_label=disease_label, variants=varA, metadata=metadata.to_ga4gh())\n",
    "json_string = MessageToJson(ppacketA)\n",
    "print(json_string)"
   ]
  },
  {
   "cell_type": "markdown",
   "id": "eb8fa38e",
   "metadata": {},
   "source": [
    "<h3>Patient B</h3>"
   ]
  },
  {
   "cell_type": "code",
   "execution_count": null,
   "id": "36dfa0cb",
   "metadata": {},
   "outputs": [],
   "source": [
    "encoderB = CaseEncoder(concept_recognizer=hpo_cr, pmid=pmid, age_at_last_exam=age)"
   ]
  },
  {
   "cell_type": "code",
   "execution_count": null,
   "id": "c26cd958",
   "metadata": {},
   "outputs": [],
   "source": [
    "patB_1_2months = \"\"\"This male patient had an unremarkable family\n",
    "history and was diagnosed with CMD at the age of 24 years.\n",
    "Unilateral facial palsy was detected at age 2 months. During\n",
    "childhood, he came to medical attention because of macrocephaly.\n",
    "He had orthodontic braces because of crowding of teeth, with\n",
    "suboptimal effect. \"\"\"\n",
    "d1 = {'crowding of teeth': \"Dental crowding\"}\n",
    "results = encoderB.add_vignette(vignette=patB_1_2months, custom_d=d1, custom_age=\"P2M\")\n",
    "results"
   ]
  },
  {
   "cell_type": "code",
   "execution_count": null,
   "id": "fa90ab20",
   "metadata": {},
   "outputs": [],
   "source": [
    "patB_23y = \"\"\"At the age of 23 years, he presented with a\n",
    "progressive conductive and sensorineural hearing loss, mainly of\n",
    "the high tones and more pronounced on the left side. He had no\n",
    "nasal obstruction and he stated that his smell sensation was intact.\n",
    "Fundoscopy showed no signs of optic nerve atrophy. A CT scan of\n",
    "the os petrosum showed reduced pneumatization of the mastoid\n",
    "and diffuse hyperostosis and sclerosis of the skull base (Fig. 2d). In\n",
    "contrast, plain radiography showed only mild cranial involvement,\n",
    "but did show tubular remodeling and widened metaphyses of\n",
    "the long bones (Fig. 1d–f). Paranasal bossing, apparent hyper-\n",
    "telorism, and prognathism were evident. His height was 185 cm\n",
    "(75th–90th centile) (father: 176 cm (25th–50th centile); mother:\n",
    "172 cm (75th–90th centile)) and skull circumference 62 cm\n",
    "(>97th centile) (father: 60.5 cm (90th–97th centile); mother: 57 cm\n",
    "(75th–90th centile)). Lateral deviation of the distal phalanges of his\n",
    "third fingers and medial deviation of the distal phalanges of his\n",
    "fourth fingers were noted. He graduated from university in mathe-\n",
    "matics and chemistry.\"\"\"\n",
    "results = encoderB.add_vignette(vignette=patB_23y, custom_d=d1, custom_age=\"P23Y\")\n",
    "results"
   ]
  },
  {
   "cell_type": "code",
   "execution_count": null,
   "id": "6ebc83c1",
   "metadata": {},
   "outputs": [],
   "source": []
  }
 ],
 "metadata": {
  "kernelspec": {
   "display_name": "venv",
   "language": "python",
   "name": "venv"
  },
  "language_info": {
   "codemirror_mode": {
    "name": "ipython",
    "version": 3
   },
   "file_extension": ".py",
   "mimetype": "text/x-python",
   "name": "python",
   "nbconvert_exporter": "python",
   "pygments_lexer": "ipython3",
   "version": "3.10.6"
  }
 },
 "nbformat": 4,
 "nbformat_minor": 5
}
