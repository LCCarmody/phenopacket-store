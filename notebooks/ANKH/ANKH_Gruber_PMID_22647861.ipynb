{
 "cells": [
  {
   "cell_type": "markdown",
   "id": "01c16275",
   "metadata": {},
   "source": [
    "<H1>ANKH: Gruber et al., 2012</H1>\n",
    "<p>This notebook imports data from <a href=\"https://pubmed.ncbi.nlm.nih.gov/22647861/\" target=\"__blank\">Gruber BL, et al. Novel ANKH amino terminus mutation (Pro5Ser) associated with early-onset calcium pyrophosphate disease with associated phosphaturia. J Clin Rheumatol. 2012 Jun;18(4):192-5.</a></p>"
   ]
  },
  {
   "cell_type": "code",
   "execution_count": 17,
   "id": "91a7e599",
   "metadata": {},
   "outputs": [
    {
     "name": "stdout",
     "output_type": "stream",
     "text": [
      "Using pyphetools version 0.8.12\n"
     ]
    }
   ],
   "source": [
    "import phenopackets as php\n",
    "from google.protobuf.json_format import MessageToDict, MessageToJson\n",
    "from google.protobuf.json_format import Parse, ParseDict\n",
    "import pandas as pd\n",
    "pd.set_option('display.max_colwidth', None) # show entire column contents, important!\n",
    "from collections import defaultdict\n",
    "from IPython.display import HTML, display\n",
    "from pyphetools.creation import *\n",
    "from pyphetools.validation import *\n",
    "from pyphetools.visualization import *\n",
    "import pyphetools\n",
    "print(f\"Using pyphetools version {pyphetools.__version__}\")"
   ]
  },
  {
   "cell_type": "markdown",
   "id": "a1a48efa",
   "metadata": {},
   "source": [
    "<h3>Setup pyphetools</h3>"
   ]
  },
  {
   "cell_type": "code",
   "execution_count": 15,
   "id": "116871c8",
   "metadata": {},
   "outputs": [],
   "source": [
    "parser = HpoParser()\n",
    "hpo_cr = parser.get_hpo_concept_recognizer()\n",
    "hpo_version = parser.get_version()\n",
    "hpo_ontology = parser.get_ontology()\n",
    "PMID = \"PMID:22647861\"\n",
    "title = \"Novel ANKH amino terminus mutation (Pro5Ser) associated with early-onset calcium pyrophosphate disease with associated phosphaturia\"\n",
    "age = \"P20Y\"\n",
    "metadata = MetaData(created_by=\"ORCID:0000-0002-0736-9199\", pmid=PMID, pubmed_title=title)\n",
    "metadata.default_versions_with_hpo(version=hpo_version)"
   ]
  },
  {
   "cell_type": "code",
   "execution_count": 3,
   "id": "657a06c0-81bd-4527-8c92-1b2e54f596e6",
   "metadata": {},
   "outputs": [],
   "source": [
    "individual_id = \"41-year-old woman\"\n",
    "sex = \"FEMALE\"\n",
    "age = \"P41Y\" \n",
    "cc2 = Disease(disease_id=\"OMIM:118600\", disease_label=\"Chondrocalcinosis 2\")\n",
    "\n",
    "encoder = CaseEncoder(hpo_cr=hpo_cr, \n",
    "                      pmid=PMID, \n",
    "                      individual_id=individual_id,\n",
    "                      age_at_last_exam=age, \n",
    "                      sex=sex,\n",
    "                      metadata=metadata.to_ga4gh(),\n",
    "                      disease=cc2)"
   ]
  },
  {
   "cell_type": "code",
   "execution_count": 4,
   "id": "5736e4b7-a506-47bd-8375-7c7608c53153",
   "metadata": {},
   "outputs": [],
   "source": [
    "vignette=\"\"\"\n",
    "A 41-year-old woman presented as an outpatient with a history of onset of \n",
    "bilateral ankle swelling and pain dating back to age 20. The inflammatory attacks were self-limited, lasting\n",
    "days to weeks and recurring every few months.\n",
    "\"\"\""
   ]
  },
  {
   "cell_type": "code",
   "execution_count": 6,
   "id": "6261299b",
   "metadata": {},
   "outputs": [],
   "source": [
    "d1={'ankle swelling and pain': 'Ankle pain'}\n",
    "results = encoder.add_vignette(vignette=vignette, custom_d=d1)\n",
    "#results"
   ]
  },
  {
   "cell_type": "code",
   "execution_count": 7,
   "id": "8b58f4f5",
   "metadata": {},
   "outputs": [],
   "source": [
    "vignette2=\"\"\"\n",
    " Subsequently, both knees became involved,\n",
    "and arthroscopy was performed at age 22, revealing extensive CC intraoperatively, with\n",
    "CPP crystals documented. Symptoms progressed despite treatment with colchicine and\n",
    "nonsteroidal anti-inflammatory drugs. Additional joint involvement included shoulders,\n",
    "elbows, and wrists with multiple attacks every few weeks. She also began to experience\n",
    "severe low back pain. Over the years, attacks became less self-limited and a chronic,\n",
    "polyarticular arthropathy evolved.\"\"\""
   ]
  },
  {
   "cell_type": "code",
   "execution_count": 8,
   "id": "bc3612ff",
   "metadata": {},
   "outputs": [],
   "source": [
    "d2={'ankle swelling and pain': 'Ankle pain',\n",
    "    'low back pain':'Low back pain',\n",
    "  'extensive CC intraoperatively': 'Polyarticular chondrocalcinosis',\n",
    "   'Polyarticular arthropathy':'Polyarticular arthropathy'}\n",
    "results = encoder.add_vignette(vignette=vignette2, custom_d=d2)\n",
    "#results"
   ]
  },
  {
   "cell_type": "code",
   "execution_count": 9,
   "id": "468e2de9",
   "metadata": {},
   "outputs": [],
   "source": [
    "vignette3=\"\"\"\n",
    "On presentation, examination revealed multiple swollen, warm, and markedly tender joints\n",
    "—including bilateral wrists, right shoulder with minimal range of motion, and bilateral ankle\n",
    "swelling. She was wheelchair bound, unable to ambulate or bear weight. An ankle aspiration\n",
    "revealed CPP crystals via compensated polarized microscopic analysis.\n",
    "Laboratory tests revealed normal complete blood cell count and metabolic panel including\n",
    "serum alkaline phosphatase, calcium (8.8 mg/dL), magnesium (1.9 mg/dL), urate (1.6 mg/dL), \n",
    "copper (122 μg/dL), ceruloplasmin (36 mg/dL), ferritin (31 ng/mL), 25-hydroxy\n",
    "vitamin D (28 ng/mL), and thyroid function tests. Serum phosphorus was decreased (1.9\n",
    "mg/dL) and intact parathyroid hormonewas elevated (93 pg/mL; reference value, <65 pg/\n",
    "mL), indicating mild secondary hyperparathyroidism. The level of fibroblast growth\n",
    "factor-23 was not elevated (100 RU/mL; reference value, <180 RU/mL). The 24-hour urine\n",
    "collection revealed elevated calcium (437 mg/24 hr; reference value, <275 mg/24 hr) and\n",
    "phosphorus (1730 mg/24 hr; reference value, <1300 mg/24 hr) with normal creatinine (1860\n",
    "mg/24 hr) and uric acid (600 mg/24 hr) excretion, with a calculated creatinine clearance of\n",
    "110 mL/min.\n",
    "\"\"\""
   ]
  },
  {
   "cell_type": "code",
   "execution_count": 10,
   "id": "23004b1b",
   "metadata": {},
   "outputs": [],
   "source": [
    "## Add labs one by one\n",
    "age=\"P40Y\"\n",
    "# Hypophosphatemia HP:0002148\n",
    "lab_results = []\n",
    "r = encoder.add_term(label=\"Hypophosphatemia\", custom_age=\"P1Y8M\")\n",
    "lab_results.append(r)\n",
    "r =  encoder.add_term(label=\"Elevated circulating parathyroid hormone level\", custom_age=\"P1Y8M\")\n",
    "lab_results.append(r)\n",
    "r =  encoder.add_term(label=\"Hypercalciuria\", custom_age=\"P1Y8M\")\n",
    "lab_results.append(r)\n",
    "r =  encoder.add_term(label=\"Hyperphosphaturia\", custom_age=\"P1Y8M\")\n",
    "lab_results.append(r)\n",
    "# lab_results uncomment to display"
   ]
  },
  {
   "cell_type": "code",
   "execution_count": 11,
   "id": "fc207444",
   "metadata": {},
   "outputs": [],
   "source": [
    "vignette5=\"\"\"Radiographs of multiple regions revealed extensive CC of small and large joints within the\n",
    "articular cartilage and fibrocartilage, as well as along tendon insertions in the feet (Fig. 1). In\n",
    "addition, calcifications were observed throughout the spine within intervertebral disks (Fig.\n",
    "1).\n",
    "Treatment was instituted with intra-articular steroids and oral prednisone for acute attacks\n",
    "and a combination of hydroxychloroquine, magnesium oxide, probenecid, and colchicine for\n",
    "long-term maintenance therapy. After several weeks, acute synovitis markedly improved,\n",
    "and for the past 12 months, only 2 minor exacerbations occurred, which responded rapidly\n",
    "to oral prednisolone treatment. Interestingly, we noted that abnormalities of serum\n",
    "phosphate, 25-OH vitamin D, and parathyroid hormone levels resolved during treatment.\n",
    "She has been able to continue her occupation as a teacher. Recently, radiographs (knees,\n",
    "hands, wrists) of the patient’s father reveal marked and extensive CC with degenerative joint\n",
    "disease consistent with CPPD\"\"\""
   ]
  },
  {
   "cell_type": "code",
   "execution_count": 12,
   "id": "5eebfb6c",
   "metadata": {},
   "outputs": [
    {
     "name": "stdout",
     "output_type": "stream",
     "text": [
      "https://rest.variantvalidator.org/VariantValidator/variantvalidator/hg38/NM_054027.4%3Ac.13 C>T/NM_054027.4?content-type=application%2Fjson\n"
     ]
    },
    {
     "data": {
      "text/plain": [
       "'chr5:14871435G>A'"
      ]
     },
     "execution_count": 12,
     "metadata": {},
     "output_type": "execute_result"
    }
   ],
   "source": [
    "genome = 'hg38'\n",
    "default_genotype = 'heterozygous'\n",
    "transcript='NM_054027.4' # not mentioned in article, but should be correct since there are no alt starts\n",
    "varValidator = VariantValidator(genome_build=genome, transcript=transcript)\n",
    "var = varValidator.encode_hgvs(hgvs=\"c.13 C>T\")\n",
    "var.set_heterozygous()\n",
    "encoder.add_variant_or_interpretation(var)\n",
    "var.to_string()"
   ]
  },
  {
   "cell_type": "code",
   "execution_count": 18,
   "id": "adb3684a",
   "metadata": {},
   "outputs": [
    {
     "data": {
      "text/html": [
       "<h2>Cohort validation</h2>\n",
       "<p>No errors found for the cohort with 1 individuals</p>"
      ],
      "text/plain": [
       "<IPython.core.display.HTML object>"
      ]
     },
     "metadata": {},
     "output_type": "display_data"
    }
   ],
   "source": [
    "individual = encoder.get_individual()\n",
    "cohort = [individual]\n",
    "cvalidator = CohortValidator(cohort=cohort, ontology=hpo_ontology, min_hpo=1, allelic_requirement=AllelicRequirement.MONO_ALLELIC)\n",
    "validated_individuals = cvalidator.get_validated_individual_list()\n",
    "qc = QcVisualizer(ontology=hpo_ontology)\n",
    "display(HTML(qc.to_html(validated_individuals)))"
   ]
  },
  {
   "cell_type": "code",
   "execution_count": 19,
   "id": "76419e7e",
   "metadata": {},
   "outputs": [
    {
     "name": "stdout",
     "output_type": "stream",
     "text": [
      "Wrote phenopacket to phenopackets/PMID_22647861_41-year-old_woman.json\n"
     ]
    }
   ],
   "source": [
    "output_directory = \"phenopackets\"\n",
    "encoder.output_phenopacket(outdir=output_directory)"
   ]
  },
  {
   "cell_type": "code",
   "execution_count": null,
   "id": "0c999498-1cfc-4001-b2db-00b0fdbe01b6",
   "metadata": {},
   "outputs": [],
   "source": []
  }
 ],
 "metadata": {
  "kernelspec": {
   "display_name": "Python 3 (ipykernel)",
   "language": "python",
   "name": "python3"
  },
  "language_info": {
   "codemirror_mode": {
    "name": "ipython",
    "version": 3
   },
   "file_extension": ".py",
   "mimetype": "text/x-python",
   "name": "python",
   "nbconvert_exporter": "python",
   "pygments_lexer": "ipython3",
   "version": "3.11.3"
  }
 },
 "nbformat": 4,
 "nbformat_minor": 5
}
