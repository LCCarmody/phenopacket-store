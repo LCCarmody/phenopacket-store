{
 "cells": [
  {
   "cell_type": "markdown",
   "id": "4c6aa9f9-c0f4-41c5-91b8-515885423c70",
   "metadata": {},
   "source": [
    "<h1>ANKH Summary</h1>\n",
    "<p>This notebook provides a summary of the phenopackets created by the other notebooks in this folder.</p>"
   ]
  },
  {
   "cell_type": "code",
   "execution_count": 1,
   "id": "8755a993-c489-4546-9747-91cfb07697fa",
   "metadata": {},
   "outputs": [
    {
     "name": "stdout",
     "output_type": "stream",
     "text": [
      "Using pyphetools version 0.6.3\n"
     ]
    }
   ],
   "source": [
    "import phenopackets as php\n",
    "from google.protobuf.json_format import MessageToDict, MessageToJson\n",
    "from google.protobuf.json_format import Parse, ParseDict\n",
    "import pandas as pd\n",
    "pd.set_option('display.max_colwidth', None) # show entire column contents, important!\n",
    "from collections import defaultdict\n",
    "import hpotk\n",
    "from hpotk.ontology import Ontology\n",
    "from hpotk.ontology.load.obographs import load_ontology\n",
    "from pyphetools.visualization import *\n",
    "import importlib.metadata\n",
    "__version__ = importlib.metadata.version(\"pyphetools\")\n",
    "print(f\"Using pyphetools version {__version__}\")"
   ]
  },
  {
   "cell_type": "code",
   "execution_count": 2,
   "id": "99ac7c0f-11cd-4312-8909-9b663c919a73",
   "metadata": {},
   "outputs": [],
   "source": [
    "hpo: Ontology = load_ontology('http://purl.obolibrary.org/obo/hp.json')"
   ]
  },
  {
   "cell_type": "code",
   "execution_count": 3,
   "id": "d9f858b1-458c-4bb3-a8cc-4b3470b7c9e7",
   "metadata": {},
   "outputs": [
    {
     "name": "stdout",
     "output_type": "stream",
     "text": [
      "[pyphetools] Ingested 7 GA4GH phenopackets.\n"
     ]
    }
   ],
   "source": [
    "ingestor = PhenopacketIngestor(indir=\"phenopackets\")"
   ]
  },
  {
   "cell_type": "code",
   "execution_count": 4,
   "id": "c993a7d5-15a8-4359-b7e9-bccfaab8ceb0",
   "metadata": {},
   "outputs": [],
   "source": [
    "ppkt_d = ingestor.get_phenopacket_dictionary()\n",
    "ppkt_list = list(ppkt_d.values())\n",
    "table = PhenopacketTable(phenopacket_list=ppkt_list)"
   ]
  },
  {
   "cell_type": "code",
   "execution_count": 5,
   "id": "5714ab9b-9b7e-4656-9662-2fc8215936f9",
   "metadata": {},
   "outputs": [
    {
     "data": {
      "text/html": [
       "<table style=\"border: 2px solid black;\">\n",
       "\n",
       "<caption>7 phenopackets - PMID:20358596 (n=3); PMID:22647861 (n=1); PMID:20186813 (n=1); PMID:22150416 (n=2)</caption>\n",
       "\n",
       "<tr>\n",
       "            <th>Individual</th>\n",
       "            <th>Disease</th>\n",
       "            <th>Genotype</th>\n",
       "            <th>Phenotypic features</th>\n",
       "        </tr>\n",
       "        \n",
       "<tr>\n",
       "<td>patient A (UNKNOWN; P12Y)</ts>\n",
       "<td>Craniometaphyseal dysplasia (OMIM:123000)</ts>\n",
       "<td>NM_054027.6:c.1015T>C (heterozygous)</td>\n",
       "<td class=\"table-data\">Hypertelorism (HP:0000316); Nasal congestion (HP:0001742); Bilateral facial palsy (HP:0430025); Feeding difficulties (HP:0011968); Abnormal respiratory system physiology (HP:0002795); Cranial hyperostosis (HP:0004437); Conductive hearing impairment (HP:0000405); Facial palsy (HP:0010628); Dental malocclusion (HP:0000689); Hearing impairment (HP:0000365); Increased circulating osteocalcin level (HP:0031428); Elevated circulating alkaline phosphatase concentration (HP:0003155)</td>\n",
       "</tr>\n",
       "<tr>\n",
       "<td>41-year-old woman (UNKNOWN; P41Y)</ts>\n",
       "<td>Chondrocalcinosis 2 (OMIM:118600)</ts>\n",
       "<td>NM_054027.4:c.13C>T (heterozygous)</td>\n",
       "<td class=\"table-data\">Ankle pain (HP:0030840); Polyarticular chondrocalcinosis (HP:0005017); Low back pain (HP:0003419); Polyarticular arthropathy (HP:0005195); Hypophosphatemia (HP:0002148); Elevated circulating parathyroid hormone level (HP:0003165); Hypercalciuria (HP:0002150); Hyperphosphaturia (HP:0003109)</td>\n",
       "</tr>\n",
       "<tr>\n",
       "<td>6-year-old male patient (UNKNOWN; P12Y)</ts>\n",
       "<td>Craniometaphyseal dysplasia (OMIM:123000)</ts>\n",
       "<td>NM_054027.6:c.942_953del (heterozygous)</td>\n",
       "<td class=\"table-data\">Short nose (HP:0003196); Sensorineural hearing impairment (HP:0000407); Visual loss (HP:0000572); Pica (HP:0011856); Metaphyseal dysplasia (HP:0100255); Hyperostosis (HP:0100774)</td>\n",
       "</tr>\n",
       "<tr>\n",
       "<td>patient 1 (FEMALE; P1Y5M)</ts>\n",
       "<td>Craniometaphyseal dysplasia (OMIM:123000)</ts>\n",
       "<td>NM_054027.6:c.854_871del (heterozygous)</td>\n",
       "<td class=\"table-data\">Upper airway obstruction (HP:0002781); Facial palsy (HP:0010628); Sclerosis of skull base (HP:0002694); Hypercalcemia (HP:0003072); Hearing impairment (HP:0000365); Visual fixation instability (HP:0025405); Exotropia (HP:0000577); Optic atrophy (HP:0000648); Overgrowth (HP:0001548); Nystagmus (HP:0000639); Cellulitis (HP:0100658); Macrocephaly (HP:0000256); Elevated circulating alkaline phosphatase concentration (HP:0003155); Hypophosphatemia (HP:0002148)</td>\n",
       "</tr>\n",
       "<tr>\n",
       "<td>patient 2 (FEMALE; P5Y)</ts>\n",
       "<td>Craniometaphyseal dysplasia (OMIM:123000)</ts>\n",
       "<td>NM_054027.6:c.1179_1190del ()</td>\n",
       "<td class=\"table-data\">Thickened calvaria (HP:0002684); Progressive hearing impairment (HP:0001730); Hearing impairment (HP:0000365); Macrocephaly (HP:0000256); Broad forehead (HP:0000337); Hypertelorism (HP:0000316); Telecanthus (HP:0000506); Epiblepharon (HP:0011225); Hyperplasia of the maxilla (HP:0430028); Facial palsy (HP:0010628); Posteriorly rotated ears (HP:0000358); Elevated circulating alkaline phosphatase concentration (HP:0003155)</td>\n",
       "</tr>\n",
       "<tr>\n",
       "<td>patient C (UNKNOWN; P43Y)</ts>\n",
       "<td>Craniometaphyseal dysplasia (OMIM:123000)</ts>\n",
       "<td>NM_054027.6:c.1001T>G (heterozygous)</td>\n",
       "<td class=\"table-data\">Choanal stenosis (HP:0000452); Hypertelorism (HP:0000316); Hyperostosis (HP:0100774); Dental malocclusion (HP:0000689); Delayed eruption of primary teeth (HP:0000680); Thin bony cortex (HP:0002753); Metaphyseal widening (HP:0003016); Conductive hearing impairment (HP:0000405); Thickened calvaria (HP:0002684); Hearing impairment (HP:0000365); Tinnitus (HP:0000360)</td>\n",
       "</tr>\n",
       "<tr>\n",
       "<td>patient B (UNKNOWN; P23Y)</ts>\n",
       "<td>Craniometaphyseal dysplasia (OMIM:123000)</ts>\n",
       "<td>NM_054027.6:c.1172T>C (heterozygous)</td>\n",
       "<td class=\"table-data\">Unilateral facial palsy (HP:0012799); Dental crowding (HP:0000678); Macrocephaly (HP:0000256); Sensorineural hearing impairment (HP:0000407); Sclerosis of skull base (HP:0002694); Hyperostosis (HP:0100774); Optic atrophy (HP:0000648); Metaphyseal widening (HP:0003016); Mandibular prognathia (HP:0000303); Tics (HP:0100033)</td>\n",
       "</tr>\n",
       "</table>\n"
      ],
      "text/plain": [
       "<IPython.core.display.HTML object>"
      ]
     },
     "metadata": {},
     "output_type": "display_data"
    }
   ],
   "source": [
    "from IPython.display import HTML, display\n",
    "display(HTML(table.to_html()))"
   ]
  },
  {
   "cell_type": "code",
   "execution_count": 6,
   "id": "a9ed4a44-0ce1-4a1f-9694-1811bc3146c2",
   "metadata": {},
   "outputs": [],
   "source": [
    "detailed_table = DetailedSupplTable(patient_d=ppkt_d, hp_ontology=hpo)"
   ]
  },
  {
   "cell_type": "code",
   "execution_count": 7,
   "id": "9588b6ae-57ce-4b4d-9746-f54c55441f17",
   "metadata": {},
   "outputs": [
    {
     "data": {
      "text/html": [
       "<table style=\"border: 2px solid black;\">\n",
       "\n",
       "<tr><th>HPO term</th><th>PMID:20358596</th><th>PMID:22150416</th><th>PMID:22647861</th><th>PMID:20186813</th></tr>\n",
       "<tr><td>Hearing impairment (HP:0000365)</td><td>2/3 (66.7%)</td><td>2/2 (100.0%)</td><td>0/1 (0.0%)</td><td>0/1 (0.0%)</td></tr>\n",
       "\n",
       "<tr><td>Hypertelorism (HP:0000316)</td><td>2/3 (66.7%)</td><td>1/2 (50.0%)</td><td>0/1 (0.0%)</td><td>0/1 (0.0%)</td></tr>\n",
       "\n",
       "<tr><td>Facial palsy (HP:0010628)</td><td>1/3 (33.3%)</td><td>2/2 (100.0%)</td><td>0/1 (0.0%)</td><td>0/1 (0.0%)</td></tr>\n",
       "\n",
       "<tr><td>Elevated circulating alkaline phosphatase concentration (HP:0003155)</td><td>1/3 (33.3%)</td><td>2/2 (100.0%)</td><td>0/1 (0.0%)</td><td>0/1 (0.0%)</td></tr>\n",
       "\n",
       "<tr><td>Hyperostosis (HP:0100774)</td><td>2/3 (66.7%)</td><td>0/2 (0.0%)</td><td>0/1 (0.0%)</td><td>1/1 (100.0%)</td></tr>\n",
       "\n",
       "<tr><td>Macrocephaly (HP:0000256)</td><td>1/3 (33.3%)</td><td>2/2 (100.0%)</td><td>0/1 (0.0%)</td><td>0/1 (0.0%)</td></tr>\n",
       "\n",
       "<tr><td>Conductive hearing impairment (HP:0000405)</td><td>2/3 (66.7%)</td><td>0/2 (0.0%)</td><td>0/1 (0.0%)</td><td>0/1 (0.0%)</td></tr>\n",
       "\n",
       "<tr><td>Dental malocclusion (HP:0000689)</td><td>2/3 (66.7%)</td><td>0/2 (0.0%)</td><td>0/1 (0.0%)</td><td>0/1 (0.0%)</td></tr>\n",
       "\n",
       "<tr><td>Hypophosphatemia (HP:0002148)</td><td>0/3 (0.0%)</td><td>1/2 (50.0%)</td><td>1/1 (100.0%)</td><td>0/1 (0.0%)</td></tr>\n",
       "\n",
       "<tr><td>Sensorineural hearing impairment (HP:0000407)</td><td>1/3 (33.3%)</td><td>0/2 (0.0%)</td><td>0/1 (0.0%)</td><td>1/1 (100.0%)</td></tr>\n",
       "\n",
       "<tr><td>Sclerosis of skull base (HP:0002694)</td><td>1/3 (33.3%)</td><td>1/2 (50.0%)</td><td>0/1 (0.0%)</td><td>0/1 (0.0%)</td></tr>\n",
       "\n",
       "<tr><td>Optic atrophy (HP:0000648)</td><td>1/3 (33.3%)</td><td>1/2 (50.0%)</td><td>0/1 (0.0%)</td><td>0/1 (0.0%)</td></tr>\n",
       "\n",
       "<tr><td>Thickened calvaria (HP:0002684)</td><td>1/3 (33.3%)</td><td>1/2 (50.0%)</td><td>0/1 (0.0%)</td><td>0/1 (0.0%)</td></tr>\n",
       "\n",
       "<tr><td>Metaphyseal widening (HP:0003016)</td><td>2/3 (66.7%)</td><td>0/2 (0.0%)</td><td>0/1 (0.0%)</td><td>0/1 (0.0%)</td></tr>\n",
       "\n",
       "</table>\n"
      ],
      "text/plain": [
       "<IPython.core.display.HTML object>"
      ]
     },
     "metadata": {},
     "output_type": "display_data"
    }
   ],
   "source": [
    "display(HTML(detailed_table.get_html_table_by_pmid(min_count=1)))"
   ]
  },
  {
   "cell_type": "code",
   "execution_count": null,
   "id": "80aa2bb4-5a27-4cfc-b447-5336153cf3b8",
   "metadata": {},
   "outputs": [],
   "source": []
  }
 ],
 "metadata": {
  "kernelspec": {
   "display_name": "pstore_env",
   "language": "python",
   "name": "pstore_env"
  },
  "language_info": {
   "codemirror_mode": {
    "name": "ipython",
    "version": 3
   },
   "file_extension": ".py",
   "mimetype": "text/x-python",
   "name": "python",
   "nbconvert_exporter": "python",
   "pygments_lexer": "ipython3",
   "version": "3.11.3"
  }
 },
 "nbformat": 4,
 "nbformat_minor": 5
}
