{
 "cells": [
  {
   "cell_type": "markdown",
   "id": "01c16275",
   "metadata": {},
   "source": [
    "<H1>ANKH...</H1>\n",
    "<p>This notebook imports data from <a href=\"https://pubmed.ncbi.nlm.nih.gov/22647861/\" target=\"__blank\">Gruber BL, et al. Novel ANKH amino terminus mutation (Pro5Ser) associated with early-onset calcium pyrophosphate disease with associated phosphaturia. J Clin Rheumatol. 2012 Jun;18(4):192-5.</a></p>"
   ]
  },
  {
   "cell_type": "code",
   "execution_count": 3,
   "id": "91a7e599",
   "metadata": {},
   "outputs": [],
   "source": [
    "import phenopackets as php\n",
    "from google.protobuf.json_format import MessageToDict, MessageToJson\n",
    "from google.protobuf.json_format import Parse, ParseDict\n",
    "import pandas as pd\n",
    "pd.set_option('display.max_colwidth', None) # show entire column contents, important!\n",
    "from collections import defaultdict\n",
    "import os\n",
    "import sys\n",
    "from pyphetools import *"
   ]
  },
  {
   "cell_type": "code",
   "execution_count": 4,
   "id": "8bb72ed9",
   "metadata": {},
   "outputs": [],
   "source": [
    "vignette=\"\"\"\n",
    "A 41-year-old woman presented as an outpatient with a history of onset of \n",
    "bilateral ankle swelling and pain dating back to age 20. The inflammatory attacks were self-limited, lasting\n",
    "days to weeks and recurring every few months.\n",
    "\"\"\""
   ]
  },
  {
   "cell_type": "markdown",
   "id": "a1a48efa",
   "metadata": {},
   "source": [
    "<h3>Setup pyphetools</h3>"
   ]
  },
  {
   "cell_type": "code",
   "execution_count": 5,
   "id": "116871c8",
   "metadata": {},
   "outputs": [],
   "source": [
    "parser = HpoParser()\n",
    "hpo_cr = parser.get_hpo_concept_recognizer()\n",
    "pmid = \"PMID:22647861\"\n",
    "age = \"P20Y\"\n",
    "encoder = CaseEncoder(concept_recognizer=hpo_cr, pmid=pmid, age_at_last_exam=age)"
   ]
  },
  {
   "cell_type": "code",
   "execution_count": 6,
   "id": "6261299b",
   "metadata": {},
   "outputs": [
    {
     "data": {
      "text/html": [
       "<div>\n",
       "<style scoped>\n",
       "    .dataframe tbody tr th:only-of-type {\n",
       "        vertical-align: middle;\n",
       "    }\n",
       "\n",
       "    .dataframe tbody tr th {\n",
       "        vertical-align: top;\n",
       "    }\n",
       "\n",
       "    .dataframe thead th {\n",
       "        text-align: right;\n",
       "    }\n",
       "</style>\n",
       "<table border=\"1\" class=\"dataframe\">\n",
       "  <thead>\n",
       "    <tr style=\"text-align: right;\">\n",
       "      <th></th>\n",
       "      <th>id</th>\n",
       "      <th>label</th>\n",
       "      <th>observed</th>\n",
       "      <th>measured</th>\n",
       "    </tr>\n",
       "  </thead>\n",
       "  <tbody>\n",
       "    <tr>\n",
       "      <th>0</th>\n",
       "      <td>HP:0030840</td>\n",
       "      <td>Ankle pain</td>\n",
       "      <td>True</td>\n",
       "      <td>True</td>\n",
       "    </tr>\n",
       "  </tbody>\n",
       "</table>\n",
       "</div>"
      ],
      "text/plain": [
       "           id       label  observed  measured\n",
       "0  HP:0030840  Ankle pain      True      True"
      ]
     },
     "execution_count": 6,
     "metadata": {},
     "output_type": "execute_result"
    }
   ],
   "source": [
    "d1={'ankle swelling and pain': 'Ankle pain'}\n",
    "results = encoder.add_vignette(vignette=vignette, custom_d=d1)\n",
    "results"
   ]
  },
  {
   "cell_type": "code",
   "execution_count": 7,
   "id": "8b58f4f5",
   "metadata": {},
   "outputs": [],
   "source": [
    "vignette2=\"\"\"\n",
    " Subsequently, both knees became involved,\n",
    "and arthroscopy was performed at age 22, revealing extensive CC intraoperatively, with\n",
    "CPP crystals documented. Symptoms progressed despite treatment with colchicine and\n",
    "nonsteroidal anti-inflammatory drugs. Additional joint involvement included shoulders,\n",
    "elbows, and wrists with multiple attacks every few weeks. She also began to experience\n",
    "severe low back pain. Over the years, attacks became less self-limited and a chronic,\n",
    "polyarticular arthropathy evolved.\"\"\""
   ]
  },
  {
   "cell_type": "code",
   "execution_count": 8,
   "id": "bc3612ff",
   "metadata": {},
   "outputs": [
    {
     "data": {
      "text/html": [
       "<div>\n",
       "<style scoped>\n",
       "    .dataframe tbody tr th:only-of-type {\n",
       "        vertical-align: middle;\n",
       "    }\n",
       "\n",
       "    .dataframe tbody tr th {\n",
       "        vertical-align: top;\n",
       "    }\n",
       "\n",
       "    .dataframe thead th {\n",
       "        text-align: right;\n",
       "    }\n",
       "</style>\n",
       "<table border=\"1\" class=\"dataframe\">\n",
       "  <thead>\n",
       "    <tr style=\"text-align: right;\">\n",
       "      <th></th>\n",
       "      <th>id</th>\n",
       "      <th>label</th>\n",
       "      <th>observed</th>\n",
       "      <th>measured</th>\n",
       "    </tr>\n",
       "  </thead>\n",
       "  <tbody>\n",
       "    <tr>\n",
       "      <th>0</th>\n",
       "      <td>HP:0003419</td>\n",
       "      <td>Low back pain</td>\n",
       "      <td>True</td>\n",
       "      <td>True</td>\n",
       "    </tr>\n",
       "    <tr>\n",
       "      <th>1</th>\n",
       "      <td>HP:0005017</td>\n",
       "      <td>Polyarticular chondrocalcinosis</td>\n",
       "      <td>True</td>\n",
       "      <td>True</td>\n",
       "    </tr>\n",
       "    <tr>\n",
       "      <th>2</th>\n",
       "      <td>HP:0005195</td>\n",
       "      <td>Polyarticular arthropathy</td>\n",
       "      <td>True</td>\n",
       "      <td>True</td>\n",
       "    </tr>\n",
       "  </tbody>\n",
       "</table>\n",
       "</div>"
      ],
      "text/plain": [
       "           id                            label  observed  measured\n",
       "0  HP:0003419                    Low back pain      True      True\n",
       "1  HP:0005017  Polyarticular chondrocalcinosis      True      True\n",
       "2  HP:0005195        Polyarticular arthropathy      True      True"
      ]
     },
     "execution_count": 8,
     "metadata": {},
     "output_type": "execute_result"
    }
   ],
   "source": [
    "d2={'ankle swelling and pain': 'Ankle pain',\n",
    "    'low back pain':'Low back pain',\n",
    "  'extensive CC intraoperatively': 'Polyarticular chondrocalcinosis',\n",
    "   'Polyarticular arthropathy':'Polyarticular arthropathy'}\n",
    "results = encoder.add_vignette(vignette=vignette2, custom_d=d2)\n",
    "results"
   ]
  },
  {
   "cell_type": "code",
   "execution_count": 9,
   "id": "468e2de9",
   "metadata": {},
   "outputs": [],
   "source": [
    "vignette3=\"\"\"\n",
    "On presentation, examination revealed multiple swollen, warm, and markedly tender joints\n",
    "—including bilateral wrists, right shoulder with minimal range of motion, and bilateral ankle\n",
    "swelling. She was wheelchair bound, unable to ambulate or bear weight. An ankle aspiration\n",
    "revealed CPP crystals via compensated polarized microscopic analysis.\n",
    "Laboratory tests revealed normal complete blood cell count and metabolic panel including\n",
    "serum alkaline phosphatase, calcium (8.8 mg/dL), magnesium (1.9 mg/dL), urate (1.6 mg/dL), \n",
    "copper (122 μg/dL), ceruloplasmin (36 mg/dL), ferritin (31 ng/mL), 25-hydroxy\n",
    "vitamin D (28 ng/mL), and thyroid function tests. Serum phosphorus was decreased (1.9\n",
    "mg/dL) and intact parathyroid hormonewas elevated (93 pg/mL; reference value, <65 pg/\n",
    "mL), indicating mild secondary hyperparathyroidism. The level of fibroblast growth\n",
    "factor-23 was not elevated (100 RU/mL; reference value, <180 RU/mL). The 24-hour urine\n",
    "collection revealed elevated calcium (437 mg/24 hr; reference value, <275 mg/24 hr) and\n",
    "phosphorus (1730 mg/24 hr; reference value, <1300 mg/24 hr) with normal creatinine (1860\n",
    "mg/24 hr) and uric acid (600 mg/24 hr) excretion, with a calculated creatinine clearance of\n",
    "110 mL/min.\n",
    "\"\"\""
   ]
  },
  {
   "cell_type": "code",
   "execution_count": 10,
   "id": "23004b1b",
   "metadata": {},
   "outputs": [],
   "source": [
    "## Add labs one by one\n",
    "age=\"P40Y\"\n",
    "# Hypophosphatemia HP:0002148\n",
    "lab_results = []\n",
    "r = encoder.add_term(label=\"Hypophosphatemia\", custom_age=\"P1Y8M\")\n",
    "lab_results.append(r)\n",
    "r =  encoder.add_term(label=\"Elevated circulating parathyroid hormone level\", custom_age=\"P1Y8M\")\n",
    "lab_results.append(r)\n",
    "r =  encoder.add_term(label=\"Hypercalciuria\", custom_age=\"P1Y8M\")\n",
    "lab_results.append(r)\n",
    "r =  encoder.add_term(label=\"Hyperphosphaturia\", custom_age=\"P1Y8M\")\n",
    "lab_results.append(r)\n",
    "# lab_results uncomment to display"
   ]
  },
  {
   "cell_type": "code",
   "execution_count": 11,
   "id": "fc207444",
   "metadata": {},
   "outputs": [],
   "source": [
    "vignette5=\"\"\"Radiographs of multiple regions revealed extensive CC of small and large joints within the\n",
    "articular cartilage and fibrocartilage, as well as along tendon insertions in the feet (Fig. 1). In\n",
    "addition, calcifications were observed throughout the spine within intervertebral disks (Fig.\n",
    "1).\n",
    "Treatment was instituted with intra-articular steroids and oral prednisone for acute attacks\n",
    "and a combination of hydroxychloroquine, magnesium oxide, probenecid, and colchicine for\n",
    "long-term maintenance therapy. After several weeks, acute synovitis markedly improved,\n",
    "and for the past 12 months, only 2 minor exacerbations occurred, which responded rapidly\n",
    "to oral prednisolone treatment. Interestingly, we noted that abnormalities of serum\n",
    "phosphate, 25-OH vitamin D, and parathyroid hormone levels resolved during treatment.\n",
    "She has been able to continue her occupation as a teacher. Recently, radiographs (knees,\n",
    "hands, wrists) of the patient’s father reveal marked and extensive CC with degenerative joint\n",
    "disease consistent with CPPD\"\"\""
   ]
  },
  {
   "cell_type": "code",
   "execution_count": 12,
   "id": "5eebfb6c",
   "metadata": {},
   "outputs": [
    {
     "name": "stdout",
     "output_type": "stream",
     "text": [
      "https://rest.variantvalidator.org/VariantValidator/variantvalidator/hg38/NM_054027.4%3Ac.13 C>T/NM_054027.4\n"
     ]
    },
    {
     "data": {
      "text/plain": [
       "'chr5:14871435G>A'"
      ]
     },
     "execution_count": 12,
     "metadata": {},
     "output_type": "execute_result"
    }
   ],
   "source": [
    "genome = 'hg38'\n",
    "default_genotype = 'heterozygous'\n",
    "transcript='NM_054027.4' # not mentioned in article, but should be correct since there are no alt starts\n",
    "varValidator = VariantValidator(genome_build=genome, transcript=transcript)\n",
    "var = varValidator.encode_hgvs(hgvs=\"c.13 C>T\")\n",
    "var.to_string()"
   ]
  },
  {
   "cell_type": "code",
   "execution_count": 13,
   "id": "dd67b009",
   "metadata": {},
   "outputs": [],
   "source": [
    "individual_id = \"41-year-old woman\"\n",
    "sex = \"FEMALE\"\n",
    "age = \"P41Y\" \n",
    "disease_id = \"OMIM:118600\"\n",
    "disease_label = \"Chondrocalcinosis 2\""
   ]
  },
  {
   "cell_type": "code",
   "execution_count": 14,
   "id": "95379ee3",
   "metadata": {},
   "outputs": [],
   "source": [
    "metadata = MetaData(created_by=\"ORCID:0000-0002-0736-9199\")\n",
    "metadata.geno()\n",
    "metadata.hpo(version='v2022-12-15')\n",
    "metadata.hgnc(version='06/01/23')\n",
    "metadata.omim(version='January 4, 2023')"
   ]
  },
  {
   "cell_type": "code",
   "execution_count": 15,
   "id": "adb3684a",
   "metadata": {},
   "outputs": [],
   "source": [
    "ppacket = encoder.get_phenopacket(individual_id=individual_id, sex=sex, age=age, disease_id=disease_id, \n",
    "                                  disease_label=disease_label, variants=var, metadata=metadata.to_ga4gh())"
   ]
  },
  {
   "cell_type": "code",
   "execution_count": 16,
   "id": "761bedd7",
   "metadata": {},
   "outputs": [
    {
     "name": "stdout",
     "output_type": "stream",
     "text": [
      "{\n",
      "  \"id\": \"PMID_22647861_41-year-old_woman\",\n",
      "  \"subject\": {\n",
      "    \"id\": \"41-year-old woman\",\n",
      "    \"timeAtLastEncounter\": {\n",
      "      \"age\": {\n",
      "        \"iso8601duration\": \"P41Y\"\n",
      "      }\n",
      "    },\n",
      "    \"sex\": \"FEMALE\"\n",
      "  },\n",
      "  \"phenotypicFeatures\": [\n",
      "    {\n",
      "      \"type\": {\n",
      "        \"id\": \"HP:0030840\",\n",
      "        \"label\": \"Ankle pain\"\n",
      "      },\n",
      "      \"onset\": {\n",
      "        \"age\": {\n",
      "          \"iso8601duration\": \"P20Y\"\n",
      "        }\n",
      "      }\n",
      "    },\n",
      "    {\n",
      "      \"type\": {\n",
      "        \"id\": \"HP:0003419\",\n",
      "        \"label\": \"Low back pain\"\n",
      "      },\n",
      "      \"onset\": {\n",
      "        \"age\": {\n",
      "          \"iso8601duration\": \"P20Y\"\n",
      "        }\n",
      "      }\n",
      "    },\n",
      "    {\n",
      "      \"type\": {\n",
      "        \"id\": \"HP:0005017\",\n",
      "        \"label\": \"Polyarticular chondrocalcinosis\"\n",
      "      },\n",
      "      \"onset\": {\n",
      "        \"age\": {\n",
      "          \"iso8601duration\": \"P20Y\"\n",
      "        }\n",
      "      }\n",
      "    },\n",
      "    {\n",
      "      \"type\": {\n",
      "        \"id\": \"HP:0005195\",\n",
      "        \"label\": \"Polyarticular arthropathy\"\n",
      "      },\n",
      "      \"onset\": {\n",
      "        \"age\": {\n",
      "          \"iso8601duration\": \"P20Y\"\n",
      "        }\n",
      "      }\n",
      "    },\n",
      "    {\n",
      "      \"type\": {\n",
      "        \"id\": \"HP:0002148\",\n",
      "        \"label\": \"Hypophosphatemia\"\n",
      "      },\n",
      "      \"onset\": {\n",
      "        \"age\": {\n",
      "          \"iso8601duration\": \"P1Y8M\"\n",
      "        }\n",
      "      }\n",
      "    },\n",
      "    {\n",
      "      \"type\": {\n",
      "        \"id\": \"HP:0003165\",\n",
      "        \"label\": \"Elevated circulating parathyroid hormone level\"\n",
      "      },\n",
      "      \"onset\": {\n",
      "        \"age\": {\n",
      "          \"iso8601duration\": \"P1Y8M\"\n",
      "        }\n",
      "      }\n",
      "    },\n",
      "    {\n",
      "      \"type\": {\n",
      "        \"id\": \"HP:0002150\",\n",
      "        \"label\": \"Hypercalciuria\"\n",
      "      },\n",
      "      \"onset\": {\n",
      "        \"age\": {\n",
      "          \"iso8601duration\": \"P1Y8M\"\n",
      "        }\n",
      "      }\n",
      "    },\n",
      "    {\n",
      "      \"type\": {\n",
      "        \"id\": \"HP:0003109\",\n",
      "        \"label\": \"Hyperphosphaturia\"\n",
      "      },\n",
      "      \"onset\": {\n",
      "        \"age\": {\n",
      "          \"iso8601duration\": \"P1Y8M\"\n",
      "        }\n",
      "      }\n",
      "    }\n",
      "  ],\n",
      "  \"interpretations\": [\n",
      "    {\n",
      "      \"id\": \"41-year-old woman\",\n",
      "      \"progressStatus\": \"SOLVED\",\n",
      "      \"diagnosis\": {\n",
      "        \"disease\": {\n",
      "          \"id\": \"OMIM:118600\",\n",
      "          \"label\": \"Chondrocalcinosis 2\"\n",
      "        },\n",
      "        \"genomicInterpretations\": [\n",
      "          {\n",
      "            \"subjectOrBiosampleId\": \"41-year-old woman\",\n",
      "            \"interpretationStatus\": \"CAUSATIVE\",\n",
      "            \"variantInterpretation\": {\n",
      "              \"variationDescriptor\": {\n",
      "                \"geneContext\": {\n",
      "                  \"valueId\": \"HGNC:15492\",\n",
      "                  \"symbol\": \"ANKH\"\n",
      "                },\n",
      "                \"expressions\": [\n",
      "                  {\n",
      "                    \"syntax\": \"hgvs.c\",\n",
      "                    \"value\": \"NM_054027.4:c.13C>T\"\n",
      "                  },\n",
      "                  {\n",
      "                    \"syntax\": \"hgvs.g\",\n",
      "                    \"value\": \"NC_000005.10:g.14871435G>A\"\n",
      "                  }\n",
      "                ],\n",
      "                \"vcfRecord\": {\n",
      "                  \"genomeAssembly\": \"hg38\",\n",
      "                  \"chrom\": \"chr5\",\n",
      "                  \"pos\": \"14871435\",\n",
      "                  \"ref\": \"G\",\n",
      "                  \"alt\": \"A\"\n",
      "                },\n",
      "                \"moleculeContext\": \"genomic\"\n",
      "              }\n",
      "            }\n",
      "          }\n",
      "        ]\n",
      "      }\n",
      "    }\n",
      "  ],\n",
      "  \"metaData\": {\n",
      "    \"created\": \"2023-01-09T09:02:01.383713960Z\",\n",
      "    \"createdBy\": \"ORCID:0000-0002-0736-9199\",\n",
      "    \"resources\": [\n",
      "      {\n",
      "        \"id\": \"geno\",\n",
      "        \"name\": \"Genotype Ontology\",\n",
      "        \"url\": \"http://purl.obolibrary.org/obo/geno.owl\",\n",
      "        \"version\": \"2022-03-05\",\n",
      "        \"namespacePrefix\": \"GENO\",\n",
      "        \"iriPrefix\": \"http://purl.obolibrary.org/obo/GENO_\"\n",
      "      },\n",
      "      {\n",
      "        \"id\": \"hp\",\n",
      "        \"name\": \"human phenotype ontology\",\n",
      "        \"url\": \"http://purl.obolibrary.org/obo/hp.owl\",\n",
      "        \"version\": \"v2022-12-15\",\n",
      "        \"namespacePrefix\": \"HP\",\n",
      "        \"iriPrefix\": \"http://purl.obolibrary.org/obo/HP_\"\n",
      "      },\n",
      "      {\n",
      "        \"id\": \"hgnc\",\n",
      "        \"name\": \"HUGO Gene Nomenclature Committee\",\n",
      "        \"url\": \"https://www.genenames.org\",\n",
      "        \"version\": \"06/01/23\",\n",
      "        \"namespacePrefix\": \"HGNC\",\n",
      "        \"iriPrefix\": \"https://www.genenames.org/data/gene-symbol-report/#!/hgnc_id/\"\n",
      "      },\n",
      "      {\n",
      "        \"id\": \"omim\",\n",
      "        \"name\": \"An Online Catalog of Human Genes and Genetic Disorders\",\n",
      "        \"url\": \"https://www.omim.org\",\n",
      "        \"version\": \"January 4, 2023\",\n",
      "        \"namespacePrefix\": \"OMIM\",\n",
      "        \"iriPrefix\": \"https://www.omim.org/entry/\"\n",
      "      }\n",
      "    ],\n",
      "    \"phenopacketSchemaVersion\": \"2.0\"\n",
      "  }\n",
      "}\n"
     ]
    }
   ],
   "source": [
    "json_string = MessageToJson(ppacket)\n",
    "print(json_string)"
   ]
  },
  {
   "cell_type": "code",
   "execution_count": 17,
   "id": "76419e7e",
   "metadata": {},
   "outputs": [
    {
     "name": "stdout",
     "output_type": "stream",
     "text": [
      "Wrote phenopacket to ANKH_phenopackets/PMID_22647861_41-year-old_woman.json\n"
     ]
    }
   ],
   "source": [
    "output_directory = \"ANKH_phenopackets\"\n",
    "encoder.output_phenopacket(outdir=output_directory, phenopacket=ppacket)"
   ]
  },
  {
   "cell_type": "code",
   "execution_count": null,
   "id": "d36ec7cf",
   "metadata": {},
   "outputs": [],
   "source": []
  }
 ],
 "metadata": {
  "kernelspec": {
   "display_name": "Python 3 (ipykernel)",
   "language": "python",
   "name": "python3"
  },
  "language_info": {
   "codemirror_mode": {
    "name": "ipython",
    "version": 3
   },
   "file_extension": ".py",
   "mimetype": "text/x-python",
   "name": "python",
   "nbconvert_exporter": "python",
   "pygments_lexer": "ipython3",
   "version": "3.10.6"
  }
 },
 "nbformat": 4,
 "nbformat_minor": 5
}
