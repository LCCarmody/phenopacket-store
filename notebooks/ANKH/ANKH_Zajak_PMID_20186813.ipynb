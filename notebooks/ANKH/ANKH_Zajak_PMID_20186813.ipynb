{
 "cells": [
  {
   "cell_type": "markdown",
   "id": "b398a5b4",
   "metadata": {},
   "source": [
    "<H1>Zajak, Novel ANKH mutation in a patient with sporadic craniometaphyseal dysplasia</H1>\n",
    "<p>Data from <a href=\"https://pubmed.ncbi.nlm.nih.gov/20186813/\" target=\"__blank\">Zajac A, et al. Novel ANKH mutation in a patient with sporadic craniometaphyseal dysplasia. Am J Med Genet A. 2010 Mar;152A(3):770-6.</a>.</p>"
   ]
  },
  {
   "cell_type": "code",
   "execution_count": 1,
   "id": "35c332c7",
   "metadata": {},
   "outputs": [
    {
     "name": "stdout",
     "output_type": "stream",
     "text": [
      "Using pyphetools version 0.6.3\n"
     ]
    }
   ],
   "source": [
    "import phenopackets as php\n",
    "from google.protobuf.json_format import MessageToDict, MessageToJson\n",
    "from google.protobuf.json_format import Parse, ParseDict\n",
    "import pandas as pd\n",
    "pd.set_option('display.max_colwidth', None) # show entire column contents, important!\n",
    "from collections import defaultdict\n",
    "from pyphetools.creation import *\n",
    "from pyphetools.visualization import *\n",
    "import pyphetools\n",
    "print(f\"Using pyphetools version {pyphetools.__version__}\")"
   ]
  },
  {
   "cell_type": "code",
   "execution_count": 2,
   "id": "5ff37a52",
   "metadata": {},
   "outputs": [],
   "source": [
    "parser = HpoParser()\n",
    "hpo_cr = parser.get_hpo_concept_recognizer()\n",
    "hpo_version = parser.get_version()\n",
    "PMID = \"PMID:20186813\"\n",
    "title = \"Novel ANKH mutation in a patient with sporadic craniometaphyseal dysplasia\"\n",
    "metadata = MetaData(created_by=\"ORCID:0000-0002-0736-9199\", pmid=PMID, pubmed_title=title)\n",
    "metadata.default_versions_with_hpo(version=hpo_version)"
   ]
  },
  {
   "cell_type": "code",
   "execution_count": 3,
   "id": "beef473c-d2a4-485f-ad29-7bd5163e95cd",
   "metadata": {},
   "outputs": [],
   "source": [
    "disease_id = \"OMIM:123000\"\n",
    "disease_label = \"Craniometaphyseal dysplasia\"\n",
    "age = \"P12Y\"\n",
    "sex = \"MALE\"\n",
    "individual_id = \"6-year-old male patient\"\n",
    "encoderA = CaseEncoder(hpo_cr=hpo_cr, \n",
    "                       pmid=PMID, \n",
    "                       individual_id=individual_id,\n",
    "                       metadata=metadata.to_ga4gh(),\n",
    "                       age_at_last_exam=age,\n",
    "                       sex=sex,\n",
    "                       disease_id=disease_id,\n",
    "                       disease_label=disease_label)"
   ]
  },
  {
   "cell_type": "code",
   "execution_count": 4,
   "id": "a845c530",
   "metadata": {},
   "outputs": [],
   "source": [
    "vignette=\"\"\"A 6-year-old male patient was initially evaluated in the Pediatric Plastic Surgery \n",
    "clinic for a progressively worsening facial deformity. He was born at full term by spontaneous \n",
    "vaginal delivery without prenatal or perinatal complications. His birth weight was 3.3 kg (∼35th centile) \n",
    "and his birth length was 45 cm (∼3rd centile). At 6 years, his height was 118 cm (∼65th centile) and \n",
    "his weight was 19 kg (∼25th centile); at 9 years, his height was 138 cm (∼75th centile) and his weight \n",
    "was 28.5 kg (∼50th centile). Clinically, he presented with a small nose, \n",
    "a wide and thickened bony nasal bridge, and prominent zygomatic arches (Fig 1A). \n",
    "Computerized tomographic (CT) scan of the skull showed multiple hyperostoses in the occipital calvarium, \n",
    "maxilla, mandible, and nasal bones, and bilateral obliteration of the maxillary sinus and \n",
    "mastoid air cells (data not shown). The patient presented with no apparent signs of middle ear dysfunction, \n",
    "sensorineural hearing loss, or vision loss. This was determined by tympanometry (Type A on both sides), \n",
    "pure tone audiometric air and bone conduction tests (0-15 dB at 250-8k Hz on both ears), \n",
    "speech audiometry (SRT of 8 dB on both ears), and visual acuity test (scored 20/20 for both eyes) \n",
    "performed at 9 years. The patient was in good overall health as well. A lateral radiograph of the \n",
    "patient's ankle showed mild broadening of the tibial metaphyseal plate (Fig 1B). A lateral \n",
    "radiograph of the skull, taken at 9 years (Fig 1C), also showed that \n",
    "the mineral density and thickness of the endosteal bony plate was significantly increased \n",
    "in the cranial vault and mandibular symphysis (Fig 1C). Dental records indicated that the \n",
    "patient's primary teeth were smaller than average and discolored. \n",
    "In a panoramic radiograph at 9 years, most of the primary teeth showed no root resorption nor delayed \n",
    "exfoliation, and further, the radiograph indicates that the permanent teeth were developing \n",
    "normally (Fig 1D). The alveolar bone showed significantly increased mineral density and \n",
    "a lack of typical trabecular bony architecture (Fig 1D). The patient's parents and \n",
    "sibling had no evident features similar to those observed in the patient, although \n",
    "they were not formally examined. Based on the clinical and radiographic examinations, \n",
    "the patient was given a clinical diagnosis of a sporadic form of craniometaphyseal dysplasia.\"\"\""
   ]
  },
  {
   "cell_type": "code",
   "execution_count": 5,
   "id": "687fc521",
   "metadata": {},
   "outputs": [
    {
     "data": {
      "text/html": [
       "<div>\n",
       "<style scoped>\n",
       "    .dataframe tbody tr th:only-of-type {\n",
       "        vertical-align: middle;\n",
       "    }\n",
       "\n",
       "    .dataframe tbody tr th {\n",
       "        vertical-align: top;\n",
       "    }\n",
       "\n",
       "    .dataframe thead th {\n",
       "        text-align: right;\n",
       "    }\n",
       "</style>\n",
       "<table border=\"1\" class=\"dataframe\">\n",
       "  <thead>\n",
       "    <tr style=\"text-align: right;\">\n",
       "      <th></th>\n",
       "      <th>id</th>\n",
       "      <th>label</th>\n",
       "      <th>observed</th>\n",
       "      <th>measured</th>\n",
       "    </tr>\n",
       "  </thead>\n",
       "  <tbody>\n",
       "    <tr>\n",
       "      <th>0</th>\n",
       "      <td>HP:0003196</td>\n",
       "      <td>Short nose</td>\n",
       "      <td>True</td>\n",
       "      <td>True</td>\n",
       "    </tr>\n",
       "    <tr>\n",
       "      <th>1</th>\n",
       "      <td>HP:0000407</td>\n",
       "      <td>Sensorineural hearing impairment</td>\n",
       "      <td>True</td>\n",
       "      <td>True</td>\n",
       "    </tr>\n",
       "    <tr>\n",
       "      <th>2</th>\n",
       "      <td>HP:0000572</td>\n",
       "      <td>Visual loss</td>\n",
       "      <td>True</td>\n",
       "      <td>True</td>\n",
       "    </tr>\n",
       "    <tr>\n",
       "      <th>3</th>\n",
       "      <td>HP:0011856</td>\n",
       "      <td>Pica</td>\n",
       "      <td>True</td>\n",
       "      <td>True</td>\n",
       "    </tr>\n",
       "    <tr>\n",
       "      <th>4</th>\n",
       "      <td>HP:0100255</td>\n",
       "      <td>Metaphyseal dysplasia</td>\n",
       "      <td>True</td>\n",
       "      <td>True</td>\n",
       "    </tr>\n",
       "  </tbody>\n",
       "</table>\n",
       "</div>"
      ],
      "text/plain": [
       "           id                             label  observed  measured\n",
       "0  HP:0003196                        Short nose      True      True\n",
       "1  HP:0000407  Sensorineural hearing impairment      True      True\n",
       "2  HP:0000572                       Visual loss      True      True\n",
       "3  HP:0011856                              Pica      True      True\n",
       "4  HP:0100255             Metaphyseal dysplasia      True      True"
      ]
     },
     "execution_count": 5,
     "metadata": {},
     "output_type": "execute_result"
    }
   ],
   "source": [
    "d1={'skull hyperostosis': 'Cranial hyperostosis'}\n",
    "results = encoderA.add_vignette(vignette=vignette, custom_d=d1, custom_age=\"P0D\")\n",
    "results"
   ]
  },
  {
   "cell_type": "code",
   "execution_count": 6,
   "id": "4aa90220",
   "metadata": {},
   "outputs": [
    {
     "data": {
      "text/html": [
       "<div>\n",
       "<style scoped>\n",
       "    .dataframe tbody tr th:only-of-type {\n",
       "        vertical-align: middle;\n",
       "    }\n",
       "\n",
       "    .dataframe tbody tr th {\n",
       "        vertical-align: top;\n",
       "    }\n",
       "\n",
       "    .dataframe thead th {\n",
       "        text-align: right;\n",
       "    }\n",
       "</style>\n",
       "<table border=\"1\" class=\"dataframe\">\n",
       "  <thead>\n",
       "    <tr style=\"text-align: right;\">\n",
       "      <th></th>\n",
       "      <th>id</th>\n",
       "      <th>label</th>\n",
       "      <th>observed</th>\n",
       "      <th>measured</th>\n",
       "    </tr>\n",
       "  </thead>\n",
       "  <tbody>\n",
       "    <tr>\n",
       "      <th>0</th>\n",
       "      <td>HP:0100774</td>\n",
       "      <td>Hyperostosis</td>\n",
       "      <td>True</td>\n",
       "      <td>True</td>\n",
       "    </tr>\n",
       "    <tr>\n",
       "      <th>1</th>\n",
       "      <td>HP:0011856</td>\n",
       "      <td>Pica</td>\n",
       "      <td>True</td>\n",
       "      <td>True</td>\n",
       "    </tr>\n",
       "  </tbody>\n",
       "</table>\n",
       "</div>"
      ],
      "text/plain": [
       "           id         label  observed  measured\n",
       "0  HP:0100774  Hyperostosis      True      True\n",
       "1  HP:0011856          Pica      True      True"
      ]
     },
     "execution_count": 6,
     "metadata": {},
     "output_type": "execute_result"
    }
   ],
   "source": [
    "radiographs = \"\"\"\n",
    "A. Lateral and frontal facial photographs taken at 6 years showed \n",
    "thickening and broadening of the nasal bridge. \n",
    "B. Lateral radiograph of the ankle taken at 6 years showed mild flaring of the tibial metaphyseal plate. \n",
    "C. Lateral radiograph of the skull of the patient at 9 years showed hyperostosis of the cranial base, \n",
    "calvarial bones, facial bones, and the alveolar bone. \n",
    "Arrows point to increased endosteal bone density and thickness. \n",
    "D. Panoramic radiograph of developing dentition taken at 9 years showed \n",
    "delayed primary tooth root resorption and permanent tooth eruption. \n",
    "Asterisks point to alveolar bone and mandibular symphysis with unusually high mineral density and \n",
    "loss of typical trabecular bony architecture.\"\"\"\n",
    "results = encoderA.add_vignette(vignette=radiographs, custom_d=d1, custom_age=\"P0D\")\n",
    "results"
   ]
  },
  {
   "cell_type": "markdown",
   "id": "6f3cf149",
   "metadata": {},
   "source": [
    "<h2>The variant</h2>\n",
    "<p>The mutation was complex and consisted of two substitutions (c.936T>C, c.938C>G) and one deletion (c.942_953delTGGTTGACGGAA), predicting p.Tyr290Gln and p.Trp292_Glu295del separated by one amino acid (Fig 2D). </p>"
   ]
  },
  {
   "cell_type": "code",
   "execution_count": 7,
   "id": "77da31c5",
   "metadata": {},
   "outputs": [
    {
     "name": "stdout",
     "output_type": "stream",
     "text": [
      "https://rest.variantvalidator.org/VariantValidator/variantvalidator/hg38/NM_054027.6%3Ac.942_953del/NM_054027.6?content-type=application%2Fjson\n"
     ]
    },
    {
     "data": {
      "text/plain": [
       "'chr5:14741884TGTGTTGCTCGTG>T'"
      ]
     },
     "execution_count": 7,
     "metadata": {},
     "output_type": "execute_result"
    }
   ],
   "source": [
    "genome = 'hg38'\n",
    "transcript='NM_054027.6' # not mentioned in article, but should be correct since there are no alt starts\n",
    "varValidator = VariantValidator(genome_build=genome, transcript=transcript)\n",
    "varA = varValidator.encode_hgvs(hgvs=\"c.942_953del\")\n",
    "varA.set_heterozygous()\n",
    "varA.to_string()"
   ]
  },
  {
   "cell_type": "code",
   "execution_count": 8,
   "id": "561b579c",
   "metadata": {},
   "outputs": [],
   "source": [
    "encoderA.add_variant_or_interpretation(varA)"
   ]
  },
  {
   "cell_type": "code",
   "execution_count": 9,
   "id": "87d4ba98",
   "metadata": {},
   "outputs": [
    {
     "name": "stdout",
     "output_type": "stream",
     "text": [
      "{\n",
      "  \"id\": \"PMID_20186813_6-year-old_male_patient\",\n",
      "  \"subject\": {\n",
      "    \"id\": \"6-year-old male patient\",\n",
      "    \"timeAtLastEncounter\": {\n",
      "      \"age\": {\n",
      "        \"iso8601duration\": \"P12Y\"\n",
      "      }\n",
      "    }\n",
      "  },\n",
      "  \"phenotypicFeatures\": [\n",
      "    {\n",
      "      \"type\": {\n",
      "        \"id\": \"HP:0003196\",\n",
      "        \"label\": \"Short nose\"\n",
      "      }\n",
      "    },\n",
      "    {\n",
      "      \"type\": {\n",
      "        \"id\": \"HP:0000407\",\n",
      "        \"label\": \"Sensorineural hearing impairment\"\n",
      "      }\n",
      "    },\n",
      "    {\n",
      "      \"type\": {\n",
      "        \"id\": \"HP:0000572\",\n",
      "        \"label\": \"Visual loss\"\n",
      "      }\n",
      "    },\n",
      "    {\n",
      "      \"type\": {\n",
      "        \"id\": \"HP:0011856\",\n",
      "        \"label\": \"Pica\"\n",
      "      }\n",
      "    },\n",
      "    {\n",
      "      \"type\": {\n",
      "        \"id\": \"HP:0100255\",\n",
      "        \"label\": \"Metaphyseal dysplasia\"\n",
      "      }\n",
      "    },\n",
      "    {\n",
      "      \"type\": {\n",
      "        \"id\": \"HP:0100774\",\n",
      "        \"label\": \"Hyperostosis\"\n",
      "      }\n",
      "    },\n",
      "    {\n",
      "      \"type\": {\n",
      "        \"id\": \"HP:0011856\",\n",
      "        \"label\": \"Pica\"\n",
      "      }\n",
      "    }\n",
      "  ],\n",
      "  \"interpretations\": [\n",
      "    {\n",
      "      \"id\": \"6-year-old male patient\",\n",
      "      \"progressStatus\": \"SOLVED\",\n",
      "      \"diagnosis\": {\n",
      "        \"disease\": {\n",
      "          \"id\": \"OMIM:123000\",\n",
      "          \"label\": \"Craniometaphyseal dysplasia\"\n",
      "        },\n",
      "        \"genomicInterpretations\": [\n",
      "          {\n",
      "            \"subjectOrBiosampleId\": \"6-year-old male patient\",\n",
      "            \"interpretationStatus\": \"CAUSATIVE\",\n",
      "            \"variantInterpretation\": {\n",
      "              \"variationDescriptor\": {\n",
      "                \"id\": \"var_zRzegykpHEmywYkijfvOFEtcC\",\n",
      "                \"geneContext\": {\n",
      "                  \"valueId\": \"HGNC:15492\",\n",
      "                  \"symbol\": \"ANKH\"\n",
      "                },\n",
      "                \"expressions\": [\n",
      "                  {\n",
      "                    \"syntax\": \"hgvs.c\",\n",
      "                    \"value\": \"NM_054027.6:c.942_953del\"\n",
      "                  },\n",
      "                  {\n",
      "                    \"syntax\": \"hgvs.g\",\n",
      "                    \"value\": \"NC_000005.10:g.14741885_14741896del\"\n",
      "                  }\n",
      "                ],\n",
      "                \"vcfRecord\": {\n",
      "                  \"genomeAssembly\": \"hg38\",\n",
      "                  \"chrom\": \"chr5\",\n",
      "                  \"pos\": \"14741884\",\n",
      "                  \"ref\": \"TGTGTTGCTCGTG\",\n",
      "                  \"alt\": \"T\"\n",
      "                },\n",
      "                \"moleculeContext\": \"genomic\",\n",
      "                \"allelicState\": {\n",
      "                  \"id\": \"GENO:0000135\",\n",
      "                  \"label\": \"heterozygous\"\n",
      "                }\n",
      "              }\n",
      "            }\n",
      "          }\n",
      "        ]\n",
      "      }\n",
      "    }\n",
      "  ],\n",
      "  \"metaData\": {\n",
      "    \"created\": \"2023-10-01T01:19:09.677453041Z\",\n",
      "    \"createdBy\": \"ORCID:0000-0002-0736-9199\",\n",
      "    \"resources\": [\n",
      "      {\n",
      "        \"id\": \"geno\",\n",
      "        \"name\": \"Genotype Ontology\",\n",
      "        \"url\": \"http://purl.obolibrary.org/obo/geno.owl\",\n",
      "        \"version\": \"2022-03-05\",\n",
      "        \"namespacePrefix\": \"GENO\",\n",
      "        \"iriPrefix\": \"http://purl.obolibrary.org/obo/GENO_\"\n",
      "      },\n",
      "      {\n",
      "        \"id\": \"hgnc\",\n",
      "        \"name\": \"HUGO Gene Nomenclature Committee\",\n",
      "        \"url\": \"https://www.genenames.org\",\n",
      "        \"version\": \"06/01/23\",\n",
      "        \"namespacePrefix\": \"HGNC\",\n",
      "        \"iriPrefix\": \"https://www.genenames.org/data/gene-symbol-report/#!/hgnc_id/\"\n",
      "      },\n",
      "      {\n",
      "        \"id\": \"omim\",\n",
      "        \"name\": \"An Online Catalog of Human Genes and Genetic Disorders\",\n",
      "        \"url\": \"https://www.omim.org\",\n",
      "        \"version\": \"January 4, 2023\",\n",
      "        \"namespacePrefix\": \"OMIM\",\n",
      "        \"iriPrefix\": \"https://www.omim.org/entry/\"\n",
      "      },\n",
      "      {\n",
      "        \"id\": \"so\",\n",
      "        \"name\": \"Sequence types and features ontology\",\n",
      "        \"url\": \"http://purl.obolibrary.org/obo/so.obo\",\n",
      "        \"version\": \"2021-11-22\",\n",
      "        \"namespacePrefix\": \"SO\",\n",
      "        \"iriPrefix\": \"http://purl.obolibrary.org/obo/SO_\"\n",
      "      },\n",
      "      {\n",
      "        \"id\": \"hp\",\n",
      "        \"name\": \"human phenotype ontology\",\n",
      "        \"url\": \"http://purl.obolibrary.org/obo/hp.owl\",\n",
      "        \"version\": \"2023-09-01\",\n",
      "        \"namespacePrefix\": \"HP\",\n",
      "        \"iriPrefix\": \"http://purl.obolibrary.org/obo/HP_\"\n",
      "      }\n",
      "    ],\n",
      "    \"phenopacketSchemaVersion\": \"2.0\",\n",
      "    \"externalReferences\": [\n",
      "      {\n",
      "        \"id\": \"PMID:20186813\",\n",
      "        \"reference\": \"https://pubmed.ncbi.nlm.nih.gov/20186813\",\n",
      "        \"description\": \"Novel ANKH mutation in a patient with sporadic craniometaphyseal dysplasia\"\n",
      "      }\n",
      "    ]\n",
      "  }\n",
      "}\n"
     ]
    }
   ],
   "source": [
    "ppacketA = encoderA.get_phenopacket()\n",
    "json_string = MessageToJson(ppacketA)\n",
    "print(json_string)"
   ]
  },
  {
   "cell_type": "code",
   "execution_count": 10,
   "id": "4000eb04-9ac0-4363-b049-7a1d3eda42d8",
   "metadata": {},
   "outputs": [
    {
     "name": "stdout",
     "output_type": "stream",
     "text": [
      "Wrote phenopacket to phenopackets/PMID_20186813_6-year-old_male_patient.json\n"
     ]
    }
   ],
   "source": [
    "output_directory = \"phenopackets\"\n",
    "encoderA.output_phenopacket(outdir=output_directory)"
   ]
  },
  {
   "cell_type": "code",
   "execution_count": null,
   "id": "396264ed-9d6b-4973-bc7f-8500c90ce2a3",
   "metadata": {},
   "outputs": [],
   "source": []
  }
 ],
 "metadata": {
  "kernelspec": {
   "display_name": "pstore_env",
   "language": "python",
   "name": "pstore_env"
  },
  "language_info": {
   "codemirror_mode": {
    "name": "ipython",
    "version": 3
   },
   "file_extension": ".py",
   "mimetype": "text/x-python",
   "name": "python",
   "nbconvert_exporter": "python",
   "pygments_lexer": "ipython3",
   "version": "3.11.3"
  }
 },
 "nbformat": 4,
 "nbformat_minor": 5
}
