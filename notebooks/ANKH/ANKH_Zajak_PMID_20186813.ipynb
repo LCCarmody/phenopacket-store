{
 "cells": [
  {
   "cell_type": "markdown",
   "id": "b398a5b4",
   "metadata": {},
   "source": [
    "<H1>Zajak, Novel ANKH mutation in a patient with sporadic craniometaphyseal dysplasia</H1>\n",
    "<p>Data from <a href=\"https://pubmed.ncbi.nlm.nih.gov/20186813/\" target=\"__blank\">Zajac A, et al. Novel ANKH mutation in a patient with sporadic craniometaphyseal dysplasia. Am J Med Genet A. 2010 Mar;152A(3):770-6.</a>.</p>"
   ]
  },
  {
   "cell_type": "code",
   "execution_count": 1,
   "id": "35c332c7",
   "metadata": {},
   "outputs": [
    {
     "name": "stdout",
     "output_type": "stream",
     "text": [
      "Using pyphetools version 0.8.17\n"
     ]
    }
   ],
   "source": [
    "import phenopackets as php\n",
    "from google.protobuf.json_format import MessageToDict, MessageToJson\n",
    "from google.protobuf.json_format import Parse, ParseDict\n",
    "import pandas as pd\n",
    "pd.set_option('display.max_colwidth', None) # show entire column contents, important!\n",
    "from collections import defaultdict\n",
    "from IPython.display import HTML, display\n",
    "from pyphetools.creation import *\n",
    "from pyphetools.validation import *\n",
    "from pyphetools.visualization import *\n",
    "import pyphetools\n",
    "print(f\"Using pyphetools version {pyphetools.__version__}\")"
   ]
  },
  {
   "cell_type": "code",
   "execution_count": 2,
   "id": "5ff37a52",
   "metadata": {},
   "outputs": [],
   "source": [
    "parser = HpoParser()\n",
    "hpo_cr = parser.get_hpo_concept_recognizer()\n",
    "hpo_version = parser.get_version()\n",
    "hpo_ontology = parser.get_ontology()\n",
    "PMID = \"PMID:20186813\"\n",
    "title = \"Novel ANKH mutation in a patient with sporadic craniometaphyseal dysplasia\"\n",
    "metadata = MetaData(created_by=\"ORCID:0000-0002-0736-9199\", pmid=PMID, pubmed_title=title)\n",
    "metadata.default_versions_with_hpo(version=hpo_version)"
   ]
  },
  {
   "cell_type": "code",
   "execution_count": 3,
   "id": "beef473c-d2a4-485f-ad29-7bd5163e95cd",
   "metadata": {},
   "outputs": [],
   "source": [
    "cmd_disease = Disease(disease_id = \"OMIM:123000\", disease_label = \"Craniometaphyseal dysplasia\")\n",
    "age = \"P12Y\"\n",
    "sex = \"MALE\"\n",
    "individual_id = \"6-year-old male patient\"\n",
    "encoderA = CaseEncoder(hpo_cr=hpo_cr, \n",
    "                       pmid=PMID, \n",
    "                       individual_id=individual_id,\n",
    "                       metadata=metadata.to_ga4gh(),\n",
    "                       age_at_last_exam=age,\n",
    "                       sex=sex,\n",
    "                       disease=cmd_disease)"
   ]
  },
  {
   "cell_type": "code",
   "execution_count": 4,
   "id": "a845c530",
   "metadata": {},
   "outputs": [],
   "source": [
    "vignette=\"\"\"A 6-year-old male patient was initially evaluated in the Pediatric Plastic Surgery \n",
    "clinic for a progressively worsening facial deformity. He was born at full term by spontaneous \n",
    "vaginal delivery without prenatal or perinatal complications. His birth weight was 3.3 kg (∼35th centile) \n",
    "and his birth length was 45 cm (∼3rd centile). At 6 years, his height was 118 cm (∼65th centile) and \n",
    "his weight was 19 kg (∼25th centile); at 9 years, his height was 138 cm (∼75th centile) and his weight \n",
    "was 28.5 kg (∼50th centile). Clinically, he presented with a small nose, \n",
    "a wide and thickened bony nasal bridge, and prominent zygomatic arches (Fig 1A). \n",
    "Computerized tomographic (CT) scan of the skull showed multiple hyperostoses in the occipital calvarium, \n",
    "maxilla, mandible, and nasal bones, and bilateral obliteration of the maxillary sinus and \n",
    "mastoid air cells (data not shown). The patient presented with no apparent signs of middle ear dysfunction, \n",
    "sensorineural hearing loss, or vision loss. This was determined by tympanometry (Type A on both sides), \n",
    "pure tone audiometric air and bone conduction tests (0-15 dB at 250-8k Hz on both ears), \n",
    "speech audiometry (SRT of 8 dB on both ears), and visual acuity test (scored 20/20 for both eyes) \n",
    "performed at 9 years. The patient was in good overall health as well. A lateral radiograph of the \n",
    "patient's ankle showed mild broadening of the tibial metaphyseal plate (Fig 1B). A lateral \n",
    "radiograph of the skull, taken at 9 years (Fig 1C), also showed that \n",
    "the mineral density and thickness of the endosteal bony plate was significantly increased \n",
    "in the cranial vault and mandibular symphysis (Fig 1C). Dental records indicated that the \n",
    "patient's primary teeth were smaller than average and discolored. \n",
    "In a panoramic radiograph at 9 years, most of the primary teeth showed no root resorption nor delayed \n",
    "exfoliation, and further, the radiograph indicates that the permanent teeth were developing \n",
    "normally (Fig 1D). The alveolar bone showed significantly increased mineral density and \n",
    "a lack of typical trabecular bony architecture (Fig 1D). The patient's parents and \n",
    "sibling had no evident features similar to those observed in the patient, although \n",
    "they were not formally examined. Based on the clinical and radiographic examinations, \n",
    "the patient was given a clinical diagnosis of a sporadic form of craniometaphyseal dysplasia.\"\"\""
   ]
  },
  {
   "cell_type": "code",
   "execution_count": 5,
   "id": "687fc521",
   "metadata": {},
   "outputs": [],
   "source": [
    "d1={'skull hyperostosis': 'Cranial hyperostosis'}\n",
    "results = encoderA.add_vignette(vignette=vignette, custom_d=d1, custom_age=\"P0D\")\n",
    "#results"
   ]
  },
  {
   "cell_type": "code",
   "execution_count": 6,
   "id": "4aa90220",
   "metadata": {},
   "outputs": [
    {
     "name": "stdout",
     "output_type": "stream",
     "text": [
      "           id              label  observed  measured\n",
      "0  HP:0000431  Wide nasal bridge      True      True\n"
     ]
    },
    {
     "data": {
      "text/html": [
       "<div>\n",
       "<style scoped>\n",
       "    .dataframe tbody tr th:only-of-type {\n",
       "        vertical-align: middle;\n",
       "    }\n",
       "\n",
       "    .dataframe tbody tr th {\n",
       "        vertical-align: top;\n",
       "    }\n",
       "\n",
       "    .dataframe thead th {\n",
       "        text-align: right;\n",
       "    }\n",
       "</style>\n",
       "<table border=\"1\" class=\"dataframe\">\n",
       "  <thead>\n",
       "    <tr style=\"text-align: right;\">\n",
       "      <th></th>\n",
       "      <th>id</th>\n",
       "      <th>label</th>\n",
       "      <th>observed</th>\n",
       "      <th>measured</th>\n",
       "    </tr>\n",
       "  </thead>\n",
       "  <tbody>\n",
       "    <tr>\n",
       "      <th>0</th>\n",
       "      <td>HP:0004437</td>\n",
       "      <td>Cranial hyperostosis</td>\n",
       "      <td>True</td>\n",
       "      <td>True</td>\n",
       "    </tr>\n",
       "    <tr>\n",
       "      <th>1</th>\n",
       "      <td>HP:0000696</td>\n",
       "      <td>Delayed eruption of permanent teeth</td>\n",
       "      <td>True</td>\n",
       "      <td>True</td>\n",
       "    </tr>\n",
       "  </tbody>\n",
       "</table>\n",
       "</div>"
      ],
      "text/plain": [
       "           id                                label  observed  measured\n",
       "0  HP:0004437                 Cranial hyperostosis      True      True\n",
       "1  HP:0000696  Delayed eruption of permanent teeth      True      True"
      ]
     },
     "execution_count": 6,
     "metadata": {},
     "output_type": "execute_result"
    }
   ],
   "source": [
    "radiographs_6y = \"\"\"\n",
    "A. Lateral and frontal facial photographs taken at 6 years showed \n",
    "thickening and broadening of the nasal bridge. \n",
    "\"\"\"\n",
    "option_d = { \"broadening of the nasal bridge\": \"Wide nasal bridge\",\n",
    "           \"hyperostosis of the cranial base\": \"Cranial hyperostosis\",   \n",
    "           \"delayed primary tooth root resorption and permanent tooth eruption\": \"Delayed eruption of permanent teeth\"}\n",
    "\n",
    "results = encoderA.add_vignette(vignette=radiographs_6y, custom_d=option_d, custom_age=\"P6Y\")\n",
    "print(results)\n",
    "\n",
    "radiographs_9y = \"\"\"\n",
    "B. Lateral radiograph of the ankle taken at 6 years showed mild flaring of the tibial metaphyseal plate. \n",
    "C. Lateral radiograph of the skull of the patient at 9 years showed hyperostosis of the cranial base, \n",
    "calvarial bones, facial bones, and the alveolar bone. \n",
    "Arrows point to increased endosteal bone density and thickness. \n",
    "D. Panoramic radiograph of developing dentition taken at 9 years showed \n",
    "delayed primary tooth root resorption and permanent tooth eruption. \n",
    "Asterisks point to alveolar bone and mandibular symphysis with unusually high mineral density and \n",
    "loss of typical trabecular bony architecture.\"\"\"\n",
    "results = encoderA.add_vignette(vignette=radiographs_9y, custom_d=option_d, custom_age=\"P9Y\", )\n",
    "results"
   ]
  },
  {
   "cell_type": "markdown",
   "id": "6f3cf149",
   "metadata": {},
   "source": [
    "<h2>The variant</h2>\n",
    "<p>The mutation was complex and consisted of two substitutions (c.936T>C, c.938C>G) and one deletion (c.942_953delTGGTTGACGGAA), predicting p.Tyr290Gln and p.Trp292_Glu295del separated by one amino acid (Fig 2D). </p>"
   ]
  },
  {
   "cell_type": "code",
   "execution_count": 7,
   "id": "77da31c5",
   "metadata": {},
   "outputs": [
    {
     "name": "stdout",
     "output_type": "stream",
     "text": [
      "https://rest.variantvalidator.org/VariantValidator/variantvalidator/hg38/NM_054027.6%3Ac.942_953del/NM_054027.6?content-type=application%2Fjson\n"
     ]
    },
    {
     "data": {
      "text/plain": [
       "'chr5:14741884TGTGTTGCTCGTG>T'"
      ]
     },
     "execution_count": 7,
     "metadata": {},
     "output_type": "execute_result"
    }
   ],
   "source": [
    "genome = 'hg38'\n",
    "transcript='NM_054027.6' # not mentioned in article, but should be correct since there are no alt starts\n",
    "varValidator = VariantValidator(genome_build=genome, transcript=transcript)\n",
    "varA = varValidator.encode_hgvs(hgvs=\"c.942_953del\")\n",
    "varA.set_heterozygous()\n",
    "varA.to_string()"
   ]
  },
  {
   "cell_type": "code",
   "execution_count": 8,
   "id": "561b579c",
   "metadata": {},
   "outputs": [],
   "source": [
    "encoderA.add_variant_or_interpretation(varA)"
   ]
  },
  {
   "cell_type": "code",
   "execution_count": 9,
   "id": "87d4ba98",
   "metadata": {},
   "outputs": [],
   "source": [
    "individualA = encoderA.get_individual()"
   ]
  },
  {
   "cell_type": "markdown",
   "id": "6408c2ef-2be3-4ea8-9fa0-5db15ee76d29",
   "metadata": {},
   "source": [
    "# Validation"
   ]
  },
  {
   "cell_type": "code",
   "execution_count": 10,
   "id": "1e80c833-7bb7-4cbf-ab86-9364b659fb74",
   "metadata": {},
   "outputs": [
    {
     "data": {
      "text/html": [
       "<h2>Cohort validation</h2>\n",
       "<p>No errors found for the cohort with 1 individuals</p>"
      ],
      "text/plain": [
       "<IPython.core.display.HTML object>"
      ]
     },
     "metadata": {},
     "output_type": "display_data"
    }
   ],
   "source": [
    "cohort = [individualA]\n",
    "cvalidator = CohortValidator(cohort=cohort, ontology=hpo_ontology, min_hpo=1, allelic_requirement=AllelicRequirement.MONO_ALLELIC)\n",
    "validated_individuals = cvalidator.get_validated_individual_list()\n",
    "qc = QcVisualizer(ontology=hpo_ontology)\n",
    "display(HTML(qc.to_html(validated_individuals)))"
   ]
  },
  {
   "cell_type": "markdown",
   "id": "904ab6f3-6bbb-470e-9b59-1e08fd7bc38a",
   "metadata": {},
   "source": [
    "# Visualization"
   ]
  },
  {
   "cell_type": "code",
   "execution_count": 11,
   "id": "219ccfe0-643e-4d3c-9171-8fd42dd66689",
   "metadata": {},
   "outputs": [
    {
     "data": {
      "text/html": [
       "<table style=\"border: 2px solid black; align: \"left\">\n",
       "<caption>1 phenopacket - PMID:20186813 (n=1)</caption>\n",
       "<tr><th style=\"text-align: left;font-weight: bold;\">Individual</th><th style=\"text-align: left;font-weight: bold;\">Disease</th><th style=\"text-align: left;font-weight: bold;\">Genotype</th><th style=\"text-align: left;font-weight: bold;\">Phenotypic features</th></tr>\n",
       "<tr><td style=\"text-align: left;\">6-year-old male patient (MALE; P12Y)</td><td style=\"text-align: left;\">Craniometaphyseal dysplasia (OMIM:123000)</td><td style=\"text-align: left;\">NM_054027.6:c.942_953del (heterozygous)</td><td style=\"text-align: left;\"><b>P0D</b>: Short nose (HP:0003196); Sensorineural hearing impairment (HP:0000407); Visual loss (HP:0000572)<br/><b>P6Y</b>: Wide nasal bridge (HP:0000431)<br/><b>P9Y</b>: Cranial hyperostosis (HP:0004437); Delayed eruption of permanent teeth (HP:0000696)</td></tr>\n",
       "</table>"
      ],
      "text/plain": [
       "<IPython.core.display.HTML object>"
      ]
     },
     "metadata": {},
     "output_type": "display_data"
    }
   ],
   "source": [
    "phenopackets = [i.to_ga4gh_phenopacket(metadata=metadata.to_ga4gh()) for i in cohort]\n",
    "table = PhenopacketTable(phenopacket_list=phenopackets)\n",
    "display(HTML(table.to_html()))"
   ]
  },
  {
   "cell_type": "code",
   "execution_count": 12,
   "id": "4000eb04-9ac0-4363-b049-7a1d3eda42d8",
   "metadata": {},
   "outputs": [
    {
     "name": "stdout",
     "output_type": "stream",
     "text": [
      "We output 1 GA4GH phenopackets to the directory phenopackets\n"
     ]
    }
   ],
   "source": [
    "output_directory = \"phenopackets\"\n",
    "Individual.output_individuals_as_phenopackets(individual_list=cohort,\n",
    "                                              metadata=metadata,\n",
    "                                              outdir=output_directory)"
   ]
  },
  {
   "cell_type": "code",
   "execution_count": null,
   "id": "de2af845-7e8a-4b32-b5de-c4bc8bf6435a",
   "metadata": {},
   "outputs": [],
   "source": []
  }
 ],
 "metadata": {
  "kernelspec": {
   "display_name": "pstore_env",
   "language": "python",
   "name": "pstore_env"
  },
  "language_info": {
   "codemirror_mode": {
    "name": "ipython",
    "version": 3
   },
   "file_extension": ".py",
   "mimetype": "text/x-python",
   "name": "python",
   "nbconvert_exporter": "python",
   "pygments_lexer": "ipython3",
   "version": "3.11.3"
  }
 },
 "nbformat": 4,
 "nbformat_minor": 5
}
