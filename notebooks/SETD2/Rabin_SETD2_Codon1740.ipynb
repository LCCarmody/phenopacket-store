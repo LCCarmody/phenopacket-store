{
 "cells": [
  {
   "cell_type": "markdown",
   "id": "9a799c75",
   "metadata": {},
   "source": [
    "<h1>Genotype–phenotype correlation at codon 1740 of SETD2</h1>\n",
    "<p>Generate phenopackets from the data reported in <a href=\"https://pubmed.ncbi.nlm.nih.gov/32710489/\">Rabin et al., (2020) Genotype-phenotype correlation at codon 1740 of SETD2</a>.</p>"
   ]
  },
  {
   "cell_type": "code",
   "execution_count": null,
   "id": "88c833e5",
   "metadata": {},
   "outputs": [],
   "source": [
    "import phenopackets as php\n",
    "from google.protobuf.json_format import MessageToDict, MessageToJson\n",
    "from google.protobuf.json_format import Parse, ParseDict\n",
    "import pandas as pd\n",
    "pd.set_option('display.max_colwidth', None) # show entire column contents, important!\n",
    "from collections import defaultdict\n",
    "import numpy as np\n",
    "import pyphetools\n",
    "from pyphetools.creation import *\n",
    "from pyphetools.output import PhenopacketTable\n",
    "print(f\"pyphetools version {pyphetools.__version__}\")"
   ]
  },
  {
   "cell_type": "code",
   "execution_count": null,
   "id": "e5a89f03",
   "metadata": {},
   "outputs": [],
   "source": [
    "parser = HpoParser()\n",
    "hpo_cr = parser.get_hpo_concept_recognizer()\n",
    "hpo_version = parser.get_version()\n",
    "pmid = \"PMID:32710489\"\n",
    "title = \"Genotype-phenotype correlation at codon 1740 of SETD2\"\n",
    "metadata = MetaData(created_by=\"ORCID:0000-0002-0736-9199\", pmid=pmid, pubmed_title=title)\n",
    "metadata.default_versions_with_hpo(version=hpo_version)"
   ]
  },
  {
   "cell_type": "code",
   "execution_count": null,
   "id": "5aef0282",
   "metadata": {},
   "outputs": [],
   "source": [
    "df = pd.read_excel(\"input/RabinSupplementaryTable1-SETD2.xlsx\")"
   ]
  },
  {
   "cell_type": "code",
   "execution_count": null,
   "id": "cd1501a5",
   "metadata": {},
   "outputs": [],
   "source": [
    "df"
   ]
  },
  {
   "cell_type": "code",
   "execution_count": null,
   "id": "07c5dfc9",
   "metadata": {},
   "outputs": [],
   "source": [
    "# Convert to row-based\n",
    "dft = df.transpose()\n",
    "\n",
    "dft.columns = dft.iloc[0]\n",
    "dft.drop(dft.index[0], inplace=True)\n",
    "dft.index\n",
    "dft['patient_id'] = dft.index\n",
    "dft.head()"
   ]
  },
  {
   "cell_type": "code",
   "execution_count": null,
   "id": "bf6a2441",
   "metadata": {},
   "outputs": [],
   "source": [
    "column_mapper_d = defaultdict(ColumnMapper)"
   ]
  },
  {
   "cell_type": "code",
   "execution_count": null,
   "id": "c115e2cb",
   "metadata": {},
   "outputs": [],
   "source": [
    "prenatal_custom_map = {'agenesis of the corpus callosum': 'Agenesis of corpus callosum',  \n",
    "                         '\\nIUGR': 'Intrauterine growth retardation',\n",
    "                         'small cerebellum':'Cerebellar hypoplasia',\n",
    "                         'vsd': 'Ventricular septal defect',\n",
    "                           'pre-eclampsia': 'Preeclampsia',\n",
    "                       'right dysplastic multi cystic kidney':'Multicystic kidney dysplasia'\n",
    "                        }\n",
    "excluded = {'maternal asthma', 'heart defect', 'maternal cholelithiasis'}\n",
    "prenatalMapper = CustomColumnMapper(concept_recognizer=hpo_cr, custom_map_d=prenatal_custom_map, excluded_set=excluded)\n",
    "#prenatalMapper.preview_column(dft['Prenatal complications'])\n",
    "column_mapper_d['Prenatal complications'] = prenatalMapper"
   ]
  },
  {
   "cell_type": "code",
   "execution_count": null,
   "id": "92e0162c",
   "metadata": {},
   "outputs": [],
   "source": [
    "dev_custom_map = {'Severe global developmental delay': 'Severe global developmental delay'}\n",
    "devMapper = CustomColumnMapper(concept_recognizer=hpo_cr, custom_map_d=dev_custom_map)\n",
    "#devMapper.preview_column(dft['Development'])\n",
    "column_mapper_d['Development'] = devMapper"
   ]
  },
  {
   "cell_type": "code",
   "execution_count": null,
   "id": "801bfb7d",
   "metadata": {},
   "outputs": [],
   "source": [
    "walking_custom_map = {'No': 'Inability to walk',  \n",
    "                         'No; wheelchair bound at 10 years': 'Inability to walk',\n",
    "                         'No at 3.5 years and could not stand at 3.5 years':'Delayed ability to walk',\n",
    "                         'No at 13 years': 'Inability to walk',  \n",
    "                         'Able to take a few steps at 7 years': 'Inability to walk',  \n",
    "                       'No at 6 years':'Inability to walk',  \n",
    "                        }\n",
    "walkingMapper = CustomColumnMapper(concept_recognizer=hpo_cr, custom_map_d=walking_custom_map)\n",
    "#walkingMapper.preview_column(dft['Walking independently'])\n",
    "column_mapper_d['Walking independently'] = walkingMapper"
   ]
  },
  {
   "cell_type": "code",
   "execution_count": null,
   "id": "9aacfdcf",
   "metadata": {},
   "outputs": [],
   "source": [
    "sitting_custom_map = {'No': 'Delayed ability to sit',  \n",
    "                         'at 2.5 years': 'Delayed ability to sit',\n",
    "                         'No at 3.5 years and could not stand at 3.5 years':'Delayed ability to walk',\n",
    "                         'No at 10 years': 'Delayed ability to sit',  \n",
    "                         'Attempting to sit at 6 years': 'Delayed ability to sit',  \n",
    "                       'No at 6 years':'Inability to walk',  \n",
    "                        }\n",
    "sittingMapper = CustomColumnMapper(concept_recognizer=hpo_cr, custom_map_d=sitting_custom_map)\n",
    "#sittingMapper.preview_column(dft['Sitting independently'])\n",
    "column_mapper_d['Sitting independently'] = sittingMapper"
   ]
  },
  {
   "cell_type": "code",
   "execution_count": null,
   "id": "cabb1f69",
   "metadata": {},
   "outputs": [],
   "source": [
    "speech_custom_map = {'At 16 months making sounds': 'Delayed speech and language development',  \n",
    "                         'No speech; only babbling at 10 years': 'Absent speech',\n",
    "                         'No speech; only cooing at 3.5 years':'Delayed speech and language development',  \n",
    "                         'Cccasional vocalizations at 7 years': 'Absent speech',\n",
    "                         '15 months had single words; 4 years 6 months spoke in short sentences with pronunciation difficulties':'Delayed speech and language development',  \n",
    "                        }\n",
    "speechMapper = CustomColumnMapper(concept_recognizer=hpo_cr, custom_map_d=speech_custom_map)\n",
    "#speechMapper.preview_column(dft['speech'])\n",
    "column_mapper_d['speech'] = speechMapper"
   ]
  },
  {
   "cell_type": "code",
   "execution_count": null,
   "id": "a71c4fd3",
   "metadata": {},
   "outputs": [],
   "source": [
    "skull_map = {'Metopic ridge': 'Prominent metopic ridge'}\n",
    "skullMapper= CustomColumnMapper(concept_recognizer=hpo_cr, custom_map_d=skull_map)\n",
    "skullMapper.preview_column(dft['Fontanelle/ skull'])\n",
    "column_mapper_d['Fontanelle/ skull'] = skullMapper"
   ]
  },
  {
   "cell_type": "code",
   "execution_count": null,
   "id": "c9a97d8f",
   "metadata": {},
   "outputs": [],
   "source": [
    "items = {\n",
    "    'midface hypoplasia/maxillary hypoplasia': [\"Midface retrusion\",\"HP:0011800\"],\n",
    "    'wide nasal bridge': ['Wide nasal bridge', 'HP:0000431'],\n",
    "    'broad nasal tip': ['Broad nasal tip', 'HP:0000455'],\n",
    "    'Low hanging columella': ['Low hanging columella', 'HP:0009765'],\n",
    "    'upslanted palbebral fissures': ['Upslanted palpebral fissure', 'HP:0000582'], \n",
    "    'narrow/short palbebral fissures': ['Short palpebral fissure','HP:0012745'],\n",
    "    'Periorbital fullness': ['Periorbital fullness', 'HP:0000629'],\n",
    "    'arched eyebrows': ['Highly arched eyebrow', 'HP:0002553'],\n",
    "    'hypertelorism': ['Hypertelorism',  'HP:0000316'],\n",
    "    'micrognathia': ['Micrognathia', 'HP:0000347'],\n",
    "  }\n",
    "item_column_mapper_d = hpo_cr.initialize_simple_column_maps(column_name_to_hpo_label_map=items, observed='Present',\n",
    "    excluded='no')\n",
    "  # Transfer to column_mapper_d\n",
    "for k, v in item_column_mapper_d.items():\n",
    "    column_mapper_d[k] = v"
   ]
  },
  {
   "cell_type": "code",
   "execution_count": null,
   "id": "4c298562",
   "metadata": {},
   "outputs": [],
   "source": [
    "handsMapper = CustomColumnMapper(concept_recognizer=hpo_cr)\n",
    "handsMapper.preview_column(dft['Minor malfromations of hands and feet'])\n",
    "column_mapper_d['Minor malfromations of hands and feet'] = handsMapper"
   ]
  },
  {
   "cell_type": "code",
   "execution_count": null,
   "id": "7c4daf3b",
   "metadata": {},
   "outputs": [],
   "source": [
    "ears_d = {'low set': \"Low-set ears\",\n",
    "             'Attached ear-lobes':\"Attached earlobe\",\n",
    "          'earlobes attached to side':\"Attached earlobe\"\n",
    "         }\n",
    "excluded = {'malformed ears'}\n",
    "\n",
    "earsMapper = CustomColumnMapper(concept_recognizer=hpo_cr, custom_map_d=ears_d, excluded_set=excluded)\n",
    "earsMapper.preview_column(dft['Malformations of the ears'])\n",
    "column_mapper_d['Malformations of the ears'] = earsMapper"
   ]
  },
  {
   "cell_type": "code",
   "execution_count": null,
   "id": "2bf7a0a4",
   "metadata": {},
   "outputs": [],
   "source": [
    "other_d = {'down turned corners of the mouth': 'Downturned corners of mouth',\n",
    "          ' low set nipples': 'Low-set nipples',\n",
    "          'Inverted': 'Inverted nipples',\n",
    "          'Synophyrs': 'Synophrys'}\n",
    "otherMapper = CustomColumnMapper(concept_recognizer=hpo_cr, custom_map_d=other_d, excluded_set=excluded)\n",
    "#otherMapper.preview_column(dft['Other malformations'])\n",
    "column_mapper_d['Other malformations'] = otherMapper"
   ]
  },
  {
   "cell_type": "code",
   "execution_count": null,
   "id": "ae9429d1",
   "metadata": {},
   "outputs": [],
   "source": [
    "eyeMapper = CustomColumnMapper(concept_recognizer=hpo_cr)\n",
    "eyeMapper.preview_column(dft['Ophthalmology'])\n",
    "column_mapper_d['Ophthalmology'] = eyeMapper"
   ]
  },
  {
   "cell_type": "code",
   "execution_count": null,
   "id": "084d53f4",
   "metadata": {},
   "outputs": [],
   "source": [
    "#eyeMapper.preview_column(dft['Audiology'])\n",
    "ear_d = {'(mixed) hearing loss': 'Mixed hearing impairment',\n",
    "         'Mixed hearing loss':  'Mixed hearing impairment',\n",
    "          'Severe mixed hearing loss': 'Mixed hearing impairment',\n",
    "          'Conductive hearing loss': 'Conductive hearing impairment',\n",
    "          'Sensorineural hearing loss': 'Sensorineural hearing impairment'}\n",
    "earMapper = CustomColumnMapper(concept_recognizer=hpo_cr, custom_map_d=ear_d)\n",
    "earMapper.preview_column(dft['Audiology'])\n",
    "column_mapper_d['Audiology'] = earMapper"
   ]
  },
  {
   "cell_type": "code",
   "execution_count": null,
   "id": "3ca26a6b",
   "metadata": {},
   "outputs": [],
   "source": [
    "earMapper.preview_column(dft['Endocrine'])\n",
    "endoMapper = CustomColumnMapper(concept_recognizer=hpo_cr)\n",
    "#endoMapper.preview_column(dft['Endocrine'])\n",
    "column_mapper_d['Endocrine'] = endoMapper"
   ]
  },
  {
   "cell_type": "code",
   "execution_count": null,
   "id": "4886e215",
   "metadata": {},
   "outputs": [],
   "source": [
    "respiratory_d = {'trachemalacea': \"Tracheomalacia\"}\n",
    "respMapper = CustomColumnMapper(concept_recognizer=hpo_cr, custom_map_d=respiratory_d)\n",
    "respMapper.preview_column(dft['Respiratory'])\n",
    "column_mapper_d['Respiratory'] = respMapper"
   ]
  },
  {
   "cell_type": "code",
   "execution_count": null,
   "id": "75dc0841",
   "metadata": {},
   "outputs": [],
   "source": [
    "cord_d = {'PFO':'Patent foramen ovale',\n",
    "            'VSD': 'Ventricular septal defect',\n",
    "         'transverse arch hypoplasia': 'Hypoplastic aortic arch',\n",
    "         'LVOT': 'Left ventricular outflow tract obstruction',\n",
    "         'PDA':'Patent ductus arteriosus',\n",
    "          'DORV':'Double outlet right ventricle',\n",
    "          'Persistent LSVC':'Persistent left superior vena cava',\n",
    "         'ASD':'Atrial septal defect'}\n",
    "corMapper =  CustomColumnMapper(concept_recognizer=hpo_cr, custom_map_d=cord_d)\n",
    "#corMapper.preview_column(dft['Cardiac'])\n",
    "column_mapper_d['Cardiac'] = corMapper"
   ]
  },
  {
   "cell_type": "code",
   "execution_count": null,
   "id": "d1a421c3",
   "metadata": {},
   "outputs": [],
   "source": [
    "gi_d = {'GTT': 'Feeding difficulties',\n",
    "       'GGT': 'Feeding difficulties',\n",
    "       'PEG': 'Feeding difficulties',\n",
    "       'reflux': 'Gastroesophageal reflux'}\n",
    "giMapper =  CustomColumnMapper(concept_recognizer=hpo_cr, custom_map_d=gi_d)\n",
    "giMapper.preview_column(dft['Gastrointestinal'])\n",
    "column_mapper_d['Gastrointestinal'] = giMapper"
   ]
  },
  {
   "cell_type": "code",
   "execution_count": null,
   "id": "e8627d81",
   "metadata": {},
   "outputs": [],
   "source": [
    "guMapper =  CustomColumnMapper(concept_recognizer=hpo_cr)\n",
    "#guMapper.preview_column(dft['Renal / urinary tract'])\n",
    "column_mapper_d['Renal / urinary tract'] = guMapper"
   ]
  },
  {
   "cell_type": "code",
   "execution_count": null,
   "id": "217e66a7",
   "metadata": {},
   "outputs": [],
   "source": [
    "genitalMapper =  CustomColumnMapper(concept_recognizer=hpo_cr)\n",
    "genitalMapper.preview_column(dft['Genital'])\n",
    "column_mapper_d['Genital'] = genitalMapper"
   ]
  },
  {
   "cell_type": "code",
   "execution_count": null,
   "id": "25f1f6f5",
   "metadata": {},
   "outputs": [],
   "source": [
    "skelMapper =  CustomColumnMapper(concept_recognizer=hpo_cr)\n",
    "skelMapper.preview_column(dft['Skeletal'])\n",
    "column_mapper_d['Skeletal'] = skelMapper"
   ]
  },
  {
   "cell_type": "code",
   "execution_count": null,
   "id": "f97b9d54",
   "metadata": {},
   "outputs": [],
   "source": [
    "nMapper =  CustomColumnMapper(concept_recognizer=hpo_cr)\n",
    "nMapper.preview_column(dft['Neuromuscular'])\n",
    "column_mapper_d['Neuromuscular'] = nMapper"
   ]
  },
  {
   "cell_type": "code",
   "execution_count": null,
   "id": "f8e111f7",
   "metadata": {},
   "outputs": [],
   "source": [
    "imaging_d = {'small pons': 'Hypoplasia of the pons',\n",
    "            'Dandy Walker malformation': 'Dandy-Walker malformation',\n",
    "            'hypoplasia of cerebellar vermis': 'Cerebellar vermis hypoplasia',\n",
    "            'corpus callosum is thinned': 'Thin corpus callosum',\n",
    "            'Thin CC':'Thin corpus callosum',\n",
    "            'generalised atrophy particularly brainstem': 'Brainstem atrophy'}\n",
    "imagingMapper =  CustomColumnMapper(concept_recognizer=hpo_cr, custom_map_d=imaging_d)\n",
    "imagingMapper.preview_column(dft['Neuroimaging'])\n",
    "column_mapper_d['Neuroimaging'] = imagingMapper"
   ]
  },
  {
   "cell_type": "markdown",
   "id": "d13b9ae9",
   "metadata": {},
   "source": [
    "<h3>Variants</h3>\n",
    "<p>The individuals in this study have one of two distinct variants.</p>"
   ]
  },
  {
   "cell_type": "code",
   "execution_count": null,
   "id": "0f87e9ec",
   "metadata": {},
   "outputs": [],
   "source": [
    "genome = 'hg38'\n",
    "default_genotype = 'heterozygous'\n",
    "transcript='NM_014159.7'\n",
    "varMapper = VariantColumnMapper(assembly=genome,column_name='Variant', \n",
    "                                transcript=transcript, default_genotype=default_genotype)"
   ]
  },
  {
   "cell_type": "code",
   "execution_count": null,
   "id": "5f47dea5",
   "metadata": {},
   "outputs": [],
   "source": [
    "variant_5218 = varMapper.map_cell('c.5218C>T')"
   ]
  },
  {
   "cell_type": "code",
   "execution_count": null,
   "id": "4a12fdb3",
   "metadata": {},
   "outputs": [],
   "source": [
    "variant_5219 = varMapper.map_cell('c.5219G>A')"
   ]
  },
  {
   "cell_type": "code",
   "execution_count": null,
   "id": "50d42f3e",
   "metadata": {},
   "outputs": [],
   "source": [
    "variant_map = {\"p.(Arg1740Trp)\": variant_5218, 'p.(Arg1740Gln)': variant_5219}\n",
    "#varMapper.set_variant_symbol_dictionary(variant_map)"
   ]
  },
  {
   "cell_type": "code",
   "execution_count": null,
   "id": "a2239b93",
   "metadata": {},
   "outputs": [],
   "source": [
    "ageMapper = AgeColumnMapper.not_provided()\n",
    "sexMapper = SexColumnMapper(male_symbol='Male', female_symbol='Female', column_name='Sex')\n",
    "individual_column_name = 'patient_id'\n",
    "\n",
    "\n",
    "encoder = CohortEncoder(df=dft, \n",
    "                        hpo_cr=hpo_cr, \n",
    "                        column_mapper_d=column_mapper_d, \n",
    "                        individual_column_name=individual_column_name,\n",
    "                        agemapper=ageMapper, \n",
    "                        sexmapper=sexMapper,\n",
    "                        variant_dictionary=variant_map,\n",
    "                        metadata=metadata,\n",
    "                        pmid=pmid)\n",
    "\n",
    "rabin_omim = \"OMIM:620155\"\n",
    "rabin_label = \"Rabin-Pappas syndrome\"\n",
    "rabin = {\"id\": rabin_omim, 'label': rabin_label}\n",
    "idd_ad70_omim = \"OMIM:620157\"\n",
    "idd_ad70_label = \"Intellectual developmental disorder, autosomal dominant 70\"\n",
    "idd_ad70 = {\"id\": idd_ad70_omim, 'label': idd_ad70_label}\n",
    "# Create map from patient id to labels\n",
    "disease_map = {}\n",
    "for i in range(1, 13):\n",
    "    pat_id = f\"Group 1 Patient {i}\"\n",
    "    disease_map[pat_id] = rabin\n",
    "for i in range(1, 4):\n",
    "    pat_id = f\"Group 2 Patient {i}\"\n",
    "    disease_map[pat_id] = idd_ad70\n",
    "encoder.set_disease_dictionary(disease_map)"
   ]
  },
  {
   "cell_type": "code",
   "execution_count": null,
   "id": "682c41a8",
   "metadata": {},
   "outputs": [],
   "source": [
    "individuals = encoder.get_individuals()"
   ]
  },
  {
   "cell_type": "code",
   "execution_count": null,
   "id": "03be74b7",
   "metadata": {},
   "outputs": [],
   "source": [
    "output_directory = \"phenopackets\"\n",
    "Individual.output_individuals_as_phenopackets(individual_list=individuals,\n",
    "                                              pmid=pmid,\n",
    "                                              metadata=metadata.to_ga4gh(),\n",
    "                                              outdir=output_directory)"
   ]
  }
 ],
 "metadata": {
  "kernelspec": {
   "display_name": "pstore_env",
   "language": "python",
   "name": "pstore_env"
  },
  "language_info": {
   "codemirror_mode": {
    "name": "ipython",
    "version": 3
   },
   "file_extension": ".py",
   "mimetype": "text/x-python",
   "name": "python",
   "nbconvert_exporter": "python",
   "pygments_lexer": "ipython3",
   "version": "3.11.3"
  }
 },
 "nbformat": 4,
 "nbformat_minor": 5
}
