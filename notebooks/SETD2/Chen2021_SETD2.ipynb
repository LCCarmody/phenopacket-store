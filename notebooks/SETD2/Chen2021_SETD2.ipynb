{
 "cells": [
  {
   "cell_type": "markdown",
   "id": "452e55c4",
   "metadata": {},
   "source": [
    "<h1>Genotype–phenotype correlation at codon 1740 of SETD2</h1>\n",
    "<p>Generate phenopackets from the data reported in <a href=\"https://pubmed.ncbi.nlm.nih.gov/33766796/\">Chen et al., (2021)</a>.</p>"
   ]
  },
  {
   "cell_type": "code",
   "execution_count": null,
   "id": "3c1f6f7e",
   "metadata": {},
   "outputs": [],
   "source": [
    "import phenopackets as php\n",
    "from google.protobuf.json_format import MessageToDict, MessageToJson\n",
    "from google.protobuf.json_format import Parse, ParseDict\n",
    "import pandas as pd\n",
    "pd.set_option('display.max_colwidth', None) # show entire column contents, important!\n",
    "from collections import defaultdict\n",
    "import numpy as np\n",
    "import pyphetools\n",
    "from pyphetools.creation import *\n",
    "from pyphetools.output import PhenopacketTable\n",
    "print(f\"pyphetools version {pyphetools.__version__}\")"
   ]
  },
  {
   "cell_type": "code",
   "execution_count": null,
   "id": "588c29dc",
   "metadata": {},
   "outputs": [],
   "source": [
    "parser = HpoParser()\n",
    "hpo_cr = parser.get_hpo_concept_recognizer()\n",
    "hpo_version = parser.get_version()\n",
    "pmid = \"PMID:33766796\"  # Chen et al, 2021\n",
    "title = \"Mutation pattern and genotype-phenotype correlations of SETD2 in neurodevelopmental disorders\"\n",
    "metadata = MetaData(created_by=\"ORCID:0000-0002-0736-9199\", pmid=pmid, pubmed_title=title)\n",
    "metadata.default_versions_with_hpo(version=hpo_version)"
   ]
  },
  {
   "cell_type": "code",
   "execution_count": null,
   "id": "e43b7fa2",
   "metadata": {},
   "outputs": [],
   "source": [
    "df = pd.read_table('./input/chen21_setd2.csv').astype(str)\n",
    "df"
   ]
  },
  {
   "cell_type": "code",
   "execution_count": null,
   "id": "7b4fc0c5",
   "metadata": {},
   "outputs": [],
   "source": [
    "dft = df.transpose()\n",
    "dft.columns = dft.iloc[0]\n",
    "dft.drop(dft.index[0], inplace=True)\n",
    "dft['patient_id'] = dft.index\n",
    "dft.head()"
   ]
  },
  {
   "cell_type": "code",
   "execution_count": null,
   "id": "15dbfcba",
   "metadata": {},
   "outputs": [],
   "source": [
    "hpo_cr = parser.get_hpo_concept_recognizer()"
   ]
  },
  {
   "cell_type": "code",
   "execution_count": null,
   "id": "8f93e9ae",
   "metadata": {},
   "outputs": [],
   "source": [
    "items = {\n",
    "    'Speech delay': [\"Delayed speech and language development\", \"HP:0000750\"], \n",
    "    'Motor delay': ['Motor delay', 'HP:0001270'],\n",
    "    'Intellectual disability': ['Intellectual disability', 'HP:0001249'],\n",
    "    'Macrocephaly': ['Macrocephaly', 'HP:0000256'],\n",
    "    'ASD': ['Autism', 'HP:0000717'],\n",
    "    'Recurrent otitis media': ['Recurrent otitis media','HP:0000403'],\n",
    "    'Seizure': ['Seizure', 'HP:0001250'],\n",
    "    'Facial deformity': ['Abnormal facial shape', 'HP:0001999'],\n",
    "    'Hypotonia': ['Hypotonia', 'HP:0001252'],\n",
    "    'Accelerated osseous maturation': ['Accelerated skeletal maturation','HP:0005616'],\n",
    "    'Anxiety': ['Anxiety','HP:0000739'],\n",
    "    'ADHD': ['Attention deficit hyperactivity disorder','HP:0007018'],\n",
    "    'Obsessive behavior': ['Compulsive behaviors','HP:0000722'],\n",
    "    'Aggressive behavior': ['Aggressive behavior','HP:0000718'],\n",
    "    'Self-injury behavior': ['Self-injurious behavior','HP:0100716'],\n",
    "}\n",
    "item_column_mapper_d = hpo_cr.initialize_simple_column_maps(column_name_to_hpo_label_map=items, observed='+',\n",
    "    excluded='-')\n",
    "print(f\"We created {len(item_column_mapper_d)} simple column mappers\")"
   ]
  },
  {
   "cell_type": "markdown",
   "id": "30de9379",
   "metadata": {},
   "source": [
    "<h2>Transcript/Variant mapping</h2>"
   ]
  },
  {
   "cell_type": "code",
   "execution_count": null,
   "id": "41893df9",
   "metadata": {},
   "outputs": [],
   "source": [
    "setd2_transcript = \"NM_014159.7\"\n",
    "genome = 'hg38'\n",
    "default_genotype = 'heterozygous'\n",
    "varMapper = VariantColumnMapper(assembly=genome,column_name='Variant', \n",
    "                                transcript=setd2_transcript, \n",
    "                                default_genotype=default_genotype)"
   ]
  },
  {
   "cell_type": "code",
   "execution_count": null,
   "id": "c8be0fe0",
   "metadata": {},
   "outputs": [],
   "source": [
    "# Ages not available\n",
    "sexMapper = SexColumnMapper(male_symbol='male', female_symbol='female', column_name='Sex')\n",
    "#sexMapper.preview_column(dft['Sex'])"
   ]
  },
  {
   "cell_type": "code",
   "execution_count": null,
   "id": "e5238a42",
   "metadata": {},
   "outputs": [],
   "source": [
    "pmid = \"PMID:33766796\"  # Chen et al, 2021\n",
    "encoder = CohortEncoder(df=dft, \n",
    "                        hpo_cr=hpo_cr, \n",
    "                        column_mapper_d=item_column_mapper_d, \n",
    "                        individual_column_name=\"patient_id\", \n",
    "                        sexmapper=sexMapper,\n",
    "                        agemapper=AgeColumnMapper.not_provided(),\n",
    "                        variant_mapper=varMapper, metadata=metadata,\n",
    "                        pmid=pmid)\n",
    "encoder.set_disease(disease_id='OMIM:616831', label='Luscan-Lumish syndrome')"
   ]
  },
  {
   "cell_type": "code",
   "execution_count": null,
   "id": "073021db",
   "metadata": {},
   "outputs": [],
   "source": [
    "individuals = encoder.get_individuals()"
   ]
  },
  {
   "cell_type": "code",
   "execution_count": null,
   "id": "0323ac4d",
   "metadata": {},
   "outputs": [],
   "source": [
    "# Preview\n",
    "i1 = individuals[0]\n",
    "phenopacket1 = i1.to_ga4gh_phenopacket(metadata=metadata.to_ga4gh())\n",
    "json_string = MessageToJson(phenopacket1)\n",
    "print(json_string)"
   ]
  },
  {
   "cell_type": "code",
   "execution_count": null,
   "id": "5c4403b7",
   "metadata": {},
   "outputs": [],
   "source": [
    "output_directory = \"phenopackets\"\n",
    "Individual.output_individuals_as_phenopackets(individual_list=individuals,\n",
    "                                              pmid=pmid,\n",
    "                                              metadata=metadata.to_ga4gh(),\n",
    "                                              outdir=output_directory)"
   ]
  },
  {
   "cell_type": "code",
   "execution_count": null,
   "id": "e97e8f13",
   "metadata": {},
   "outputs": [],
   "source": []
  }
 ],
 "metadata": {
  "kernelspec": {
   "display_name": "pstore_env",
   "language": "python",
   "name": "pstore_env"
  },
  "language_info": {
   "codemirror_mode": {
    "name": "ipython",
    "version": 3
   },
   "file_extension": ".py",
   "mimetype": "text/x-python",
   "name": "python",
   "nbconvert_exporter": "python",
   "pygments_lexer": "ipython3",
   "version": "3.11.3"
  }
 },
 "nbformat": 4,
 "nbformat_minor": 5
}
