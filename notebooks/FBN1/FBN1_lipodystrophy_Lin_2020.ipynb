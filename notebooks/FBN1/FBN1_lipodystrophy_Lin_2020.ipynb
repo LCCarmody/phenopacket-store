{
 "cells": [
  {
   "cell_type": "markdown",
   "id": "def19049-c67f-454d-a00a-0faf95f96b1a",
   "metadata": {},
   "source": [
    "<h1>Marfan lipodystrophy syndrome</h1>\n",
    "<p>This notebook gathers clinical data about individuals with Marfan lipodystrophy syndrome (<a href=\"https://omim.org/entry/616914\">OMIM:616914</a>) from the publication <a href=\"https://pubmed.ncbi.nlm.nih.gov/31774634/\" target=\"__blank\">Lin et al., (2020)</a>,  Genetic and molecular mechanism for distinct clinical phenotypes conveyed by allelic truncating mutations implicated in FBN1. Mol Genet Genomic Med. 2020 Jan;8(1):e1023; PMID:31774634.\n",
    "</p>\n",
    "<p>We extracted the information from Table 2 (Clinical manifestations of previously reported and our patient XH601 with Marfanoid–progeroid–lipodystrophy (MPL) syndrome with allelic truncating mutations in FBN1). We copied this information into an Excel file that is used by this notebook.</p>"
   ]
  },
  {
   "cell_type": "code",
   "execution_count": 1,
   "id": "c3ef78a4-58cf-4c84-8c1b-44ea6a9238a0",
   "metadata": {},
   "outputs": [
    {
     "name": "stdout",
     "output_type": "stream",
     "text": [
      "Using pyphetools version 0.4.13\n"
     ]
    }
   ],
   "source": [
    "import phenopackets as php\n",
    "from google.protobuf.json_format import MessageToDict, MessageToJson\n",
    "from google.protobuf.json_format import Parse, ParseDict\n",
    "import pandas as pd\n",
    "pd.set_option('display.max_colwidth', None) # show entire column contents, important!\n",
    "from collections import defaultdict\n",
    "from pyphetools.creation import *\n",
    "import importlib.metadata\n",
    "__version__ = importlib.metadata.version(\"pyphetools\")\n",
    "print(f\"Using pyphetools version {__version__}\")"
   ]
  },
  {
   "cell_type": "code",
   "execution_count": null,
   "id": "e77b6f15-c643-4bc6-becb-713f47d04246",
   "metadata": {},
   "outputs": [],
   "source": []
  }
 ],
 "metadata": {
  "kernelspec": {
   "display_name": "Python 3 (ipykernel)",
   "language": "python",
   "name": "python3"
  },
  "language_info": {
   "codemirror_mode": {
    "name": "ipython",
    "version": 3
   },
   "file_extension": ".py",
   "mimetype": "text/x-python",
   "name": "python",
   "nbconvert_exporter": "python",
   "pygments_lexer": "ipython3",
   "version": "3.11.3"
  }
 },
 "nbformat": 4,
 "nbformat_minor": 5
}
