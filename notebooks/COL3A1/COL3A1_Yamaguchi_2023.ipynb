{
 "cells": [
  {
   "cell_type": "markdown",
   "id": "7b24c5f7-0566-4c9d-9c87-adc19eace71e",
   "metadata": {},
   "source": [
    "# Yamaguchi T et al. (2023) COL3A1\n",
    "\n",
    "Data from [Yamaguchi T et al. (2023) Comprehensive genetic screening for vascular Ehlers-Danlos syndrome through an amplification-based next-generation sequencing system. Am J Med Genet A. 2023 Jan;191(1):37-51.](https://pubmed.ncbi.nlm.nih.gov/36189931/)"
   ]
  },
  {
   "cell_type": "code",
   "execution_count": 9,
   "id": "d5ae75dc-e2a1-4ac4-8632-c0932ea9c657",
   "metadata": {},
   "outputs": [
    {
     "name": "stdout",
     "output_type": "stream",
     "text": [
      "pyphetools version 0.8.2\n"
     ]
    }
   ],
   "source": [
    "import phenopackets as php\n",
    "from google.protobuf.json_format import MessageToDict, MessageToJson\n",
    "from google.protobuf.json_format import Parse, ParseDict\n",
    "import pandas as pd\n",
    "pd.set_option('display.max_colwidth', None) # show entire column contents, important!\n",
    "from collections import defaultdict\n",
    "import os\n",
    "import sys\n",
    "import numpy as np\n",
    "from IPython.display import HTML, display\n",
    "from pyphetools.creation import *\n",
    "from pyphetools.visualization import *\n",
    "import pyphetools\n",
    "print(f\"pyphetools version {pyphetools.__version__}\")"
   ]
  },
  {
   "cell_type": "code",
   "execution_count": 2,
   "id": "afeb3465-97de-4400-8089-bfd1a91ea780",
   "metadata": {},
   "outputs": [],
   "source": [
    "PMID = \"PMID:36189931\"\n",
    "title = \"Comprehensive genetic screening for vascular Ehlers-Danlos syndrome through an amplification-based next-generation sequencing system\"\n",
    "parser = HpoParser()\n",
    "hpo_cr = parser.get_hpo_concept_recognizer()\n",
    "hpo_version = parser.get_version()\n",
    "metadata = MetaData(created_by=\"ORCID:0000-0002-5648-2155\", pmid=PMID, pubmed_title=title)\n",
    "metadata.default_versions_with_hpo(version=hpo_version)"
   ]
  },
  {
   "cell_type": "code",
   "execution_count": 5,
   "id": "ddc50aef-ff2c-428a-9899-dd59dad8dae0",
   "metadata": {},
   "outputs": [],
   "source": [
    "df = pd.read_excel('input/Yamaguchi_2022_PMID_36189931.xlsx')"
   ]
  },
  {
   "cell_type": "code",
   "execution_count": 6,
   "id": "632bc487-d689-40cb-8428-de609eca922c",
   "metadata": {},
   "outputs": [
    {
     "data": {
      "text/html": [
       "<div>\n",
       "<style scoped>\n",
       "    .dataframe tbody tr th:only-of-type {\n",
       "        vertical-align: middle;\n",
       "    }\n",
       "\n",
       "    .dataframe tbody tr th {\n",
       "        vertical-align: top;\n",
       "    }\n",
       "\n",
       "    .dataframe thead th {\n",
       "        text-align: right;\n",
       "    }\n",
       "</style>\n",
       "<table border=\"1\" class=\"dataframe\">\n",
       "  <thead>\n",
       "    <tr style=\"text-align: right;\">\n",
       "      <th></th>\n",
       "      <th>Patient</th>\n",
       "      <th>Variants (NM_000090.3)</th>\n",
       "      <th>Suspected disease</th>\n",
       "      <th>Age at genetic diagnosis (years)</th>\n",
       "      <th>Sex</th>\n",
       "      <th>Aortic dissection</th>\n",
       "      <th>Aortic rupture</th>\n",
       "      <th>Arterial dissection</th>\n",
       "      <th>Arterial rupture</th>\n",
       "      <th>Uterine rupture</th>\n",
       "      <th>...</th>\n",
       "      <th>Spontaneous pneumothorax</th>\n",
       "      <th>Acrogeria</th>\n",
       "      <th>Talipes equinovarus</th>\n",
       "      <th>Congenital hip dislocation</th>\n",
       "      <th>Hypermobility of small joints</th>\n",
       "      <th>Tendon and muscle rupture</th>\n",
       "      <th>Gingival recession/fragility</th>\n",
       "      <th>Keratoconus</th>\n",
       "      <th>Early onset varicose veins</th>\n",
       "      <th>Family history</th>\n",
       "    </tr>\n",
       "  </thead>\n",
       "  <tbody>\n",
       "    <tr>\n",
       "      <th>0</th>\n",
       "      <td>1</td>\n",
       "      <td>c.547G&gt;A:p.Gly183Ser</td>\n",
       "      <td>vEDS</td>\n",
       "      <td>59</td>\n",
       "      <td>F</td>\n",
       "      <td>−</td>\n",
       "      <td>−</td>\n",
       "      <td>−</td>\n",
       "      <td>+</td>\n",
       "      <td>NaN</td>\n",
       "      <td>...</td>\n",
       "      <td>−</td>\n",
       "      <td>−</td>\n",
       "      <td>−</td>\n",
       "      <td>−</td>\n",
       "      <td>−</td>\n",
       "      <td>−</td>\n",
       "      <td>−</td>\n",
       "      <td>NaN</td>\n",
       "      <td>−</td>\n",
       "      <td>−</td>\n",
       "    </tr>\n",
       "    <tr>\n",
       "      <th>1</th>\n",
       "      <td>2</td>\n",
       "      <td>c.547G&gt;A:p.Gly183Ser</td>\n",
       "      <td>vEDS</td>\n",
       "      <td>29</td>\n",
       "      <td>F</td>\n",
       "      <td>−</td>\n",
       "      <td>−</td>\n",
       "      <td>+</td>\n",
       "      <td>−</td>\n",
       "      <td>−</td>\n",
       "      <td>...</td>\n",
       "      <td>−</td>\n",
       "      <td>−</td>\n",
       "      <td>−</td>\n",
       "      <td>−</td>\n",
       "      <td>−</td>\n",
       "      <td>−</td>\n",
       "      <td>−</td>\n",
       "      <td>NaN</td>\n",
       "      <td>−</td>\n",
       "      <td>Mother, died, carotid-cavernous sinus fistula</td>\n",
       "    </tr>\n",
       "    <tr>\n",
       "      <th>2</th>\n",
       "      <td>3</td>\n",
       "      <td>c.556G&gt;A:p.Gly186Ser</td>\n",
       "      <td>vEDS</td>\n",
       "      <td>d.15</td>\n",
       "      <td>M</td>\n",
       "      <td>+</td>\n",
       "      <td>+</td>\n",
       "      <td>−</td>\n",
       "      <td>−</td>\n",
       "      <td>NaN</td>\n",
       "      <td>...</td>\n",
       "      <td>−</td>\n",
       "      <td>−</td>\n",
       "      <td>−</td>\n",
       "      <td>−</td>\n",
       "      <td>−</td>\n",
       "      <td>−</td>\n",
       "      <td>−</td>\n",
       "      <td>NaN</td>\n",
       "      <td>−</td>\n",
       "      <td>Mother, died at 30s, subarachnoid hemorrhage</td>\n",
       "    </tr>\n",
       "    <tr>\n",
       "      <th>3</th>\n",
       "      <td>4</td>\n",
       "      <td>c.565G&gt;C:p.Gly189Arg</td>\n",
       "      <td>vEDS</td>\n",
       "      <td>45</td>\n",
       "      <td>F</td>\n",
       "      <td>−</td>\n",
       "      <td>−</td>\n",
       "      <td>+</td>\n",
       "      <td>−</td>\n",
       "      <td>−</td>\n",
       "      <td>...</td>\n",
       "      <td>−</td>\n",
       "      <td>−</td>\n",
       "      <td>−</td>\n",
       "      <td>−</td>\n",
       "      <td>−</td>\n",
       "      <td>−</td>\n",
       "      <td>−</td>\n",
       "      <td>NaN</td>\n",
       "      <td>−</td>\n",
       "      <td>−</td>\n",
       "    </tr>\n",
       "    <tr>\n",
       "      <th>4</th>\n",
       "      <td>5</td>\n",
       "      <td>c.583G&gt;A:p.Gly195Arg</td>\n",
       "      <td>vEDS</td>\n",
       "      <td>17</td>\n",
       "      <td>F</td>\n",
       "      <td>−</td>\n",
       "      <td>−</td>\n",
       "      <td>−</td>\n",
       "      <td>−</td>\n",
       "      <td>NaN</td>\n",
       "      <td>...</td>\n",
       "      <td>−</td>\n",
       "      <td>−</td>\n",
       "      <td>−</td>\n",
       "      <td>−</td>\n",
       "      <td>+</td>\n",
       "      <td>−</td>\n",
       "      <td>−</td>\n",
       "      <td>NaN</td>\n",
       "      <td>−</td>\n",
       "      <td>Mother, died at 32 years, aortic dissection; grandfather, died at 30s, aortic dissection</td>\n",
       "    </tr>\n",
       "  </tbody>\n",
       "</table>\n",
       "<p>5 rows × 25 columns</p>\n",
       "</div>"
      ],
      "text/plain": [
       "   Patient Variants (NM_000090.3) Suspected disease  \\\n",
       "0        1   c.547G>A:p.Gly183Ser              vEDS   \n",
       "1        2   c.547G>A:p.Gly183Ser              vEDS   \n",
       "2        3   c.556G>A:p.Gly186Ser              vEDS   \n",
       "3        4   c.565G>C:p.Gly189Arg              vEDS   \n",
       "4        5   c.583G>A:p.Gly195Arg              vEDS   \n",
       "\n",
       "  Age at genetic diagnosis (years) Sex Aortic dissection Aortic rupture  \\\n",
       "0                               59   F                 −              −   \n",
       "1                               29   F                 −              −   \n",
       "2                             d.15   M                 +              +   \n",
       "3                               45   F                 −              −   \n",
       "4                               17   F                 −              −   \n",
       "\n",
       "  Arterial dissection Arterial rupture Uterine rupture  ...  \\\n",
       "0                   −                +             NaN  ...   \n",
       "1                   +                −               −  ...   \n",
       "2                   −                −             NaN  ...   \n",
       "3                   +                −               −  ...   \n",
       "4                   −                −             NaN  ...   \n",
       "\n",
       "  Spontaneous pneumothorax Acrogeria Talipes equinovarus  \\\n",
       "0                        −         −                   −   \n",
       "1                        −         −                   −   \n",
       "2                        −         −                   −   \n",
       "3                        −         −                   −   \n",
       "4                        −         −                   −   \n",
       "\n",
       "  Congenital hip dislocation Hypermobility of small joints  \\\n",
       "0                          −                             −   \n",
       "1                          −                             −   \n",
       "2                          −                             −   \n",
       "3                          −                             −   \n",
       "4                          −                             +   \n",
       "\n",
       "  Tendon and muscle rupture Gingival recession/fragility Keratoconus  \\\n",
       "0                         −                            −         NaN   \n",
       "1                         −                            −         NaN   \n",
       "2                         −                            −         NaN   \n",
       "3                         −                            −         NaN   \n",
       "4                         −                            −         NaN   \n",
       "\n",
       "  Early onset varicose veins  \\\n",
       "0                          −   \n",
       "1                          −   \n",
       "2                          −   \n",
       "3                          −   \n",
       "4                          −   \n",
       "\n",
       "                                                                             Family history  \n",
       "0                                                                                         −  \n",
       "1                                             Mother, died, carotid-cavernous sinus fistula  \n",
       "2                                              Mother, died at 30s, subarachnoid hemorrhage  \n",
       "3                                                                                         −  \n",
       "4  Mother, died at 32 years, aortic dissection; grandfather, died at 30s, aortic dissection  \n",
       "\n",
       "[5 rows x 25 columns]"
      ]
     },
     "execution_count": 6,
     "metadata": {},
     "output_type": "execute_result"
    }
   ],
   "source": [
    "df.head()"
   ]
  },
  {
   "cell_type": "code",
   "execution_count": 11,
   "id": "89852d40-5d40-4687-85d0-b3a43229502b",
   "metadata": {},
   "outputs": [],
   "source": [
    "hpo_cr = parser.get_hpo_concept_recognizer()\n",
    "generator = SimpleColumnMapperGenerator(df=df, observed='+', excluded='-', hpo_cr=hpo_cr)\n",
    "column_mapper_d = generator.try_mapping_columns()"
   ]
  },
  {
   "cell_type": "code",
   "execution_count": 13,
   "id": "18a77e82-a699-4757-8a09-8aeff561e066",
   "metadata": {},
   "outputs": [
    {
     "data": {
      "text/html": [
       "<table style=\"border: 2px solid black;\">\n",
       "\n",
       "<tr>\n",
       "            <th>Result</th>\n",
       "            <th>Columns</th>\n",
       "        </tr>\n",
       "      \n",
       "<tr><td>Mapped</td><td>Aortic dissection; Aortic rupture; Arterial dissection; Arterial rupture; Uterine rupture; Easy bruising; Spontaneous pneumothorax; Talipes equinovarus; Congenital hip dislocation; Keratoconus</td></tr>\n",
       "<tr><td>Unmapped</td><td><q>Patient</q>; <q>Variants (NM_000090.3)</q>; <q>Suspected disease</q>; <q>Age at genetic diagnosis (years)</q>; <q>Sex</q>; <q>Sigmoid colon perforation</q>; <q>Carotid-cavernous sinus fistula</q>; <q>Thin, translucent skin</q>; <q>Characteristic facial features</q>; <q>Acrogeria</q>; <q>Hypermobility of small joints</q>; <q>Tendon and muscle rupture</q>; <q>Gingival recession/fragility</q>; <q>Early onset varicose veins</q>; <q>Family history</q></td></tr>\n",
       "</table>\n"
      ],
      "text/plain": [
       "<IPython.core.display.HTML object>"
      ]
     },
     "metadata": {},
     "output_type": "display_data"
    }
   ],
   "source": [
    "display(HTML(generator.to_html()))"
   ]
  },
  {
   "cell_type": "code",
   "execution_count": 19,
   "id": "01beb29e-393f-4542-ae2d-80b52f334a32",
   "metadata": {},
   "outputs": [],
   "source": [
    "#Acrogeria\"; -- need HPO Term\n",
    "# Carotid-cavernous sinus fistula -- need HPO Term\n",
    "#v\"Characteristic facial features\"; \" -- too general to code\n",
    "feature_d = {\n",
    "    \"Early onset varicose veins\": [\"Varicose veins\", \"HP:0002619\"],\n",
    "    \"Gingival recession/fragility\": [\"Gingival fragility\", \"HP:0034518\"], \n",
    "    \"Tendon and muscle rupture\": [\"Tendon rupture\", \"HP:0100550\"],\n",
    "    \"Hypermobility of small joints\":  [\"Finger joint hypermobility\", \"HP:0006094\"],\n",
    "    \"Thin, translucent skin\": [\"Dermal translucency\", \"HP:0010648\"]\n",
    "}\n",
    "\n",
    "for k, v in feature_d.items():\n",
    "    mapper = SimpleColumnMapper(hpo_id=v[1], hpo_label=v[0], observed=\"+\", excluded=\"-\")\n",
    "    column_mapper_d[k] = mapper"
   ]
  },
  {
   "cell_type": "code",
   "execution_count": 22,
   "id": "cfec1d45-b51b-4ea5-a684-59110effe69e",
   "metadata": {},
   "outputs": [],
   "source": [
    "df[\"hgvs\"] = df[\"Variants (NM_000090.3)\"].apply(lambda x: x.split(\":\")[0])"
   ]
  },
  {
   "cell_type": "code",
   "execution_count": 28,
   "id": "359dbac5-4a01-44bb-ab8b-c02acc605976",
   "metadata": {},
   "outputs": [
    {
     "name": "stdout",
     "output_type": "stream",
     "text": [
      "https://rest.variantvalidator.org/VariantValidator/variantvalidator/hg38/NM_000090.3%3Ac.547G>A/NM_000090.3?content-type=application%2Fjson\n",
      "https://rest.variantvalidator.org/VariantValidator/variantvalidator/hg38/NM_000090.3%3Ac.556G>A/NM_000090.3?content-type=application%2Fjson\n",
      "https://rest.variantvalidator.org/VariantValidator/variantvalidator/hg38/NM_000090.3%3Ac.565G>C/NM_000090.3?content-type=application%2Fjson\n",
      "https://rest.variantvalidator.org/VariantValidator/variantvalidator/hg38/NM_000090.3%3Ac.583G>A/NM_000090.3?content-type=application%2Fjson\n",
      "https://rest.variantvalidator.org/VariantValidator/variantvalidator/hg38/NM_000090.3%3Ac.598C>T/NM_000090.3?content-type=application%2Fjson\n",
      "https://rest.variantvalidator.org/VariantValidator/variantvalidator/hg38/NM_000090.3%3Ac.659_664del/NM_000090.3?content-type=application%2Fjson\n",
      "https://rest.variantvalidator.org/VariantValidator/variantvalidator/hg38/NM_000090.3%3Ac.665G>A/NM_000090.3?content-type=application%2Fjson\n",
      "https://rest.variantvalidator.org/VariantValidator/variantvalidator/hg38/NM_000090.3%3Ac.724C>T/NM_000090.3?content-type=application%2Fjson\n",
      "https://rest.variantvalidator.org/VariantValidator/variantvalidator/hg38/NM_000090.3%3Ac.754G>A/NM_000090.3?content-type=application%2Fjson\n",
      "https://rest.variantvalidator.org/VariantValidator/variantvalidator/hg38/NM_000090.3%3Ac.755G>A/NM_000090.3?content-type=application%2Fjson\n",
      "https://rest.variantvalidator.org/VariantValidator/variantvalidator/hg38/NM_000090.3%3Ac.763G>T/NM_000090.3?content-type=application%2Fjson\n",
      "https://rest.variantvalidator.org/VariantValidator/variantvalidator/hg38/NM_000090.3%3Ac.848T>A/NM_000090.3?content-type=application%2Fjson\n",
      "https://rest.variantvalidator.org/VariantValidator/variantvalidator/hg38/NM_000090.3%3Ac.897+2T>G/NM_000090.3?content-type=application%2Fjson\n",
      "https://rest.variantvalidator.org/VariantValidator/variantvalidator/hg38/NM_000090.3%3Ac.897+2T>A/NM_000090.3?content-type=application%2Fjson\n",
      "https://rest.variantvalidator.org/VariantValidator/variantvalidator/hg38/NM_000090.3%3Ac.951+5G>C/NM_000090.3?content-type=application%2Fjson\n",
      "https://rest.variantvalidator.org/VariantValidator/variantvalidator/hg38/NM_000090.3%3Ac.1194+1G>A/NM_000090.3?content-type=application%2Fjson\n",
      "https://rest.variantvalidator.org/VariantValidator/variantvalidator/hg38/NM_000090.3%3Ac.1330G>A/NM_000090.3?content-type=application%2Fjson\n",
      "https://rest.variantvalidator.org/VariantValidator/variantvalidator/hg38/NM_000090.3%3Ac.1346G>T/NM_000090.3?content-type=application%2Fjson\n",
      "https://rest.variantvalidator.org/VariantValidator/variantvalidator/hg38/NM_000090.3%3Ac.[1546G>T;1556G>T]/NM_000090.3?content-type=application%2Fjson\n",
      "https://rest.variantvalidator.org/VariantValidator/variantvalidator/hg38/NM_000090.3%3Ac.1662+1G>A/NM_000090.3?content-type=application%2Fjson\n",
      "https://rest.variantvalidator.org/VariantValidator/variantvalidator/hg38/NM_000090.3%3Ac.1862G>A/NM_000090.3?content-type=application%2Fjson\n",
      "https://rest.variantvalidator.org/VariantValidator/variantvalidator/hg38/NM_000090.3%3Ac.1977+5G>C/NM_000090.3?content-type=application%2Fjson\n",
      "https://rest.variantvalidator.org/VariantValidator/variantvalidator/hg38/NM_000090.3%3Ac.2134_2160del/NM_000090.3?content-type=application%2Fjson\n",
      "https://rest.variantvalidator.org/VariantValidator/variantvalidator/hg38/NM_000090.3%3Ac.2283+5G>T/NM_000090.3?content-type=application%2Fjson\n",
      "https://rest.variantvalidator.org/VariantValidator/variantvalidator/hg38/NM_000090.3%3Ac.2356G>A/NM_000090.3?content-type=application%2Fjson\n",
      "https://rest.variantvalidator.org/VariantValidator/variantvalidator/hg38/NM_000090.3%3Ac.2357G>A/NM_000090.3?content-type=application%2Fjson\n",
      "https://rest.variantvalidator.org/VariantValidator/variantvalidator/hg38/NM_000090.3%3Ac.2518G>A/NM_000090.3?content-type=application%2Fjson\n",
      "https://rest.variantvalidator.org/VariantValidator/variantvalidator/hg38/NM_000090.3%3Ac.2815G>A/NM_000090.3?content-type=application%2Fjson\n",
      "https://rest.variantvalidator.org/VariantValidator/variantvalidator/hg38/NM_000090.3%3Ac.2869G>A/NM_000090.3?content-type=application%2Fjson\n",
      "https://rest.variantvalidator.org/VariantValidator/variantvalidator/hg38/NM_000090.3%3Ac.2870G>T/NM_000090.3?content-type=application%2Fjson\n",
      "https://rest.variantvalidator.org/VariantValidator/variantvalidator/hg38/NM_000090.3%3Ac.3256G>C/NM_000090.3?content-type=application%2Fjson\n",
      "https://rest.variantvalidator.org/VariantValidator/variantvalidator/hg38/NM_000090.3%3Ac.3338G>A/NM_000090.3?content-type=application%2Fjson\n",
      "https://rest.variantvalidator.org/VariantValidator/variantvalidator/hg38/NM_000090.3%3Ac.3525+1G>A/NM_000090.3?content-type=application%2Fjson\n"
     ]
    }
   ],
   "source": [
    "col3a1_transcript = \"NM_000090.3\"\n",
    "col3a1_id = \"HGNC:2201\"\n",
    "vvalidator = VariantValidator(genome_build=\"hg38\", transcript=col3a1_transcript)\n",
    "variant_d = {}\n",
    "for v in df[\"hgvs\"].unique():\n",
    "    if v == \"ex. 24–33 deletion\":\n",
    "        var = StructuralVariant.chromosomal_deletion(cell_contents=v, gene_symbol=\"COL3A1\", gene_id=col3a1_id)\n",
    "    else:\n",
    "        var = vvalidator.encode_hgvs(v)\n",
    "    variant_d[v] = var"
   ]
  },
  {
   "cell_type": "code",
   "execution_count": 26,
   "id": "cf3600c2-bc5e-46e1-a9ef-375301a9ccbf",
   "metadata": {},
   "outputs": [
    {
     "name": "stdout",
     "output_type": "stream",
     "text": [
      "c.547G>A chr2:188988099G>A\n",
      "c.556G>A chr2:188988108G>A\n",
      "c.565G>C chr2:188988117G>C\n",
      "c.583G>A chr2:188988590G>A\n",
      "c.598C>T chr2:188988605C>T\n",
      "c.659_664del chr2:188989416TGCTATA>T\n",
      "c.665G>A chr2:188989424G>A\n",
      "c.724C>T chr2:188990129C>T\n",
      "c.754G>A chr2:188990316G>A\n",
      "c.755G>A chr2:188990317G>A\n",
      "c.763G>T chr2:188990325G>T\n",
      "c.848T>A chr2:188991053T>A\n",
      "c.897+2T>G chr2:188991533T>G\n",
      "c.897+2T>A chr2:188991533T>A\n",
      "c.951+5G>C chr2:188991727G>C\n",
      "c.1194+1G>A chr2:188994083G>A\n",
      "c.1330G>A chr2:188994577G>A\n",
      "c.1346G>T chr2:188994593G>T\n",
      "c.[1546G>T;1556G>T] chr2:188995728G>T\n",
      "c.1662+1G>A chr2:188996179G>A\n",
      "c.1862G>A chr2:188997382G>A\n",
      "c.1977+5G>C chr2:188998324G>C\n",
      "c.2134_2160del chr2:188999469GGGTGCTGCTGGTCCTCCTGGGCCACCT>G\n",
      "c.2283+5G>T chr2:188999900G>T\n",
      "c.2356G>A chr2:189001554G>A\n",
      "c.2357G>A chr2:189001555G>A\n",
      "c.2518G>A chr2:189003027G>A\n",
      "c.2815G>A chr2:189004135G>A\n",
      "c.2869G>A chr2:189004302G>A\n",
      "c.2870G>T chr2:189004303G>T\n",
      "c.3256G>C chr2:189007500G>C\n",
      "c.3338G>A chr2:189007582G>A\n",
      "c.3525+1G>A chr2:189008143G>A\n"
     ]
    }
   ],
   "source": [
    "for k, v in variant_d.items():\n",
    "    print (k, v)"
   ]
  },
  {
   "cell_type": "code",
   "execution_count": 27,
   "id": "7ec5ec59-eb55-460c-b555-fa03b6d3d12a",
   "metadata": {},
   "outputs": [
    {
     "data": {
      "text/plain": [
       "0                c.547G>A\n",
       "1                c.547G>A\n",
       "2                c.556G>A\n",
       "3                c.565G>C\n",
       "4                c.583G>A\n",
       "5                c.598C>T\n",
       "6            c.659_664del\n",
       "7                c.665G>A\n",
       "8                c.724C>T\n",
       "9                c.754G>A\n",
       "10               c.755G>A\n",
       "11               c.763G>T\n",
       "12               c.848T>A\n",
       "13             c.897+2T>G\n",
       "14             c.897+2T>A\n",
       "15             c.951+5G>C\n",
       "16            c.1194+1G>A\n",
       "17              c.1330G>A\n",
       "18              c.1346G>T\n",
       "19    c.[1546G>T;1556G>T]\n",
       "20            c.1662+1G>A\n",
       "21              c.1862G>A\n",
       "22            c.1977+5G>C\n",
       "23         c.2134_2160del\n",
       "24            c.2283+5G>T\n",
       "25              c.2356G>A\n",
       "26              c.2357G>A\n",
       "27              c.2518G>A\n",
       "28              c.2815G>A\n",
       "29              c.2869G>A\n",
       "30              c.2870G>T\n",
       "31              c.3256G>C\n",
       "32              c.3338G>A\n",
       "33            c.3525+1G>A\n",
       "34     ex. 24–33 deletion\n",
       "Name: hgvs, dtype: object"
      ]
     },
     "execution_count": 27,
     "metadata": {},
     "output_type": "execute_result"
    }
   ],
   "source": [
    "df[\"hgvs\"]"
   ]
  },
  {
   "cell_type": "code",
   "execution_count": 29,
   "id": "2d76b80f-459e-4997-9808-fc6836bdd8a5",
   "metadata": {},
   "outputs": [
    {
     "data": {
      "text/plain": [
       "array(['vEDS', 'LDS/FTAAD', 'FTAAD'], dtype=object)"
      ]
     },
     "execution_count": 29,
     "metadata": {},
     "output_type": "execute_result"
    }
   ],
   "source": [
    "df[\"Suspected disease\"].unique() # \tAge at genetic diagnosis (years) \tSex"
   ]
  },
  {
   "cell_type": "code",
   "execution_count": 30,
   "id": "740b4b96-7716-4bd2-a3dc-81e93aac828f",
   "metadata": {},
   "outputs": [],
   "source": [
    "disease_d = {}\n",
    "disease_d['vEDS'] = Disease(disease_id=\"OMIM:130050\", disease_label=\"Ehlers-Danlos syndrome, vascular type\")"
   ]
  },
  {
   "cell_type": "code",
   "execution_count": null,
   "id": "aeb6c205-c815-4462-9968-15d67c7d47cc",
   "metadata": {},
   "outputs": [],
   "source": []
  }
 ],
 "metadata": {
  "kernelspec": {
   "display_name": "pstore_env",
   "language": "python",
   "name": "pstore_env"
  },
  "language_info": {
   "codemirror_mode": {
    "name": "ipython",
    "version": 3
   },
   "file_extension": ".py",
   "mimetype": "text/x-python",
   "name": "python",
   "nbconvert_exporter": "python",
   "pygments_lexer": "ipython3",
   "version": "3.11.3"
  }
 },
 "nbformat": 4,
 "nbformat_minor": 5
}
