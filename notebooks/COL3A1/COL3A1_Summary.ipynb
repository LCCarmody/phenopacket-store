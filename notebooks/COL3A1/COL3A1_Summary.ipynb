{
 "cells": [
  {
   "cell_type": "markdown",
   "id": "56a2fc73-94c0-4399-8b50-e3072ec28a81",
   "metadata": {},
   "source": [
    "<H1>COL3A1 phenopackets</H1>"
   ]
  },
  {
   "cell_type": "code",
   "execution_count": 1,
   "id": "d9a2f288-6a4c-4a09-8b09-7394ca456007",
   "metadata": {},
   "outputs": [
    {
     "name": "stdout",
     "output_type": "stream",
     "text": [
      "pyphetools version 0.7.5\n"
     ]
    }
   ],
   "source": [
    "import phenopackets as php\n",
    "from google.protobuf.json_format import MessageToDict, MessageToJson\n",
    "from google.protobuf.json_format import Parse, ParseDict\n",
    "import pandas as pd\n",
    "import math\n",
    "from csv import DictReader\n",
    "pd.set_option('display.max_colwidth', None) # show entire column contents, important!\n",
    "from collections import defaultdict\n",
    "import re\n",
    "import pyphetools\n",
    "from pyphetools.creation import *\n",
    "from pyphetools.visualization import PhenopacketTable\n",
    "from pyphetools.validation import ContentValidator\n",
    "print(f\"pyphetools version {pyphetools.__version__}\")"
   ]
  },
  {
   "cell_type": "code",
   "execution_count": 2,
   "id": "838ee42d-e1e1-443d-9ac6-6b2a659f0b72",
   "metadata": {},
   "outputs": [],
   "source": [
    "validator = ContentValidator(min_var=1, min_allele=2, min_hpo=1)"
   ]
  },
  {
   "cell_type": "code",
   "execution_count": 3,
   "id": "498604e4-32e1-44b5-b2ea-abbdcd990a94",
   "metadata": {},
   "outputs": [
    {
     "ename": "NameError",
     "evalue": "name 'individuals' is not defined",
     "output_type": "error",
     "traceback": [
      "\u001b[0;31m---------------------------------------------------------------------------\u001b[0m",
      "\u001b[0;31mNameError\u001b[0m                                 Traceback (most recent call last)",
      "Cell \u001b[0;32mIn[3], line 1\u001b[0m\n\u001b[0;32m----> 1\u001b[0m errors \u001b[38;5;241m=\u001b[39m validator\u001b[38;5;241m.\u001b[39mvalidate_phenopacket_list(phenopacket_list\u001b[38;5;241m=\u001b[39m[i\u001b[38;5;241m.\u001b[39mto_ga4gh_phenopacket(metadata\u001b[38;5;241m=\u001b[39mmetadata\u001b[38;5;241m.\u001b[39mto_ga4gh()) \u001b[38;5;28;01mfor\u001b[39;00m i \u001b[38;5;129;01min\u001b[39;00m \u001b[43mindividuals\u001b[49m])\n\u001b[1;32m      2\u001b[0m \u001b[38;5;28mprint\u001b[39m(\u001b[38;5;124mf\u001b[39m\u001b[38;5;124m\"\u001b[39m\u001b[38;5;124mNumber of errors detected: \u001b[39m\u001b[38;5;132;01m{\u001b[39;00m\u001b[38;5;28mlen\u001b[39m(errors)\u001b[38;5;132;01m}\u001b[39;00m\u001b[38;5;124m\"\u001b[39m)\n",
      "\u001b[0;31mNameError\u001b[0m: name 'individuals' is not defined"
     ]
    }
   ],
   "source": [
    "errors = validator.validate_phenopacket_list(phenopacket_list=[i.to_ga4gh_phenopacket(metadata=metadata.to_ga4gh()) for i in individuals])\n",
    "print(f\"Number of errors detected: {len(errors)}\")"
   ]
  },
  {
   "cell_type": "code",
   "execution_count": null,
   "id": "d1ac3b53-2f45-41be-aa5b-747584ca7720",
   "metadata": {},
   "outputs": [],
   "source": []
  }
 ],
 "metadata": {
  "kernelspec": {
   "display_name": "pstore_env",
   "language": "python",
   "name": "pstore_env"
  },
  "language_info": {
   "codemirror_mode": {
    "name": "ipython",
    "version": 3
   },
   "file_extension": ".py",
   "mimetype": "text/x-python",
   "name": "python",
   "nbconvert_exporter": "python",
   "pygments_lexer": "ipython3",
   "version": "3.11.3"
  }
 },
 "nbformat": 4,
 "nbformat_minor": 5
}
