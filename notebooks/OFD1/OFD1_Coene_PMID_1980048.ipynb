{
 "cells": [
  {
   "cell_type": "markdown",
   "id": "a39f3c65",
   "metadata": {},
   "source": [
    "<h1>Creation of phenopackets from tabular data (individuals in columns)</h1>\n",
    "<p>We will process <a href=\"https://pubmed.ncbi.nlm.nih.gov/19800048/\" target=\"__blank\">Coene, et al. (2009) OFD1 Is Mutated in X-Linked Joubert Syndrome and Interacts with LCA5-Encoded Lebercilin</a> in this notebook.</p>"
   ]
  },
  {
   "cell_type": "code",
   "execution_count": 1,
   "id": "f0602c0e",
   "metadata": {
    "pycharm": {
     "is_executing": true
    }
   },
   "outputs": [
    {
     "name": "stdout",
     "output_type": "stream",
     "text": [
      "Using pyphetools version 0.5.8\n"
     ]
    }
   ],
   "source": [
    "import phenopackets as php\n",
    "from google.protobuf.json_format import MessageToDict, MessageToJson\n",
    "from google.protobuf.json_format import Parse, ParseDict\n",
    "import pandas as pd\n",
    "pd.set_option('display.max_colwidth', None) # show entire column contents, important!\n",
    "from collections import defaultdict\n",
    "from pyphetools.creation import *\n",
    "from pyphetools.visualization import *\n",
    "import importlib.metadata\n",
    "__version__ = importlib.metadata.version(\"pyphetools\")\n",
    "print(f\"Using pyphetools version {__version__}\")"
   ]
  },
  {
   "cell_type": "markdown",
   "id": "8606e7eb",
   "metadata": {},
   "source": [
    "<h2>Importing HPO data</h2>\n",
    "<p>pyphetools uses the Human Phenotype Ontology (HPO) to encode phenotypic features. The recommended way of doing this is to ingest the hp.json file using HpoParser, which in turn creates an HpoConceptRecognizer object. </p>\n",
    "<p>The HpoParser can accept a hpo_json_file argument if you want to use a specific file. If the argument is not passed, it will download the latext hp.json file from the HPO GitHub site and store it in a new subdirectory called hpo_data. It will not download the file if the file is already downloaded.</p>"
   ]
  },
  {
   "cell_type": "code",
   "execution_count": 2,
   "id": "5a7789fc",
   "metadata": {
    "pycharm": {
     "is_executing": true
    }
   },
   "outputs": [],
   "source": [
    "parser = HpoParser()\n",
    "hpo_cr = parser.get_hpo_concept_recognizer()\n",
    "hpo_version = parser.get_version()\n",
    "pmid = \"PMID:19800048\"\n",
    "title = \"OFD1 is mutated in X-linked Joubert syndrome and interacts with LCA5-encoded lebercilin\"\n",
    "metadata = MetaData(created_by=\"ORCID:0000-0002-5648-2155\", pmid=pmid, pubmed_title=title)\n",
    "metadata.default_versions_with_hpo(version=hpo_version)"
   ]
  },
  {
   "cell_type": "markdown",
   "id": "5102722a",
   "metadata": {},
   "source": [
    "<h2>Importing the supplemental table</h2>\n",
    "<p>Here, we use the pandas library to import this file (note that the Python package called openpyxl must be installed to read Excel files with pandas, although the library does not need to be imported in this notebook). pyphetools expects a pandas DataFrame as input, and users can choose any input format available for pandas include CSV, TSV, and Excel, or can use any other method to transform their input data into a Pandas DataFrame before using pyphetools.</p>"
   ]
  },
  {
   "cell_type": "code",
   "execution_count": 3,
   "id": "f17c3924",
   "metadata": {
    "pycharm": {
     "is_executing": true
    }
   },
   "outputs": [],
   "source": [
    "df = pd.read_excel('input/PMID_19800048.xlsx')"
   ]
  },
  {
   "cell_type": "code",
   "execution_count": 4,
   "id": "06ec7dbd",
   "metadata": {
    "pycharm": {
     "is_executing": true
    }
   },
   "outputs": [
    {
     "data": {
      "text/html": [
       "<div>\n",
       "<style scoped>\n",
       "    .dataframe tbody tr th:only-of-type {\n",
       "        vertical-align: middle;\n",
       "    }\n",
       "\n",
       "    .dataframe tbody tr th {\n",
       "        vertical-align: top;\n",
       "    }\n",
       "\n",
       "    .dataframe thead th {\n",
       "        text-align: right;\n",
       "    }\n",
       "</style>\n",
       "<table border=\"1\" class=\"dataframe\">\n",
       "  <thead>\n",
       "    <tr style=\"text-align: right;\">\n",
       "      <th></th>\n",
       "      <th>Individual</th>\n",
       "      <th>Sex</th>\n",
       "      <th>Age</th>\n",
       "      <th>Genetic_variant</th>\n",
       "      <th>Polyhydramnios</th>\n",
       "      <th>Intellectual disability, severe</th>\n",
       "      <th>Postaxial hand polydactyly</th>\n",
       "      <th>Postaxial foot polydactyly</th>\n",
       "      <th>Rod-cone dystrophy</th>\n",
       "      <th>Molar tooth sign on MRI</th>\n",
       "      <th>...</th>\n",
       "      <th>Frequent temper tantrums</th>\n",
       "      <th>Conductive hearing impairment</th>\n",
       "      <th>Cerebellar vermis hypoplasia</th>\n",
       "      <th>Low-set ears</th>\n",
       "      <th>Polyphagia</th>\n",
       "      <th>Obesity</th>\n",
       "      <th>Macrocephaly</th>\n",
       "      <th>Hypotonia</th>\n",
       "      <th>Dysmetria</th>\n",
       "      <th>Brachydactyly</th>\n",
       "    </tr>\n",
       "  </thead>\n",
       "  <tbody>\n",
       "    <tr>\n",
       "      <th>0</th>\n",
       "      <td>III-9</td>\n",
       "      <td>male</td>\n",
       "      <td>34</td>\n",
       "      <td>c.2841_2847delAAAAGAC</td>\n",
       "      <td>NaN</td>\n",
       "      <td>+</td>\n",
       "      <td>NaN</td>\n",
       "      <td>NaN</td>\n",
       "      <td>+</td>\n",
       "      <td>+</td>\n",
       "      <td>...</td>\n",
       "      <td>NaN</td>\n",
       "      <td>NaN</td>\n",
       "      <td>+</td>\n",
       "      <td>+</td>\n",
       "      <td>NaN</td>\n",
       "      <td>NaN</td>\n",
       "      <td>NaN</td>\n",
       "      <td>NaN</td>\n",
       "      <td>NaN</td>\n",
       "      <td>NaN</td>\n",
       "    </tr>\n",
       "    <tr>\n",
       "      <th>1</th>\n",
       "      <td>III-10</td>\n",
       "      <td>male</td>\n",
       "      <td>0</td>\n",
       "      <td>c.2841_2847delAAAAGAC</td>\n",
       "      <td>NaN</td>\n",
       "      <td>+</td>\n",
       "      <td>NaN</td>\n",
       "      <td>NaN</td>\n",
       "      <td>+</td>\n",
       "      <td>NaN</td>\n",
       "      <td>...</td>\n",
       "      <td>NaN</td>\n",
       "      <td>NaN</td>\n",
       "      <td>NaN</td>\n",
       "      <td>NaN</td>\n",
       "      <td>NaN</td>\n",
       "      <td>NaN</td>\n",
       "      <td>NaN</td>\n",
       "      <td>NaN</td>\n",
       "      <td>NaN</td>\n",
       "      <td>NaN</td>\n",
       "    </tr>\n",
       "    <tr>\n",
       "      <th>2</th>\n",
       "      <td>IV-2</td>\n",
       "      <td>male</td>\n",
       "      <td>0</td>\n",
       "      <td>c.2841_2847delAAAAGAC</td>\n",
       "      <td>NaN</td>\n",
       "      <td>+</td>\n",
       "      <td>+</td>\n",
       "      <td>+</td>\n",
       "      <td>NaN</td>\n",
       "      <td>NaN</td>\n",
       "      <td>...</td>\n",
       "      <td>NaN</td>\n",
       "      <td>NaN</td>\n",
       "      <td>NaN</td>\n",
       "      <td>NaN</td>\n",
       "      <td>NaN</td>\n",
       "      <td>NaN</td>\n",
       "      <td>NaN</td>\n",
       "      <td>NaN</td>\n",
       "      <td>NaN</td>\n",
       "      <td>NaN</td>\n",
       "    </tr>\n",
       "    <tr>\n",
       "      <th>3</th>\n",
       "      <td>IV-3</td>\n",
       "      <td>male</td>\n",
       "      <td>0</td>\n",
       "      <td>c.2841_2847delAAAAGAC</td>\n",
       "      <td>NaN</td>\n",
       "      <td>+</td>\n",
       "      <td>NaN</td>\n",
       "      <td>NaN</td>\n",
       "      <td>NaN</td>\n",
       "      <td>NaN</td>\n",
       "      <td>...</td>\n",
       "      <td>NaN</td>\n",
       "      <td>NaN</td>\n",
       "      <td>NaN</td>\n",
       "      <td>NaN</td>\n",
       "      <td>NaN</td>\n",
       "      <td>NaN</td>\n",
       "      <td>NaN</td>\n",
       "      <td>NaN</td>\n",
       "      <td>NaN</td>\n",
       "      <td>NaN</td>\n",
       "    </tr>\n",
       "    <tr>\n",
       "      <th>4</th>\n",
       "      <td>IV-4</td>\n",
       "      <td>male</td>\n",
       "      <td>0</td>\n",
       "      <td>c.2841_2847delAAAAGAC</td>\n",
       "      <td>NaN</td>\n",
       "      <td>+</td>\n",
       "      <td>+</td>\n",
       "      <td>+</td>\n",
       "      <td>NaN</td>\n",
       "      <td>NaN</td>\n",
       "      <td>...</td>\n",
       "      <td>NaN</td>\n",
       "      <td>NaN</td>\n",
       "      <td>NaN</td>\n",
       "      <td>NaN</td>\n",
       "      <td>NaN</td>\n",
       "      <td>NaN</td>\n",
       "      <td>NaN</td>\n",
       "      <td>NaN</td>\n",
       "      <td>NaN</td>\n",
       "      <td>NaN</td>\n",
       "    </tr>\n",
       "  </tbody>\n",
       "</table>\n",
       "<p>5 rows × 31 columns</p>\n",
       "</div>"
      ],
      "text/plain": [
       "  Individual   Sex  Age        Genetic_variant Polyhydramnios  \\\n",
       "0      III-9  male   34  c.2841_2847delAAAAGAC            NaN   \n",
       "1     III-10  male    0  c.2841_2847delAAAAGAC            NaN   \n",
       "2       IV-2  male    0  c.2841_2847delAAAAGAC            NaN   \n",
       "3       IV-3  male    0  c.2841_2847delAAAAGAC            NaN   \n",
       "4       IV-4  male    0  c.2841_2847delAAAAGAC            NaN   \n",
       "\n",
       "  Intellectual disability, severe Postaxial hand polydactyly  \\\n",
       "0                               +                        NaN   \n",
       "1                               +                        NaN   \n",
       "2                               +                          +   \n",
       "3                               +                        NaN   \n",
       "4                               +                          +   \n",
       "\n",
       "  Postaxial foot polydactyly Rod-cone dystrophy Molar tooth sign on MRI  ...  \\\n",
       "0                        NaN                  +                       +  ...   \n",
       "1                        NaN                  +                     NaN  ...   \n",
       "2                          +                NaN                     NaN  ...   \n",
       "3                        NaN                NaN                     NaN  ...   \n",
       "4                          +                NaN                     NaN  ...   \n",
       "\n",
       "  Frequent temper tantrums Conductive hearing impairment  \\\n",
       "0                      NaN                           NaN   \n",
       "1                      NaN                           NaN   \n",
       "2                      NaN                           NaN   \n",
       "3                      NaN                           NaN   \n",
       "4                      NaN                           NaN   \n",
       "\n",
       "  Cerebellar vermis hypoplasia Low-set ears Polyphagia Obesity Macrocephaly  \\\n",
       "0                            +            +        NaN     NaN          NaN   \n",
       "1                          NaN          NaN        NaN     NaN          NaN   \n",
       "2                          NaN          NaN        NaN     NaN          NaN   \n",
       "3                          NaN          NaN        NaN     NaN          NaN   \n",
       "4                          NaN          NaN        NaN     NaN          NaN   \n",
       "\n",
       "  Hypotonia Dysmetria Brachydactyly  \n",
       "0       NaN       NaN           NaN  \n",
       "1       NaN       NaN           NaN  \n",
       "2       NaN       NaN           NaN  \n",
       "3       NaN       NaN           NaN  \n",
       "4       NaN       NaN           NaN  \n",
       "\n",
       "[5 rows x 31 columns]"
      ]
     },
     "execution_count": 4,
     "metadata": {},
     "output_type": "execute_result"
    }
   ],
   "source": [
    "df.head()"
   ]
  },
  {
   "cell_type": "markdown",
   "id": "8314d6bd",
   "metadata": {},
   "source": [
    "<h2>Column mappers</h2>\n",
    "<p>Please see the notebook \"Create phenopackets from tabular data with individuals in rows\" for explanations. In the following cell we create a dictionary for the ColumnMappers. Note that the code is identical except that we use the df.loc function to get the corresponding row data</p>"
   ]
  },
  {
   "cell_type": "code",
   "execution_count": 5,
   "id": "2305a0d2",
   "metadata": {
    "pycharm": {
     "is_executing": true
    }
   },
   "outputs": [],
   "source": [
    "hpo_cr = parser.get_hpo_concept_recognizer()\n",
    "generator = SimpleColumnMapperGenerator(df=df, observed='+', excluded='-', hpo_cr=hpo_cr)\n",
    "column_mapper_d = generator.try_mapping_columns()"
   ]
  },
  {
   "cell_type": "code",
   "execution_count": 6,
   "id": "fa281c54",
   "metadata": {
    "pycharm": {
     "is_executing": true
    }
   },
   "outputs": [
    {
     "name": "stdout",
     "output_type": "stream",
     "text": [
      "['Polyhydramnios', 'Intellectual disability, severe', 'Postaxial hand polydactyly', 'Postaxial foot polydactyly', 'Rod-cone dystrophy', 'Molar tooth sign on MRI', 'Microcephaly', 'Decreased body weight', 'Short stature', 'Tube feeding', 'Feeding difficulties', 'Motor delay', 'Hirsutism', 'Wide nasal bridge', 'Thick vermilion border', 'Absent speech', 'Recurrent fever', 'Frequent temper tantrums', 'Conductive hearing impairment', 'Cerebellar vermis hypoplasia', 'Low-set ears', 'Polyphagia', 'Obesity', 'Macrocephaly', 'Hypotonia', 'Dysmetria', 'Brachydactyly']\n"
     ]
    }
   ],
   "source": [
    "print(generator.get_mapped_columns())        "
   ]
  },
  {
   "cell_type": "code",
   "execution_count": 7,
   "id": "fc7adf8b-2830-4455-8899-456029344302",
   "metadata": {},
   "outputs": [
    {
     "name": "stdout",
     "output_type": "stream",
     "text": [
      "['Individual', 'Sex', 'Age', 'Genetic_variant']\n"
     ]
    }
   ],
   "source": [
    "print(generator.get_unmapped_columns())    "
   ]
  },
  {
   "cell_type": "markdown",
   "id": "5e53617d",
   "metadata": {},
   "source": [
    "<h2>Variant Data</h2>\n",
    "<p>The variant data (HGVS< transcript) is listed in the Variant (hg19, NM_015133.4) column.</p>"
   ]
  },
  {
   "cell_type": "code",
   "execution_count": 8,
   "id": "da4d5706",
   "metadata": {
    "pycharm": {
     "is_executing": true
    }
   },
   "outputs": [],
   "source": [
    "genome = 'hg38'\n",
    "default_genotype = 'hemizygous'\n",
    "transcript='NM_003611.2'\n",
    "varMapper = VariantColumnMapper(assembly=genome,column_name='Genetic_variant', \n",
    "                                transcript=transcript, default_genotype=default_genotype)"
   ]
  },
  {
   "cell_type": "markdown",
   "id": "d1af2052",
   "metadata": {},
   "source": [
    "<h1>Demographic data</h1>\n",
    "<p>pyphetools can be used to capture information about age, sex, and individual identifiers. This information is stored in a map of \"IndividualMapper\" objects. Special treatment may be required for the indifiers, which may be used as the column names or row index.</p>"
   ]
  },
  {
   "cell_type": "code",
   "execution_count": 9,
   "id": "3e64dc08",
   "metadata": {
    "pycharm": {
     "is_executing": true
    }
   },
   "outputs": [
    {
     "data": {
      "text/html": [
       "<div>\n",
       "<style scoped>\n",
       "    .dataframe tbody tr th:only-of-type {\n",
       "        vertical-align: middle;\n",
       "    }\n",
       "\n",
       "    .dataframe tbody tr th {\n",
       "        vertical-align: top;\n",
       "    }\n",
       "\n",
       "    .dataframe thead th {\n",
       "        text-align: right;\n",
       "    }\n",
       "</style>\n",
       "<table border=\"1\" class=\"dataframe\">\n",
       "  <thead>\n",
       "    <tr style=\"text-align: right;\">\n",
       "      <th></th>\n",
       "      <th>original column contents</th>\n",
       "      <th>age</th>\n",
       "    </tr>\n",
       "  </thead>\n",
       "  <tbody>\n",
       "    <tr>\n",
       "      <th>0</th>\n",
       "      <td>34</td>\n",
       "      <td>P34Y</td>\n",
       "    </tr>\n",
       "    <tr>\n",
       "      <th>1</th>\n",
       "      <td>0</td>\n",
       "      <td>P0Y</td>\n",
       "    </tr>\n",
       "    <tr>\n",
       "      <th>2</th>\n",
       "      <td>12</td>\n",
       "      <td>P12Y</td>\n",
       "    </tr>\n",
       "  </tbody>\n",
       "</table>\n",
       "</div>"
      ],
      "text/plain": [
       "   original column contents   age\n",
       "0                        34  P34Y\n",
       "1                         0   P0Y\n",
       "2                        12  P12Y"
      ]
     },
     "execution_count": 9,
     "metadata": {},
     "output_type": "execute_result"
    }
   ],
   "source": [
    "ageMapper = AgeColumnMapper.by_year('Age')\n",
    "ageMapper.preview_column(df['Age'])"
   ]
  },
  {
   "cell_type": "code",
   "execution_count": 10,
   "id": "71f664cc",
   "metadata": {
    "pycharm": {
     "is_executing": true
    }
   },
   "outputs": [
    {
     "data": {
      "text/html": [
       "<div>\n",
       "<style scoped>\n",
       "    .dataframe tbody tr th:only-of-type {\n",
       "        vertical-align: middle;\n",
       "    }\n",
       "\n",
       "    .dataframe tbody tr th {\n",
       "        vertical-align: top;\n",
       "    }\n",
       "\n",
       "    .dataframe thead th {\n",
       "        text-align: right;\n",
       "    }\n",
       "</style>\n",
       "<table border=\"1\" class=\"dataframe\">\n",
       "  <thead>\n",
       "    <tr style=\"text-align: right;\">\n",
       "      <th></th>\n",
       "      <th>original column contents</th>\n",
       "      <th>sex</th>\n",
       "    </tr>\n",
       "  </thead>\n",
       "  <tbody>\n",
       "    <tr>\n",
       "      <th>0</th>\n",
       "      <td>male</td>\n",
       "      <td>MALE</td>\n",
       "    </tr>\n",
       "    <tr>\n",
       "      <th>1</th>\n",
       "      <td>male</td>\n",
       "      <td>MALE</td>\n",
       "    </tr>\n",
       "    <tr>\n",
       "      <th>2</th>\n",
       "      <td>male</td>\n",
       "      <td>MALE</td>\n",
       "    </tr>\n",
       "    <tr>\n",
       "      <th>3</th>\n",
       "      <td>male</td>\n",
       "      <td>MALE</td>\n",
       "    </tr>\n",
       "    <tr>\n",
       "      <th>4</th>\n",
       "      <td>male</td>\n",
       "      <td>MALE</td>\n",
       "    </tr>\n",
       "    <tr>\n",
       "      <th>5</th>\n",
       "      <td>male</td>\n",
       "      <td>MALE</td>\n",
       "    </tr>\n",
       "    <tr>\n",
       "      <th>6</th>\n",
       "      <td>male</td>\n",
       "      <td>MALE</td>\n",
       "    </tr>\n",
       "    <tr>\n",
       "      <th>7</th>\n",
       "      <td>male</td>\n",
       "      <td>MALE</td>\n",
       "    </tr>\n",
       "    <tr>\n",
       "      <th>8</th>\n",
       "      <td>male</td>\n",
       "      <td>MALE</td>\n",
       "    </tr>\n",
       "  </tbody>\n",
       "</table>\n",
       "</div>"
      ],
      "text/plain": [
       "  original column contents   sex\n",
       "0                     male  MALE\n",
       "1                     male  MALE\n",
       "2                     male  MALE\n",
       "3                     male  MALE\n",
       "4                     male  MALE\n",
       "5                     male  MALE\n",
       "6                     male  MALE\n",
       "7                     male  MALE\n",
       "8                     male  MALE"
      ]
     },
     "execution_count": 10,
     "metadata": {},
     "output_type": "execute_result"
    }
   ],
   "source": [
    "sexMapper = SexColumnMapper(male_symbol='male', female_symbol='female', column_name='Sex')\n",
    "sexMapper.preview_column(df['Sex'])"
   ]
  },
  {
   "cell_type": "code",
   "execution_count": 11,
   "id": "f6581a8a",
   "metadata": {
    "pycharm": {
     "is_executing": true
    }
   },
   "outputs": [],
   "source": [
    "\n",
    "encoder = CohortEncoder(df=df, hpo_cr=hpo_cr, column_mapper_d=column_mapper_d, \n",
    "                        individual_column_name=\"Individual\", agemapper=ageMapper, sexmapper=sexMapper,\n",
    "                       variant_mapper=varMapper, metadata=metadata,\n",
    "                       pmid=pmid)\n",
    "encoder.set_disease(disease_id='OMIM:300804', label='Joubert syndrome 10')"
   ]
  },
  {
   "cell_type": "code",
   "execution_count": 12,
   "id": "fd367ed6",
   "metadata": {
    "pycharm": {
     "is_executing": true
    }
   },
   "outputs": [
    {
     "name": "stdout",
     "output_type": "stream",
     "text": [
      "https://rest.variantvalidator.org/VariantValidator/variantvalidator/hg38/NM_003611.2%3Ac.2841_2847delAAAAGAC/NM_003611.2?content-type=application%2Fjson\n",
      "https://rest.variantvalidator.org/VariantValidator/variantvalidator/hg38/NM_003611.2%3Ac.2841_2847delAAAAGAC/NM_003611.2?content-type=application%2Fjson\n",
      "https://rest.variantvalidator.org/VariantValidator/variantvalidator/hg38/NM_003611.2%3Ac.2841_2847delAAAAGAC/NM_003611.2?content-type=application%2Fjson\n",
      "https://rest.variantvalidator.org/VariantValidator/variantvalidator/hg38/NM_003611.2%3Ac.2841_2847delAAAAGAC/NM_003611.2?content-type=application%2Fjson\n",
      "https://rest.variantvalidator.org/VariantValidator/variantvalidator/hg38/NM_003611.2%3Ac.2841_2847delAAAAGAC/NM_003611.2?content-type=application%2Fjson\n",
      "https://rest.variantvalidator.org/VariantValidator/variantvalidator/hg38/NM_003611.2%3Ac.2841_2847delAAAAGAC/NM_003611.2?content-type=application%2Fjson\n",
      "https://rest.variantvalidator.org/VariantValidator/variantvalidator/hg38/NM_003611.2%3Ac.2841_2847delAAAAGAC/NM_003611.2?content-type=application%2Fjson\n",
      "https://rest.variantvalidator.org/VariantValidator/variantvalidator/hg38/NM_003611.2%3Ac.2841_2847delAAAAGAC/NM_003611.2?content-type=application%2Fjson\n",
      "https://rest.variantvalidator.org/VariantValidator/variantvalidator/hg38/NM_003611.2%3Ac.2767delG/NM_003611.2?content-type=application%2Fjson\n"
     ]
    }
   ],
   "source": [
    "individuals = encoder.get_individuals()"
   ]
  },
  {
   "cell_type": "code",
   "execution_count": 13,
   "id": "5d044b78",
   "metadata": {
    "pycharm": {
     "is_executing": true
    }
   },
   "outputs": [
    {
     "name": "stdout",
     "output_type": "stream",
     "text": [
      "{\n",
      "  \"id\": \"PMID_19800048_UW87\",\n",
      "  \"subject\": {\n",
      "    \"id\": \"UW87\",\n",
      "    \"timeAtLastEncounter\": {\n",
      "      \"age\": {\n",
      "        \"iso8601duration\": \"P12Y\"\n",
      "      }\n",
      "    },\n",
      "    \"sex\": \"MALE\"\n",
      "  },\n",
      "  \"phenotypicFeatures\": [\n",
      "    {\n",
      "      \"type\": {\n",
      "        \"id\": \"HP:0001561\",\n",
      "        \"label\": \"Polyhydramnios\"\n",
      "      }\n",
      "    },\n",
      "    {\n",
      "      \"type\": {\n",
      "        \"id\": \"HP:0001249\",\n",
      "        \"label\": \"Intellectual disability\"\n",
      "      }\n",
      "    },\n",
      "    {\n",
      "      \"type\": {\n",
      "        \"id\": \"HP:0001162\",\n",
      "        \"label\": \"Postaxial hand polydactyly\"\n",
      "      }\n",
      "    },\n",
      "    {\n",
      "      \"type\": {\n",
      "        \"id\": \"HP:0001830\",\n",
      "        \"label\": \"Postaxial foot polydactyly\"\n",
      "      }\n",
      "    },\n",
      "    {\n",
      "      \"type\": {\n",
      "        \"id\": \"HP:0002419\",\n",
      "        \"label\": \"Molar tooth sign on MRI\"\n",
      "      }\n",
      "    },\n",
      "    {\n",
      "      \"type\": {\n",
      "        \"id\": \"HP:0033454\",\n",
      "        \"label\": \"Tube feeding\"\n",
      "      }\n",
      "    },\n",
      "    {\n",
      "      \"type\": {\n",
      "        \"id\": \"HP:0011968\",\n",
      "        \"label\": \"Feeding difficulties\"\n",
      "      }\n",
      "    },\n",
      "    {\n",
      "      \"type\": {\n",
      "        \"id\": \"HP:0001344\",\n",
      "        \"label\": \"Absent speech\"\n",
      "      }\n",
      "    },\n",
      "    {\n",
      "      \"type\": {\n",
      "        \"id\": \"HP:0002591\",\n",
      "        \"label\": \"Polyphagia\"\n",
      "      }\n",
      "    },\n",
      "    {\n",
      "      \"type\": {\n",
      "        \"id\": \"HP:0001513\",\n",
      "        \"label\": \"Obesity\"\n",
      "      }\n",
      "    },\n",
      "    {\n",
      "      \"type\": {\n",
      "        \"id\": \"HP:0000256\",\n",
      "        \"label\": \"Macrocephaly\"\n",
      "      }\n",
      "    },\n",
      "    {\n",
      "      \"type\": {\n",
      "        \"id\": \"HP:0001252\",\n",
      "        \"label\": \"Hypotonia\"\n",
      "      }\n",
      "    },\n",
      "    {\n",
      "      \"type\": {\n",
      "        \"id\": \"HP:0001310\",\n",
      "        \"label\": \"Dysmetria\"\n",
      "      }\n",
      "    },\n",
      "    {\n",
      "      \"type\": {\n",
      "        \"id\": \"HP:0001156\",\n",
      "        \"label\": \"Brachydactyly\"\n",
      "      }\n",
      "    }\n",
      "  ],\n",
      "  \"interpretations\": [\n",
      "    {\n",
      "      \"id\": \"UW87\",\n",
      "      \"progressStatus\": \"SOLVED\",\n",
      "      \"diagnosis\": {\n",
      "        \"disease\": {\n",
      "          \"id\": \"OMIM:300804\",\n",
      "          \"label\": \"Joubert syndrome 10\"\n",
      "        },\n",
      "        \"genomicInterpretations\": [\n",
      "          {\n",
      "            \"subjectOrBiosampleId\": \"UW87\",\n",
      "            \"interpretationStatus\": \"CAUSATIVE\",\n",
      "            \"variantInterpretation\": {\n",
      "              \"variationDescriptor\": {\n",
      "                \"id\": \"var_HybdIGMRcBlcnmvGlpawhYVRZ\",\n",
      "                \"geneContext\": {\n",
      "                  \"valueId\": \"HGNC:2567\",\n",
      "                  \"symbol\": \"OFD1\"\n",
      "                },\n",
      "                \"expressions\": [\n",
      "                  {\n",
      "                    \"syntax\": \"hgvs.c\",\n",
      "                    \"value\": \"NM_003611.2:c.2767del\"\n",
      "                  },\n",
      "                  {\n",
      "                    \"syntax\": \"hgvs.g\",\n",
      "                    \"value\": \"NC_000023.11:g.13768063del\"\n",
      "                  }\n",
      "                ],\n",
      "                \"vcfRecord\": {\n",
      "                  \"genomeAssembly\": \"hg38\",\n",
      "                  \"chrom\": \"chrX\",\n",
      "                  \"pos\": \"13768062\",\n",
      "                  \"ref\": \"TG\",\n",
      "                  \"alt\": \"T\"\n",
      "                },\n",
      "                \"moleculeContext\": \"genomic\",\n",
      "                \"allelicState\": {\n",
      "                  \"id\": \"GENO:0000134\",\n",
      "                  \"label\": \"hemizygous\"\n",
      "                }\n",
      "              }\n",
      "            }\n",
      "          }\n",
      "        ]\n",
      "      }\n",
      "    }\n",
      "  ],\n",
      "  \"metaData\": {\n",
      "    \"created\": \"2023-09-20T12:28:12.191636323Z\",\n",
      "    \"createdBy\": \"ORCID:0000-0002-5648-2155\",\n",
      "    \"resources\": [\n",
      "      {\n",
      "        \"id\": \"geno\",\n",
      "        \"name\": \"Genotype Ontology\",\n",
      "        \"url\": \"http://purl.obolibrary.org/obo/geno.owl\",\n",
      "        \"version\": \"2022-03-05\",\n",
      "        \"namespacePrefix\": \"GENO\",\n",
      "        \"iriPrefix\": \"http://purl.obolibrary.org/obo/GENO_\"\n",
      "      },\n",
      "      {\n",
      "        \"id\": \"hgnc\",\n",
      "        \"name\": \"HUGO Gene Nomenclature Committee\",\n",
      "        \"url\": \"https://www.genenames.org\",\n",
      "        \"version\": \"06/01/23\",\n",
      "        \"namespacePrefix\": \"HGNC\",\n",
      "        \"iriPrefix\": \"https://www.genenames.org/data/gene-symbol-report/#!/hgnc_id/\"\n",
      "      },\n",
      "      {\n",
      "        \"id\": \"omim\",\n",
      "        \"name\": \"An Online Catalog of Human Genes and Genetic Disorders\",\n",
      "        \"url\": \"https://www.omim.org\",\n",
      "        \"version\": \"January 4, 2023\",\n",
      "        \"namespacePrefix\": \"OMIM\",\n",
      "        \"iriPrefix\": \"https://www.omim.org/entry/\"\n",
      "      },\n",
      "      {\n",
      "        \"id\": \"so\",\n",
      "        \"name\": \"Sequence types and features ontology\",\n",
      "        \"url\": \"http://purl.obolibrary.org/obo/so.obo\",\n",
      "        \"version\": \"2021-11-22\",\n",
      "        \"namespacePrefix\": \"SO\",\n",
      "        \"iriPrefix\": \"http://purl.obolibrary.org/obo/SO_\"\n",
      "      },\n",
      "      {\n",
      "        \"id\": \"hp\",\n",
      "        \"name\": \"human phenotype ontology\",\n",
      "        \"url\": \"http://purl.obolibrary.org/obo/hp.owl\",\n",
      "        \"version\": \"2023-09-01\",\n",
      "        \"namespacePrefix\": \"HP\",\n",
      "        \"iriPrefix\": \"http://purl.obolibrary.org/obo/HP_\"\n",
      "      }\n",
      "    ],\n",
      "    \"phenopacketSchemaVersion\": \"2.0\",\n",
      "    \"externalReferences\": [\n",
      "      {\n",
      "        \"id\": \"PMID:19800048\",\n",
      "        \"reference\": \"https://pubmed.ncbi.nlm.nih.gov/19800048\",\n",
      "        \"description\": \"OFD1 is mutated in X-linked Joubert syndrome and interacts with LCA5-encoded lebercilin\"\n",
      "      }\n",
      "    ]\n",
      "  }\n",
      "}\n"
     ]
    }
   ],
   "source": [
    "i1 = individuals[-1]\n",
    "phenopacket1 = i1.to_ga4gh_phenopacket(metadata=metadata.to_ga4gh())\n",
    "json_string = MessageToJson(phenopacket1)\n",
    "print(json_string)"
   ]
  },
  {
   "cell_type": "code",
   "execution_count": 14,
   "id": "d4edc40f-9f8d-4005-b343-e922425768cf",
   "metadata": {},
   "outputs": [
    {
     "data": {
      "text/html": [
       "<table style=\"border: 2px solid black;\">\n",
       "\n",
       "<caption>9 phenopackets - PMID:19800048 (n=9)</caption>\n",
       "\n",
       "<tr>\n",
       "            <th>Individual</th>\n",
       "            <th>Disease</th>\n",
       "            <th>Genotype</th>\n",
       "            <th>Phenotypic features</th>\n",
       "        </tr>\n",
       "        \n",
       "<tr>\n",
       "<td>III-9 (MALE; P34Y)</ts>\n",
       "<td>Joubert syndrome 10 (OMIM:300804)</ts>\n",
       "<td>NM_003611.2:c.2844_2850del (hemizygous)</td>\n",
       "<td class=\"table-data\">Intellectual disability (HP:0001249); Rod-cone dystrophy (HP:0000510); Molar tooth sign on MRI (HP:0002419); Thick vermilion border (HP:0012471); Cerebellar vermis hypoplasia (HP:0001320); Low-set ears (HP:0000369)</td>\n",
       "</tr>\n",
       "<tr>\n",
       "<td>III-10 (MALE; P0Y)</ts>\n",
       "<td>Joubert syndrome 10 (OMIM:300804)</ts>\n",
       "<td>NM_003611.2:c.2844_2850del (hemizygous)</td>\n",
       "<td class=\"table-data\">Intellectual disability (HP:0001249); Rod-cone dystrophy (HP:0000510)</td>\n",
       "</tr>\n",
       "<tr>\n",
       "<td>IV-2 (MALE; P0Y)</ts>\n",
       "<td>Joubert syndrome 10 (OMIM:300804)</ts>\n",
       "<td>NM_003611.2:c.2844_2850del (hemizygous)</td>\n",
       "<td class=\"table-data\">Intellectual disability (HP:0001249); Postaxial hand polydactyly (HP:0001162); Postaxial foot polydactyly (HP:0001830)</td>\n",
       "</tr>\n",
       "<tr>\n",
       "<td>IV-3 (MALE; P0Y)</ts>\n",
       "<td>Joubert syndrome 10 (OMIM:300804)</ts>\n",
       "<td>NM_003611.2:c.2844_2850del (hemizygous)</td>\n",
       "<td class=\"table-data\">Intellectual disability (HP:0001249)</td>\n",
       "</tr>\n",
       "<tr>\n",
       "<td>IV-4 (MALE; P0Y)</ts>\n",
       "<td>Joubert syndrome 10 (OMIM:300804)</ts>\n",
       "<td>NM_003611.2:c.2844_2850del (hemizygous)</td>\n",
       "<td class=\"table-data\">Intellectual disability (HP:0001249); Postaxial hand polydactyly (HP:0001162); Postaxial foot polydactyly (HP:0001830)</td>\n",
       "</tr>\n",
       "<tr>\n",
       "<td>IV-5 (MALE; P0Y)</ts>\n",
       "<td>Joubert syndrome 10 (OMIM:300804)</ts>\n",
       "<td>NM_003611.2:c.2844_2850del (hemizygous)</td>\n",
       "<td class=\"table-data\">Intellectual disability (HP:0001249); Postaxial hand polydactyly (HP:0001162); Postaxial foot polydactyly (HP:0001830)</td>\n",
       "</tr>\n",
       "<tr>\n",
       "<td>IV-6 (MALE; P0Y)</ts>\n",
       "<td>Joubert syndrome 10 (OMIM:300804)</ts>\n",
       "<td>NM_003611.2:c.2844_2850del (hemizygous)</td>\n",
       "<td class=\"table-data\">Intellectual disability (HP:0001249); Postaxial hand polydactyly (HP:0001162); Postaxial foot polydactyly (HP:0001830)</td>\n",
       "</tr>\n",
       "<tr>\n",
       "<td>IV-10 (MALE; P0Y)</ts>\n",
       "<td>Joubert syndrome 10 (OMIM:300804)</ts>\n",
       "<td>NM_003611.2:c.2844_2850del (hemizygous)</td>\n",
       "<td class=\"table-data\">Intellectual disability (HP:0001249); Postaxial hand polydactyly (HP:0001162); Postaxial foot polydactyly (HP:0001830); Rod-cone dystrophy (HP:0000510); Molar tooth sign on MRI (HP:0002419); Microcephaly (HP:0000252); Decreased body weight (HP:0004325); Short stature (HP:0004322); Tube feeding (HP:0033454); Feeding difficulties (HP:0011968); Motor delay (HP:0001270); Hirsutism (HP:0001007); Wide nasal bridge (HP:0000431); Thick vermilion border (HP:0012471); Absent speech (HP:0001344); Recurrent fever (HP:0001954); Frequent temper tantrums (HP:0025161); Conductive hearing impairment (HP:0000405); Cerebellar vermis hypoplasia (HP:0001320); Low-set ears (HP:0000369)</td>\n",
       "</tr>\n",
       "<tr>\n",
       "<td>UW87 (MALE; P12Y)</ts>\n",
       "<td>Joubert syndrome 10 (OMIM:300804)</ts>\n",
       "<td>NM_003611.2:c.2767del (hemizygous)</td>\n",
       "<td class=\"table-data\">Polyhydramnios (HP:0001561); Intellectual disability (HP:0001249); Postaxial hand polydactyly (HP:0001162); Postaxial foot polydactyly (HP:0001830); Molar tooth sign on MRI (HP:0002419); Tube feeding (HP:0033454); Feeding difficulties (HP:0011968); Absent speech (HP:0001344); Polyphagia (HP:0002591); Obesity (HP:0001513); Macrocephaly (HP:0000256); Hypotonia (HP:0001252); Dysmetria (HP:0001310); Brachydactyly (HP:0001156)</td>\n",
       "</tr>\n",
       "</table>\n"
      ],
      "text/plain": [
       "<IPython.core.display.HTML object>"
      ]
     },
     "metadata": {},
     "output_type": "display_data"
    }
   ],
   "source": [
    "from IPython.display import HTML, display\n",
    "\n",
    "phenopackets = [i.to_ga4gh_phenopacket(metadata=metadata.to_ga4gh()) for i in individuals]\n",
    "table = PhenopacketTable(phenopacket_list=phenopackets)\n",
    "display(HTML(table.to_html()))"
   ]
  },
  {
   "cell_type": "code",
   "execution_count": 15,
   "id": "23f1094f",
   "metadata": {
    "pycharm": {
     "is_executing": true
    }
   },
   "outputs": [
    {
     "name": "stdout",
     "output_type": "stream",
     "text": [
      "We output 9 GA4GH phenopackets to the directory phenopackets\n"
     ]
    }
   ],
   "source": [
    "output_directory = \"phenopackets\"\n",
    "Individual.output_individuals_as_phenopackets(individual_list=individuals,\n",
    "                                              pmid=pmid, \n",
    "                                              metadata=metadata.to_ga4gh(),\n",
    "                                              outdir=output_directory)"
   ]
  },
  {
   "cell_type": "code",
   "execution_count": null,
   "id": "9130da09-c242-46ea-a950-ba5856b087ff",
   "metadata": {},
   "outputs": [],
   "source": []
  }
 ],
 "metadata": {
  "kernelspec": {
   "display_name": "Python 3 (ipykernel)",
   "language": "python",
   "name": "python3"
  },
  "language_info": {
   "codemirror_mode": {
    "name": "ipython",
    "version": 3
   },
   "file_extension": ".py",
   "mimetype": "text/x-python",
   "name": "python",
   "nbconvert_exporter": "python",
   "pygments_lexer": "ipython3",
   "version": "3.10.12"
  }
 },
 "nbformat": 4,
 "nbformat_minor": 5
}
