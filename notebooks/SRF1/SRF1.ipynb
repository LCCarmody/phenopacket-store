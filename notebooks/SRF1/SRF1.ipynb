{
 "cells": [
  {
   "cell_type": "markdown",
   "id": "2dd097ec-6f81-477d-a407-da75d724c2e3",
   "metadata": {},
   "source": [
    "SRF1"
   ]
  },
  {
   "cell_type": "markdown",
   "id": "c08151a3-2657-421d-9eb9-cab5fea59a20",
   "metadata": {},
   "source": []
  },
  {
   "cell_type": "code",
   "execution_count": 1,
   "id": "99c54414-b476-4683-8695-be8741807d28",
   "metadata": {},
   "outputs": [
    {
     "name": "stderr",
     "output_type": "stream",
     "text": [
      "/Users/carmol/test_env/lib/python3.9/site-packages/urllib3/__init__.py:34: NotOpenSSLWarning: urllib3 v2 only supports OpenSSL 1.1.1+, currently the 'ssl' module is compiled with 'LibreSSL 2.8.3'. See: https://github.com/urllib3/urllib3/issues/3020\n",
      "  warnings.warn(\n"
     ]
    },
    {
     "name": "stdout",
     "output_type": "stream",
     "text": [
      "pyphetools version 0.8.12\n"
     ]
    }
   ],
   "source": [
    "import phenopackets as php\n",
    "from google.protobuf.json_format import MessageToDict, MessageToJson\n",
    "from google.protobuf.json_format import Parse, ParseDict\n",
    "import pandas as pd\n",
    "pd.set_option('display.max_colwidth', None) # show entire column contents, important!\n",
    "from collections import defaultdict\n",
    "import pyphetools\n",
    "from pyphetools.creation import *\n",
    "print(f\"pyphetools version {pyphetools.__version__}\")\n"
   ]
  },
  {
   "cell_type": "markdown",
   "id": "ea205989-7f36-4858-9150-46145843ab10",
   "metadata": {},
   "source": [
    "Extract data from PMID:37071997"
   ]
  },
  {
   "cell_type": "code",
   "execution_count": 2,
   "id": "4e6cf64d-ee47-4902-912a-72f40e3327fd",
   "metadata": {},
   "outputs": [
    {
     "name": "stdout",
     "output_type": "stream",
     "text": [
      "done\n"
     ]
    }
   ],
   "source": [
    "parser = HpoParser()\n",
    "hpo_cr = parser.get_hpo_concept_recognizer()\n",
    "hpo_version = parser.get_version()\n",
    "PMID = \"PMID: 37071997\"\n",
    "title = \"SRSF1 haploinsufficiency is responsible for a syndromic developmental disorder associated with intellectual disability\"\n",
    "metadata = MetaData(created_by=\"ORCID:0000-0001-7941-2961\", pmid=PMID, pubmed_title=title)\n",
    "metadata.default_versions_with_hpo(version=hpo_version)\n",
    "print(\"done\")"
   ]
  },
  {
   "cell_type": "code",
   "execution_count": 43,
   "id": "417e9250-f84a-4d47-b4f7-8c1bd451757c",
   "metadata": {},
   "outputs": [],
   "source": [
    "df = pd.read_csv(\"input/suppdata.csv\")\n"
   ]
  },
  {
   "cell_type": "code",
   "execution_count": 44,
   "id": "2a365a70-f34f-40c1-a477-de2b375cdd6c",
   "metadata": {},
   "outputs": [
    {
     "name": "stdout",
     "output_type": "stream",
     "text": [
      "                               Subject  \\\n",
      "0                                  Sex   \n",
      "1  SRSF1 Genomic\\ncoordinates [ hg19 )   \n",
      "2          Transcript\\n( NM_006924.5 )   \n",
      "3                              Protein   \n",
      "4                 Mode of\\ninheritance   \n",
      "\n",
      "                                 Individual 1  \\\n",
      "0                                      Female   \n",
      "1  NC 000017.10 : g .\\n56083708_5608\\n3709del   \n",
      "2                                c.377 378del   \n",
      "3                 p . ( Ser126 Trpfs * 1\\n7 )   \n",
      "4                                Undetermined   \n",
      "\n",
      "                        Individual 2                       Individual 3  \\\n",
      "0                             Female                               Male   \n",
      "1  NC_000017.10 : g .\\n56083236C > T  NC_000017.10 : g .\\n56083237C > T   \n",
      "2                         c.478G > A                         c.478G > A   \n",
      "3                  p . ( Val160Met )                  p . ( Val160Met )   \n",
      "4                            De novo                            De novo   \n",
      "\n",
      "                        Individual 4                    Individual 5  \\\n",
      "0                               Male                          Female   \n",
      "1  NC_000017.10 : g .\\n56083236C > T  NC_000017.10 : 8 . 56082935dup   \n",
      "2                         c.478G > A                        c.579dup   \n",
      "3                  p . ( Val160Met )        p . ( Val194Serfs \" 2\\n)   \n",
      "4                            De novo                         De novo   \n",
      "\n",
      "                                     Individual 6  \\\n",
      "0                                          Female   \n",
      "1  NC 000017.10 : g . ( 55806534_5654\\n0597 ) del   \n",
      "2                                             NaN   \n",
      "3                                             NaN   \n",
      "4                                         De novo   \n",
      "\n",
      "                        Individual 7                       Individual 8  \\\n",
      "0                               Male                             Female   \n",
      "1  NC 000017.10 : g .\\n56084417G > A  NC_000017.10 : g .\\n56083166T > C   \n",
      "2                          c.82C > T                         c.548A > G   \n",
      "3                    p . ( Arg28 * )                  p . ( His183Arg )   \n",
      "4                            De novo                            De novo   \n",
      "\n",
      "                        Individual 9                   Individual 10  \\\n",
      "0                               Male                            Male   \n",
      "1  NC_000017.10 : g .\\n56084380C > A  NC 000017.10 : 5\\n6084402C > A   \n",
      "2                       c . 119G > T                       c.97G > T   \n",
      "3                   p . ( Gly40Val )                 p . ( Glu33 \" )   \n",
      "4                            De novo                         De novo   \n",
      "\n",
      "                     Individual 11                      Individual 12  \\\n",
      "0                           Female                             Female   \n",
      "1  NC_000017.10 : g .\\n56082914del  NC_000017.10 : g .\\n56083875C > T   \n",
      "2                         c.601del                         c.208G > A   \n",
      "3       p . ( Ser201Valfs * 8\\n7 )                   p . ( Ala70Thr )   \n",
      "4                          De novo                            De novo   \n",
      "\n",
      "                       Individual 13                      Individual 14  \\\n",
      "0                             Female                               Male   \n",
      "1  NC_000017.10 : g .\\n56084428G > A  NC_000017.10 : g .\\n56083852A > C   \n",
      "2                          c.71C > T                         c.231T > G   \n",
      "3                   p . ( Pro24Leu )                    p . ( Tyr77 \" )   \n",
      "4                            De novo                            De novo   \n",
      "\n",
      "                    Individual 15                      Individual 16  \\\n",
      "0                            Male                             Female   \n",
      "1  NC_000017.10 : 5\\n6083832A > C  NC 000017.10 : g .\\n56084369C > T   \n",
      "2                      c.251T > G                         c.130G > A   \n",
      "3                p . ( Leu84Arg )                   p . ( Asp44Asn )   \n",
      "4                         De novo                            De novo   \n",
      "\n",
      "                                    Individual 17  \n",
      "0                                          Female  \n",
      "1  NC_000017.10 : g .\\n( 55442363\\n56309063 ) del  \n",
      "2                                             NaN  \n",
      "3                                             NaN  \n",
      "4                                         De novo  \n"
     ]
    }
   ],
   "source": [
    "print(df.head())"
   ]
  },
  {
   "cell_type": "code",
   "execution_count": 45,
   "id": "ebcbcab0-33fd-424e-a371-8397dce964ea",
   "metadata": {},
   "outputs": [],
   "source": [
    "patient_id = df.columns\n"
   ]
  },
  {
   "cell_type": "code",
   "execution_count": 46,
   "id": "df68727a-9393-436f-a8ae-cd50d70afb33",
   "metadata": {},
   "outputs": [],
   "source": [
    "df = df.set_index('Subject').T.reset_index()"
   ]
  },
  {
   "cell_type": "code",
   "execution_count": 47,
   "id": "aac801f8-205e-4be4-a502-525c2374e97f",
   "metadata": {},
   "outputs": [],
   "source": [
    "df[\"patient_id\"] = df[\"index\"]"
   ]
  },
  {
   "cell_type": "code",
   "execution_count": 48,
   "id": "33698205-9f7c-40d4-ad2d-a8408a89c8fb",
   "metadata": {},
   "outputs": [],
   "source": [
    "scg = SimpleColumnMapperGenerator(df=df,\n",
    "                                  observed='+',\n",
    "                                  excluded='-',\n",
    "                                  hpo_cr=hpo_cr)"
   ]
  },
  {
   "cell_type": "code",
   "execution_count": 49,
   "id": "7664cf52-3e71-4d2a-bffc-254094713e98",
   "metadata": {},
   "outputs": [],
   "source": [
    "column_mapper_d = scg.try_mapping_columns()"
   ]
  },
  {
   "cell_type": "code",
   "execution_count": 50,
   "id": "3af859f2-9f26-46a2-a93d-c0df2fe8aa0c",
   "metadata": {},
   "outputs": [
    {
     "data": {
      "text/html": [
       "<table style=\"border: 2px solid black;\">\n",
       "\n",
       "<tr>\n",
       "            <th>Result</th>\n",
       "            <th>Columns</th>\n",
       "        </tr>\n",
       "      \n",
       "<tr><td>Mapped</td><td>Failure to thrive; Hypotonia; Hearing loss; Epilepsy; Seizures; Scoliosis; Pectus deformity</td></tr>\n",
       "<tr><td>Unmapped</td><td><q>index</q>; <q>Sex</q>; <q>SRSF1 Genomic\n",
       "coordinates [ hg19 )</q>; <q>Transcript\n",
       "( NM_006924.5 )</q>; <q>Protein</q>; <q>Mode of\n",
       "inheritance</q>; <q>Pregnancy\n",
       "complications</q>; <q>Gestational weeks\n",
       "( weeks + days )</q>; <q>Birth weight g ( SD )</q>; <q>Birth length cm ( SD )</q>; <q>Birth OFC cm ( SD )</q>; <q>Neonatal\n",
       "complications</q>; <q>Age at last\n",
       "examination ( Year +\n",
       "month )</q>; <q>Height at last visit\n",
       "cm ( SD )</q>; <q>Weight at last visit\n",
       "kg ( SD )</q>; <q>BMI at last visit\n",
       "kg / m2 ( SD )</q>; <q>OFC at last visit cm\n",
       "( SD )</q>; <q>Truncal overweight</q>; <q>Intellectual\n",
       "Disability /\n",
       "Developmental\n",
       "Delay</q>; <q>Level of ID / DD</q>; <q>First words</q>; <q>Speech at last\n",
       "examination</q>; <q>Sitting position age</q>; <q>Walking age</q>; <q>Behavioural\n",
       "disorder</q>; <q>Autistic features\n",
       "( please describe )</q>; <q>Outbursts of anger</q>; <q>Others</q>; <q>Neurosensoriel\n",
       "disorders</q>; <q>Vision problems</q>; <q>Brain MRI</q>; <q>Structural\n",
       "anomalies</q>; <q>Congenital\n",
       "malformations</q>; <q>Cardiac</q>; <q>Urogenital / kidney</q>; <q>Other</q>; <q>Skeletal\n",
       "abnormalities</q>; <q>Other</q>; <q>Facial features</q>; <q>Facial features</q>; <q>Other features</q>; <q>Cutaneous\n",
       "abnormalities</q>; <q>Additional clinical\n",
       "features</q>; <q>Additional\n",
       "molecular features</q>; <q>patient_id</q></td></tr>\n",
       "</table>\n"
      ],
      "text/plain": [
       "<IPython.core.display.HTML object>"
      ]
     },
     "metadata": {},
     "output_type": "display_data"
    }
   ],
   "source": [
    "from IPython.display import display, HTML\n",
    "display(HTML(scg.to_html()))"
   ]
  },
  {
   "cell_type": "code",
   "execution_count": null,
   "id": "7787730e-eced-4b0e-8a1b-a70ae18f27e6",
   "metadata": {},
   "outputs": [],
   "source": [
    "#ignore 'index'"
   ]
  }
 ],
 "metadata": {
  "kernelspec": {
   "display_name": "test_env",
   "language": "python",
   "name": "test_env"
  },
  "language_info": {
   "codemirror_mode": {
    "name": "ipython",
    "version": 3
   },
   "file_extension": ".py",
   "mimetype": "text/x-python",
   "name": "python",
   "nbconvert_exporter": "python",
   "pygments_lexer": "ipython3",
   "version": "3.9.6"
  }
 },
 "nbformat": 4,
 "nbformat_minor": 5
}
