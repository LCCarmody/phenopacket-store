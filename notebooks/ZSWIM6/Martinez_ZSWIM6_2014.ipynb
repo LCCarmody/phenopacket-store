{
 "cells": [
  {
   "cell_type": "markdown",
   "id": "f24b8aec",
   "metadata": {},
   "source": [
    "<h1>Acromelic Frontonasal Dysostosis (ZSWIM6): Martinez et al 2021</h1>\n",
    "<p>Extract the clinical data from <a href=\"https://pubmed.ncbi.nlm.nih.gov/33776626/\"target=\"__blank\">Martínez-Payo C, et al (2021) Prenatal Diagnosis of Acromelic Frontonasal Dysostosis. Mol Syndromol. 12(1):41-45. doi: 10.1159/000512304. Epub 2020 Dec 15. PMID:33776626</a>.<p>"
   ]
  },
  {
   "cell_type": "code",
   "execution_count": 1,
   "id": "c9dd49d5",
   "metadata": {
    "scrolled": true
   },
   "outputs": [],
   "source": [
    "import phenopackets as php\n",
    "from google.protobuf.json_format import MessageToDict, MessageToJson\n",
    "from google.protobuf.json_format import Parse, ParseDict\n",
    "import pandas as pd\n",
    "import math\n",
    "from csv import DictReader\n",
    "pd.set_option('display.max_colwidth', None) # show entire column contents, important!\n",
    "from collections import defaultdict\n",
    "import re\n",
    "from pyphetools.creation import *\n",
    "from pyphetools.output import PhenopacketTable\n",
    "# last tested with pyphetools version 0.2.24"
   ]
  },
  {
   "cell_type": "code",
   "execution_count": 2,
   "id": "33504676",
   "metadata": {
    "scrolled": true
   },
   "outputs": [],
   "source": [
    "parser = HpoParser()\n",
    "hpo_cr = parser.get_hpo_concept_recognizer()\n",
    "hpo_version = parser.get_version()\n",
    "metadata = MetaData(created_by=\"ORCID:0000-0002-0736-9199\")\n",
    "metadata.default_versions_with_hpo(version=hpo_version)\n",
    "pmid=\"PMID:33776626\""
   ]
  },
  {
   "cell_type": "code",
   "execution_count": 3,
   "id": "13debeee",
   "metadata": {
    "scrolled": true
   },
   "outputs": [],
   "source": [
    "v_13w = \"\"\"We present a 39-year-old pregnant woman, Caucasian, born in Argentina, and living in Madrid. \n",
    "During the 13th week of pregnancy, the morphological evaluation of the fetus showed abnormal lower limbs in \n",
    "which femurs were normal, but a mesomelic shortening and malposition of both feet were noticable. The upper \n",
    "limbs seemed normal on ultrasound. Furthermore, the fetal profile showed an absent nasal bone and, evaluating \n",
    "the facies in a coronal cut in order to display the upper lip, a hypertelorism could be discerned.\"\"\"\n",
    "\n",
    "v_15w = \"\"\"During the 15th week of pregnancy, ultrasound was repeated, revealing a fetal facies with an \n",
    "abnormal fetal profile due to an absent nose. In the coronal cut, marked hypertelorism was noticable \n",
    "In the occipital area, there was a small encephalocele, as shown in Figure 4A–C, with a slightly \n",
    "flattened cerebellum. The lower limbs presented with the same findings seen on the prior ultrasound, \n",
    "with mesomelic shortening and malposition of both feet. 3D reconstruction of the fetal facies at the \n",
    "15th week of pregnancy showing upper limbs on the side the head. Pronounced hypertelorism, as well as \n",
    "an abnormal development of the frontonasal area, with an undefined bifid nose are shown.\"\"\" \n",
    "\n",
    "v_15_path = \"\"\"\n",
    "The anatomopathological study showed a male fetus consistent with 15 weeks of gestational age, with \n",
    "facial malformation and absent nasal bones. Other findings consisted of low-set ears, \n",
    "mesomelic shortening of lower limbs, and malposition of the feet. Preaxial polydactyly is shown.\n",
    "\"\"\"\n"
   ]
  },
  {
   "cell_type": "code",
   "execution_count": 4,
   "id": "7f9e1893",
   "metadata": {
    "scrolled": true
   },
   "outputs": [],
   "source": [
    "age = \"P0D\"\n",
    "encoder = CaseEncoder(hpo_cr=hpo_cr, pmid=pmid, age_at_last_exam=age)"
   ]
  },
  {
   "cell_type": "code",
   "execution_count": 5,
   "id": "b1ce5ebe",
   "metadata": {
    "scrolled": true
   },
   "outputs": [],
   "source": [
    "v13_d = {\"mesomelic shortening\": \"Mesomelia\",\n",
    "        \"absent nasal bone\": \"Absent fetal nasal bone\"}\n",
    "results = encoder.add_vignette(vignette=v_13w, custom_d=v13_d)"
   ]
  },
  {
   "cell_type": "code",
   "execution_count": 6,
   "id": "cb095f20",
   "metadata": {
    "scrolled": true
   },
   "outputs": [
    {
     "data": {
      "text/html": [
       "<div>\n",
       "<style scoped>\n",
       "    .dataframe tbody tr th:only-of-type {\n",
       "        vertical-align: middle;\n",
       "    }\n",
       "\n",
       "    .dataframe tbody tr th {\n",
       "        vertical-align: top;\n",
       "    }\n",
       "\n",
       "    .dataframe thead th {\n",
       "        text-align: right;\n",
       "    }\n",
       "</style>\n",
       "<table border=\"1\" class=\"dataframe\">\n",
       "  <thead>\n",
       "    <tr style=\"text-align: right;\">\n",
       "      <th></th>\n",
       "      <th>id</th>\n",
       "      <th>label</th>\n",
       "      <th>observed</th>\n",
       "      <th>measured</th>\n",
       "    </tr>\n",
       "  </thead>\n",
       "  <tbody>\n",
       "    <tr>\n",
       "      <th>0</th>\n",
       "      <td>HP:0003027</td>\n",
       "      <td>Mesomelia</td>\n",
       "      <td>True</td>\n",
       "      <td>True</td>\n",
       "    </tr>\n",
       "    <tr>\n",
       "      <th>1</th>\n",
       "      <td>HP:0025706</td>\n",
       "      <td>Absent fetal nasal bone</td>\n",
       "      <td>True</td>\n",
       "      <td>True</td>\n",
       "    </tr>\n",
       "    <tr>\n",
       "      <th>2</th>\n",
       "      <td>HP:0000316</td>\n",
       "      <td>Hypertelorism</td>\n",
       "      <td>True</td>\n",
       "      <td>True</td>\n",
       "    </tr>\n",
       "  </tbody>\n",
       "</table>\n",
       "</div>"
      ],
      "text/plain": [
       "           id                    label  observed  measured\n",
       "0  HP:0003027                Mesomelia      True      True\n",
       "1  HP:0025706  Absent fetal nasal bone      True      True\n",
       "2  HP:0000316            Hypertelorism      True      True"
      ]
     },
     "execution_count": 6,
     "metadata": {},
     "output_type": "execute_result"
    }
   ],
   "source": [
    "results"
   ]
  },
  {
   "cell_type": "code",
   "execution_count": 7,
   "id": "3e654681",
   "metadata": {
    "scrolled": true
   },
   "outputs": [],
   "source": [
    "results = encoder.add_vignette(vignette=v_15w, custom_d=v13_d)"
   ]
  },
  {
   "cell_type": "code",
   "execution_count": 8,
   "id": "205b7f5b",
   "metadata": {
    "scrolled": true
   },
   "outputs": [
    {
     "data": {
      "text/html": [
       "<div>\n",
       "<style scoped>\n",
       "    .dataframe tbody tr th:only-of-type {\n",
       "        vertical-align: middle;\n",
       "    }\n",
       "\n",
       "    .dataframe tbody tr th {\n",
       "        vertical-align: top;\n",
       "    }\n",
       "\n",
       "    .dataframe thead th {\n",
       "        text-align: right;\n",
       "    }\n",
       "</style>\n",
       "<table border=\"1\" class=\"dataframe\">\n",
       "  <thead>\n",
       "    <tr style=\"text-align: right;\">\n",
       "      <th></th>\n",
       "      <th>id</th>\n",
       "      <th>label</th>\n",
       "      <th>observed</th>\n",
       "      <th>measured</th>\n",
       "    </tr>\n",
       "  </thead>\n",
       "  <tbody>\n",
       "    <tr>\n",
       "      <th>0</th>\n",
       "      <td>HP:0009927</td>\n",
       "      <td>Aplasia of the nose</td>\n",
       "      <td>True</td>\n",
       "      <td>True</td>\n",
       "    </tr>\n",
       "    <tr>\n",
       "      <th>1</th>\n",
       "      <td>HP:0000316</td>\n",
       "      <td>Hypertelorism</td>\n",
       "      <td>True</td>\n",
       "      <td>True</td>\n",
       "    </tr>\n",
       "    <tr>\n",
       "      <th>2</th>\n",
       "      <td>HP:0002084</td>\n",
       "      <td>Encephalocele</td>\n",
       "      <td>True</td>\n",
       "      <td>True</td>\n",
       "    </tr>\n",
       "    <tr>\n",
       "      <th>3</th>\n",
       "      <td>HP:0000316</td>\n",
       "      <td>Hypertelorism</td>\n",
       "      <td>True</td>\n",
       "      <td>True</td>\n",
       "    </tr>\n",
       "    <tr>\n",
       "      <th>4</th>\n",
       "      <td>HP:0003027</td>\n",
       "      <td>Mesomelia</td>\n",
       "      <td>True</td>\n",
       "      <td>True</td>\n",
       "    </tr>\n",
       "    <tr>\n",
       "      <th>5</th>\n",
       "      <td>HP:0011803</td>\n",
       "      <td>Bifid nose</td>\n",
       "      <td>True</td>\n",
       "      <td>True</td>\n",
       "    </tr>\n",
       "  </tbody>\n",
       "</table>\n",
       "</div>"
      ],
      "text/plain": [
       "           id                label  observed  measured\n",
       "0  HP:0009927  Aplasia of the nose      True      True\n",
       "1  HP:0000316        Hypertelorism      True      True\n",
       "2  HP:0002084        Encephalocele      True      True\n",
       "3  HP:0000316        Hypertelorism      True      True\n",
       "4  HP:0003027            Mesomelia      True      True\n",
       "5  HP:0011803           Bifid nose      True      True"
      ]
     },
     "execution_count": 8,
     "metadata": {},
     "output_type": "execute_result"
    }
   ],
   "source": [
    "results"
   ]
  },
  {
   "cell_type": "code",
   "execution_count": 9,
   "id": "a4e4afaf",
   "metadata": {
    "scrolled": true
   },
   "outputs": [],
   "source": [
    "v_15_path\n",
    "results = encoder.add_vignette(vignette=v_15_path, custom_d=v13_d)"
   ]
  },
  {
   "cell_type": "code",
   "execution_count": 10,
   "id": "001b6921",
   "metadata": {
    "scrolled": true
   },
   "outputs": [
    {
     "data": {
      "text/html": [
       "<div>\n",
       "<style scoped>\n",
       "    .dataframe tbody tr th:only-of-type {\n",
       "        vertical-align: middle;\n",
       "    }\n",
       "\n",
       "    .dataframe tbody tr th {\n",
       "        vertical-align: top;\n",
       "    }\n",
       "\n",
       "    .dataframe thead th {\n",
       "        text-align: right;\n",
       "    }\n",
       "</style>\n",
       "<table border=\"1\" class=\"dataframe\">\n",
       "  <thead>\n",
       "    <tr style=\"text-align: right;\">\n",
       "      <th></th>\n",
       "      <th>id</th>\n",
       "      <th>label</th>\n",
       "      <th>observed</th>\n",
       "      <th>measured</th>\n",
       "    </tr>\n",
       "  </thead>\n",
       "  <tbody>\n",
       "    <tr>\n",
       "      <th>0</th>\n",
       "      <td>HP:0000369</td>\n",
       "      <td>Low-set ears</td>\n",
       "      <td>True</td>\n",
       "      <td>True</td>\n",
       "    </tr>\n",
       "    <tr>\n",
       "      <th>1</th>\n",
       "      <td>HP:0025706</td>\n",
       "      <td>Absent fetal nasal bone</td>\n",
       "      <td>True</td>\n",
       "      <td>True</td>\n",
       "    </tr>\n",
       "    <tr>\n",
       "      <th>2</th>\n",
       "      <td>HP:0003027</td>\n",
       "      <td>Mesomelia</td>\n",
       "      <td>True</td>\n",
       "      <td>True</td>\n",
       "    </tr>\n",
       "    <tr>\n",
       "      <th>3</th>\n",
       "      <td>HP:0100258</td>\n",
       "      <td>Preaxial polydactyly</td>\n",
       "      <td>True</td>\n",
       "      <td>True</td>\n",
       "    </tr>\n",
       "  </tbody>\n",
       "</table>\n",
       "</div>"
      ],
      "text/plain": [
       "           id                    label  observed  measured\n",
       "0  HP:0000369             Low-set ears      True      True\n",
       "1  HP:0025706  Absent fetal nasal bone      True      True\n",
       "2  HP:0003027                Mesomelia      True      True\n",
       "3  HP:0100258     Preaxial polydactyly      True      True"
      ]
     },
     "execution_count": 10,
     "metadata": {},
     "output_type": "execute_result"
    }
   ],
   "source": [
    "results"
   ]
  },
  {
   "cell_type": "code",
   "execution_count": 11,
   "id": "aed8a091",
   "metadata": {
    "scrolled": true
   },
   "outputs": [
    {
     "name": "stdout",
     "output_type": "stream",
     "text": [
      "https://rest.variantvalidator.org/VariantValidator/variantvalidator/hg38/NM_020928.2%3Ac.3487C>T/NM_020928.2?content-type=application%2Fjson\n"
     ]
    }
   ],
   "source": [
    "validator = VariantValidator(genome_build='hg38')\n",
    "transcript = \"NM_020928.2\"\n",
    "var_hgvs = \"c.3487C>T\"\n",
    "v = validator.encode_hgvs(hgvs=var_hgvs, custom_transcript=transcript)\n",
    "v.set_heterozygous()"
   ]
  },
  {
   "cell_type": "code",
   "execution_count": 12,
   "id": "ce627ec0",
   "metadata": {
    "scrolled": true
   },
   "outputs": [],
   "source": [
    "disease_label = \"Acromelic frontonasal dysostosis\"\n",
    "disease_id = \"OMIM:603671\"\n",
    "pp = encoder.get_phenopacket(individual_id=\"fetus\", \n",
    "                             metadata=metadata.to_ga4gh(), \n",
    "                             sex=\"Male\", \n",
    "                             disease_id=disease_id, \n",
    "                             disease_label=disease_label,\n",
    "                             variants=v)"
   ]
  },
  {
   "cell_type": "code",
   "execution_count": 13,
   "id": "ffb0bf89",
   "metadata": {
    "scrolled": true
   },
   "outputs": [
    {
     "data": {
      "text/html": [
       "<table style=\"border: 2px solid black;\">\n",
       "\n",
       "<tr>\n",
       "            <th>Individual</th>\n",
       "            <th>Genotype</th>\n",
       "            <th>Phenotypic features</th>\n",
       "        </tr>\n",
       "      \n",
       "<tr>\n",
       "<td>fetus (UNKNOWN; )</ts>\n",
       "<td>NM_020928.2:c.3487C>T (heterozygous)</td>\n",
       "<td class=\"table-data\">Mesomelia (HP:0003027); Absent fetal nasal bone (HP:0025706); Hypertelorism (HP:0000316); Aplasia of the nose (HP:0009927); Encephalocele (HP:0002084); Bifid nose (HP:0011803); Low-set ears (HP:0000369); Preaxial polydactyly (HP:0100258)</td>\n",
       "</tr>\n",
       "</table>\n"
      ],
      "text/plain": [
       "<IPython.core.display.HTML object>"
      ]
     },
     "metadata": {},
     "output_type": "display_data"
    }
   ],
   "source": [
    "ppacket_list = [pp]\n",
    "table = PhenopacketTable(phenopacket_list=ppacket_list)\n",
    "from IPython.display import display, HTML\n",
    "display(HTML(table.to_html()))"
   ]
  },
  {
   "cell_type": "code",
   "execution_count": 14,
   "id": "51a2c15f",
   "metadata": {
    "scrolled": true
   },
   "outputs": [
    {
     "name": "stdout",
     "output_type": "stream",
     "text": [
      "Wrote phenopacket to phenopackets/PMID_33776626_fetus.json\n"
     ]
    }
   ],
   "source": [
    "output_directory = \"phenopackets\"\n",
    "encoder.output_phenopacket(outdir=output_directory, phenopacket=pp)"
   ]
  },
  {
   "cell_type": "code",
   "execution_count": 15,
   "id": "8427e5f6",
   "metadata": {
    "scrolled": false
   },
   "outputs": [
    {
     "name": "stdout",
     "output_type": "stream",
     "text": [
      "{\r\n",
      "  \"id\": \"PMID_33776626_fetus\",\r\n",
      "  \"subject\": {\r\n",
      "    \"id\": \"fetus\"\r\n",
      "  },\r\n",
      "  \"phenotypicFeatures\": [\r\n",
      "    {\r\n",
      "      \"type\": {\r\n",
      "        \"id\": \"HP:0003027\",\r\n",
      "        \"label\": \"Mesomelia\"\r\n",
      "      }\r\n",
      "    },\r\n",
      "    {\r\n",
      "      \"type\": {\r\n",
      "        \"id\": \"HP:0025706\",\r\n",
      "        \"label\": \"Absent fetal nasal bone\"\r\n",
      "      }\r\n",
      "    },\r\n",
      "    {\r\n",
      "      \"type\": {\r\n",
      "        \"id\": \"HP:0000316\",\r\n",
      "        \"label\": \"Hypertelorism\"\r\n",
      "      }\r\n",
      "    },\r\n",
      "    {\r\n",
      "      \"type\": {\r\n",
      "        \"id\": \"HP:0009927\",\r\n",
      "        \"label\": \"Aplasia of the nose\"\r\n",
      "      }\r\n",
      "    },\r\n",
      "    {\r\n",
      "      \"type\": {\r\n",
      "        \"id\": \"HP:0000316\",\r\n",
      "        \"label\": \"Hypertelorism\"\r\n",
      "      }\r\n",
      "    },\r\n",
      "    {\r\n",
      "      \"type\": {\r\n",
      "        \"id\": \"HP:0002084\",\r\n",
      "        \"label\": \"Encephalocele\"\r\n",
      "      }\r\n",
      "    },\r\n",
      "    {\r\n",
      "      \"type\": {\r\n",
      "        \"id\": \"HP:0000316\",\r\n",
      "        \"label\": \"Hypertelorism\"\r\n",
      "      }\r\n",
      "    },\r\n",
      "    {\r\n",
      "      \"type\": {\r\n",
      "        \"id\": \"HP:0003027\",\r\n",
      "        \"label\": \"Mesomelia\"\r\n",
      "      }\r\n",
      "    },\r\n",
      "    {\r\n",
      "      \"type\": {\r\n",
      "        \"id\": \"HP:0011803\",\r\n",
      "        \"label\": \"Bifid nose\"\r\n",
      "      }\r\n",
      "    },\r\n",
      "    {\r\n",
      "      \"type\": {\r\n",
      "        \"id\": \"HP:0000369\",\r\n",
      "        \"label\": \"Low-set ears\"\r\n",
      "      }\r\n",
      "    },\r\n",
      "    {\r\n",
      "      \"type\": {\r\n",
      "        \"id\": \"HP:0025706\",\r\n",
      "        \"label\": \"Absent fetal nasal bone\"\r\n",
      "      }\r\n",
      "    },\r\n",
      "    {\r\n",
      "      \"type\": {\r\n",
      "        \"id\": \"HP:0003027\",\r\n",
      "        \"label\": \"Mesomelia\"\r\n",
      "      }\r\n",
      "    },\r\n",
      "    {\r\n",
      "      \"type\": {\r\n",
      "        \"id\": \"HP:0100258\",\r\n",
      "        \"label\": \"Preaxial polydactyly\"\r\n",
      "      }\r\n",
      "    }\r\n",
      "  ],\r\n",
      "  \"interpretations\": [\r\n",
      "    {\r\n",
      "      \"id\": \"fetus\",\r\n",
      "      \"progressStatus\": \"SOLVED\",\r\n",
      "      \"diagnosis\": {\r\n",
      "        \"disease\": {\r\n",
      "          \"id\": \"OMIM:603671\",\r\n",
      "          \"label\": \"Acromelic frontonasal dysostosis\"\r\n",
      "        },\r\n",
      "        \"genomicInterpretations\": [\r\n",
      "          {\r\n",
      "            \"subjectOrBiosampleId\": \"fetus\",\r\n",
      "            \"interpretationStatus\": \"CAUSATIVE\",\r\n",
      "            \"variantInterpretation\": {\r\n",
      "              \"variationDescriptor\": {\r\n",
      "                \"geneContext\": {\r\n",
      "                  \"valueId\": \"HGNC:29316\",\r\n",
      "                  \"symbol\": \"ZSWIM6\"\r\n",
      "                },\r\n",
      "                \"expressions\": [\r\n",
      "                  {\r\n",
      "                    \"syntax\": \"hgvs.c\",\r\n",
      "                    \"value\": \"NM_020928.2:c.3487C>T\"\r\n",
      "                  },\r\n",
      "                  {\r\n",
      "                    \"syntax\": \"hgvs.g\",\r\n",
      "                    \"value\": \"NC_000005.10:g.61544156C>T\"\r\n",
      "                  }\r\n",
      "                ],\r\n",
      "                \"vcfRecord\": {\r\n",
      "                  \"genomeAssembly\": \"hg38\",\r\n",
      "                  \"chrom\": \"chr5\",\r\n",
      "                  \"pos\": \"61544156\",\r\n",
      "                  \"ref\": \"C\",\r\n",
      "                  \"alt\": \"T\"\r\n",
      "                },\r\n",
      "                \"moleculeContext\": \"genomic\",\r\n",
      "                \"allelicState\": {\r\n",
      "                  \"id\": \"GENO:0000135\",\r\n",
      "                  \"label\": \"heterozygous\"\r\n",
      "                }\r\n",
      "              }\r\n",
      "            }\r\n",
      "          }\r\n",
      "        ]\r\n",
      "      }\r\n",
      "    }\r\n",
      "  ],\r\n",
      "  \"metaData\": {\r\n",
      "    \"created\": \"2023-06-25T23:02:27.805129289Z\",\r\n",
      "    \"createdBy\": \"ORCID:0000-0002-0736-9199\",\r\n",
      "    \"resources\": [\r\n",
      "      {\r\n",
      "        \"id\": \"geno\",\r\n",
      "        \"name\": \"Genotype Ontology\",\r\n",
      "        \"url\": \"http://purl.obolibrary.org/obo/geno.owl\",\r\n",
      "        \"version\": \"2022-03-05\",\r\n",
      "        \"namespacePrefix\": \"GENO\",\r\n",
      "        \"iriPrefix\": \"http://purl.obolibrary.org/obo/GENO_\"\r\n",
      "      },\r\n",
      "      {\r\n",
      "        \"id\": \"hgnc\",\r\n",
      "        \"name\": \"HUGO Gene Nomenclature Committee\",\r\n",
      "        \"url\": \"https://www.genenames.org\",\r\n",
      "        \"version\": \"06/01/23\",\r\n",
      "        \"namespacePrefix\": \"HGNC\",\r\n",
      "        \"iriPrefix\": \"https://www.genenames.org/data/gene-symbol-report/#!/hgnc_id/\"\r\n",
      "      },\r\n",
      "      {\r\n",
      "        \"id\": \"omim\",\r\n",
      "        \"name\": \"An Online Catalog of Human Genes and Genetic Disorders\",\r\n",
      "        \"url\": \"https://www.omim.org\",\r\n",
      "        \"version\": \"January 4, 2023\",\r\n",
      "        \"namespacePrefix\": \"OMIM\",\r\n",
      "        \"iriPrefix\": \"https://www.omim.org/entry/\"\r\n",
      "      },\r\n",
      "      {\r\n",
      "        \"id\": \"hp\",\r\n",
      "        \"name\": \"human phenotype ontology\",\r\n",
      "        \"url\": \"http://purl.obolibrary.org/obo/hp.owl\",\r\n",
      "        \"version\": \"2023-04-06\",\r\n",
      "        \"namespacePrefix\": \"HP\",\r\n",
      "        \"iriPrefix\": \"http://purl.obolibrary.org/obo/HP_\"\r\n",
      "      }\r\n",
      "    ],\r\n",
      "    \"phenopacketSchemaVersion\": \"2.0\"\r\n",
      "  }\r\n",
      "}"
     ]
    }
   ],
   "source": [
    "! cat phenopackets/PMID_33776626_fetus.json\n"
   ]
  },
  {
   "cell_type": "code",
   "execution_count": null,
   "id": "2bbab877",
   "metadata": {
    "scrolled": true
   },
   "outputs": [],
   "source": []
  }
 ],
 "metadata": {
  "kernelspec": {
   "display_name": "c2c2venv",
   "language": "python",
   "name": "c2c2venv"
  },
  "language_info": {
   "codemirror_mode": {
    "name": "ipython",
    "version": 3
   },
   "file_extension": ".py",
   "mimetype": "text/x-python",
   "name": "python",
   "nbconvert_exporter": "python",
   "pygments_lexer": "ipython3",
   "version": "3.10.9"
  }
 },
 "nbformat": 4,
 "nbformat_minor": 5
}
