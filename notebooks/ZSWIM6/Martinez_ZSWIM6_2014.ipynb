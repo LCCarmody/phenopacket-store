{
 "cells": [
  {
   "cell_type": "markdown",
   "id": "f24b8aec",
   "metadata": {},
   "source": [
    "<h1>Acromelic Frontonasal Dysostosis (ZSWIM6): Martinez et al 2021</h1>\n",
    "<p>Extract the clinical data from <a href=\"https://pubmed.ncbi.nlm.nih.gov/33776626/\"target=\"__blank\">Martínez-Payo C, et al (2021) Prenatal Diagnosis of Acromelic Frontonasal Dysostosis. Mol Syndromol. 12(1):41-45. doi: 10.1159/000512304. Epub 2020 Dec 15. PMID:33776626</a>.<p>"
   ]
  },
  {
   "cell_type": "code",
   "execution_count": 1,
   "id": "c9dd49d5",
   "metadata": {
    "scrolled": true
   },
   "outputs": [
    {
     "name": "stdout",
     "output_type": "stream",
     "text": [
      "Using pyphetools version 0.5.8\n"
     ]
    }
   ],
   "source": [
    "import phenopackets as php\n",
    "from google.protobuf.json_format import MessageToDict, MessageToJson\n",
    "from google.protobuf.json_format import Parse, ParseDict\n",
    "import pandas as pd\n",
    "import math\n",
    "from csv import DictReader\n",
    "pd.set_option('display.max_colwidth', None) # show entire column contents, important!\n",
    "from collections import defaultdict\n",
    "import re\n",
    "from pyphetools.creation import *\n",
    "from pyphetools.visualization import *\n",
    "import importlib.metadata\n",
    "__version__ = importlib.metadata.version(\"pyphetools\")\n",
    "print(f\"Using pyphetools version {__version__}\")"
   ]
  },
  {
   "cell_type": "code",
   "execution_count": 2,
   "id": "33504676",
   "metadata": {
    "scrolled": true
   },
   "outputs": [],
   "source": [
    "parser = HpoParser()\n",
    "hpo_cr = parser.get_hpo_concept_recognizer()\n",
    "hpo_version = parser.get_version()\n",
    "pmid=\"PMID:33776626\"\n",
    "title = \"Prenatal Diagnosis of Acromelic Frontonasal Dysostosis\"\n",
    "metadata = MetaData(created_by=\"ORCID:0000-0002-0736-9199\", pmid=pmid, pubmed_title=title)\n",
    "metadata.default_versions_with_hpo(version=hpo_version)\n"
   ]
  },
  {
   "cell_type": "code",
   "execution_count": 3,
   "id": "13debeee",
   "metadata": {
    "scrolled": true
   },
   "outputs": [],
   "source": [
    "v_13w = \"\"\"We present a 39-year-old pregnant woman, Caucasian, born in Argentina, and living in Madrid. \n",
    "During the 13th week of pregnancy, the morphological evaluation of the fetus showed abnormal lower limbs in \n",
    "which femurs were normal, but a mesomelic shortening and malposition of both feet were noticable. The upper \n",
    "limbs seemed normal on ultrasound. Furthermore, the fetal profile showed an absent nasal bone and, evaluating \n",
    "the facies in a coronal cut in order to display the upper lip, a hypertelorism could be discerned.\"\"\"\n",
    "\n",
    "v_15w = \"\"\"During the 15th week of pregnancy, ultrasound was repeated, revealing a fetal facies with an \n",
    "abnormal fetal profile due to an absent nose. In the coronal cut, marked hypertelorism was noticable \n",
    "In the occipital area, there was a small encephalocele, as shown in Figure 4A–C, with a slightly \n",
    "flattened cerebellum. The lower limbs presented with the same findings seen on the prior ultrasound, \n",
    "with mesomelic shortening and malposition of both feet. 3D reconstruction of the fetal facies at the \n",
    "15th week of pregnancy showing upper limbs on the side the head. Pronounced hypertelorism, as well as \n",
    "an abnormal development of the frontonasal area, with an undefined bifid nose are shown.\"\"\" \n",
    "\n",
    "v_15_path = \"\"\"\n",
    "The anatomopathological study showed a male fetus consistent with 15 weeks of gestational age, with \n",
    "facial malformation and absent nasal bones. Other findings consisted of low-set ears, \n",
    "mesomelic shortening of lower limbs, and malposition of the feet. Preaxial polydactyly is shown.\n",
    "\"\"\"\n"
   ]
  },
  {
   "cell_type": "code",
   "execution_count": 4,
   "id": "7f9e1893",
   "metadata": {
    "scrolled": true
   },
   "outputs": [],
   "source": [
    "age = \"P0D\"\n",
    "indi_id = \"fetus\"\n",
    "disease_label = \"Acromelic frontonasal dysostosis\"\n",
    "disease_id = \"OMIM:603671\"\n",
    "encoder = CaseEncoder(hpo_cr=hpo_cr, \n",
    "                      pmid=pmid, \n",
    "                      metadata=metadata.to_ga4gh(),\n",
    "                      individual_id=indi_id,\n",
    "                      age_at_last_exam=age,\n",
    "                      disease_id=disease_id,\n",
    "                      disease_label=disease_label)"
   ]
  },
  {
   "cell_type": "code",
   "execution_count": 5,
   "id": "b1ce5ebe",
   "metadata": {
    "scrolled": true
   },
   "outputs": [],
   "source": [
    "v13_d = {\"mesomelic shortening\": \"Mesomelia\",\n",
    "        \"absent nasal bone\": \"Absent fetal nasal bone\"}\n",
    "results = encoder.add_vignette(vignette=v_13w, custom_d=v13_d)"
   ]
  },
  {
   "cell_type": "code",
   "execution_count": 6,
   "id": "3e654681",
   "metadata": {
    "scrolled": true
   },
   "outputs": [],
   "source": [
    "results = encoder.add_vignette(vignette=v_15w, custom_d=v13_d)"
   ]
  },
  {
   "cell_type": "code",
   "execution_count": 7,
   "id": "205b7f5b",
   "metadata": {
    "scrolled": true
   },
   "outputs": [
    {
     "data": {
      "text/html": [
       "<div>\n",
       "<style scoped>\n",
       "    .dataframe tbody tr th:only-of-type {\n",
       "        vertical-align: middle;\n",
       "    }\n",
       "\n",
       "    .dataframe tbody tr th {\n",
       "        vertical-align: top;\n",
       "    }\n",
       "\n",
       "    .dataframe thead th {\n",
       "        text-align: right;\n",
       "    }\n",
       "</style>\n",
       "<table border=\"1\" class=\"dataframe\">\n",
       "  <thead>\n",
       "    <tr style=\"text-align: right;\">\n",
       "      <th></th>\n",
       "      <th>id</th>\n",
       "      <th>label</th>\n",
       "      <th>observed</th>\n",
       "      <th>measured</th>\n",
       "    </tr>\n",
       "  </thead>\n",
       "  <tbody>\n",
       "    <tr>\n",
       "      <th>0</th>\n",
       "      <td>HP:0009927</td>\n",
       "      <td>Aplasia of the nose</td>\n",
       "      <td>True</td>\n",
       "      <td>True</td>\n",
       "    </tr>\n",
       "    <tr>\n",
       "      <th>1</th>\n",
       "      <td>HP:0000316</td>\n",
       "      <td>Hypertelorism</td>\n",
       "      <td>True</td>\n",
       "      <td>True</td>\n",
       "    </tr>\n",
       "    <tr>\n",
       "      <th>2</th>\n",
       "      <td>HP:0002084</td>\n",
       "      <td>Encephalocele</td>\n",
       "      <td>True</td>\n",
       "      <td>True</td>\n",
       "    </tr>\n",
       "    <tr>\n",
       "      <th>3</th>\n",
       "      <td>HP:0003027</td>\n",
       "      <td>Mesomelia</td>\n",
       "      <td>True</td>\n",
       "      <td>True</td>\n",
       "    </tr>\n",
       "    <tr>\n",
       "      <th>4</th>\n",
       "      <td>HP:0000316</td>\n",
       "      <td>Hypertelorism</td>\n",
       "      <td>True</td>\n",
       "      <td>True</td>\n",
       "    </tr>\n",
       "    <tr>\n",
       "      <th>5</th>\n",
       "      <td>HP:0011803</td>\n",
       "      <td>Bifid nose</td>\n",
       "      <td>True</td>\n",
       "      <td>True</td>\n",
       "    </tr>\n",
       "  </tbody>\n",
       "</table>\n",
       "</div>"
      ],
      "text/plain": [
       "           id                label  observed  measured\n",
       "0  HP:0009927  Aplasia of the nose      True      True\n",
       "1  HP:0000316        Hypertelorism      True      True\n",
       "2  HP:0002084        Encephalocele      True      True\n",
       "3  HP:0003027            Mesomelia      True      True\n",
       "4  HP:0000316        Hypertelorism      True      True\n",
       "5  HP:0011803           Bifid nose      True      True"
      ]
     },
     "execution_count": 7,
     "metadata": {},
     "output_type": "execute_result"
    }
   ],
   "source": [
    "results"
   ]
  },
  {
   "cell_type": "code",
   "execution_count": 8,
   "id": "a4e4afaf",
   "metadata": {
    "scrolled": true
   },
   "outputs": [],
   "source": [
    "v_15_path\n",
    "results = encoder.add_vignette(vignette=v_15_path, custom_d=v13_d)"
   ]
  },
  {
   "cell_type": "code",
   "execution_count": 9,
   "id": "001b6921",
   "metadata": {
    "scrolled": true
   },
   "outputs": [
    {
     "data": {
      "text/html": [
       "<div>\n",
       "<style scoped>\n",
       "    .dataframe tbody tr th:only-of-type {\n",
       "        vertical-align: middle;\n",
       "    }\n",
       "\n",
       "    .dataframe tbody tr th {\n",
       "        vertical-align: top;\n",
       "    }\n",
       "\n",
       "    .dataframe thead th {\n",
       "        text-align: right;\n",
       "    }\n",
       "</style>\n",
       "<table border=\"1\" class=\"dataframe\">\n",
       "  <thead>\n",
       "    <tr style=\"text-align: right;\">\n",
       "      <th></th>\n",
       "      <th>id</th>\n",
       "      <th>label</th>\n",
       "      <th>observed</th>\n",
       "      <th>measured</th>\n",
       "    </tr>\n",
       "  </thead>\n",
       "  <tbody>\n",
       "    <tr>\n",
       "      <th>0</th>\n",
       "      <td>HP:0000369</td>\n",
       "      <td>Low-set ears</td>\n",
       "      <td>True</td>\n",
       "      <td>True</td>\n",
       "    </tr>\n",
       "    <tr>\n",
       "      <th>1</th>\n",
       "      <td>HP:0025706</td>\n",
       "      <td>Absent fetal nasal bone</td>\n",
       "      <td>True</td>\n",
       "      <td>True</td>\n",
       "    </tr>\n",
       "    <tr>\n",
       "      <th>2</th>\n",
       "      <td>HP:0003027</td>\n",
       "      <td>Mesomelia</td>\n",
       "      <td>True</td>\n",
       "      <td>True</td>\n",
       "    </tr>\n",
       "    <tr>\n",
       "      <th>3</th>\n",
       "      <td>HP:0100258</td>\n",
       "      <td>Preaxial polydactyly</td>\n",
       "      <td>True</td>\n",
       "      <td>True</td>\n",
       "    </tr>\n",
       "  </tbody>\n",
       "</table>\n",
       "</div>"
      ],
      "text/plain": [
       "           id                    label  observed  measured\n",
       "0  HP:0000369             Low-set ears      True      True\n",
       "1  HP:0025706  Absent fetal nasal bone      True      True\n",
       "2  HP:0003027                Mesomelia      True      True\n",
       "3  HP:0100258     Preaxial polydactyly      True      True"
      ]
     },
     "execution_count": 9,
     "metadata": {},
     "output_type": "execute_result"
    }
   ],
   "source": [
    "results"
   ]
  },
  {
   "cell_type": "code",
   "execution_count": 10,
   "id": "aed8a091",
   "metadata": {
    "scrolled": true
   },
   "outputs": [
    {
     "name": "stdout",
     "output_type": "stream",
     "text": [
      "https://rest.variantvalidator.org/VariantValidator/variantvalidator/hg38/NM_020928.2%3Ac.3487C>T/NM_020928.2?content-type=application%2Fjson\n"
     ]
    }
   ],
   "source": [
    "validator = VariantValidator(genome_build='hg38')\n",
    "transcript = \"NM_020928.2\"\n",
    "var_hgvs = \"c.3487C>T\"\n",
    "v = validator.encode_hgvs(hgvs=var_hgvs, custom_transcript=transcript)\n",
    "v.set_heterozygous()\n",
    "encoder.add_variant_or_interpretation(v)"
   ]
  },
  {
   "cell_type": "code",
   "execution_count": 11,
   "id": "ce627ec0",
   "metadata": {
    "scrolled": true
   },
   "outputs": [],
   "source": [
    "disease_label = \"Acromelic frontonasal dysostosis\"\n",
    "disease_id = \"OMIM:603671\"\n",
    "pp = encoder.get_phenopacket()"
   ]
  },
  {
   "cell_type": "code",
   "execution_count": 12,
   "id": "ffb0bf89",
   "metadata": {
    "scrolled": true
   },
   "outputs": [
    {
     "data": {
      "text/html": [
       "<table style=\"border: 2px solid black;\">\n",
       "\n",
       "<caption>1 phenopackets - PMID:33776626 (n=1)</caption>\n",
       "\n",
       "<tr>\n",
       "            <th>Individual</th>\n",
       "            <th>Disease</th>\n",
       "            <th>Genotype</th>\n",
       "            <th>Phenotypic features</th>\n",
       "        </tr>\n",
       "        \n",
       "<tr>\n",
       "<td>fetus (UNKNOWN; )</ts>\n",
       "<td>Acromelic frontonasal dysostosis (OMIM:603671)</ts>\n",
       "<td>NM_020928.2:c.3487C>T (heterozygous)</td>\n",
       "<td class=\"table-data\">Mesomelia (HP:0003027); Absent fetal nasal bone (HP:0025706); Hypertelorism (HP:0000316); Aplasia of the nose (HP:0009927); Encephalocele (HP:0002084); Bifid nose (HP:0011803); Low-set ears (HP:0000369); Preaxial polydactyly (HP:0100258)</td>\n",
       "</tr>\n",
       "</table>\n"
      ],
      "text/plain": [
       "<IPython.core.display.HTML object>"
      ]
     },
     "metadata": {},
     "output_type": "display_data"
    }
   ],
   "source": [
    "ppacket_list = [pp]\n",
    "table = PhenopacketTable(phenopacket_list=ppacket_list)\n",
    "from IPython.display import display, HTML\n",
    "display(HTML(table.to_html()))"
   ]
  },
  {
   "cell_type": "code",
   "execution_count": 13,
   "id": "51a2c15f",
   "metadata": {
    "scrolled": true
   },
   "outputs": [
    {
     "name": "stdout",
     "output_type": "stream",
     "text": [
      "Wrote phenopacket to phenopackets/PMID_33776626_fetus.json\n"
     ]
    }
   ],
   "source": [
    "output_directory = \"phenopackets\"\n",
    "encoder.output_phenopacket(outdir=output_directory)"
   ]
  },
  {
   "cell_type": "code",
   "execution_count": 14,
   "id": "8427e5f6",
   "metadata": {},
   "outputs": [
    {
     "name": "stdout",
     "output_type": "stream",
     "text": [
      "{\n",
      "  \"id\": \"PMID_33776626_fetus\",\n",
      "  \"subject\": {\n",
      "    \"id\": \"fetus\"\n",
      "  },\n",
      "  \"phenotypicFeatures\": [\n",
      "    {\n",
      "      \"type\": {\n",
      "        \"id\": \"HP:0003027\",\n",
      "        \"label\": \"Mesomelia\"\n",
      "      }\n",
      "    },\n",
      "    {\n",
      "      \"type\": {\n",
      "        \"id\": \"HP:0025706\",\n",
      "        \"label\": \"Absent fetal nasal bone\"\n",
      "      }\n",
      "    },\n",
      "    {\n",
      "      \"type\": {\n",
      "        \"id\": \"HP:0000316\",\n",
      "        \"label\": \"Hypertelorism\"\n",
      "      }\n",
      "    },\n",
      "    {\n",
      "      \"type\": {\n",
      "        \"id\": \"HP:0009927\",\n",
      "        \"label\": \"Aplasia of the nose\"\n",
      "      }\n",
      "    },\n",
      "    {\n",
      "      \"type\": {\n",
      "        \"id\": \"HP:0000316\",\n",
      "        \"label\": \"Hypertelorism\"\n",
      "      }\n",
      "    },\n",
      "    {\n",
      "      \"type\": {\n",
      "        \"id\": \"HP:0002084\",\n",
      "        \"label\": \"Encephalocele\"\n",
      "      }\n",
      "    },\n",
      "    {\n",
      "      \"type\": {\n",
      "        \"id\": \"HP:0003027\",\n",
      "        \"label\": \"Mesomelia\"\n",
      "      }\n",
      "    },\n",
      "    {\n",
      "      \"type\": {\n",
      "        \"id\": \"HP:0000316\",\n",
      "        \"label\": \"Hypertelorism\"\n",
      "      }\n",
      "    },\n",
      "    {\n",
      "      \"type\": {\n",
      "        \"id\": \"HP:0011803\",\n",
      "        \"label\": \"Bifid nose\"\n",
      "      }\n",
      "    },\n",
      "    {\n",
      "      \"type\": {\n",
      "        \"id\": \"HP:0000369\",\n",
      "        \"label\": \"Low-set ears\"\n",
      "      }\n",
      "    },\n",
      "    {\n",
      "      \"type\": {\n",
      "        \"id\": \"HP:0025706\",\n",
      "        \"label\": \"Absent fetal nasal bone\"\n",
      "      }\n",
      "    },\n",
      "    {\n",
      "      \"type\": {\n",
      "        \"id\": \"HP:0003027\",\n",
      "        \"label\": \"Mesomelia\"\n",
      "      }\n",
      "    },\n",
      "    {\n",
      "      \"type\": {\n",
      "        \"id\": \"HP:0100258\",\n",
      "        \"label\": \"Preaxial polydactyly\"\n",
      "      }\n",
      "    }\n",
      "  ],\n",
      "  \"interpretations\": [\n",
      "    {\n",
      "      \"id\": \"fetus\",\n",
      "      \"progressStatus\": \"SOLVED\",\n",
      "      \"diagnosis\": {\n",
      "        \"disease\": {\n",
      "          \"id\": \"OMIM:603671\",\n",
      "          \"label\": \"Acromelic frontonasal dysostosis\"\n",
      "        },\n",
      "        \"genomicInterpretations\": [\n",
      "          {\n",
      "            \"subjectOrBiosampleId\": \"fetus\",\n",
      "            \"interpretationStatus\": \"CAUSATIVE\",\n",
      "            \"variantInterpretation\": {\n",
      "              \"variationDescriptor\": {\n",
      "                \"id\": \"var_ZjgulwJBaaXADbqdzUTzbCmje\",\n",
      "                \"geneContext\": {\n",
      "                  \"valueId\": \"HGNC:29316\",\n",
      "                  \"symbol\": \"ZSWIM6\"\n",
      "                },\n",
      "                \"expressions\": [\n",
      "                  {\n",
      "                    \"syntax\": \"hgvs.c\",\n",
      "                    \"value\": \"NM_020928.2:c.3487C>T\"\n",
      "                  },\n",
      "                  {\n",
      "                    \"syntax\": \"hgvs.g\",\n",
      "                    \"value\": \"NC_000005.10:g.61544156C>T\"\n",
      "                  }\n",
      "                ],\n",
      "                \"vcfRecord\": {\n",
      "                  \"genomeAssembly\": \"hg38\",\n",
      "                  \"chrom\": \"chr5\",\n",
      "                  \"pos\": \"61544156\",\n",
      "                  \"ref\": \"C\",\n",
      "                  \"alt\": \"T\"\n",
      "                },\n",
      "                \"moleculeContext\": \"genomic\",\n",
      "                \"allelicState\": {\n",
      "                  \"id\": \"GENO:0000135\",\n",
      "                  \"label\": \"heterozygous\"\n",
      "                }\n",
      "              }\n",
      "            }\n",
      "          }\n",
      "        ]\n",
      "      }\n",
      "    }\n",
      "  ],\n",
      "  \"metaData\": {\n",
      "    \"created\": \"2023-09-19T23:20:36.015163898Z\",\n",
      "    \"createdBy\": \"ORCID:0000-0002-0736-9199\",\n",
      "    \"resources\": [\n",
      "      {\n",
      "        \"id\": \"geno\",\n",
      "        \"name\": \"Genotype Ontology\",\n",
      "        \"url\": \"http://purl.obolibrary.org/obo/geno.owl\",\n",
      "        \"version\": \"2022-03-05\",\n",
      "        \"namespacePrefix\": \"GENO\",\n",
      "        \"iriPrefix\": \"http://purl.obolibrary.org/obo/GENO_\"\n",
      "      },\n",
      "      {\n",
      "        \"id\": \"hgnc\",\n",
      "        \"name\": \"HUGO Gene Nomenclature Committee\",\n",
      "        \"url\": \"https://www.genenames.org\",\n",
      "        \"version\": \"06/01/23\",\n",
      "        \"namespacePrefix\": \"HGNC\",\n",
      "        \"iriPrefix\": \"https://www.genenames.org/data/gene-symbol-report/#!/hgnc_id/\"\n",
      "      },\n",
      "      {\n",
      "        \"id\": \"omim\",\n",
      "        \"name\": \"An Online Catalog of Human Genes and Genetic Disorders\",\n",
      "        \"url\": \"https://www.omim.org\",\n",
      "        \"version\": \"January 4, 2023\",\n",
      "        \"namespacePrefix\": \"OMIM\",\n",
      "        \"iriPrefix\": \"https://www.omim.org/entry/\"\n",
      "      },\n",
      "      {\n",
      "        \"id\": \"so\",\n",
      "        \"name\": \"Sequence types and features ontology\",\n",
      "        \"url\": \"http://purl.obolibrary.org/obo/so.obo\",\n",
      "        \"version\": \"2021-11-22\",\n",
      "        \"namespacePrefix\": \"SO\",\n",
      "        \"iriPrefix\": \"http://purl.obolibrary.org/obo/SO_\"\n",
      "      },\n",
      "      {\n",
      "        \"id\": \"hp\",\n",
      "        \"name\": \"human phenotype ontology\",\n",
      "        \"url\": \"http://purl.obolibrary.org/obo/hp.owl\",\n",
      "        \"version\": \"2023-09-01\",\n",
      "        \"namespacePrefix\": \"HP\",\n",
      "        \"iriPrefix\": \"http://purl.obolibrary.org/obo/HP_\"\n",
      "      }\n",
      "    ],\n",
      "    \"phenopacketSchemaVersion\": \"2.0\",\n",
      "    \"externalReferences\": [\n",
      "      {\n",
      "        \"id\": \"PMID:33776626\",\n",
      "        \"reference\": \"https://pubmed.ncbi.nlm.nih.gov/33776626\",\n",
      "        \"description\": \"Prenatal Diagnosis of Acromelic Frontonasal Dysostosis\"\n",
      "      }\n",
      "    ]\n",
      "  }\n",
      "}"
     ]
    }
   ],
   "source": [
    "! cat phenopackets/PMID_33776626_fetus.json\n"
   ]
  },
  {
   "cell_type": "code",
   "execution_count": null,
   "id": "27f15d72-66c0-45da-b525-20b1e3d2bea7",
   "metadata": {},
   "outputs": [],
   "source": []
  }
 ],
 "metadata": {
  "kernelspec": {
   "display_name": "Python 3 (ipykernel)",
   "language": "python",
   "name": "python3"
  },
  "language_info": {
   "codemirror_mode": {
    "name": "ipython",
    "version": 3
   },
   "file_extension": ".py",
   "mimetype": "text/x-python",
   "name": "python",
   "nbconvert_exporter": "python",
   "pygments_lexer": "ipython3",
   "version": "3.10.12"
  }
 },
 "nbformat": 4,
 "nbformat_minor": 5
}
