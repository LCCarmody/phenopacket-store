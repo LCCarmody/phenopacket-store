{
 "cells": [
  {
   "cell_type": "markdown",
   "id": "697fcecf",
   "metadata": {},
   "source": [
    "<h1>Acromelic Frontonasal Dysostosis (ZSWIM6): Twigg et al 2016</h1>\n",
    "<p>Extract the clinical data from <a href=\"https://pubmed.ncbi.nlm.nih.gov/26706854/\"target=\"__blank\">Twigg SR, et al. (2016) Acromelic frontonasal dysostosis and ZSWIM6 mutation: phenotypic spectrum and mosaicism. Clin Genet. 90(3):270-5. PMID:26706854</a>.<p>"
   ]
  },
  {
   "cell_type": "code",
   "execution_count": 1,
   "id": "0cf583e0",
   "metadata": {},
   "outputs": [
    {
     "name": "stdout",
     "output_type": "stream",
     "text": [
      "Using pyphetools version 0.6.3\n"
     ]
    }
   ],
   "source": [
    "import phenopackets as php\n",
    "from google.protobuf.json_format import MessageToDict, MessageToJson\n",
    "from google.protobuf.json_format import Parse, ParseDict\n",
    "import pandas as pd\n",
    "import math\n",
    "from csv import DictReader\n",
    "pd.set_option('display.max_colwidth', None) # show entire column contents, important!\n",
    "from collections import defaultdict\n",
    "import re\n",
    "import pyphetools\n",
    "from pyphetools.creation import *\n",
    "from pyphetools.visualization import *\n",
    "print(f\"Using pyphetools version {pyphetools.__version__}\")"
   ]
  },
  {
   "cell_type": "code",
   "execution_count": 2,
   "id": "da766fa8",
   "metadata": {},
   "outputs": [],
   "source": [
    "parser = HpoParser()\n",
    "hpo_cr = parser.get_hpo_concept_recognizer()\n",
    "hpo_version = parser.get_version()\n",
    "pmid=\"PMID:26706854\"\n",
    "title=\"Acromelic frontonasal dysostosis and ZSWIM6 mutation: phenotypic spectrum and mosaicism\"\n",
    "metadata = MetaData(created_by=\"ORCID:0000-0002-0736-9199\", pmid=pmid, pubmed_title=title)\n",
    "metadata.default_versions_with_hpo(version=hpo_version)"
   ]
  },
  {
   "cell_type": "code",
   "execution_count": 3,
   "id": "17f34464",
   "metadata": {},
   "outputs": [],
   "source": [
    "df = pd.read_csv(\"input/twigg_2016.csv\", delimiter=\"\\t\")"
   ]
  },
  {
   "cell_type": "code",
   "execution_count": 4,
   "id": "2175abf4",
   "metadata": {},
   "outputs": [
    {
     "data": {
      "text/html": [
       "<div>\n",
       "<style scoped>\n",
       "    .dataframe tbody tr th:only-of-type {\n",
       "        vertical-align: middle;\n",
       "    }\n",
       "\n",
       "    .dataframe tbody tr th {\n",
       "        vertical-align: top;\n",
       "    }\n",
       "\n",
       "    .dataframe thead th {\n",
       "        text-align: right;\n",
       "    }\n",
       "</style>\n",
       "<table border=\"1\" class=\"dataframe\">\n",
       "  <thead>\n",
       "    <tr style=\"text-align: right;\">\n",
       "      <th></th>\n",
       "      <th>subject</th>\n",
       "      <th>gender</th>\n",
       "      <th>eyes</th>\n",
       "      <th>nose</th>\n",
       "      <th>mouth</th>\n",
       "      <th>skull</th>\n",
       "      <th>morphology</th>\n",
       "      <th>development</th>\n",
       "    </tr>\n",
       "  </thead>\n",
       "  <tbody>\n",
       "    <tr>\n",
       "      <th>0</th>\n",
       "      <td>1-1</td>\n",
       "      <td>F</td>\n",
       "      <td>Hypertelorism</td>\n",
       "      <td>Wide nasal bridge, short nasal ridge, bifid nasal tip</td>\n",
       "      <td>Normal</td>\n",
       "      <td>Normal</td>\n",
       "      <td>Normal</td>\n",
       "      <td>Normal</td>\n",
       "    </tr>\n",
       "    <tr>\n",
       "      <th>1</th>\n",
       "      <td>1-2</td>\n",
       "      <td>M</td>\n",
       "      <td>Severe hypertelorism, downslanting palpebral fissures</td>\n",
       "      <td>Wide nasal bridge, widely spaced nasal alae, widely separated slit‐like nares</td>\n",
       "      <td>Carp‐shaped mouth, midline notch in upper lip, cleft palate</td>\n",
       "      <td>Bony defect of anterior cranial fossa, parietal foramina</td>\n",
       "      <td>Interhemispheric lipoma, partial agenesis of the corpus callosum</td>\n",
       "      <td>Severe motor and neurocognitive delay</td>\n",
       "    </tr>\n",
       "    <tr>\n",
       "      <th>2</th>\n",
       "      <td>2</td>\n",
       "      <td>M</td>\n",
       "      <td>Hypertelorism, bilateral ptosis, downslanting palpebral fissures, bilateral cataract</td>\n",
       "      <td>Wide nasal bridge, short nasal ridge, bifid nasal tip, widely spaced nasal alae, widely separated slit‐like nares</td>\n",
       "      <td>Carp‐shaped mouth, long philtrum, midline notch in upper lip, cleft palate</td>\n",
       "      <td>Bony defect of anterior cranial fossa</td>\n",
       "      <td>Anterior interhemispheric lipoma</td>\n",
       "      <td>Severe psychomotor delay, absence of speech, does not walk aged 8 years</td>\n",
       "    </tr>\n",
       "    <tr>\n",
       "      <th>3</th>\n",
       "      <td>3</td>\n",
       "      <td>F</td>\n",
       "      <td>Hypertelorism, downslanting palpebral fissures</td>\n",
       "      <td>Aplasia/hypoplasia of the nasal bones, wide nasal bridge, bifid nasal tip</td>\n",
       "      <td>Midline notch in upper lip</td>\n",
       "      <td>-</td>\n",
       "      <td>-</td>\n",
       "      <td>-</td>\n",
       "    </tr>\n",
       "  </tbody>\n",
       "</table>\n",
       "</div>"
      ],
      "text/plain": [
       "  subject gender  \\\n",
       "0     1-1      F   \n",
       "1     1-2      M   \n",
       "2       2      M   \n",
       "3       3      F   \n",
       "\n",
       "                                                                                   eyes  \\\n",
       "0                                                                         Hypertelorism   \n",
       "1                                 Severe hypertelorism, downslanting palpebral fissures   \n",
       "2  Hypertelorism, bilateral ptosis, downslanting palpebral fissures, bilateral cataract   \n",
       "3                                        Hypertelorism, downslanting palpebral fissures   \n",
       "\n",
       "                                                                                                                nose  \\\n",
       "0                                                              Wide nasal bridge, short nasal ridge, bifid nasal tip   \n",
       "1                                      Wide nasal bridge, widely spaced nasal alae, widely separated slit‐like nares   \n",
       "2  Wide nasal bridge, short nasal ridge, bifid nasal tip, widely spaced nasal alae, widely separated slit‐like nares   \n",
       "3                                          Aplasia/hypoplasia of the nasal bones, wide nasal bridge, bifid nasal tip   \n",
       "\n",
       "                                                                        mouth  \\\n",
       "0                                                                      Normal   \n",
       "1                 Carp‐shaped mouth, midline notch in upper lip, cleft palate   \n",
       "2  Carp‐shaped mouth, long philtrum, midline notch in upper lip, cleft palate   \n",
       "3                                                  Midline notch in upper lip   \n",
       "\n",
       "                                                      skull  \\\n",
       "0                                                    Normal   \n",
       "1  Bony defect of anterior cranial fossa, parietal foramina   \n",
       "2                     Bony defect of anterior cranial fossa   \n",
       "3                                                         -   \n",
       "\n",
       "                                                         morphology  \\\n",
       "0                                                            Normal   \n",
       "1  Interhemispheric lipoma, partial agenesis of the corpus callosum   \n",
       "2                                  Anterior interhemispheric lipoma   \n",
       "3                                                                 -   \n",
       "\n",
       "                                                               development  \n",
       "0                                                                   Normal  \n",
       "1                                    Severe motor and neurocognitive delay  \n",
       "2  Severe psychomotor delay, absence of speech, does not walk aged 8 years  \n",
       "3                                                                        -  "
      ]
     },
     "execution_count": 4,
     "metadata": {},
     "output_type": "execute_result"
    }
   ],
   "source": [
    "df"
   ]
  },
  {
   "cell_type": "code",
   "execution_count": 5,
   "id": "05fd4210",
   "metadata": {},
   "outputs": [],
   "source": [
    "column_mapper_d = defaultdict(ColumnMapper)"
   ]
  },
  {
   "cell_type": "code",
   "execution_count": 6,
   "id": "f2eefbd0",
   "metadata": {},
   "outputs": [],
   "source": [
    "eyeMapper = CustomColumnMapper(concept_recognizer=hpo_cr)\n",
    "eyeMapper.preview_column(df['eyes'])\n",
    "# Add the mapper to the dictionary, using the label of the column in the Supplemental Table\n",
    "column_mapper_d['eyes'] = eyeMapper"
   ]
  },
  {
   "cell_type": "code",
   "execution_count": 7,
   "id": "5bda6259",
   "metadata": {},
   "outputs": [],
   "source": [
    "nose_d = {\"widely spaced nasal alae\": \"Bifid nose\"\n",
    "}\n",
    "noseMapper = CustomColumnMapper(concept_recognizer=hpo_cr, custom_map_d=nose_d)\n",
    "noseMapper.preview_column(df['nose'])\n",
    "column_mapper_d['nose'] = noseMapper"
   ]
  },
  {
   "cell_type": "code",
   "execution_count": 8,
   "id": "e0f6afe8",
   "metadata": {},
   "outputs": [],
   "source": [
    "mouth_d = { \"midline notch in upper lip\": \"Microform cleft of the upper lip\"}\n",
    "# TODO Add dictionary when latest terms there , custom_map_d=mouth_d\n",
    "mouthMapper = CustomColumnMapper(concept_recognizer=hpo_cr)\n",
    "mouthMapper.preview_column(df['mouth'])\n",
    "column_mapper_d['mouth'] = mouthMapper"
   ]
  },
  {
   "cell_type": "code",
   "execution_count": 9,
   "id": "7e9bbbce",
   "metadata": {},
   "outputs": [],
   "source": [
    "skull_d = {\"Bony defect of anterior cranial fossa\": \"Calvarial skull defect\"}\n",
    "skullMapper = CustomColumnMapper(concept_recognizer=hpo_cr, custom_map_d=skull_d)\n",
    "skullMapper.preview_column(df['skull'])\n",
    "column_mapper_d['skull'] = skullMapper"
   ]
  },
  {
   "cell_type": "code",
   "execution_count": 10,
   "id": "6961d529",
   "metadata": {},
   "outputs": [],
   "source": [
    "morphology_d = {\"interhemispheric lipoma\": \"Midline central nervous system lipomas\"}\n",
    "morphologyMapper = CustomColumnMapper(concept_recognizer=hpo_cr, custom_map_d=morphology_d)\n",
    "morphologyMapper.preview_column(df['morphology'])\n",
    "column_mapper_d['morphology']=morphologyMapper"
   ]
  },
  {
   "cell_type": "code",
   "execution_count": 11,
   "id": "fc63ad18",
   "metadata": {},
   "outputs": [],
   "source": [
    "dev_d = {\"absence of speech\": \"Absent speech\",\n",
    "        \"does not walk aged 8 years\": \"Delayed ability to walk\"}\n",
    "developmentMapper  = CustomColumnMapper(concept_recognizer=hpo_cr, custom_map_d=dev_d)\n",
    "developmentMapper.preview_column(df['development'])\n",
    "column_mapper_d['development'] = developmentMapper"
   ]
  },
  {
   "cell_type": "markdown",
   "id": "e5595734",
   "metadata": {},
   "source": [
    "<h2>Variants</h2>\n",
    "<p>All individuals were found to have the ZSWIM6 c.3487C>T; p.Arg1163Trp variant.</p>"
   ]
  },
  {
   "cell_type": "code",
   "execution_count": 12,
   "id": "12ae542a",
   "metadata": {},
   "outputs": [
    {
     "name": "stdout",
     "output_type": "stream",
     "text": [
      "https://rest.variantvalidator.org/VariantValidator/variantvalidator/hg38/NM_020928.2%3Ac.3487C>T/NM_020928.2?content-type=application%2Fjson\n"
     ]
    }
   ],
   "source": [
    "validator = VariantValidator(genome_build='hg38')\n",
    "transcript = \"NM_020928.2\"\n",
    "var_hgvs = \"c.3487C>T\"\n",
    "v = validator.encode_hgvs(hgvs=var_hgvs, custom_transcript=transcript)\n",
    "v.set_heterozygous()"
   ]
  },
  {
   "cell_type": "code",
   "execution_count": 13,
   "id": "6e6e7e1a-b80b-43d2-83f2-ffac015037ce",
   "metadata": {},
   "outputs": [],
   "source": [
    "v_d = {\"c.3487C>T\":v}\n",
    "df['variant'] = \"c.3487C>T\"\n",
    "varMapper = VariantColumnMapper(variant_d=v_d, variant_column_name=\"variant\")"
   ]
  },
  {
   "cell_type": "code",
   "execution_count": 14,
   "id": "f9e8e596",
   "metadata": {},
   "outputs": [],
   "source": [
    "sexMapper = SexColumnMapper(male_symbol='M', female_symbol='F', column_name='gender')\n",
    "sexMapper.preview_column(df['gender'])\n",
    "\n",
    "individual_column_name = 'subject'\n",
    "\n",
    "\n",
    "encoder = CohortEncoder(df=df, \n",
    "                        hpo_cr=hpo_cr, \n",
    "                        column_mapper_d=column_mapper_d, \n",
    "                        individual_column_name=individual_column_name,\n",
    "                        sexmapper=sexMapper,\n",
    "                        variant_mapper=varMapper,\n",
    "                        metadata=metadata,\n",
    "                        pmid=pmid)\n",
    "\n",
    "\n",
    "disease_id = 'OMIM:618443'\n",
    "disease_name = 'Neurodevelopmental disorder with or without variable brain abnormalities'\n",
    "individual_list = []\n",
    "disease_label = \"Acromelic frontonasal dysostosis\"\n",
    "disease_id = \"OMIM:603671\"\n",
    "encoder.set_disease(disease_id=disease_id, label=disease_label)"
   ]
  },
  {
   "cell_type": "code",
   "execution_count": 15,
   "id": "acee8663",
   "metadata": {},
   "outputs": [
    {
     "name": "stdout",
     "output_type": "stream",
     "text": [
      "Created 4 individual objects\n"
     ]
    }
   ],
   "source": [
    "individuals = encoder.get_individuals()    \n",
    "print(f\"Created {len(individuals)} individual objects\")"
   ]
  },
  {
   "cell_type": "code",
   "execution_count": 16,
   "id": "334ad9f1",
   "metadata": {},
   "outputs": [
    {
     "data": {
      "text/html": [
       "<table style=\"border: 2px solid black;\">\n",
       "\n",
       "<caption>4 phenopackets - PMID:26706854 (n=4)</caption>\n",
       "\n",
       "<tr>\n",
       "            <th>Individual</th>\n",
       "            <th>Disease</th>\n",
       "            <th>Genotype</th>\n",
       "            <th>Phenotypic features</th>\n",
       "        </tr>\n",
       "        \n",
       "<tr>\n",
       "<td>1-1 (FEMALE; )</ts>\n",
       "<td>Acromelic frontonasal dysostosis (OMIM:603671)</ts>\n",
       "<td>NM_020928.2:c.3487C>T (heterozygous)</td>\n",
       "<td class=\"table-data\">Hypertelorism (HP:0000316); Wide nasal bridge (HP:0000431); Bifid nasal tip (HP:0000456)</td>\n",
       "</tr>\n",
       "<tr>\n",
       "<td>1-2 (MALE; )</ts>\n",
       "<td>Acromelic frontonasal dysostosis (OMIM:603671)</ts>\n",
       "<td>NM_020928.2:c.3487C>T (heterozygous)</td>\n",
       "<td class=\"table-data\">Hypertelorism (HP:0000316); Downslanted palpebral fissures (HP:0000494); Wide nasal bridge (HP:0000431); Bifid nose (HP:0011803); Cleft palate (HP:0000175); Calvarial skull defect (HP:0001362); Parietal foramina (HP:0002697); Midline central nervous system lipomas (HP:0006866); Partial agenesis of the corpus callosum (HP:0001338); Global developmental delay (HP:0001263)</td>\n",
       "</tr>\n",
       "<tr>\n",
       "<td>2 (MALE; )</ts>\n",
       "<td>Acromelic frontonasal dysostosis (OMIM:603671)</ts>\n",
       "<td>NM_020928.2:c.3487C>T (heterozygous)</td>\n",
       "<td class=\"table-data\">Hypertelorism (HP:0000316); Bilateral ptosis (HP:0001488); Downslanted palpebral fissures (HP:0000494); Cataract (HP:0000518); Wide nasal bridge (HP:0000431); Bifid nasal tip (HP:0000456); Bifid nose (HP:0011803); Long philtrum (HP:0000343); Cleft palate (HP:0000175); Calvarial skull defect (HP:0001362); Midline central nervous system lipomas (HP:0006866); Global developmental delay (HP:0001263); Absent speech (HP:0001344); Delayed ability to walk (HP:0031936)</td>\n",
       "</tr>\n",
       "<tr>\n",
       "<td>3 (FEMALE; )</ts>\n",
       "<td>Acromelic frontonasal dysostosis (OMIM:603671)</ts>\n",
       "<td>NM_020928.2:c.3487C>T (heterozygous)</td>\n",
       "<td class=\"table-data\">Hypertelorism (HP:0000316); Downslanted palpebral fissures (HP:0000494); Hypoplasia of the nasal bone (HP:0004646); Wide nasal bridge (HP:0000431); Bifid nasal tip (HP:0000456)</td>\n",
       "</tr>\n",
       "</table>\n"
      ],
      "text/plain": [
       "<IPython.core.display.HTML object>"
      ]
     },
     "metadata": {},
     "output_type": "display_data"
    }
   ],
   "source": [
    "ppacket_list = [i.to_ga4gh_phenopacket(metadata=metadata.to_ga4gh()) for i in individuals]\n",
    "table = PhenopacketTable(phenopacket_list=ppacket_list)\n",
    "from IPython.display import display, HTML\n",
    "display(HTML(table.to_html()))"
   ]
  },
  {
   "cell_type": "code",
   "execution_count": 17,
   "id": "587fbcb1",
   "metadata": {},
   "outputs": [
    {
     "name": "stdout",
     "output_type": "stream",
     "text": [
      "We output 4 GA4GH phenopackets to the directory phenopackets\n"
     ]
    }
   ],
   "source": [
    "Individual.output_individuals_as_phenopackets(individual_list=individuals,\n",
    "                                              pmid=pmid,\n",
    "                                              metadata=metadata.to_ga4gh())"
   ]
  },
  {
   "cell_type": "code",
   "execution_count": null,
   "id": "4864cde6",
   "metadata": {},
   "outputs": [],
   "source": []
  }
 ],
 "metadata": {
  "kernelspec": {
   "display_name": "pstore_env",
   "language": "python",
   "name": "pstore_env"
  },
  "language_info": {
   "codemirror_mode": {
    "name": "ipython",
    "version": 3
   },
   "file_extension": ".py",
   "mimetype": "text/x-python",
   "name": "python",
   "nbconvert_exporter": "python",
   "pygments_lexer": "ipython3",
   "version": "3.11.3"
  }
 },
 "nbformat": 4,
 "nbformat_minor": 5
}
