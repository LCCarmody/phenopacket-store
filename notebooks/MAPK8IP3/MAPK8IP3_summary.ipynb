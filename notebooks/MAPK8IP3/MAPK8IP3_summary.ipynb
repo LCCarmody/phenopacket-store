{
 "cells": [
  {
   "cell_type": "markdown",
   "id": "e5ee3491-cc3b-4cc5-99a1-9aa709ec5bd6",
   "metadata": {},
   "source": [
    "<h1>MAKP8IP3 Summary</h1>\n",
    "<p>This notebook provides a summary of the phenopackets created by the three other notebooks in this folder.</p>"
   ]
  },
  {
   "cell_type": "code",
   "execution_count": 1,
   "id": "9658a9da-15dc-46de-85d9-3a681f92a10c",
   "metadata": {},
   "outputs": [
    {
     "name": "stdout",
     "output_type": "stream",
     "text": [
      "Using pyphetools version 0.5.8\n"
     ]
    }
   ],
   "source": [
    "import phenopackets as php\n",
    "from google.protobuf.json_format import MessageToDict, MessageToJson\n",
    "from google.protobuf.json_format import Parse, ParseDict\n",
    "import pandas as pd\n",
    "pd.set_option('display.max_colwidth', None) # show entire column contents, important!\n",
    "from collections import defaultdict\n",
    "import hpotk\n",
    "from hpotk.ontology import Ontology\n",
    "from hpotk.ontology.load.obographs import load_ontology\n",
    "from pyphetools.visualization import *\n",
    "import importlib.metadata\n",
    "__version__ = importlib.metadata.version(\"pyphetools\")\n",
    "print(f\"Using pyphetools version {__version__}\")"
   ]
  },
  {
   "cell_type": "code",
   "execution_count": 2,
   "id": "a4229f9a-d0e3-46a0-b3d1-92df6c2266ca",
   "metadata": {},
   "outputs": [],
   "source": [
    "hpo: Ontology = load_ontology('http://purl.obolibrary.org/obo/hp.json')"
   ]
  },
  {
   "cell_type": "code",
   "execution_count": 3,
   "id": "e378f361-a0bf-4226-aeae-056036641e06",
   "metadata": {},
   "outputs": [
    {
     "name": "stdout",
     "output_type": "stream",
     "text": [
      "[pyphetools] Ingested 20 GA4GH phenopackets.\n"
     ]
    }
   ],
   "source": [
    "ingestor = PhenopacketIngestor(indir=\"phenopackets\")"
   ]
  },
  {
   "cell_type": "code",
   "execution_count": 4,
   "id": "f9ba84a2-4b73-4473-b993-95c97439ac28",
   "metadata": {},
   "outputs": [],
   "source": [
    "ppkt_d = ingestor.get_phenopacket_dictionary()\n",
    "ppkt_list = list(ppkt_d.values())\n",
    "table = PhenopacketTable(phenopacket_list=ppkt_list)"
   ]
  },
  {
   "cell_type": "markdown",
   "id": "17dcdbc4-38c7-4f1d-856b-aa78eaae02bf",
   "metadata": {},
   "source": [
    "<h2>Individuals included in the cohort</h2>"
   ]
  },
  {
   "cell_type": "code",
   "execution_count": 5,
   "id": "df752aaa-60da-422c-b417-2fe81476198d",
   "metadata": {},
   "outputs": [
    {
     "data": {
      "text/html": [
       "<table style=\"border: 2px solid black;\">\n",
       "\n",
       "<caption>20 phenopackets - PMID:30612693 (n=13); PMID:pending (n=1); PMID:30945334 (n=5); PMID:34321325 (n=1)</caption>\n",
       "\n",
       "<tr>\n",
       "            <th>Individual</th>\n",
       "            <th>Disease</th>\n",
       "            <th>Genotype</th>\n",
       "            <th>Phenotypic features</th>\n",
       "        </tr>\n",
       "        \n",
       "<tr>\n",
       "<td>11 (FEMALE; P11Y)</ts>\n",
       "<td>Neurodevelopmental disorder with or without variable brain abnormalities (OMIM:618443)</ts>\n",
       "<td>NM_001318852.2:c.3439C>T (heterozygous)</td>\n",
       "<td class=\"table-data\">Spasticity (HP:0001257); Intellectual disability, moderate (HP:0002342); Thin corpus callosum (HP:0033725); Lateral ventricle dilatation (HP:0006956); Cerebral visual impairment (HP:0100704); Global developmental delay (HP:0001263)</td>\n",
       "</tr>\n",
       "<tr>\n",
       "<td>3 (MALE; P4Y)</ts>\n",
       "<td>Neurodevelopmental disorder with or without variable brain abnormalities (OMIM:618443)</ts>\n",
       "<td>NM_001318852.2:c.111C>G (heterozygous)</td>\n",
       "<td class=\"table-data\">Intellectual disability, moderate (HP:0002342); Nystagmus (HP:0000639); Hypotonia (HP:0001252); Global developmental delay (HP:0001263)</td>\n",
       "</tr>\n",
       "<tr>\n",
       "<td>12 (FEMALE; P4Y6M)</ts>\n",
       "<td>Neurodevelopmental disorder with or without variable brain abnormalities (OMIM:618443)</ts>\n",
       "<td>NM_001318852.2:c.3439C>T (heterozygous)</td>\n",
       "<td class=\"table-data\">Cerebral palsy (HP:0100021); Spastic diplegia (HP:0001264); Intellectual disability, severe (HP:0010864); Periventricular leukomalacia (HP:0006970); Dysplastic corpus callosum (HP:0006989); Myopic astigmatism (HP:0500041); Global developmental delay (HP:0001263)</td>\n",
       "</tr>\n",
       "<tr>\n",
       "<td>Individual A (FEMALE; )</ts>\n",
       "<td>Neurodevelopmental disorder with or without variable brain abnormalities (OMIM:618443)</ts>\n",
       "<td>NM_001318852.2:c.1735C>T (heterozygous)</td>\n",
       "<td class=\"table-data\">Nuchal cord (HP:0012498); Motor deterioration (HP:0002333); Microcephaly (HP:0000252); Spastic diplegia (HP:0001264); Cerebral palsy (HP:0100021); Global developmental delay (HP:0001263); Delayed ability to walk (HP:0031936); Delayed speech and language development (HP:0000750); Cerebellar hypoplasia (HP:0001321); Cerebral hypoplasia (HP:0006872); Thin corpus callosum (HP:0033725); Hypoplasia of the pons (HP:0012110); Reduced cerebral white matter volume (HP:0034295); Periventricular leukomalacia (HP:0006970)</td>\n",
       "</tr>\n",
       "<tr>\n",
       "<td>2 (MALE; P4Y)</ts>\n",
       "<td>Neurodevelopmental disorder with or without variable brain abnormalities (OMIM:618443)</ts>\n",
       "<td>NM_001318852.2:c.79G>T (heterozygous)</td>\n",
       "<td class=\"table-data\">Ataxia (HP:0001251); Intellectual disability, severe (HP:0010864); Hypotonia (HP:0001252); Global developmental delay (HP:0001263)</td>\n",
       "</tr>\n",
       "<tr>\n",
       "<td>Individual 1 (MALE; P29Y)</ts>\n",
       "<td>Neurodevelopmental disorder with or without variable brain abnormalities (OMIM:618443)</ts>\n",
       "<td>NM_001318852.2:c.1735C>T (heterozygous)</td>\n",
       "<td class=\"table-data\">Motor delay (HP:0001270); Delayed ability to walk (HP:0031936); Spastic diplegia (HP:0001264); Cerebral atrophy (HP:0002059); Delayed CNS myelination (HP:0002188); Thin upper lip vermilion (HP:0000219); Round face (HP:0000311); Short stature (HP:0004322); Obesity (HP:0001513); Precocious puberty (HP:0000826); Intellectual disability, severe (HP:0010864); Delayed speech and language development (HP:0000750); Loss of ambulation (HP:0002505)</td>\n",
       "</tr>\n",
       "<tr>\n",
       "<td>6 (FEMALE; P9Y)</ts>\n",
       "<td>Neurodevelopmental disorder with or without variable brain abnormalities (OMIM:618443)</ts>\n",
       "<td>NM_001318852.2:c.1334T>C (heterozygous)</td>\n",
       "<td class=\"table-data\">Intellectual disability, mild (HP:0001256); Perisylvian polymicrogyria (HP:0012650); Hypotonia (HP:0001252); Global developmental delay (HP:0001263)</td>\n",
       "</tr>\n",
       "<tr>\n",
       "<td>4 (MALE; P7Y6M)</ts>\n",
       "<td>Neurodevelopmental disorder with or without variable brain abnormalities (OMIM:618443)</ts>\n",
       "<td>NM_001318852.2:c.1201G>A (heterozygous)</td>\n",
       "<td class=\"table-data\">Intellectual disability, mild (HP:0001256); Hearing impairment (HP:0000365); Hypertelorism (HP:0000316); Protruding ear (HP:0000411); Hypodontia (HP:0000668); Finger clinodactyly (HP:0040019); Synophrys (HP:0000664); Encopresis (HP:0040183); Autism (HP:0000717); Global developmental delay (HP:0001263)</td>\n",
       "</tr>\n",
       "<tr>\n",
       "<td>Patient S12 (MALE; )</ts>\n",
       "<td>Neurodevelopmental disorder with or without variable brain abnormalities (OMIM:618443)</ts>\n",
       "<td>NM_001318852.2:c.45C>G (heterozygous)</td>\n",
       "<td class=\"table-data\">Intellectual disability (HP:0001249); Spastic triplegia (HP:0034183)</td>\n",
       "</tr>\n",
       "<tr>\n",
       "<td>Individual 5 (FEMALE; P5Y)</ts>\n",
       "<td>Neurodevelopmental disorder with or without variable brain abnormalities (OMIM:618443)</ts>\n",
       "<td>NM_001374425.1:c.272G>A (heterozygous)</td>\n",
       "<td class=\"table-data\">Motor delay (HP:0001270); Persistent head lag (HP:0032988); Delayed ability to sit (HP:0025336); Delayed ability to walk (HP:0031936); Spastic diplegia (HP:0001264); Autistic behavior (HP:0000729); Infantile muscular hypotonia (HP:0008947); Cerebral atrophy (HP:0002059); Delayed CNS myelination (HP:0002188); Prominent nasal bridge (HP:0000426); Thin upper lip vermilion (HP:0000219); Round face (HP:0000311); Intellectual disability, severe (HP:0010864); Absent speech (HP:0001344); Thick eyebrow (HP:0000574); Upslanted palpebral fissure (HP:0000582); Anteverted nares (HP:0000463); Short philtrum (HP:0000322)</td>\n",
       "</tr>\n",
       "<tr>\n",
       "<td>9 (FEMALE; P6Y)</ts>\n",
       "<td>Neurodevelopmental disorder with or without variable brain abnormalities (OMIM:618443)</ts>\n",
       "<td>NM_001318852.2:c.1735C>T (heterozygous)</td>\n",
       "<td class=\"table-data\">Spasticity (HP:0001257); Upper motor neuron dysfunction (HP:0002493); Lower limb muscle weakness (HP:0007340); Intellectual disability, moderate (HP:0002342); Thin corpus callosum (HP:0033725); Hypoplasia of the brainstem (HP:0002365); Polymicrogyria (HP:0002126); Reduced cerebral white matter volume (HP:0034295); Pica (HP:0011856); Syringomyelia (HP:0003396); Small hand (HP:0200055); Hypotonia (HP:0001252); Seizure (HP:0001250); Global developmental delay (HP:0001263)</td>\n",
       "</tr>\n",
       "<tr>\n",
       "<td>1 (MALE; P14Y8M)</ts>\n",
       "<td>Neurodevelopmental disorder with or without variable brain abnormalities (OMIM:618443)</ts>\n",
       "<td>NM_001318852.2:c.65del (heterozygous)</td>\n",
       "<td class=\"table-data\">Ataxia (HP:0001251); Intellectual disability, moderate (HP:0002342); Cerebellar atrophy (HP:0001272); Emotional lability (HP:0000712); Scoliosis (HP:0002650); Autism (HP:0000717); Hypotonia (HP:0001252); Global developmental delay (HP:0001263)</td>\n",
       "</tr>\n",
       "<tr>\n",
       "<td>Individual 3 (MALE; P16Y)</ts>\n",
       "<td>Neurodevelopmental disorder with or without variable brain abnormalities (OMIM:618443)</ts>\n",
       "<td>NM_001318852.2:c.1735C>T (heterozygous)</td>\n",
       "<td class=\"table-data\">Motor delay (HP:0001270); Delayed ability to sit (HP:0025336); Delayed ability to walk (HP:0031936); Spastic diplegia (HP:0001264); Prominent nasal bridge (HP:0000426); Thin upper lip vermilion (HP:0000219); Short stature (HP:0004322); Obesity (HP:0001513); Intellectual disability, profound (HP:0002187); Delayed speech and language development (HP:0000750); Loss of ambulation (HP:0002505)</td>\n",
       "</tr>\n",
       "<tr>\n",
       "<td>Individual 2 (FEMALE; P27Y)</ts>\n",
       "<td>Neurodevelopmental disorder with or without variable brain abnormalities (OMIM:618443)</ts>\n",
       "<td>NM_001318852.2:c.1735C>T (heterozygous)</td>\n",
       "<td class=\"table-data\">Motor delay (HP:0001270); Delayed ability to roll over (HP:0032989); Delayed ability to walk (HP:0031936); Spastic diplegia (HP:0001264); Cerebral atrophy (HP:0002059); Delayed CNS myelination (HP:0002188); Thin upper lip vermilion (HP:0000219); Round face (HP:0000311); Short stature (HP:0004322); Obesity (HP:0001513); Precocious puberty (HP:0000826); Intellectual disability, severe (HP:0010864); Delayed speech and language development (HP:0000750); Loss of ambulation (HP:0002505)</td>\n",
       "</tr>\n",
       "<tr>\n",
       "<td>5 (MALE; P10Y)</ts>\n",
       "<td>Neurodevelopmental disorder with or without variable brain abnormalities (OMIM:618443)</ts>\n",
       "<td>NM_001318852.2:c.1334T>C (heterozygous)</td>\n",
       "<td class=\"table-data\">Intellectual disability, moderate (HP:0002342); Perisylvian polymicrogyria (HP:0012650); Microdontia (HP:0000691); Scoliosis (HP:0002650); Hypotonia (HP:0001252); Seizure (HP:0001250); Global developmental delay (HP:0001263)</td>\n",
       "</tr>\n",
       "<tr>\n",
       "<td>7 (FEMALE; P3Y)</ts>\n",
       "<td>Neurodevelopmental disorder with or without variable brain abnormalities (OMIM:618443)</ts>\n",
       "<td>NM_001318852.2:c.1577G>A (heterozygous)</td>\n",
       "<td class=\"table-data\">Intellectual disability, mild (HP:0001256); Global developmental delay (HP:0001263)</td>\n",
       "</tr>\n",
       "<tr>\n",
       "<td>Individual 4 (MALE; P5Y)</ts>\n",
       "<td>Neurodevelopmental disorder with or without variable brain abnormalities (OMIM:618443)</ts>\n",
       "<td>NM_001318852.2:c.3439C>T (heterozygous)</td>\n",
       "<td class=\"table-data\">Motor delay (HP:0001270); Persistent head lag (HP:0032988); Delayed ability to roll over (HP:0032989); Delayed ability to sit (HP:0025336); Delayed ability to walk (HP:0031936); Autistic behavior (HP:0000729); Infantile muscular hypotonia (HP:0008947); Cerebral atrophy (HP:0002059); Prominent nasal bridge (HP:0000426); Thin upper lip vermilion (HP:0000219); Round face (HP:0000311); Short stature (HP:0004322); Intellectual disability, severe (HP:0010864); Absent speech (HP:0001344); Delayed gross motor development (HP:0002194)</td>\n",
       "</tr>\n",
       "<tr>\n",
       "<td>13 (FEMALE; P19Y)</ts>\n",
       "<td>Neurodevelopmental disorder with or without variable brain abnormalities (OMIM:618443)</ts>\n",
       "<td>NM_001318852.2:c.3439C>T (heterozygous)</td>\n",
       "<td class=\"table-data\">Oromotor apraxia (HP:0007301); Poor coordination (HP:0002370); Unsteady gait (HP:0002317); Intellectual disability, moderate (HP:0002342); Gastroesophageal reflux (HP:0002020); Hepatomegaly (HP:0002240); Long face (HP:0000276); Thick eyebrow (HP:0000574); Narrow palpebral fissure (HP:0045025); Strabismus (HP:0000486); Prominent nasal bridge (HP:0000426); Anteverted nares (HP:0000463); Short philtrum (HP:0000322); Narrow mouth (HP:0000160); High palate (HP:0000218); Truncal obesity (HP:0001956); Slender finger (HP:0001238); Kyphosis (HP:0002808); Hyperlordosis (HP:0003307); Scoliosis (HP:0002650); Genu valgum (HP:0002857); Hypotonia (HP:0001252); Cerebral visual impairment (HP:0100704); Global developmental delay (HP:0001263)</td>\n",
       "</tr>\n",
       "<tr>\n",
       "<td>8 (FEMALE; P5Y)</ts>\n",
       "<td>Neurodevelopmental disorder with or without variable brain abnormalities (OMIM:618443)</ts>\n",
       "<td>NM_001318852.2:c.1735C>T (heterozygous)</td>\n",
       "<td class=\"table-data\">Spastic paraplegia (HP:0001258); Intellectual disability, severe (HP:0010864); CNS hypomyelination (HP:0003429); Thin corpus callosum (HP:0033725); Full cheeks (HP:0000293); Long philtrum (HP:0000343); Hypotonia (HP:0001252); Seizure (HP:0001250); Global developmental delay (HP:0001263)</td>\n",
       "</tr>\n",
       "<tr>\n",
       "<td>10 (MALE; P4Y)</ts>\n",
       "<td>Neurodevelopmental disorder with or without variable brain abnormalities (OMIM:618443)</ts>\n",
       "<td>NM_001318852.2:c.2985C>G (heterozygous)</td>\n",
       "<td class=\"table-data\">Intellectual disability, moderate (HP:0002342); Hypotonia (HP:0001252); Seizure (HP:0001250); Global developmental delay (HP:0001263)</td>\n",
       "</tr>\n",
       "</table>\n"
      ],
      "text/plain": [
       "<IPython.core.display.HTML object>"
      ]
     },
     "metadata": {},
     "output_type": "display_data"
    }
   ],
   "source": [
    "from IPython.display import HTML, display\n",
    "display(HTML(table.to_html()))"
   ]
  },
  {
   "cell_type": "markdown",
   "id": "deb3e3e5-e077-4087-a248-e0e68438c13d",
   "metadata": {},
   "source": [
    "<h2>Frequency of HPO terms per publication</h2>\n",
    "<p>The following table shows the counts of patients directly annotated to HPO terms per publication. Onely terms with more than one toal annotation are shown.</p>"
   ]
  },
  {
   "cell_type": "code",
   "execution_count": 6,
   "id": "e6f38064-8c3b-4cf1-8408-15329b770571",
   "metadata": {},
   "outputs": [],
   "source": [
    "detailed_table = DetailedSupplTable(patient_d=ppkt_d, hp_ontology=hpo)"
   ]
  },
  {
   "cell_type": "code",
   "execution_count": 7,
   "id": "003ac056-05d5-48b4-bc8d-6b6e46aa4d4d",
   "metadata": {},
   "outputs": [
    {
     "data": {
      "text/html": [
       "<table style=\"border: 2px solid black;\">\n",
       "\n",
       "<tr><th>HPO term</th><th>PMID:30612693</th><th>PMID:30945334</th><th>PMID:pending</th><th>PMID:34321325</th></tr>\n",
       "<tr><td>Global developmental delay (HP:0001263)</td><td>13/13 (100.0%)</td><td>0/5 (0.0%)</td><td>1/1 (100.0%)</td><td>0/1 (0.0%)</td></tr>\n",
       "\n",
       "<tr><td>Hypotonia (HP:0001252)</td><td>9/13 (69.2%)</td><td>0/5 (0.0%)</td><td>0/1 (0.0%)</td><td>0/1 (0.0%)</td></tr>\n",
       "\n",
       "<tr><td>Intellectual disability, moderate (HP:0002342)</td><td>7/13 (53.8%)</td><td>0/5 (0.0%)</td><td>0/1 (0.0%)</td><td>0/1 (0.0%)</td></tr>\n",
       "\n",
       "<tr><td>Intellectual disability, severe (HP:0010864)</td><td>3/13 (23.1%)</td><td>4/5 (80.0%)</td><td>0/1 (0.0%)</td><td>0/1 (0.0%)</td></tr>\n",
       "\n",
       "<tr><td>Spastic diplegia (HP:0001264)</td><td>1/13 (7.7%)</td><td>4/5 (80.0%)</td><td>1/1 (100.0%)</td><td>0/1 (0.0%)</td></tr>\n",
       "\n",
       "<tr><td>Delayed ability to walk (HP:0031936)</td><td>0/13 (0.0%)</td><td>5/5 (100.0%)</td><td>1/1 (100.0%)</td><td>0/1 (0.0%)</td></tr>\n",
       "\n",
       "<tr><td>Motor delay (HP:0001270)</td><td>0/13 (0.0%)</td><td>5/5 (100.0%)</td><td>0/1 (0.0%)</td><td>0/1 (0.0%)</td></tr>\n",
       "\n",
       "<tr><td>Thin upper lip vermilion (HP:0000219)</td><td>0/13 (0.0%)</td><td>5/5 (100.0%)</td><td>0/1 (0.0%)</td><td>0/1 (0.0%)</td></tr>\n",
       "\n",
       "<tr><td>Thin corpus callosum (HP:0033725)</td><td>3/13 (23.1%)</td><td>0/5 (0.0%)</td><td>1/1 (100.0%)</td><td>0/1 (0.0%)</td></tr>\n",
       "\n",
       "<tr><td>Delayed speech and language development (HP:0000750)</td><td>0/13 (0.0%)</td><td>3/5 (60.0%)</td><td>1/1 (100.0%)</td><td>0/1 (0.0%)</td></tr>\n",
       "\n",
       "<tr><td>Cerebral atrophy (HP:0002059)</td><td>0/13 (0.0%)</td><td>4/5 (80.0%)</td><td>0/1 (0.0%)</td><td>0/1 (0.0%)</td></tr>\n",
       "\n",
       "<tr><td>Round face (HP:0000311)</td><td>0/13 (0.0%)</td><td>4/5 (80.0%)</td><td>0/1 (0.0%)</td><td>0/1 (0.0%)</td></tr>\n",
       "\n",
       "<tr><td>Short stature (HP:0004322)</td><td>0/13 (0.0%)</td><td>4/5 (80.0%)</td><td>0/1 (0.0%)</td><td>0/1 (0.0%)</td></tr>\n",
       "\n",
       "<tr><td>Prominent nasal bridge (HP:0000426)</td><td>1/13 (7.7%)</td><td>3/5 (60.0%)</td><td>0/1 (0.0%)</td><td>0/1 (0.0%)</td></tr>\n",
       "\n",
       "<tr><td>Seizure (HP:0001250)</td><td>4/13 (30.8%)</td><td>0/5 (0.0%)</td><td>0/1 (0.0%)</td><td>0/1 (0.0%)</td></tr>\n",
       "\n",
       "<tr><td>Delayed CNS myelination (HP:0002188)</td><td>0/13 (0.0%)</td><td>3/5 (60.0%)</td><td>0/1 (0.0%)</td><td>0/1 (0.0%)</td></tr>\n",
       "\n",
       "<tr><td>Obesity (HP:0001513)</td><td>0/13 (0.0%)</td><td>3/5 (60.0%)</td><td>0/1 (0.0%)</td><td>0/1 (0.0%)</td></tr>\n",
       "\n",
       "<tr><td>Loss of ambulation (HP:0002505)</td><td>0/13 (0.0%)</td><td>3/5 (60.0%)</td><td>0/1 (0.0%)</td><td>0/1 (0.0%)</td></tr>\n",
       "\n",
       "<tr><td>Intellectual disability, mild (HP:0001256)</td><td>3/13 (23.1%)</td><td>0/5 (0.0%)</td><td>0/1 (0.0%)</td><td>0/1 (0.0%)</td></tr>\n",
       "\n",
       "<tr><td>Delayed ability to sit (HP:0025336)</td><td>0/13 (0.0%)</td><td>3/5 (60.0%)</td><td>0/1 (0.0%)</td><td>0/1 (0.0%)</td></tr>\n",
       "\n",
       "<tr><td>Scoliosis (HP:0002650)</td><td>3/13 (23.1%)</td><td>0/5 (0.0%)</td><td>0/1 (0.0%)</td><td>0/1 (0.0%)</td></tr>\n",
       "\n",
       "<tr><td>Spasticity (HP:0001257)</td><td>2/13 (15.4%)</td><td>0/5 (0.0%)</td><td>0/1 (0.0%)</td><td>0/1 (0.0%)</td></tr>\n",
       "\n",
       "<tr><td>Cerebral visual impairment (HP:0100704)</td><td>2/13 (15.4%)</td><td>0/5 (0.0%)</td><td>0/1 (0.0%)</td><td>0/1 (0.0%)</td></tr>\n",
       "\n",
       "<tr><td>Cerebral palsy (HP:0100021)</td><td>1/13 (7.7%)</td><td>0/5 (0.0%)</td><td>1/1 (100.0%)</td><td>0/1 (0.0%)</td></tr>\n",
       "\n",
       "<tr><td>Periventricular leukomalacia (HP:0006970)</td><td>1/13 (7.7%)</td><td>0/5 (0.0%)</td><td>1/1 (100.0%)</td><td>0/1 (0.0%)</td></tr>\n",
       "\n",
       "<tr><td>Reduced cerebral white matter volume (HP:0034295)</td><td>1/13 (7.7%)</td><td>0/5 (0.0%)</td><td>1/1 (100.0%)</td><td>0/1 (0.0%)</td></tr>\n",
       "\n",
       "<tr><td>Ataxia (HP:0001251)</td><td>2/13 (15.4%)</td><td>0/5 (0.0%)</td><td>0/1 (0.0%)</td><td>0/1 (0.0%)</td></tr>\n",
       "\n",
       "<tr><td>Precocious puberty (HP:0000826)</td><td>0/13 (0.0%)</td><td>2/5 (40.0%)</td><td>0/1 (0.0%)</td><td>0/1 (0.0%)</td></tr>\n",
       "\n",
       "<tr><td>Perisylvian polymicrogyria (HP:0012650)</td><td>2/13 (15.4%)</td><td>0/5 (0.0%)</td><td>0/1 (0.0%)</td><td>0/1 (0.0%)</td></tr>\n",
       "\n",
       "<tr><td>Autism (HP:0000717)</td><td>2/13 (15.4%)</td><td>0/5 (0.0%)</td><td>0/1 (0.0%)</td><td>0/1 (0.0%)</td></tr>\n",
       "\n",
       "<tr><td>Persistent head lag (HP:0032988)</td><td>0/13 (0.0%)</td><td>2/5 (40.0%)</td><td>0/1 (0.0%)</td><td>0/1 (0.0%)</td></tr>\n",
       "\n",
       "<tr><td>Autistic behavior (HP:0000729)</td><td>0/13 (0.0%)</td><td>2/5 (40.0%)</td><td>0/1 (0.0%)</td><td>0/1 (0.0%)</td></tr>\n",
       "\n",
       "<tr><td>Infantile muscular hypotonia (HP:0008947)</td><td>0/13 (0.0%)</td><td>2/5 (40.0%)</td><td>0/1 (0.0%)</td><td>0/1 (0.0%)</td></tr>\n",
       "\n",
       "<tr><td>Absent speech (HP:0001344)</td><td>0/13 (0.0%)</td><td>2/5 (40.0%)</td><td>0/1 (0.0%)</td><td>0/1 (0.0%)</td></tr>\n",
       "\n",
       "<tr><td>Thick eyebrow (HP:0000574)</td><td>1/13 (7.7%)</td><td>1/5 (20.0%)</td><td>0/1 (0.0%)</td><td>0/1 (0.0%)</td></tr>\n",
       "\n",
       "<tr><td>Anteverted nares (HP:0000463)</td><td>1/13 (7.7%)</td><td>1/5 (20.0%)</td><td>0/1 (0.0%)</td><td>0/1 (0.0%)</td></tr>\n",
       "\n",
       "<tr><td>Short philtrum (HP:0000322)</td><td>1/13 (7.7%)</td><td>1/5 (20.0%)</td><td>0/1 (0.0%)</td><td>0/1 (0.0%)</td></tr>\n",
       "\n",
       "<tr><td>Delayed ability to roll over (HP:0032989)</td><td>0/13 (0.0%)</td><td>2/5 (40.0%)</td><td>0/1 (0.0%)</td><td>0/1 (0.0%)</td></tr>\n",
       "\n",
       "</table>\n"
      ],
      "text/plain": [
       "<IPython.core.display.HTML object>"
      ]
     },
     "metadata": {},
     "output_type": "display_data"
    }
   ],
   "source": [
    "display(HTML(detailed_table.get_html_table_by_pmid(min_count=1)))"
   ]
  },
  {
   "cell_type": "code",
   "execution_count": null,
   "id": "6e4c0e94-b80c-49fc-8554-b0f47e21239b",
   "metadata": {},
   "outputs": [],
   "source": []
  }
 ],
 "metadata": {
  "kernelspec": {
   "display_name": "Python 3 (ipykernel)",
   "language": "python",
   "name": "python3"
  },
  "language_info": {
   "codemirror_mode": {
    "name": "ipython",
    "version": 3
   },
   "file_extension": ".py",
   "mimetype": "text/x-python",
   "name": "python",
   "nbconvert_exporter": "python",
   "pygments_lexer": "ipython3",
   "version": "3.11.3"
  }
 },
 "nbformat": 4,
 "nbformat_minor": 5
}
