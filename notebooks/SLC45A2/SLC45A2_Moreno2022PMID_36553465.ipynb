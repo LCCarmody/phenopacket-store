{
 "cells": [
  {
   "cell_type": "markdown",
   "id": "fc403054",
   "metadata": {},
   "source": [
    "<H1>SLC45A2: Oculo-Cutaneous Albinism Type 4 (OCA4) - Moreno-Artero et al., 2022</H1>\n",
    "<p>Extract clinical data from <a href=\"https://pubmed.ncbi.nlm.nih.gov/36553465/\" target=\"__blank\">\n",
    "Moreno-Artero E, et al. (2022). Oculo-Cutaneous Albinism Type 4 (OCA4): Phenotype-Genotype Correlation. Genes (Basel). 2022 Nov 23;13(12):2198</a>:  PMID:36553465.</p>"
   ]
  },
  {
   "cell_type": "code",
   "execution_count": null,
   "id": "27e10ee3",
   "metadata": {},
   "outputs": [],
   "source": [
    "import phenopackets as php\n",
    "from google.protobuf.json_format import MessageToDict, MessageToJson\n",
    "from google.protobuf.json_format import Parse, ParseDict\n",
    "import pandas as pd\n",
    "pd.set_option('display.max_colwidth', None) # show entire column contents, important!\n",
    "from collections import defaultdict\n",
    "import os\n",
    "import sys\n",
    "import numpy as np\n",
    "from IPython.display import display, HTML, JSON\n",
    "from pyphetools.creation import *\n",
    "from pyphetools.creation.simple_column_mapper import try_mapping_columns\n",
    "from pyphetools.output import PhenopacketTable\n",
    "# last tested with pyphetools 0.4.5"
   ]
  },
  {
   "cell_type": "code",
   "execution_count": null,
   "id": "b516b93b",
   "metadata": {},
   "outputs": [],
   "source": [
    "parser = HpoParser()\n",
    "hpo_cr = parser.get_hpo_concept_recognizer()\n",
    "hpo_version = parser.get_version()\n",
    "metadata = MetaData(created_by=\"ORCID:0000-0002-5648-2155\")\n",
    "metadata.default_versions_with_hpo(version=hpo_version)"
   ]
  },
  {
   "cell_type": "markdown",
   "id": "41b70a70",
   "metadata": {},
   "source": [
    "<h3>Ingest the data</h3>\n",
    "<p>The clinical and variant data were copied from Table 1 of the publication. For ease of parsing, we manually split the Gender,Age column into two columns.</p>\n",
    "<p>The authors classify patients 1-20 as group 1 and patients 21-30 as group 2. The describe the following genotype-phenotype correlation: The first, found in 20 patients, is clinically indistinguishable from the classical OCA1 phenotype. The genotype-to-phenotype correlation suggests that this phenotype is associated with homozygous or compound heterozygous nonsense or deletion variants with frameshift leading to translation interruption in the SLC45A2 gene. The second phenotype, found in 10 patients, is characterized by very mild hypopigmentation of the hair (light brown or even dark hair) and skin that is similar to the general population. In this group, visual acuity is variable, but it can be subnormal, foveal hypoplasia can be low grade or even normal, and nystagmus may be lacking. These mild to moderate phenotypes are associated with at least one missense mutation in SLC45A2.</p>"
   ]
  },
  {
   "cell_type": "code",
   "execution_count": null,
   "id": "283b2848",
   "metadata": {},
   "outputs": [],
   "source": [
    "df = pd.read_excel('input/Moreno-Artero2022_table1.xlsx')"
   ]
  },
  {
   "cell_type": "code",
   "execution_count": null,
   "id": "2fe6934e",
   "metadata": {},
   "outputs": [],
   "source": [
    "df.head()"
   ]
  },
  {
   "cell_type": "code",
   "execution_count": null,
   "id": "ef571760",
   "metadata": {},
   "outputs": [],
   "source": [
    "\n",
    "column_mapper_d = defaultdict(ColumnMapper)\n",
    "nystagmusMapper = SimpleColumnMapper(hpo_id=\"HP:0000639\", hpo_label=\"Nystagmus\",observed='Yes',excluded='No')\n",
    "nystagmusMapper.preview_column(df[\"Nystagmus\"])\n",
    "column_mapper_d[\"Nystagmus\"] = nystagmusMapper"
   ]
  },
  {
   "cell_type": "code",
   "execution_count": null,
   "id": "58292f97",
   "metadata": {
    "scrolled": false
   },
   "outputs": [],
   "source": [
    "# This was used to conveniently generate OptionColumnMapper code, but is not longer needed.\n",
    "#result = OptionColumnMapper.autoformat(df, hpo_cr)\n",
    "#print(result)"
   ]
  },
  {
   "cell_type": "code",
   "execution_count": null,
   "id": "a764b235",
   "metadata": {},
   "outputs": [],
   "source": [
    "nevi_d = {'Present': 'Nevus',\n",
    " 'amelanotic': 'Nevus',  ## TODO needs new HPO term\n",
    " 'pigmented': 'Melanocytic nevus',\n",
    "}\n",
    "neviMapper = OptionColumnMapper(concept_recognizer=hpo_cr, option_d=nevi_d, \n",
    "                                negative_label=\"Nevus\", negative_symbol=\"Absent\")\n",
    "#neviMapper.preview_column(df['Nevi'])\n",
    "column_mapper_d['Nevi'] = neviMapper"
   ]
  },
  {
   "cell_type": "code",
   "execution_count": null,
   "id": "f66b3591",
   "metadata": {},
   "outputs": [],
   "source": [
    "eyes_d = {'Blue': 'Iris hypopigmentation',\n",
    " 'Blue grey': 'Iris hypopigmentation',}\n",
    "eyesMapper = OptionColumnMapper(concept_recognizer=hpo_cr, option_d=eyes_d,\n",
    "                                   negative_label=\"Iris hypopigmentation\",\n",
    "                               negative_symbol=\"Brown\")\n",
    "#eyesMapper.preview_column(df['Eyes'])\n",
    "column_mapper_d['Eyes'] = eyesMapper"
   ]
  },
  {
   "cell_type": "code",
   "execution_count": null,
   "id": "054e5f53",
   "metadata": {},
   "outputs": [],
   "source": [
    "hair_d = {'White': 'Hypopigmentation of hair',\n",
    " 'White blond': 'Hypopigmentation of hair',\n",
    " 'Blond': 'Hypopigmentation of hair',\n",
    " 'Dark blond': 'Hypopigmentation of hair',\n",
    " 'Red blond': 'Hypopigmentation of hair'}\n",
    "hairMapper = OptionColumnMapper(concept_recognizer=hpo_cr, option_d=hair_d)\n",
    "hairMapper.preview_column(df['Hair'])\n",
    "column_mapper_d['Hair'] = hairMapper"
   ]
  },
  {
   "cell_type": "code",
   "execution_count": null,
   "id": "695d30d5",
   "metadata": {},
   "outputs": [],
   "source": [
    "eyebrows_d = {'White': 'White eyebrow',\n",
    " 'Blond': 'White eyebrow',\n",
    " 'White + Blond': 'White eyebrow'}\n",
    "eyebrowsMapper = OptionColumnMapper(concept_recognizer=hpo_cr, option_d=eyebrows_d, \n",
    "                                    negative_label=\"Brown\", negative_symbol=\"White eyebrow\")\n",
    "eyebrowsMapper.preview_column(df['Eyebrows'])\n",
    "column_mapper_d['Eyebrows'] = eyebrowsMapper"
   ]
  },
  {
   "cell_type": "code",
   "execution_count": null,
   "id": "5aac7d11",
   "metadata": {},
   "outputs": [],
   "source": [
    "eyelashes_d = {'White': 'White eyelashes',\n",
    " 'Blond': 'White eyelashes',\n",
    " 'White + Blond': 'White eyelashes'}\n",
    "eyelashesMapper = OptionColumnMapper(concept_recognizer=hpo_cr, option_d=eyelashes_d)\n",
    "eyelashesMapper.preview_column(df['Eyelashes'])\n",
    "column_mapper_d['Eyelashes'] = eyelashesMapper\n"
   ]
  },
  {
   "cell_type": "code",
   "execution_count": null,
   "id": "73a0affe",
   "metadata": {},
   "outputs": [],
   "source": [
    "strabismus_d = {'Yes': 'Strabismus',\n",
    " 'esotropia': 'Esotropia',\n",
    " 'left exotropia': 'Exotropia',\n",
    " 'No': 'PLACEHOLDER',\n",
    " 'exotropia': 'Exotropia',\n",
    " 'Yes microexotropia': 'Exotropia'}\n",
    "strabismusMapper = OptionColumnMapper(concept_recognizer=hpo_cr, option_d=strabismus_d,\n",
    "                                     negative_label='Strabismus', negative_symbol=\"No\")\n",
    "strabismusMapper.preview_column(df['Strabismus'])\n",
    "column_mapper_d['Strabismus'] = strabismusMapper"
   ]
  },
  {
   "cell_type": "code",
   "execution_count": null,
   "id": "de0812bd",
   "metadata": {},
   "outputs": [],
   "source": [
    "va_d = {'1.6/10 RE; 2/10 LE': 'Reduced visual acuity',\n",
    " '1/20 RE; 1/20 LE': 'Reduced visual acuity',\n",
    " '2/10 RE; 2/10 LE': 'Reduced visual acuity',\n",
    " '2/10 RE; 3/10 LE': 'Reduced visual acuity',\n",
    " '1/10 RE; 1/10 LE': 'Reduced visual acuity',\n",
    " '3/10 RE; 3/10 LE': 'Reduced visual acuity',\n",
    " '2/10 RE; 2': 'Reduced visual acuity',\n",
    " '5/10 LE': 'Reduced visual acuity',\n",
    " '1.6/10 RE; 1.6/10 LE': 'Reduced visual acuity',\n",
    " '9/10 RE; 7/10 LE': 'Reduced visual acuity',\n",
    " '1.2/10 RE; 1.4/10 LE': 'Reduced visual acuity',\n",
    " '5/10 RE; 5/10 LE': 'Reduced visual acuity'}\n",
    "vaMapper = OptionColumnMapper(concept_recognizer=hpo_cr, option_d=va_d)\n",
    "vaMapper.preview_column(df['VA'])\n",
    "#column_mapper_d['VA'] = vaMapper"
   ]
  },
  {
   "cell_type": "code",
   "execution_count": null,
   "id": "cc2b3f8f",
   "metadata": {},
   "outputs": [],
   "source": [
    "refraction_d = {'Hypermetropia astigmatism': 'Hypermetropia',\n",
    " 'Hypermetropia Astigmatism': 'Astigmatism',\n",
    " 'Hypermetropia\\nAstigmatism': 'Astigmatism',\n",
    " 'Hypermetropia': 'Hypermetropia',\n",
    " 'HypermetropiaAstigmatism': 'Hypermetropia',\n",
    " 'Myopia Astigmatism': 'Myopia'}\n",
    "refractionMapper = OptionColumnMapper(concept_recognizer=hpo_cr, option_d=refraction_d)\n",
    "refractionMapper.preview_column(df['Refraction'])\n",
    "column_mapper_d['Refraction'] = refractionMapper"
   ]
  },
  {
   "cell_type": "code",
   "execution_count": null,
   "id": "1e9d0a9a",
   "metadata": {},
   "outputs": [],
   "source": [
    "iti_d = {\n",
    " 'Grade IV': 'Iris transillumination defect',\n",
    " 'Grade III': 'Iris transillumination defect',\n",
    " 'Grade II': 'Iris transillumination defect',\n",
    " 'Grade I': 'Iris transillumination defect'}\n",
    "itiMapper = OptionColumnMapper(concept_recognizer=hpo_cr, option_d=iti_d,\n",
    "                              negative_symbol=\"No\",\n",
    "                              negative_label=\"Iris transillumination defect\")\n",
    "itiMapper.preview_column(df['ITI'])\n",
    "column_mapper_d['ITI'] = itiMapper"
   ]
  },
  {
   "cell_type": "code",
   "execution_count": null,
   "id": "6f69cbba",
   "metadata": {},
   "outputs": [],
   "source": [
    "mt_d = {'nan': 'PLACEHOLDER',\n",
    " 'Grade II': 'PLACEHOLDER',\n",
    " 'Grade III': 'PLACEHOLDER',\n",
    " 'Grade I': 'PLACEHOLDER'}\n",
    "#mtMapper = OptionColumnMapper(concept_recognizer=hpo_cr, option_d=mt_d)\n",
    "#mtMapper.preview_column(df['MT']))\n",
    "#column_mapper_d['MT'] = mtMapper\n",
    "# Macular transparency -- need HPO term"
   ]
  },
  {
   "cell_type": "code",
   "execution_count": null,
   "id": "0405c7a5",
   "metadata": {},
   "outputs": [],
   "source": [
    "fhp_d = {'Grade IV': 'Hypoplasia of the fovea',\n",
    " 'Grade III': 'Hypoplasia of the fovea',\n",
    " 'Grade II': 'Hypoplasia of the fovea',\n",
    " 'Grade I': 'Hypoplasia of the fovea'}\n",
    "fhpMapper = OptionColumnMapper(concept_recognizer=hpo_cr, option_d=fhp_d)\n",
    "fhpMapper.preview_column(df['FHP'])\n",
    "column_mapper_d['FHP'] = fhpMapper"
   ]
  },
  {
   "cell_type": "markdown",
   "id": "392347e2",
   "metadata": {},
   "source": [
    "<h2>Variants</h2>\n",
    "<p>The original table describes variants like this: <tt>NM_016180.5(SLC45A2):c.267_271del\\nChr5(GRCh37):g.33984422_33984426del\\np.(Ser90Glnfs*42)</tt>.\n",
    "    The following code extracts the transcript variant - c.267_271del in this example.</p>"
   ]
  },
  {
   "cell_type": "code",
   "execution_count": null,
   "id": "ced51a42",
   "metadata": {},
   "outputs": [],
   "source": [
    "def extract_var(cell_contents):\n",
    "    if not cell_contents.startswith(\"NM_016180.5(SLC45A2):\"):\n",
    "        return cell_contents\n",
    "    cell_contents = cell_contents[21:] # remove the above string\n",
    "    if '\\n' in cell_contents:\n",
    "        return cell_contents.split('\\n')[0]\n",
    "    else:\n",
    "        return cell_contents\n",
    "    "
   ]
  },
  {
   "cell_type": "code",
   "execution_count": null,
   "id": "82f31d9a",
   "metadata": {},
   "outputs": [],
   "source": [
    "df[\"var1\"] = df[\"Variant 1 (SLC45A2 NM_016180.5)\"].transform(lambda x: extract_var(x))"
   ]
  },
  {
   "cell_type": "code",
   "execution_count": null,
   "id": "05490925",
   "metadata": {},
   "outputs": [],
   "source": [
    "df[\"var2\"] = df[\"Variant 2 (SLC45A2 NM_016180.5)\"].transform(lambda x: extract_var(x))"
   ]
  },
  {
   "cell_type": "code",
   "execution_count": null,
   "id": "959f2f53",
   "metadata": {},
   "outputs": [],
   "source": [
    "all_variant_set = set(df[\"var1\"]).union(df[\"var2\"])\n",
    "hgvs_to_variant_d = defaultdict(Variant)"
   ]
  },
  {
   "cell_type": "code",
   "execution_count": null,
   "id": "f8efcda3",
   "metadata": {},
   "outputs": [],
   "source": [
    "validator = VariantValidator(genome_build='hg38', transcript=\"NM_016180.5\")\n",
    "validated_var_d = defaultdict()"
   ]
  },
  {
   "cell_type": "code",
   "execution_count": null,
   "id": "9ada7f6f",
   "metadata": {},
   "outputs": [],
   "source": [
    "for var in all_variant_set:\n",
    "    if var == 'Deletion exons 1-4':\n",
    "        sv = StructuralVariant.chromosomal_deletion(cell_contents='Deletion exons 1-4',\n",
    "                 gene_symbol=\"SLC45A2\",\n",
    "                 gene_id=\"HGNC:16472\",\n",
    "                 genotype=\"heterozygous\")\n",
    "        validated_var_d[var] = sv\n",
    "    else:\n",
    "        var_object = validator.encode_hgvs(hgvs=var)\n",
    "        validated_var_d[var] = var_object\n",
    "print(f\"We got {len(validated_var_d)} variant objects\")"
   ]
  },
  {
   "cell_type": "code",
   "execution_count": null,
   "id": "19a6d915",
   "metadata": {},
   "outputs": [],
   "source": [
    "ageMapper = AgeColumnMapper.by_year('Age (Years)')\n",
    "#ageMapper.preview_column(df['Age (Years)'])\n",
    "sexMapper = SexColumnMapper(male_symbol='M', female_symbol='F', column_name='Gender')\n",
    "#sexMapper.preview_column(df['Gender'])"
   ]
  },
  {
   "cell_type": "code",
   "execution_count": null,
   "id": "37e18c14",
   "metadata": {},
   "outputs": [],
   "source": [
    "pmid = \"PMID:36553465\"\n",
    "encoder = CohortEncoder(df=df, hpo_cr=hpo_cr, column_mapper_d=column_mapper_d, \n",
    "                        individual_column_name=\"Patients\", agemapper=ageMapper, sexmapper=sexMapper,\n",
    "                       metadata=metadata,\n",
    "                       pmid=pmid)\n",
    "encoder.set_disease(disease_id='OMIM:606574', label='Albinism, oculocutaneous, type IV')"
   ]
  },
  {
   "cell_type": "code",
   "execution_count": null,
   "id": "891a9bde",
   "metadata": {},
   "outputs": [],
   "source": [
    "individuals = encoder.get_individuals()"
   ]
  },
  {
   "cell_type": "code",
   "execution_count": null,
   "id": "b969626f",
   "metadata": {},
   "outputs": [],
   "source": [
    "for i in individuals:\n",
    "    rows = df.loc[df['Patients'] == i.id]\n",
    "    if len(rows) != 1:\n",
    "        raise ValueError(f\"Got {len(rows)} rows but expected only 1\")\n",
    "    var1 = rows.iloc[0]['var1']\n",
    "    var2 = rows.iloc[0]['var2']\n",
    "    if var1 == var2:\n",
    "        # homozygous\n",
    "        var_object = validated_var_d.get(var1)\n",
    "        var_object.set_homozygous()\n",
    "        i.add_variant(var_object)\n",
    "    else:\n",
    "        var1_object  = validated_var_d.get(var1) \n",
    "        var2_object  = validated_var_d.get(var2)\n",
    "        i.add_variant(var1_object)\n",
    "        i.add_variant(var2_object)"
   ]
  },
  {
   "cell_type": "code",
   "execution_count": null,
   "id": "48253aa6",
   "metadata": {
    "scrolled": false
   },
   "outputs": [],
   "source": [
    "i1 = individuals[-1]\n",
    "phenopacket1 = i1.to_ga4gh_phenopacket(metadata=metadata.to_ga4gh())\n",
    "json_string = MessageToJson(phenopacket1)\n",
    "print(json_string)"
   ]
  },
  {
   "cell_type": "code",
   "execution_count": null,
   "id": "b2fe15eb",
   "metadata": {},
   "outputs": [],
   "source": [
    "ppacket_list = [i.to_ga4gh_phenopacket(metadata=metadata.to_ga4gh()) for i in individuals]\n",
    "table = PhenopacketTable(phenopacket_list=ppacket_list)\n",
    "display(HTML(table.to_html()))"
   ]
  },
  {
   "cell_type": "code",
   "execution_count": null,
   "id": "97d4d962",
   "metadata": {},
   "outputs": [],
   "source": []
  }
 ],
 "metadata": {
  "kernelspec": {
   "display_name": "psvenv",
   "language": "python",
   "name": "psvenv"
  },
  "language_info": {
   "codemirror_mode": {
    "name": "ipython",
    "version": 3
   },
   "file_extension": ".py",
   "mimetype": "text/x-python",
   "name": "python",
   "nbconvert_exporter": "python",
   "pygments_lexer": "ipython3",
   "version": "3.10.9"
  }
 },
 "nbformat": 4,
 "nbformat_minor": 5
}
